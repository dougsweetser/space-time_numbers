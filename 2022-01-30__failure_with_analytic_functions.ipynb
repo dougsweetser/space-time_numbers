{
 "cells": [
  {
   "cell_type": "markdown",
   "metadata": {},
   "source": [
    "# Failure to be Always Analytic with the Space-time Derivative Operator"
   ]
  },
  {
   "cell_type": "markdown",
   "metadata": {},
   "source": [
    "Applying a space-time derivative operator to a space-time function appears simple even though there are many details.\n",
    "\n",
    "$$\\left(\\frac{\\partial}{\\partial t}, \\vec{\\nabla}\\right)(f, \\vec{F}) = \\left(\\frac{\\partial f}{\\partial t} - \\nabla \\cdot F, \\frac{\\partial \\vec{F}}{\\partial t} + \\vec{\\nabla} f + \\vec{\\nabla} \\times \\vec{F}\\right)$$\n",
    "\n",
    "There are 16 terms in all. A function will be created that does just that. Yet we have to make sure that simple functions like $q^2$, $q^3$, and $q^4$ all work nicely as they do in complex analysis.\n",
    "\n",
    "Load the libraries."
   ]
  },
  {
   "cell_type": "code",
   "execution_count": 1,
   "metadata": {},
   "outputs": [],
   "source": [
    "%%capture\n",
    "%matplotlib inline\n",
    "import numpy as np\n",
    "import sympy as sp\n",
    "import matplotlib.pyplot as plt\n",
    "import math\n",
    "import unittest\n",
    "\n",
    "# To get equations the look like, well, equations, use the following.\n",
    "from sympy.interactive import printing\n",
    "printing.init_printing(use_latex=True)\n",
    "from IPython.display import display\n",
    "\n",
    "# Tools for manipulating quaternions.\n",
    "from Qs import *\n",
    "\n",
    "from IPython.core.display import display, HTML, Math, Latex\n",
    "display(HTML(\"<style>.container { width:100% !important; }</style>\"))"
   ]
  },
  {
   "cell_type": "markdown",
   "metadata": {},
   "source": [
    "To derive the Maxwell equations, one also needs to work with conjugates of the differential operator. One also needs to be able to write the differential operator on the right as well as the left, which flips the signs of the terms involved with the cross product. The function $\\rm{Dq\\_try\\_1}()$ should be able to do this."
   ]
  },
  {
   "cell_type": "code",
   "execution_count": 2,
   "metadata": {},
   "outputs": [],
   "source": [
    "def Dq_try_1(q_1: Q, vars: List[sp.Symbol], these_vars: List[sp.Symbol] = None, conj: bool = False, conj_type: int=0, reverse: bool=False) -> Q:\n",
    "    \"\"\"\n",
    "    Calculate the quaternion derivative composed of 16 terms. The conjugation applies to the differential operator. The reverse flag will flip the cross product terms.\n",
    "    \n",
    "    Args:\n",
    "        q_1         A symbolic expression that returns a space-time number expression.\n",
    "        vars        A complete list of what 4 symbols are being used.\n",
    "        these_vars  A (possibly shorter) list of symbols to use to take a derivative.\n",
    "        conj        If one wants to take a conjugate of the differential operator, set this option.\n",
    "        conj_type   An integer for which term is positive, 0 the default for the standard conjugate.\n",
    "        \n",
    "    Return:\n",
    "        Q     The space-time derivative\n",
    "    \"\"\"\n",
    "    \n",
    "    # Check for errors.\n",
    "    if len(vars) != 4:\n",
    "        print(\"Oops: needs to be given 4 symbols. Try again.\")\n",
    "        return 0\n",
    "    \n",
    "    if not q_1.is_symbolic():\n",
    "        print(\"Oops, the function needs to be symbolic.\")\n",
    "        \n",
    "    if these_vars is None:\n",
    "        these_vars = vars\n",
    "        \n",
    "    # Use the_D_signs to apply different conjugates to the differential operator D.\n",
    "    D_signs = [1, 1, 1, 1]\n",
    "    \n",
    "    if conj:\n",
    "        if conj_type == 0:\n",
    "            D_signs = [1, -1, -1, -1]\n",
    "        if conj_type == 1:\n",
    "            D_signs = [-1, 1, -1, -1]\n",
    "        if conj_type == 2:\n",
    "            D_signs = [-1, -1, 1, -1]\n",
    "        if conj_type == 3:\n",
    "            D_signs = [-1, -1, -1, 1]\n",
    "    \n",
    "    the_16 = []\n",
    "    \n",
    "    for sign, var in enumerate(vars):\n",
    "        if var in these_vars:\n",
    "            the_16.append(sp.diff(D_signs[sign] * q_1.t, var))\n",
    "            the_16.append(sp.diff(D_signs[sign] * q_1.x, var))\n",
    "            the_16.append(sp.diff(D_signs[sign] * q_1.y, var))\n",
    "            the_16.append(sp.diff(D_signs[sign] * q_1.z, var))\n",
    "            \n",
    "        else:\n",
    "            for _ in range(4):\n",
    "                the_16.append(0)\n",
    "\n",
    "    flip = -1 if reverse else 1\n",
    "\n",
    "    first_term =  the_16[0] - (the_16[5] + the_16[10] + the_16[15])\n",
    "    second_term = the_16[1] + the_16[4] + flip * the_16[14] - flip * the_16[11]\n",
    "    third_term =  the_16[2] + the_16[8] + flip * the_16[13] - flip * the_16[7]\n",
    "    forth_term =  the_16[3] + the_16[12] + flip * the_16[6] - flip * the_16[9]\n",
    "    \n",
    "    return Q([first_term.simplify(), second_term.simplify(), third_term.simplify(), forth_term.simplify()])"
   ]
  },
  {
   "cell_type": "markdown",
   "metadata": {},
   "source": [
    "Test that the function works on a complex-valued square funciton:"
   ]
  },
  {
   "cell_type": "code",
   "execution_count": 3,
   "metadata": {},
   "outputs": [
    {
     "name": "stdout",
     "output_type": "stream",
     "text": [
      "q_tx²\n",
      "(t**2 - x**2, 2*t*x, 0, 0) \n",
      "\n",
      "\n",
      "D_tx_2_dt\n",
      "(2*t, 2*x, 0, 0) \n",
      "\n",
      "D_tx_2_dx\n",
      "(-2*t, -2*x, 0, 0) \n",
      "\n",
      "D_tx_2_dtdx\n",
      "(0, 0, 0, 0) \n",
      "\n"
     ]
    }
   ],
   "source": [
    "t, x, y, z = sp.symbols(\"t x y z\")\n",
    "q_tx = Q([t, x, 0, 0])\n",
    "q_tx_2 = product(q_tx, q_tx)\n",
    "q_tx_2.print_state(\"q_tx²\")\n",
    "print()\n",
    "D_tx_2_dt = Dq_try_1(q_tx_2, [t, x, y, z], [t])\n",
    "D_tx_2_dt.print_state(\"D_tx_2_dt\")\n",
    "D_tx_2_dx = Dq_try_1(q_tx_2, [t, x, y, z], [x])\n",
    "D_tx_2_dx.print_state(\"D_tx_2_dx\")\n",
    "D_tx_2_dtdx = Dq_try_1(q_tx_2, [t, x, y, z], [t, x])\n",
    "D_tx_2_dtdx.print_state(\"D_tx_2_dtdx\")\n"
   ]
  },
  {
   "cell_type": "markdown",
   "metadata": {},
   "source": [
    "Why is the derivative equal to zero? The square of a complex number is an analytic function. The space-time number derivative implements the Cauchy-Reimann equations:\n",
    "\n",
    "$$(f, F_x) = (t^2 - x^2, 2 t x)$$\n",
    "\n",
    "$$\\frac{\\partial f}{\\partial t} -\\frac{\\partial F_x}{\\partial x} = 0$$\n",
    "\n",
    "$$\\frac{\\partial F_x}{\\partial t} + \\frac{\\partial f}{\\partial x} = 0$$\n",
    "\n",
    "For this particular choice of function, the answer should be zero as it is.\n",
    "\n",
    "What space-time numbers do is introduce 2 more imaginaries and no more scalars. This process necessarily adds some kinds of complications that need to be managed. See what happens if one takes the very same function, but makes it depend on two spatial dimensions"
   ]
  },
  {
   "cell_type": "code",
   "execution_count": 4,
   "metadata": {},
   "outputs": [
    {
     "name": "stdout",
     "output_type": "stream",
     "text": [
      "q_txy²\n",
      "(t**2 - x**2 - y**2, 2*t*x, 2*t*y, 0) \n",
      "\n",
      "D_txy²_dt\n",
      "(2*t, 2*x, 2*y, 0) \n",
      "\n",
      "D_txy²_dx\n",
      "(-2*t, -2*x, 0, 0) \n",
      "\n",
      "D_txy²_dy\n",
      "(-2*t, 0, -2*y, 0) \n",
      "\n",
      "D_txy²_dtdx\n",
      "(-2*t, 0, 0, 0) \n",
      "\n"
     ]
    }
   ],
   "source": [
    "q_txy = Q([t, x, y, 0])\n",
    "q_txy_2 = product(q_txy, q_txy)\n",
    "q_txy_2.print_state(\"q_txy²\")\n",
    "D_txy_2_dt = Dq_try_1(q_txy_2, [t, x, y, z], [t])\n",
    "D_txy_2_dt.print_state(\"D_txy²_dt\")\n",
    "D_txy_2_dx = Dq_try_1(q_txy_2, [t, x, y, z], [x])\n",
    "D_txy_2_dx.print_state(\"D_txy²_dx\")\n",
    "D_txy_2_dx = Dq_try_1(q_txy_2, [t, x, y, z], [y])\n",
    "D_txy_2_dx.print_state(\"D_txy²_dy\")\n",
    "D_txy_2_dtdxdy = Dq_try_1(q_txy_2, [t, x, y, z], [t, x, y])\n",
    "D_txy_2_dtdxdy.print_state(\"D_txy²_dtdx\")"
   ]
  },
  {
   "cell_type": "markdown",
   "metadata": {},
   "source": [
    "Going from one imaginary to two appears to make the function become What happens here is that the exact same scalar is added twice, the -2\\*t for the two imaginaries. The function goes from divergence-free to one with a divergence. To my eye, it looks like the scalar gets double counted. Think about a function $f = (t, x, \\epsilon y, 0)^2$ where epsilon is a tiny number. It does not appear reasonable that the scalar value should change from divergent-free (zero) just because it points in a slightly different direction. One would expect the same issue to apply to three dimensions, but this time in triplicate.\n",
    "\n",
    "Try a form where there is but one unique contribution to the divergence from the three imaginary derivatives."
   ]
  },
  {
   "cell_type": "code",
   "execution_count": 5,
   "metadata": {},
   "outputs": [],
   "source": [
    "def Dq_try_2(q_1: Q, vars: List[sp.Symbol], these_vars: List[sp.Symbol] = None, conj: bool = False, conj_type: int=0, reverse: bool=False) -> Q:\n",
    "    \"\"\"\n",
    "    Calculate the quaternion derivative composed of 16 terms. The conjugation applies to the differential operator. The reverse flag will flip the cross product terms.\n",
    "    \n",
    "    Args:\n",
    "        q_1         A symbolic expression that returns a space-time number expression.\n",
    "        vars        A complete list of what 4 symbols are being used.\n",
    "        these_vars  A (possibly shorter) list of symbols to use to take a derivative.\n",
    "        conj        If one wants to take a conjugate of the differential operator, set this option.\n",
    "        conj_type   An integer for which term is positive, 0 the default for the standard conjugate.\n",
    "        \n",
    "    Return:\n",
    "        Q     The space-time derivative\n",
    "    \"\"\"\n",
    "    \n",
    "    # Check for errors.\n",
    "    if len(vars) != 4:\n",
    "        print(\"Oops: needs to be given 4 symbols. Try again.\")\n",
    "        return 0\n",
    "    \n",
    "    if not q_1.is_symbolic():\n",
    "        print(\"Oops, the function needs to be symbolic.\")\n",
    "        \n",
    "    if these_vars is None:\n",
    "        these_vars = vars\n",
    "        \n",
    "    # Use the_D_signs to apply different conjugates to the differential operator D.\n",
    "    D_signs = [1, 1, 1, 1]\n",
    "    \n",
    "    if conj:\n",
    "        if conj_type == 0:\n",
    "            D_signs = [1, -1, -1, -1]\n",
    "        if conj_type == 1:\n",
    "            D_signs = [-1, 1, -1, -1]\n",
    "        if conj_type == 2:\n",
    "            D_signs = [-1, -1, 1, -1]\n",
    "        if conj_type == 3:\n",
    "            D_signs = [-1, -1, -1, 1]\n",
    "    \n",
    "    the_16 = []\n",
    "    \n",
    "    for sign, var in enumerate(vars):\n",
    "        if var in these_vars:\n",
    "            the_16.append(sp.diff(D_signs[sign] * q_1.t, var))\n",
    "            the_16.append(sp.diff(D_signs[sign] * q_1.x, var))\n",
    "            the_16.append(sp.diff(D_signs[sign] * q_1.y, var))\n",
    "            the_16.append(sp.diff(D_signs[sign] * q_1.z, var))\n",
    "            \n",
    "        else:\n",
    "            for _ in range(4):\n",
    "                the_16.append(0)\n",
    "\n",
    "    flip = -1 if reverse else 1\n",
    "\n",
    "    # Use a Python set() that only accepts unique values.\n",
    "    non_zero_div = set()\n",
    "    if the_16[5] != 0:\n",
    "        non_zero_div.add(sp.simplify(the_16[5]))\n",
    "        \n",
    "    if the_16[10] != 0:\n",
    "        non_zero_div.add(sp.simplify(the_16[10]))\n",
    "        \n",
    "    if the_16[15] != 0:\n",
    "        non_zero_div.add(sp.simplify(the_16[15]))\n",
    "    \n",
    "    if len(non_zero_div) == 0:\n",
    "        div = 0\n",
    "        \n",
    "    elif len(non_zero_div) == 1:\n",
    "        div = non_zero_div.pop()\n",
    "        \n",
    "    elif len(non_zero_div) == 2:\n",
    "        div = non_zero_div.pop() + non_zero_div.pop()\n",
    "        div.simplify()\n",
    "        \n",
    "    else:\n",
    "        for non_zero in non_zero_div:\n",
    "            print(f\"non_zero: {non_zero}\")\n",
    "        div = non_zero_div.pop() + non_zero_div.pop() + non_zero_div.pop()\n",
    "        div.simplify()\n",
    "        \n",
    "    first_term =  the_16[0] - div\n",
    "    second_term = the_16[1] + the_16[4] + flip * the_16[14] - flip * the_16[11]\n",
    "    third_term =  the_16[2] + the_16[8] + flip * the_16[13] - flip * the_16[7]\n",
    "    forth_term =  the_16[3] + the_16[12] + flip * the_16[6] - flip * the_16[9]\n",
    "    \n",
    "    return Q([first_term.simplify(), second_term.simplify(), third_term.simplify(), forth_term.simplify()])"
   ]
  },
  {
   "cell_type": "code",
   "execution_count": 6,
   "metadata": {},
   "outputs": [
    {
     "name": "stdout",
     "output_type": "stream",
     "text": [
      "q_txy²\n",
      "(t**2 - x**2 - y**2, 2*t*x, 2*t*y, 0) \n",
      "\n",
      "D_txy²_dt\n",
      "(2*t, 2*x, 2*y, 0) \n",
      "\n",
      "D_txy²_dx\n",
      "(-2*t, -2*x, 0, 0) \n",
      "\n",
      "D_txy²_dy\n",
      "(-2*t, 0, -2*y, 0) \n",
      "\n",
      "D_txy²_dtdx\n",
      "(0, 0, 0, 0) \n",
      "\n"
     ]
    }
   ],
   "source": [
    "q_txy = Q([t, x, y, 0])\n",
    "q_txy_2 = product(q_txy, q_txy)\n",
    "q_txy_2.print_state(\"q_txy²\")\n",
    "D_txy_2_dt = Dq_try_2(q_txy_2, [t, x, y, z], [t])\n",
    "D_txy_2_dt.print_state(\"D_txy²_dt\")\n",
    "D_txy_2_dx = Dq_try_2(q_txy_2, [t, x, y, z], [x])\n",
    "D_txy_2_dx.print_state(\"D_txy²_dx\")\n",
    "D_txy_2_dx = Dq_try_2(q_txy_2, [t, x, y, z], [y])\n",
    "D_txy_2_dx.print_state(\"D_txy²_dy\")\n",
    "D_txy_2_dtdxdy = Dq_try_2(q_txy_2, [t, x, y, z], [t, x, y])\n",
    "D_txy_2_dtdxdy.print_state(\"D_txy²_dtdx\")"
   ]
  },
  {
   "cell_type": "markdown",
   "metadata": {},
   "source": [
    "Nice. Now try with three imaginaries:"
   ]
  },
  {
   "cell_type": "code",
   "execution_count": 7,
   "metadata": {},
   "outputs": [
    {
     "name": "stdout",
     "output_type": "stream",
     "text": [
      "q_txyz²\n",
      "(t**2 - x**2 - y**2 - z**2, 2*t*x, 2*t*y, 2*t*z) \n",
      "\n",
      "D_txyz²_dt\n",
      "(2*t, 2*x, 2*y, 2*z) \n",
      "\n",
      "D_txyz²_dx\n",
      "(-2*t, -2*x, 0, 0) \n",
      "\n",
      "D_txyz²_dy\n",
      "(-2*t, 0, -2*y, 0) \n",
      "\n",
      "D_txyz²_dz\n",
      "(-2*t, 0, 0, -2*z) \n",
      "\n",
      "D_txyx²_dtdxdydz\n",
      "(0, 0, 0, 0) \n",
      "\n"
     ]
    }
   ],
   "source": [
    "q_txyz = Q([t, x, y, z])\n",
    "q_txyz_2 = product(q_txyz, q_txyz)\n",
    "q_txyz_2.print_state(\"q_txyz²\")\n",
    "D_txyz_2_dt = Dq_try_2(q_txyz_2, [t, x, y, z], [t])\n",
    "D_txyz_2_dt.print_state(\"D_txyz²_dt\")\n",
    "D_txyz_2_dx = Dq_try_2(q_txyz_2, [t, x, y, z], [x])\n",
    "D_txyz_2_dx.print_state(\"D_txyz²_dx\")\n",
    "D_txyz_2_dy = Dq_try_2(q_txyz_2, [t, x, y, z], [y])\n",
    "D_txyz_2_dy.print_state(\"D_txyz²_dy\")\n",
    "D_txyz_2_dz = Dq_try_2(q_txyz_2, [t, x, y, z], [z])\n",
    "D_txyz_2_dz.print_state(\"D_txyz²_dz\")\n",
    "D_txyz_2_dtdxdydz = Dq_try_2(q_txyz_2, [t, x, y, z])\n",
    "D_txyz_2_dtdxdydz.print_state(\"D_txyx²_dtdxdydz\")"
   ]
  },
  {
   "cell_type": "markdown",
   "metadata": {},
   "source": [
    "See if a cube works."
   ]
  },
  {
   "cell_type": "code",
   "execution_count": 8,
   "metadata": {},
   "outputs": [
    {
     "name": "stdout",
     "output_type": "stream",
     "text": [
      "q_txyz³\n",
      "(-2*t*x**2 - 2*t*y**2 - 2*t*z**2 + t*(t**2 - x**2 - y**2 - z**2), 2*t**2*x + x*(t**2 - x**2 - y**2 - z**2), 2*t**2*y + y*(t**2 - x**2 - y**2 - z**2), 2*t**2*z + z*(t**2 - x**2 - y**2 - z**2)) \n",
      "\n",
      "D_txyz³_dt\n",
      "(3*t**2 - 3*x**2 - 3*y**2 - 3*z**2, 6*t*x, 6*t*y, 6*t*z) \n",
      "\n",
      "D_txyz³_dx\n",
      "(-3*t**2 + 3*x**2 + y**2 + z**2, -6*t*x, 2*x*z, -2*x*y) \n",
      "\n",
      "D_txyz³_dy\n",
      "(-3*t**2 + x**2 + 3*y**2 + z**2, 2*y*z, -6*t*y, 2*x*y) \n",
      "\n",
      "D_txyz³_dz\n",
      "(-3*t**2 + x**2 + y**2 + 3*z**2, -2*y*z, -2*x*z, -6*t*z) \n",
      "\n",
      "non_zero: 3*t**2 - x**2 - y**2 - 3*z**2\n",
      "non_zero: 3*t**2 - 3*x**2 - y**2 - z**2\n",
      "non_zero: 3*t**2 - x**2 - 3*y**2 - z**2\n",
      "D_txyx³_dtdxdydz\n",
      "(-6*t**2 + 2*x**2 + 2*y**2 + 2*z**2, 0, 0, 0) \n",
      "\n"
     ]
    }
   ],
   "source": [
    "q_txyz = Q([t, x, y, z])\n",
    "q_txyz_3 = product(product(q_txyz, q_txyz), q_txyz)\n",
    "q_txyz_3.print_state(\"q_txyz³\")\n",
    "D_txyz_3_dt = Dq_try_2(q_txyz_3, [t, x, y, z], [t])\n",
    "D_txyz_3_dt.print_state(\"D_txyz³_dt\")\n",
    "D_txyz_3_dx = Dq_try_2(q_txyz_3, [t, x, y, z], [x])\n",
    "D_txyz_3_dx.print_state(\"D_txyz³_dx\")\n",
    "D_txyz_3_dy = Dq_try_2(q_txyz_3, [t, x, y, z], [y])\n",
    "D_txyz_3_dy.print_state(\"D_txyz³_dy\")\n",
    "D_txyz_3_dz = Dq_try_2(q_txyz_3, [t, x, y, z], [z])\n",
    "D_txyz_3_dz.print_state(\"D_txyz³_dz\")\n",
    "D_txyz_3_dtdxdydz = Dq_try_2(q_txyz_3, [t, x, y, z])\n",
    "D_txyz_3_dtdxdydz.print_state(\"D_txyx³_dtdxdydz\")"
   ]
  },
  {
   "cell_type": "markdown",
   "metadata": {},
   "source": [
    "This looks like a failure. The $t^2$ terms are following the same pattern: there is a triplicate going on. The terms with the $x^2$, $y^2$, and $z^2$ are $\\frac{5}{3}$ too big. The extra terms come from mixed terms terms. Perhaps there is an elegant way to do it, or this could just be a message: don't try to do it.\n",
    "\n",
    "What does it take to find the \"balancer\" factors for the scalar and the 3-vectors?"
   ]
  },
  {
   "cell_type": "code",
   "execution_count": 9,
   "metadata": {},
   "outputs": [
    {
     "name": "stdout",
     "output_type": "stream",
     "text": [
      "1/3\n",
      "3/5\n"
     ]
    }
   ],
   "source": [
    "zero_t = {t: 0}\n",
    "zero_xyz = {x: 0, y: 0, z: 0}\n",
    "dt_v = D_txyz_3_dt.subs(zero_t)\n",
    "dt_s = D_txyz_3_dt.subs(zero_xyz)\n",
    "\n",
    "D_txyz_3_dxdydz = add(add(D_txyz_3_dx, D_txyz_3_dy), D_txyz_3_dz)\n",
    "dR_v = D_txyz_3_dxdydz.subs(zero_t)\n",
    "dR_s = D_txyz_3_dxdydz.subs(zero_xyz)\n",
    "n = sp.symbols(\"n\")\n",
    "print(sp.solve(dt_s.t + n * dR_s.t, n)[0])\n",
    "print(sp.solve(dt_v.t + n * dR_v.t, n)[0])"
   ]
  },
  {
   "cell_type": "markdown",
   "metadata": {},
   "source": [
    "So there is a path to these values. It is too much of a hack to include in code."
   ]
  },
  {
   "cell_type": "markdown",
   "metadata": {},
   "source": [
    "Now test to find something that _doesn't work_, the conjugate:"
   ]
  },
  {
   "cell_type": "code",
   "execution_count": 10,
   "metadata": {},
   "outputs": [
    {
     "name": "stdout",
     "output_type": "stream",
     "text": [
      "q_tx*²\n",
      "(t**2 - x**2, -2*t*x, 0, 0) \n",
      "\n",
      "D_tx*²_dt\n",
      "(2*t, -2*x, 0, 0) \n",
      "\n",
      "D_tx*²_dx\n",
      "(2*t, -2*x, 0, 0) \n",
      "\n",
      "D_tx*²_dtdx\n",
      "(4*t, -4*x, 0, 0) \n",
      "\n"
     ]
    }
   ],
   "source": [
    "q_tx_c = conj(Q([t, x, 0, 0]))\n",
    "q_tx_c_2 = product(q_tx_c, q_tx_c)\n",
    "q_tx_c_2.print_state(\"q_tx*²\")\n",
    "D_tx_c_2_dt = Dq_try_1(q_tx_c_2, [t, x, y, z], [t])\n",
    "D_tx_c_2_dt.print_state(\"D_tx*²_dt\")\n",
    "D_tx_c_2_dx = Dq_try_1(q_tx_c_2, [t, x, y, z], [x])\n",
    "D_tx_c_2_dx.print_state(\"D_tx*²_dx\")\n",
    "D_tx_c_2_dtdx = Dq_try_1(q_tx_c_2, [t, x, y, z], [t, x])\n",
    "D_tx_c_2_dtdx.print_state(\"D_tx*²_dtdx\")"
   ]
  },
  {
   "cell_type": "markdown",
   "metadata": {},
   "source": [
    "Neither of the Cauchy-Riemann equations hold. The differential operator and function point in different directions."
   ]
  },
  {
   "cell_type": "markdown",
   "metadata": {},
   "source": [
    "This can be fixed by taking the conjugate of the differential, so both are now aligned:"
   ]
  },
  {
   "cell_type": "code",
   "execution_count": 11,
   "metadata": {},
   "outputs": [
    {
     "name": "stdout",
     "output_type": "stream",
     "text": [
      "q_tx*²\n",
      "(t**2 - x**2, -2*t*x, 0, 0) \n",
      "\n",
      "D*_tx*²_dt\n",
      "(2*t, -2*x, 0, 0) \n",
      "\n",
      "D*_tx*²_dx\n",
      "(-2*t, 2*x, 0, 0) \n",
      "\n",
      "D*_tx*²_dtdx\n",
      "(0, 0, 0, 0) \n",
      "\n"
     ]
    }
   ],
   "source": [
    "q_tx_c = conj(Q([t, x, 0, 0]))\n",
    "q_tx_c_2 = product(q_tx_c, q_tx_c)\n",
    "q_tx_c_2.print_state(\"q_tx*²\")\n",
    "D_c_tx_c_2_dt = Dq_try_1(q_tx_c_2, [t, x, y, z], [t], conj=True)\n",
    "D_c_tx_c_2_dt.print_state(\"D*_tx*²_dt\")\n",
    "D_c_tx_c_2_dx = Dq_try_1(q_tx_c_2, [t, x, y, z], [x], conj=True)\n",
    "D_c_tx_c_2_dx.print_state(\"D*_tx*²_dx\")\n",
    "D_c_tx_c_2_dtdx = Dq_try_1(q_tx_c_2, [t, x, y, z], [t, x], conj=True)\n",
    "D_c_tx_c_2_dtdx.print_state(\"D*_tx*²_dtdx\")"
   ]
  },
  {
   "cell_type": "markdown",
   "metadata": {},
   "source": [
    "The calling card of a conservative force, one that uses no energy, is that the divergence is zero. Now the interpretation is that for more complicated functions, changes in time (implying energy) must be involved. "
   ]
  },
  {
   "cell_type": "code",
   "execution_count": 12,
   "metadata": {},
   "outputs": [
    {
     "name": "stdout",
     "output_type": "stream",
     "text": [
      "sin(t, x)\n"
     ]
    },
    {
     "data": {
      "image/png": "[encoded data removed]",
      "text/latex": [
       "$\\displaystyle e^{t} \\cos{\\left(\\left(x^{2}\\right)^{0.5} \\right)}$"
      ],
      "text/plain": [
       "      ⎛    0.5⎞\n",
       " t    ⎜⎛ 2⎞   ⎟\n",
       "ℯ ⋅cos⎝⎝x ⎠   ⎠"
      ]
     },
     "metadata": {},
     "output_type": "display_data"
    },
    {
     "data": {
      "image/png": "[encoded data removed]",
      "text/latex": [
       "$\\displaystyle \\frac{x e^{t} \\sin{\\left(\\left(x^{2}\\right)^{0.5} \\right)}}{\\left(x^{2}\\right)^{0.5}}$"
      ],
      "text/plain": [
       "      -0.5       ⎛    0.5⎞\n",
       "  ⎛ 2⎞      t    ⎜⎛ 2⎞   ⎟\n",
       "x⋅⎝x ⎠    ⋅ℯ ⋅sin⎝⎝x ⎠   ⎠"
      ]
     },
     "metadata": {},
     "output_type": "display_data"
    },
    {
     "data": {
      "image/png": "[encoded data removed]",
      "text/latex": [
       "$\\displaystyle 0$"
      ],
      "text/plain": [
       "0"
      ]
     },
     "metadata": {},
     "output_type": "display_data"
    },
    {
     "data": {
      "image/png": "[encoded data removed]",
      "text/latex": [
       "$\\displaystyle 0$"
      ],
      "text/plain": [
       "0"
      ]
     },
     "metadata": {},
     "output_type": "display_data"
    },
    {
     "name": "stdout",
     "output_type": "stream",
     "text": [
      "d_exp_tx'\n"
     ]
    },
    {
     "data": {
      "image/png": "[encoded data removed]",
      "text/latex": [
       "$\\displaystyle 0$"
      ],
      "text/plain": [
       "0"
      ]
     },
     "metadata": {},
     "output_type": "display_data"
    },
    {
     "data": {
      "image/png": "[encoded data removed]",
      "text/latex": [
       "$\\displaystyle \\frac{\\left(x^{2} - 1.0 \\left(x^{2}\\right)^{1.0}\\right) e^{t} \\sin{\\left(\\left(x^{2}\\right)^{0.5} \\right)}}{x \\left(x^{2}\\right)^{0.5}}$"
      ],
      "text/plain": [
       "⎛         1.0⎞     -0.5       ⎛    0.5⎞\n",
       "⎜ 2   ⎛ 2⎞   ⎟ ⎛ 2⎞      t    ⎜⎛ 2⎞   ⎟\n",
       "⎝x  - ⎝x ⎠   ⎠⋅⎝x ⎠    ⋅ℯ ⋅sin⎝⎝x ⎠   ⎠\n",
       "───────────────────────────────────────\n",
       "                   x                   "
      ]
     },
     "metadata": {},
     "output_type": "display_data"
    },
    {
     "data": {
      "image/png": "[encoded data removed]",
      "text/latex": [
       "$\\displaystyle 0$"
      ],
      "text/plain": [
       "0"
      ]
     },
     "metadata": {},
     "output_type": "display_data"
    },
    {
     "data": {
      "image/png": "[encoded data removed]",
      "text/latex": [
       "$\\displaystyle 0$"
      ],
      "text/plain": [
       "0"
      ]
     },
     "metadata": {},
     "output_type": "display_data"
    }
   ],
   "source": [
    "exp_tx = exp(Q([t, x, 0, 0]))\n",
    "exp_tx.display_q(\"sin(t, x)\")\n",
    "\n",
    "d_exp_tx = Dq_try_2(exp_tx, [t, x, y, z], [t, x])\n",
    "d_exp_tx.simple_q().display_q(\"d_exp_tx'\")"
   ]
  },
  {
   "cell_type": "markdown",
   "metadata": {},
   "source": [
    "Oops, this should be zero. This is a bug involving floats and integers."
   ]
  },
  {
   "cell_type": "code",
   "execution_count": 13,
   "metadata": {},
   "outputs": [
    {
     "data": {
      "image/png": "[encoded data removed]",
      "text/latex": [
       "$\\displaystyle \\frac{1.0 \\left(1.0 x^{2} - 1.0 \\left(x^{2}\\right)^{1.0}\\right) e^{t} \\sin{\\left(\\left(x^{2}\\right)^{0.5} \\right)}}{x \\left(x^{2}\\right)^{0.5}}$"
      ],
      "text/plain": [
       "    ⎛             1.0⎞     -0.5       ⎛    0.5⎞\n",
       "    ⎜     2   ⎛ 2⎞   ⎟ ⎛ 2⎞      t    ⎜⎛ 2⎞   ⎟\n",
       "1.0⋅⎝1.0⋅x  - ⎝x ⎠   ⎠⋅⎝x ⎠    ⋅ℯ ⋅sin⎝⎝x ⎠   ⎠\n",
       "───────────────────────────────────────────────\n",
       "                       x                       "
      ]
     },
     "execution_count": 13,
     "metadata": {},
     "output_type": "execute_result"
    }
   ],
   "source": [
    "d_exp_tx.x.evalf()\n",
    "d_exp_tx.x.expand()\n",
    "d_exp_tx.x.factor()"
   ]
  },
  {
   "cell_type": "markdown",
   "metadata": {},
   "source": [
    "It is unclear how to try to fix this bug. Add it to the backlog."
   ]
  },
  {
   "cell_type": "markdown",
   "metadata": {},
   "source": [
    "## Takehome message from the exercise\n",
    "\n",
    "A simple, direct definition of a space-time operator on a space-time function will yield expected analytic functions for complex numbers. When pushed from one imaginary dimension to several, the divergence-free quality is lost. Realize this happens in the tangent space of space-time, the house of momentum-energy above each point in space-time."
   ]
  },
  {
   "cell_type": "code",
   "execution_count": null,
   "metadata": {},
   "outputs": [],
   "source": []
  }
 ],
 "metadata": {
  "kernelspec": {
   "display_name": "Python 3",
   "language": "python",
   "name": "python3"
  },
  "language_info": {
   "codemirror_mode": {
    "name": "ipython",
    "version": 3
   },
   "file_extension": ".py",
   "mimetype": "text/x-python",
   "name": "python",
   "nbconvert_exporter": "python",
   "pygments_lexer": "ipython3",
   "version": "3.8.8"
  }
 },
 "nbformat": 4,
 "nbformat_minor": 4
}
