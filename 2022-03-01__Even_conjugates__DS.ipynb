{
 "cells": [
  {
   "cell_type": "markdown",
   "metadata": {},
   "source": [
    "# Even Conjugates of Space-time Numbers (aka Quaternions) and Series"
   ]
  },
  {
   "cell_type": "markdown",
   "metadata": {},
   "source": [
    "The conjugate of a complex number on the manifold $\\mathbb{R}^2$ flip signs once. The conjugate of a space-time number on the manifold $\\mathbb{R}^4$ flips three signs. This notebook looks at the properties of space-time number and series conjugates that flip an even number of signs, either two or four. Gauss first wrote down variants of conjugates D. Sweetser rediscovered in 1999:\n",
    "\n",
    "$$(t, x, y, z)^* = (t, -x, -y, -z)$$\n",
    "\n",
    "$$(t, x, y, z)^{*1} \\equiv (i q i)^* = (-t, x, -y, -z)$$\n",
    "\n",
    "$$(t, x, y, z)^{*2} \\equiv (j q j)^* = (-t, -x, y, -z)$$\n",
    "\n",
    "$$(t, x, y, z)^{*3} \\equiv (k q k)^* = (-t, -x, -y, z)$$\n",
    "\n",
    "An email exchange with Prof. Aleks Kleyn lead to an investigation of what would happen if the conjugate operator was not done for the the last three conjugates which I call the first, second, and third conjugates. Repeat the process, but without using any conjugate operators. To have an operation that is different from the identity, in the first case multiply by -1. Here are the definitions of the four even conjugates of space-time numbers over $\\mathbb{R}^4$:\n",
    "\n",
    "$$(t, x, y, z)^{*e} \\equiv = -1 q = (-t, -x, -y, -z)$$\n",
    "\n",
    "$$(t, x, y, z)^{*1e} \\equiv (i q i) = (-t, -x, y, z)$$\n",
    "\n",
    "$$(t, x, y, z)^{*2e} \\equiv (j q j) = (-t, x, -y, z)$$\n",
    "\n",
    "$$(t, x, y, z)^{*3e} \\equiv (k q k) = (-t, x, y, -z)$$\n",
    "\n",
    "Test if they have the necessary qualities of conjugates."
   ]
  },
  {
   "cell_type": "code",
   "execution_count": 1,
   "metadata": {},
   "outputs": [],
   "source": [
    "%%capture\n",
    "%matplotlib inline\n",
    "import numpy as np\n",
    "import sympy as sp\n",
    "import matplotlib.pyplot as plt\n",
    "import math\n",
    "import unittest\n",
    "\n",
    "# To get equations the look like, well, equations, use the following.\n",
    "from sympy.interactive import printing\n",
    "printing.init_printing(use_latex=True)\n",
    "from IPython.display import display\n",
    "\n",
    "# Tools for manipulating quaternions.\n",
    "from Qs import *\n",
    "\n",
    "from IPython.core.display import display, HTML, Math, Latex\n",
    "display(HTML(\"<style>.container { width:100% !important; }</style>\"))"
   ]
  },
  {
   "cell_type": "markdown",
   "metadata": {},
   "source": [
    "Let's keep things relatively simple and work with just two states of a space-time number series."
   ]
  },
  {
   "cell_type": "code",
   "execution_count": 2,
   "metadata": {},
   "outputs": [
    {
     "name": "stdout",
     "output_type": "stream",
     "text": [
      "series txyz abcd\n",
      "n=1: (t, x, y, z) \n",
      "n=2: (a, b, c, d) \n",
      "ket: 2/1\n",
      "\n"
     ]
    }
   ],
   "source": [
    "# Symbolic manipulation\n",
    "t, x, y, z = sp.symbols(\"t x y z\")\n",
    "a, b, c, d = sp.symbols(\"a b c d\")\n",
    "q_txyz = Q([t, x, y, z])\n",
    "q_abcd = Q([a, b, c, d])\n",
    "qs_txyz_abcd = Qs([q_txyz, q_abcd])\n",
    "qs_txyz_abcd.print_state(\"series txyz abcd\")"
   ]
  },
  {
   "cell_type": "markdown",
   "metadata": {},
   "source": [
    "First, check that these are all involutions, $(|x>^*ne)^*ne)$:"
   ]
  },
  {
   "cell_type": "code",
   "execution_count": 3,
   "metadata": {},
   "outputs": [
    {
     "name": "stdout",
     "output_type": "stream",
     "text": [
      "qs_txyz_abcd*0e *0e\n",
      "n=1: (t, x, y, z) \n",
      "n=2: (a, b, c, d) \n",
      "ket: 2/1\n",
      "\n",
      "|x> = (|x>*0e)*0e?: True\n",
      "\n",
      "qs_txyz_abcd*1e *1e\n",
      "n=1: (t, x, y, z) \n",
      "n=2: (a, b, c, d) \n",
      "ket: 2/1\n",
      "\n",
      "|x> = (|x>*1e)*1e?: True\n",
      "\n",
      "qs_txyz_abcd*2e *2e\n",
      "n=1: (t, x, y, z) \n",
      "n=2: (a, b, c, d) \n",
      "ket: 2/1\n",
      "\n",
      "|x> = (|x>*2e)*2e?: True\n",
      "\n",
      "qs_txyz_abcd*3e *3e\n",
      "n=1: (t, x, y, z) \n",
      "n=2: (a, b, c, d) \n",
      "ket: 2/1\n",
      "\n",
      "|x> = (|x>*3e)*3e?: True\n",
      "\n"
     ]
    }
   ],
   "source": [
    "for i in range(4):\n",
    "    involution = conjs(conjs(qs_txyz_abcd, conj_type=i, even=True), conj_type=i, even=True)\n",
    "    involution.print_state(f\"qs_txyz_abcd*{i}e *{i}e\")\n",
    "    print(f\"|x> = (|x>*{i}e)*{i}e?: {equals(qs_txyz_abcd, involution)}\\n\")"
   ]
  },
  {
   "cell_type": "code",
   "execution_count": 4,
   "metadata": {},
   "outputs": [
    {
     "name": "stdout",
     "output_type": "stream",
     "text": [
      "<x|y>*e0 = <y*e0|x*e0>?: False\n",
      "<x|y>*e1 = -<y*e1|x*e1>?: False\n",
      "<x|y>*e2 = -<y*e2|x*e2>?: False\n",
      "<x|y>*e3 = -<y*e3|x*e3>?: False\n"
     ]
    }
   ],
   "source": [
    "s, u, v, w = sp.symbols(\"s u v w\")\n",
    "m, n, o, p = sp.symbols(\"m n o p\")\n",
    "q_suvw = Q([s, u, v, w])\n",
    "q_mnop = Q([m, n, o, p])\n",
    "qs_y = Qs([q_suvw, q_mnop])\n",
    "\n",
    "for i in range(4):\n",
    "    products_conjs = conjs(products(transpose(qs_txyz_abcd), qs_y), conj_type=i, even=True)\n",
    "    conjs_products = products(conjs(transpose(qs_y), conj_type=i, even=True), conjs(qs_txyz_abcd, conj_type=i, even=True))\n",
    "    if i == 0:\n",
    "        print(f\"<x|y>*e{i} = <y*e{i}|x*e{i}>?: {equals(products_conjs, conjs_products)}\")\n",
    "    else:\n",
    "        print(f\"<x|y>*e{i} = -<y*e{i}|x*e{i}>?: {equals(products_conjs, flip_signs(conjs_products))}\")"
   ]
  },
  {
   "cell_type": "markdown",
   "metadata": {},
   "source": [
    "When the detailed results are printed out, what becomes clear is that one _should not reverse the order_ for even conjugates."
   ]
  },
  {
   "cell_type": "code",
   "execution_count": 5,
   "metadata": {},
   "outputs": [
    {
     "name": "stdout",
     "output_type": "stream",
     "text": [
      "<x|y>*e0 = <x*e0|y*e0>?: True\n",
      "<x|y>*e1 = -<x*e1|y*e1>?: True\n",
      "<x|y>*e2 = -<x*e2|y*e2>?: True\n",
      "<x|y>*e3 = -<x*e3|y*e3>?: True\n"
     ]
    }
   ],
   "source": [
    "for i in range(4):\n",
    "    products_conjs = conjs(products(transpose(qs_txyz_abcd), qs_y), conj_type=i, even=True)\n",
    "    conjs_products = products(conjs(transpose(qs_txyz_abcd), conj_type=i, even=True), conjs(qs_y, conj_type=i, even=True))\n",
    "    if i == 0:\n",
    "        print(f\"<x|y>*e{i} = <x*e{i}|y*e{i}>?: {equals(products_conjs, conjs_products)}\")\n",
    "    else:\n",
    "        print(f\"<x|y>*e{i} = -<x*e{i}|y*e{i}>?: {equals(products_conjs, flip_signs(conjs_products))}\")"
   ]
  },
  {
   "cell_type": "markdown",
   "metadata": {},
   "source": [
    "Why is this so? The even conjugate is multiplying by -1, so the order has to be maintained. The first, second, and third even conjugates achieve their results through taking products with imaginary numbers, no conjugates. The order has to be the same to avoid issues with the cross product."
   ]
  },
  {
   "cell_type": "markdown",
   "metadata": {},
   "source": [
    "## Physical meaning\n",
    "\n",
    "The even conjugate is a point mirror. The even first, second, and third conjugates will look like standard plane mirrors. For a plane mirror, up remains up, left and right remain left and right. What changes sign is the direction perpendicular to the mirror."
   ]
  },
  {
   "cell_type": "code",
   "execution_count": null,
   "metadata": {},
   "outputs": [],
   "source": []
  }
 ],
 "metadata": {
  "kernelspec": {
   "display_name": "Python 3",
   "language": "python",
   "name": "python3"
  },
  "language_info": {
   "codemirror_mode": {
    "name": "ipython",
    "version": 3
   },
   "file_extension": ".py",
   "mimetype": "text/x-python",
   "name": "python",
   "nbconvert_exporter": "python",
   "pygments_lexer": "ipython3",
   "version": "3.8.8"
  }
 },
 "nbformat": 4,
 "nbformat_minor": 4
}
