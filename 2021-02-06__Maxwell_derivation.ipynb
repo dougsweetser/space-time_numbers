{
 "cells": [
  {
   "cell_type": "markdown",
   "metadata": {},
   "source": [
    "# Deriving the Maxwell Equations"
   ]
  },
  {
   "cell_type": "markdown",
   "metadata": {},
   "source": [
    "To derive the Maxwell source equations, the Lorentz invariant quantity:\n",
    "\n",
    "$$B^2 - E^2$$\n",
    "\n",
    "is put in the Euler-Lagrange equations, and the result is both Gauss's law and Ampere's law. In a standard derivation one does a contraction of two rank-2 anti-symmetric field strength tensors:\n",
    "\n",
    "$$F^{\\mu \\nu} F_{\\mu \\nu} = B^2 - E^2$$\n",
    "\n",
    "The field strength tensor $F^{\\mu \\nu}$ is a complicated structure, with each of the 6 EM fields sitting in their own isolated room. If one were to show the first equation to anyone with high school algebra, they would think that should be the result of a simple product:\n",
    "\n",
    "$$B^2 - E^2 =?= (B + E)(B - E)$$\n",
    "\n",
    "With the space-time number approach, both the $E$ and $B$ fields necessarily have 4 terms, but the first one happens to be zero for both. As has been my pattern in this library, if I brake a universal convention to make something a \"space-time number\" in terms of its algebraic qualities, I will add a \\_q. Thus I work with $E\\_q$ and $B\\_q$.  The goal here is to get to:\n",
    "\n",
    "$$(0, B - E)(0, -B -E) = (B^2 - E^2, 2 E \\times B)$$\n",
    "\n",
    "Load the needed libraries. Note that Qs.py is a library for manipulating space-time numbers and space-time number series written by the author."
   ]
  },
  {
   "cell_type": "code",
   "execution_count": 1,
   "metadata": {},
   "outputs": [],
   "source": [
    "%%capture\n",
    "%matplotlib inline\n",
    "import numpy as np\n",
    "import sympy as sp\n",
    "import matplotlib.pyplot as plt\n",
    "import math\n",
    "import unittest\n",
    "\n",
    "# To get equations the look like, well, equations, use the following.\n",
    "from sympy.interactive import printing\n",
    "printing.init_printing(use_latex=True)\n",
    "from IPython.display import display\n",
    "\n",
    "# Tools for manipulating quaternions.\n",
    "from Qs import *\n",
    "\n",
    "from IPython.core.display import display, HTML, Math, Latex\n",
    "display(HTML(\"<style>.container { width:100% !important; }</style>\"))"
   ]
  },
  {
   "cell_type": "markdown",
   "metadata": {},
   "source": [
    "The first thing to do is define variables and functions for sympy to use and define the EM potential."
   ]
  },
  {
   "cell_type": "code",
   "execution_count": 2,
   "metadata": {},
   "outputs": [
    {
     "data": {
      "image/png": "[encoded data removed]",
      "text/latex": [
       "$\\displaystyle \\frac{\\partial}{\\partial t} φ{\\left(t,x,y,z \\right)}$"
      ],
      "text/plain": [
       "∂                \n",
       "──(φ(t, x, y, z))\n",
       "∂t               "
      ]
     },
     "execution_count": 2,
     "metadata": {},
     "output_type": "execute_result"
    }
   ],
   "source": [
    "t, x, y, z = sp.symbols(\"t x y z\")\n",
    "φ, Ax, Ay, Az = sp.Function(\"φ\"), sp.Function(\"Ax\"), sp.Function(\"Ay\"), sp.Function(\"Az\")\n",
    "φ(t, x, y, z).diff(t)"
   ]
  },
  {
   "cell_type": "code",
   "execution_count": 3,
   "metadata": {},
   "outputs": [
    {
     "name": "stdout",
     "output_type": "stream",
     "text": [
      "EM potential\n",
      "(φ, Ax, Ay, Az) \n",
      "\n"
     ]
    }
   ],
   "source": [
    "EM_potential = Q([φ(t, x, y, z), Ax(t, x, y, z), Ay(t, x, y, z), Az(t, x, y, z)])\n",
    "simpler = {φ(t, x, y, z): \"φ\", Ax(t, x, y, z): \"Ax\", Ay(t, x, y, z): \"Ay\", Az(t, x, y, z): \"Az\"}\n",
    "EM_potential.subs(simpler).print_state(\"EM potential\")"
   ]
  },
  {
   "cell_type": "markdown",
   "metadata": {},
   "source": [
    "Take the space-time number derivative of the EM potential."
   ]
  },
  {
   "cell_type": "code",
   "execution_count": 5,
   "metadata": {},
   "outputs": [
    {
     "name": "stdout",
     "output_type": "stream",
     "text": [
      "D EM_potential\n"
     ]
    },
    {
     "data": {
      "image/png": "[encoded data removed]",
      "text/latex": [
       "$\\displaystyle - \\frac{\\partial}{\\partial x} \\operatorname{Ax}{\\left(t,x,y,z \\right)} - \\frac{\\partial}{\\partial y} \\operatorname{Ay}{\\left(t,x,y,z \\right)} - \\frac{\\partial}{\\partial z} \\operatorname{Az}{\\left(t,x,y,z \\right)} + \\frac{\\partial}{\\partial t} φ{\\left(t,x,y,z \\right)}$"
      ],
      "text/plain": [
       "  ∂                    ∂                    ∂                    ∂            \n",
       "- ──(Ax(t, x, y, z)) - ──(Ay(t, x, y, z)) - ──(Az(t, x, y, z)) + ──(φ(t, x, y,\n",
       "  ∂x                   ∂y                   ∂z                   ∂t           \n",
       "\n",
       "    \n",
       " z))\n",
       "    "
      ]
     },
     "metadata": {},
     "output_type": "display_data"
    },
    {
     "data": {
      "image/png": "[encoded data removed]",
      "text/latex": [
       "$\\displaystyle \\frac{\\partial}{\\partial t} \\operatorname{Ax}{\\left(t,x,y,z \\right)} - \\frac{\\partial}{\\partial z} \\operatorname{Ay}{\\left(t,x,y,z \\right)} + \\frac{\\partial}{\\partial y} \\operatorname{Az}{\\left(t,x,y,z \\right)} + \\frac{\\partial}{\\partial x} φ{\\left(t,x,y,z \\right)}$"
      ],
      "text/plain": [
       "∂                    ∂                    ∂                    ∂              \n",
       "──(Ax(t, x, y, z)) - ──(Ay(t, x, y, z)) + ──(Az(t, x, y, z)) + ──(φ(t, x, y, z\n",
       "∂t                   ∂z                   ∂y                   ∂x             \n",
       "\n",
       "  \n",
       "))\n",
       "  "
      ]
     },
     "metadata": {},
     "output_type": "display_data"
    },
    {
     "data": {
      "image/png": "[encoded data removed]",
      "text/latex": [
       "$\\displaystyle \\frac{\\partial}{\\partial z} \\operatorname{Ax}{\\left(t,x,y,z \\right)} + \\frac{\\partial}{\\partial t} \\operatorname{Ay}{\\left(t,x,y,z \\right)} - \\frac{\\partial}{\\partial x} \\operatorname{Az}{\\left(t,x,y,z \\right)} + \\frac{\\partial}{\\partial y} φ{\\left(t,x,y,z \\right)}$"
      ],
      "text/plain": [
       "∂                    ∂                    ∂                    ∂              \n",
       "──(Ax(t, x, y, z)) + ──(Ay(t, x, y, z)) - ──(Az(t, x, y, z)) + ──(φ(t, x, y, z\n",
       "∂z                   ∂t                   ∂x                   ∂y             \n",
       "\n",
       "  \n",
       "))\n",
       "  "
      ]
     },
     "metadata": {},
     "output_type": "display_data"
    },
    {
     "data": {
      "image/png": "[encoded data removed]",
      "text/latex": [
       "$\\displaystyle - \\frac{\\partial}{\\partial y} \\operatorname{Ax}{\\left(t,x,y,z \\right)} + \\frac{\\partial}{\\partial x} \\operatorname{Ay}{\\left(t,x,y,z \\right)} + \\frac{\\partial}{\\partial t} \\operatorname{Az}{\\left(t,x,y,z \\right)} + \\frac{\\partial}{\\partial z} φ{\\left(t,x,y,z \\right)}$"
      ],
      "text/plain": [
       "  ∂                    ∂                    ∂                    ∂            \n",
       "- ──(Ax(t, x, y, z)) + ──(Ay(t, x, y, z)) + ──(Az(t, x, y, z)) + ──(φ(t, x, y,\n",
       "  ∂y                   ∂x                   ∂t                   ∂z           \n",
       "\n",
       "    \n",
       " z))\n",
       "    "
      ]
     },
     "metadata": {},
     "output_type": "display_data"
    }
   ],
   "source": [
    "D_EM_potential = Dq(EM_potential, [t, x, y, z])\n",
    "D_EM_potential.display(\"D EM_potential\")"
   ]
  },
  {
   "cell_type": "markdown",
   "metadata": {},
   "source": [
    "While this answer is correct, it has too many marks to be understood with ease. Create a list of substitutions that can do all the basic EM fields."
   ]
  },
  {
   "cell_type": "code",
   "execution_count": 6,
   "metadata": {},
   "outputs": [
    {
     "name": "stdout",
     "output_type": "stream",
     "text": [
      "D EM_potential fields\n"
     ]
    },
    {
     "data": {
      "image/png": "[encoded data removed]",
      "text/latex": [
       "$\\displaystyle - \\frac{d}{d x} Ax - \\frac{d}{d y} Ay - \\frac{d}{d z} Az + \\frac{d}{d t} φ$"
      ],
      "text/plain": [
       "  d        d        d        d    \n",
       "- ──(Ax) - ──(Ay) - ──(Az) + ──(φ)\n",
       "  dx       dy       dz       dt   "
      ]
     },
     "metadata": {},
     "output_type": "display_data"
    },
    {
     "data": {
      "image/png": "[encoded data removed]",
      "text/latex": [
       "$\\displaystyle Bx - Ex$"
      ],
      "text/plain": [
       "Bx - Ex"
      ]
     },
     "metadata": {},
     "output_type": "display_data"
    },
    {
     "data": {
      "image/png": "[encoded data removed]",
      "text/latex": [
       "$\\displaystyle By - Ey$"
      ],
      "text/plain": [
       "By - Ey"
      ]
     },
     "metadata": {},
     "output_type": "display_data"
    },
    {
     "data": {
      "image/png": "[encoded data removed]",
      "text/latex": [
       "$\\displaystyle Bz - Ez$"
      ],
      "text/plain": [
       "Bz - Ez"
      ]
     },
     "metadata": {},
     "output_type": "display_data"
    }
   ],
   "source": [
    "fields = {-Ax(𝑡,𝑥,𝑦,𝑧).diff(t)-φ(𝑡,𝑥,𝑦,𝑧).diff(x): \"Ex\", -Ay(𝑡,𝑥,𝑦,𝑧).diff(t)-φ(𝑡,𝑥,𝑦,𝑧).diff(y): \"Ey\", -Az(𝑡,𝑥,𝑦,𝑧).diff(t)-φ(𝑡,𝑥,𝑦,𝑧).diff(z): \"Ez\",\n",
    "         Az(𝑡,𝑥,𝑦,𝑧).diff(y)-Ay(𝑡,𝑥,𝑦,𝑧).diff(z): \"Bx\", Ax(𝑡,𝑥,𝑦,𝑧).diff(z)-Az(𝑡,𝑥,𝑦,𝑧).diff(x): \"By\", Ay(𝑡,𝑥,𝑦,𝑧).diff(x)-Ax(𝑡,𝑥,𝑦,𝑧).diff(y): \"Bz\", \n",
    "          φ(t, x, y, z): \"φ\", Ax(t, x, y, z): \"Ax\", Ay(t, x, y, z): \"Ay\", Az(t, x, y, z): \"Az\"}\n",
    "D_EM_potential.subs(fields).display(\"D EM_potential fields\")"
   ]
  },
  {
   "cell_type": "markdown",
   "metadata": {},
   "source": [
    "The first term is a gauge field. For massless photons, the gauge field must be set to zero. I suspect a non-zero gauge field may be used for particles that are not photons. Such a link has not been created. Note to self: see if the gauge field is invariant under a Lorentz boost. \n",
    "\n",
    "The second three terms are the difference between the magnetic and electric fields. To this day, this strikes me as _stunning_. Nothing was done other than take the space-time number derivative of a space-time potential and there are the two fields that make up EM. \n",
    "\n",
    "In the standard approach to EM, the difference of these fields _living in the same terms_ may be considered by some to be an abomination. The electric and magnetic fields are normally carefully put in separate rooms by the anti-symmetric rank-2 field strength tensor $F_{\\mu\\nu}$. The reason the standard approach must keep things separate is there is not general-utility rule for forming products as there is for space-time numbers. This is the non-trivial difference between working with tensors as is done today and trying to rebuild from the ground up with space-time numbers.\n",
    "\n",
    "Make the difference in EM fields gauge-free."
   ]
  },
  {
   "cell_type": "code",
   "execution_count": 7,
   "metadata": {},
   "outputs": [
    {
     "name": "stdout",
     "output_type": "stream",
     "text": [
      "gauge-free EM\n"
     ]
    },
    {
     "data": {
      "image/png": "[encoded data removed]",
      "text/latex": [
       "$\\displaystyle 0$"
      ],
      "text/plain": [
       "0"
      ]
     },
     "metadata": {},
     "output_type": "display_data"
    },
    {
     "data": {
      "image/png": "[encoded data removed]",
      "text/latex": [
       "$\\displaystyle Bx - Ex$"
      ],
      "text/plain": [
       "Bx - Ex"
      ]
     },
     "metadata": {},
     "output_type": "display_data"
    },
    {
     "data": {
      "image/png": "[encoded data removed]",
      "text/latex": [
       "$\\displaystyle By - Ey$"
      ],
      "text/plain": [
       "By - Ey"
      ]
     },
     "metadata": {},
     "output_type": "display_data"
    },
    {
     "data": {
      "image/png": "[encoded data removed]",
      "text/latex": [
       "$\\displaystyle Bz - Ez$"
      ],
      "text/plain": [
       "Bz - Ez"
      ]
     },
     "metadata": {},
     "output_type": "display_data"
    }
   ],
   "source": [
    "gauge_free_EM = vector_q(D_EM_potential)\n",
    "gauge_free_EM.subs(fields).display(\"gauge-free EM\")"
   ]
  },
  {
   "cell_type": "markdown",
   "metadata": {},
   "source": [
    "Take the derivative of the potential again, this time reversing the order of the differential and the potential. This will flip only the signs of the curl or $B\\_q$ field."
   ]
  },
  {
   "cell_type": "code",
   "execution_count": 8,
   "metadata": {},
   "outputs": [
    {
     "name": "stdout",
     "output_type": "stream",
     "text": [
      "gauge-free reverse D\n"
     ]
    },
    {
     "data": {
      "image/png": "[encoded data removed]",
      "text/latex": [
       "$\\displaystyle 0$"
      ],
      "text/plain": [
       "0"
      ]
     },
     "metadata": {},
     "output_type": "display_data"
    },
    {
     "data": {
      "image/png": "[encoded data removed]",
      "text/latex": [
       "$\\displaystyle - Bx - Ex$"
      ],
      "text/plain": [
       "-Bx - Ex"
      ]
     },
     "metadata": {},
     "output_type": "display_data"
    },
    {
     "data": {
      "image/png": "[encoded data removed]",
      "text/latex": [
       "$\\displaystyle - By - Ey$"
      ],
      "text/plain": [
       "-By - Ey"
      ]
     },
     "metadata": {},
     "output_type": "display_data"
    },
    {
     "data": {
      "image/png": "[encoded data removed]",
      "text/latex": [
       "$\\displaystyle - Bz - Ez$"
      ],
      "text/plain": [
       "-Bz - Ez"
      ]
     },
     "metadata": {},
     "output_type": "display_data"
    }
   ],
   "source": [
    "gauge_free_ME = vector_q(Dq(EM_potential, [t, x, y, z], reverse=True))\n",
    "gauge_free_ME.subs(fields).display(\"gauge-free reverse D\")"
   ]
  },
  {
   "cell_type": "markdown",
   "metadata": {},
   "source": [
    "Form the product of these two fields."
   ]
  },
  {
   "cell_type": "code",
   "execution_count": 12,
   "metadata": {},
   "outputs": [
    {
     "name": "stdout",
     "output_type": "stream",
     "text": [
      "EM invariant, Poynting\n"
     ]
    },
    {
     "data": {
      "image/png": "[encoded data removed]",
      "text/latex": [
       "$\\displaystyle Bx^{2} + By^{2} + Bz^{2} - Ex^{2} - Ey^{2} - Ez^{2}$"
      ],
      "text/plain": [
       "  2     2     2     2     2     2\n",
       "Bx  + By  + Bz  - Ex  - Ey  - Ez "
      ]
     },
     "metadata": {},
     "output_type": "display_data"
    },
    {
     "data": {
      "image/png": "[encoded data removed]",
      "text/latex": [
       "$\\displaystyle - 2 By Ez + 2 Bz Ey$"
      ],
      "text/plain": [
       "-2⋅By⋅Ez + 2⋅Bz⋅Ey"
      ]
     },
     "metadata": {},
     "output_type": "display_data"
    },
    {
     "data": {
      "image/png": "[encoded data removed]",
      "text/latex": [
       "$\\displaystyle 2 Bx Ez - 2 Bz Ex$"
      ],
      "text/plain": [
       "2⋅Bx⋅Ez - 2⋅Bz⋅Ex"
      ]
     },
     "metadata": {},
     "output_type": "display_data"
    },
    {
     "data": {
      "image/png": "[encoded data removed]",
      "text/latex": [
       "$\\displaystyle - 2 Bx Ey + 2 By Ex$"
      ],
      "text/plain": [
       "-2⋅Bx⋅Ey + 2⋅By⋅Ex"
      ]
     },
     "metadata": {},
     "output_type": "display_data"
    }
   ],
   "source": [
    "EM_invariant_Poynting = product(gauge_free_EM, gauge_free_ME)\n",
    "EM_invariant_Poynting.subs(fields).expand().display(\"EM invariant, Poynting\")"
   ]
  },
  {
   "cell_type": "markdown",
   "metadata": {},
   "source": [
    "The first term is invariant under a Lorentz transformation. The other three terms are called the Poynting vector. It is a measure of energy flux in electromagnetic fields. Poynting vectors change under Lorentz boosts. The first term will be invariant under both time and space reflections because of the square. This concerns some because it means that the Maxwell equations will also be unaltered by such changes. This creates what some would call a problem with the arrow of time. This issue also applies to the weak and strong forces which are structurally similar to EM with different gauge symmetries. The Poynting vector on the other hand does flip signs under both reflections in time or space. Because the Poynting vector is _necessarily connected_ to the difference of the squares of the EM fields, for me the concerns about the arrow of time are eliminated since the arrow is represented by the Poynting vector.\n",
    "\n",
    "In standard derivations of the Maxwell equations, one included a factor of a half. I don't see the need, so have gone for a simpler expression.\n",
    "\n",
    "The current density is coupled to EM potential. The first term of the product of the potential with the current density is Lorentz invariant."
   ]
  },
  {
   "cell_type": "code",
   "execution_count": 13,
   "metadata": {},
   "outputs": [
    {
     "name": "stdout",
     "output_type": "stream",
     "text": [
      "current/potential coupling\n"
     ]
    },
    {
     "data": {
      "image/png": "[encoded data removed]",
      "text/latex": [
       "$\\displaystyle - Jx \\operatorname{Ax}{\\left(t,x,y,z \\right)} - Jy \\operatorname{Ay}{\\left(t,x,y,z \\right)} - Jz \\operatorname{Az}{\\left(t,x,y,z \\right)} + ρ φ{\\left(t,x,y,z \\right)}$"
      ],
      "text/plain": [
       "-Jx⋅Ax(t, x, y, z) - Jy⋅Ay(t, x, y, z) - Jz⋅Az(t, x, y, z) + ρ⋅φ(t, x, y, z)"
      ]
     },
     "metadata": {},
     "output_type": "display_data"
    },
    {
     "data": {
      "image/png": "[encoded data removed]",
      "text/latex": [
       "$\\displaystyle Jx φ{\\left(t,x,y,z \\right)} + Jy \\operatorname{Az}{\\left(t,x,y,z \\right)} - Jz \\operatorname{Ay}{\\left(t,x,y,z \\right)} + ρ \\operatorname{Ax}{\\left(t,x,y,z \\right)}$"
      ],
      "text/plain": [
       "Jx⋅φ(t, x, y, z) + Jy⋅Az(t, x, y, z) - Jz⋅Ay(t, x, y, z) + ρ⋅Ax(t, x, y, z)"
      ]
     },
     "metadata": {},
     "output_type": "display_data"
    },
    {
     "data": {
      "image/png": "[encoded data removed]",
      "text/latex": [
       "$\\displaystyle - Jx \\operatorname{Az}{\\left(t,x,y,z \\right)} + Jy φ{\\left(t,x,y,z \\right)} + Jz \\operatorname{Ax}{\\left(t,x,y,z \\right)} + ρ \\operatorname{Ay}{\\left(t,x,y,z \\right)}$"
      ],
      "text/plain": [
       "-Jx⋅Az(t, x, y, z) + Jy⋅φ(t, x, y, z) + Jz⋅Ax(t, x, y, z) + ρ⋅Ay(t, x, y, z)"
      ]
     },
     "metadata": {},
     "output_type": "display_data"
    },
    {
     "data": {
      "image/png": "[encoded data removed]",
      "text/latex": [
       "$\\displaystyle Jx \\operatorname{Ay}{\\left(t,x,y,z \\right)} - Jy \\operatorname{Ax}{\\left(t,x,y,z \\right)} + Jz φ{\\left(t,x,y,z \\right)} + ρ \\operatorname{Az}{\\left(t,x,y,z \\right)}$"
      ],
      "text/plain": [
       "Jx⋅Ay(t, x, y, z) - Jy⋅Ax(t, x, y, z) + Jz⋅φ(t, x, y, z) + ρ⋅Az(t, x, y, z)"
      ]
     },
     "metadata": {},
     "output_type": "display_data"
    }
   ],
   "source": [
    "ρ, Jx, Jy, Jz = sp.symbols(\"ρ Jx Jy Jz\")\n",
    "current_density = Q([ρ, Jx, Jy, Jz])\n",
    "current_potential = product(current_density, EM_potential)\n",
    "current_potential.display(\"current/potential coupling\")"
   ]
  },
  {
   "cell_type": "markdown",
   "metadata": {},
   "source": [
    "Apply the Euler-Lagrange equations to the first termes of the EM invariant and the current/potential coupling."
   ]
  },
  {
   "cell_type": "code",
   "execution_count": 14,
   "metadata": {},
   "outputs": [],
   "source": [
    "from sympy.calculus.euler import euler_equations"
   ]
  },
  {
   "cell_type": "code",
   "execution_count": 15,
   "metadata": {},
   "outputs": [
    {
     "data": {
      "image/png": "[encoded data removed]",
      "text/latex": [
       "$\\displaystyle ρ + 2 \\frac{d^{2}}{d x^{2}} φ + 2 \\frac{d^{2}}{d y^{2}} φ + 2 \\frac{d^{2}}{d z^{2}} φ + 2 \\frac{d^{2}}{d xd t} Ax + 2 \\frac{d^{2}}{d yd t} Ay + 2 \\frac{d^{2}}{d zd t} Az = 0$"
      ],
      "text/plain": [
       "        2          2          2           2             2             2       \n",
       "       d          d          d           d             d             d        \n",
       "ρ + 2⋅───(φ) + 2⋅───(φ) + 2⋅───(φ) + 2⋅─────(Ax) + 2⋅─────(Ay) + 2⋅─────(Az) =\n",
       "        2          2          2        dx dt         dy dt         dz dt      \n",
       "      dx         dy         dz                                                \n",
       "\n",
       "  \n",
       "  \n",
       " 0\n",
       "  \n",
       "  "
      ]
     },
     "metadata": {},
     "output_type": "display_data"
    },
    {
     "data": {
      "image/png": "[encoded data removed]",
      "text/latex": [
       "$\\displaystyle - Jx + 2 \\frac{d^{2}}{d t^{2}} Ax - 2 \\frac{d^{2}}{d y^{2}} Ax - 2 \\frac{d^{2}}{d z^{2}} Ax + 2 \\frac{d^{2}}{d yd x} Ay + 2 \\frac{d^{2}}{d zd x} Az + 2 \\frac{d^{2}}{d xd t} φ = 0$"
      ],
      "text/plain": [
       "          2           2           2            2             2             2  \n",
       "         d           d           d            d             d             d   \n",
       "-Jx + 2⋅───(Ax) - 2⋅───(Ax) - 2⋅───(Ax) + 2⋅─────(Ay) + 2⋅─────(Az) + 2⋅─────(\n",
       "          2           2           2         dy dx         dz dx         dx dt \n",
       "        dt          dy          dz                                            \n",
       "\n",
       "      \n",
       "      \n",
       "φ) = 0\n",
       "      \n",
       "      "
      ]
     },
     "metadata": {},
     "output_type": "display_data"
    },
    {
     "data": {
      "image/png": "[encoded data removed]",
      "text/latex": [
       "$\\displaystyle - Jy + 2 \\frac{d^{2}}{d t^{2}} Ay - 2 \\frac{d^{2}}{d x^{2}} Ay - 2 \\frac{d^{2}}{d z^{2}} Ay + 2 \\frac{d^{2}}{d yd x} Ax + 2 \\frac{d^{2}}{d zd y} Az + 2 \\frac{d^{2}}{d yd t} φ = 0$"
      ],
      "text/plain": [
       "          2           2           2            2             2             2  \n",
       "         d           d           d            d             d             d   \n",
       "-Jy + 2⋅───(Ay) - 2⋅───(Ay) - 2⋅───(Ay) + 2⋅─────(Ax) + 2⋅─────(Az) + 2⋅─────(\n",
       "          2           2           2         dy dx         dz dy         dy dt \n",
       "        dt          dx          dz                                            \n",
       "\n",
       "      \n",
       "      \n",
       "φ) = 0\n",
       "      \n",
       "      "
      ]
     },
     "metadata": {},
     "output_type": "display_data"
    },
    {
     "data": {
      "image/png": "[encoded data removed]",
      "text/latex": [
       "$\\displaystyle - Jz + 2 \\frac{d^{2}}{d t^{2}} Az - 2 \\frac{d^{2}}{d x^{2}} Az - 2 \\frac{d^{2}}{d y^{2}} Az + 2 \\frac{d^{2}}{d zd x} Ax + 2 \\frac{d^{2}}{d zd y} Ay + 2 \\frac{d^{2}}{d zd t} φ = 0$"
      ],
      "text/plain": [
       "          2           2           2            2             2             2  \n",
       "         d           d           d            d             d             d   \n",
       "-Jz + 2⋅───(Az) - 2⋅───(Az) - 2⋅───(Az) + 2⋅─────(Ax) + 2⋅─────(Ay) + 2⋅─────(\n",
       "          2           2           2         dz dx         dz dy         dz dt \n",
       "        dt          dx          dy                                            \n",
       "\n",
       "      \n",
       "      \n",
       "φ) = 0\n",
       "      \n",
       "      "
      ]
     },
     "metadata": {},
     "output_type": "display_data"
    }
   ],
   "source": [
    "display(euler_equations(EM_invariant_Poynting.t + current_potential.t , φ(t, x, y, z), [t, x, y, z])[0].subs(simpler))\n",
    "display(euler_equations(EM_invariant_Poynting.t + current_potential.t , Ax(t, x, y, z), [t, x, y, z])[0].subs(simpler))\n",
    "display(euler_equations(EM_invariant_Poynting.t + current_potential.t , Ay(t, x, y, z), [t, x, y, z])[0].subs(simpler))\n",
    "display(euler_equations(EM_invariant_Poynting.t + current_potential.t , Az(t, x, y, z), [t, x, y, z])[0].subs(simpler))"
   ]
  },
  {
   "cell_type": "markdown",
   "metadata": {},
   "source": [
    "I have not been successful in using a substitution dictionary to write out these 4 equations in the standard form, as first order equations for $\\vec{E}$ and $\\vec{B}$. For the first equation, there are 2 spatial derivatives of $\\phi$, so that indicates one is taking the divergence. Put the differentials on the other side, and the result is:\n",
    "\n",
    "$$\\rho = \\nabla \\cdot E$$\n",
    "\n",
    "if\n",
    "\n",
    "$$\\vec{E}_q = (0, - 2 \\frac{\\partial \\vec{A}}{\\partial t} - 2 \\vec{\\nabla} \\phi)$$\n",
    "\n",
    "This is Gauss's law.\n",
    "\n",
    "There may be some who would argue that the **factor of 2** means this approach is in error. One can go out and directly measure electric and magnetic fields. The same cannot be said about potentials. Potentials are real things as demonstrated by the Aharonov-Bohm effect. Measuring potentials is not, so a factor of 2 is a change of scale. For me, simplicity trumps tradition."
   ]
  },
  {
   "cell_type": "markdown",
   "metadata": {},
   "source": [
    "The other three equations have a pattern. Put the current density on the other side. The first and last differentials together make up a time derivative of the negative electric field. The only way I know how to figure out the pattern of $\\vec{\\nabla} \\times (\\vec{\\nabla} \\times \\vec{A})$ is with pencil and paper. There is a pattern. The curl of the $B_x$ term has 2 negative terms that are second order for $A_x$ in $y$ and in $z$. There will be two positive mixed terms that use $A_y$ and $A_z$. With this knowledge, we can rewrite the last three equations like so:\n",
    "\n",
    "$$\\vec{J} = \\vec{\\nabla} \\times \\vec{B} - \\frac{\\partial \\vec{E}}{\\partial t}$$\n",
    "\n",
    "if \n",
    "\n",
    "$$\\vec{B}_q = (0, 2 \\vec{\\nabla} \\times \\vec{A})$$\n",
    "\n",
    "This is Ampere's law.\n",
    "\n",
    "In the name of logical consistency, I prefer to write both Gauss's law and Ampere's law as one space-time number expression as it was derived:\n",
    "\n",
    "$$(\\rho, \\vec{J}) = \\left(\\nabla \\cdot E, \\vec{\\nabla} \\times \\vec{B} - \\frac{\\partial \\vec{E}}{\\partial t}\\right)$$\n",
    "\n",
    "To my eye, it makes more clear: one space-time number expression is about the complete current density's relationship to changing electromagnetic fields."
   ]
  },
  {
   "cell_type": "markdown",
   "metadata": {},
   "source": [
    "How complicated does it look to derive the Maxwell source equations in a few lines? Let me try..."
   ]
  },
  {
   "cell_type": "code",
   "execution_count": 16,
   "metadata": {},
   "outputs": [
    {
     "data": {
      "image/png": "[encoded data removed]",
      "text/latex": [
       "$\\displaystyle ρ + 2 \\frac{d^{2}}{d x^{2}} φ + 2 \\frac{d^{2}}{d y^{2}} φ + 2 \\frac{d^{2}}{d z^{2}} φ + 2 \\frac{d^{2}}{d xd t} Ax + 2 \\frac{d^{2}}{d yd t} Ay + 2 \\frac{d^{2}}{d zd t} Az = 0$"
      ],
      "text/plain": [
       "        2          2          2           2             2             2       \n",
       "       d          d          d           d             d             d        \n",
       "ρ + 2⋅───(φ) + 2⋅───(φ) + 2⋅───(φ) + 2⋅─────(Ax) + 2⋅─────(Ay) + 2⋅─────(Az) =\n",
       "        2          2          2        dx dt         dy dt         dz dt      \n",
       "      dx         dy         dz                                                \n",
       "\n",
       "  \n",
       "  \n",
       " 0\n",
       "  \n",
       "  "
      ]
     },
     "metadata": {},
     "output_type": "display_data"
    },
    {
     "data": {
      "image/png": "[encoded data removed]",
      "text/latex": [
       "$\\displaystyle - Jx + 2 \\frac{d^{2}}{d t^{2}} Ax - 2 \\frac{d^{2}}{d y^{2}} Ax - 2 \\frac{d^{2}}{d z^{2}} Ax + 2 \\frac{d^{2}}{d yd x} Ay + 2 \\frac{d^{2}}{d zd x} Az + 2 \\frac{d^{2}}{d xd t} φ = 0$"
      ],
      "text/plain": [
       "          2           2           2            2             2             2  \n",
       "         d           d           d            d             d             d   \n",
       "-Jx + 2⋅───(Ax) - 2⋅───(Ax) - 2⋅───(Ax) + 2⋅─────(Ay) + 2⋅─────(Az) + 2⋅─────(\n",
       "          2           2           2         dy dx         dz dx         dx dt \n",
       "        dt          dy          dz                                            \n",
       "\n",
       "      \n",
       "      \n",
       "φ) = 0\n",
       "      \n",
       "      "
      ]
     },
     "metadata": {},
     "output_type": "display_data"
    },
    {
     "data": {
      "image/png": "[encoded data removed]",
      "text/latex": [
       "$\\displaystyle - Jy + 2 \\frac{d^{2}}{d t^{2}} Ay - 2 \\frac{d^{2}}{d x^{2}} Ay - 2 \\frac{d^{2}}{d z^{2}} Ay + 2 \\frac{d^{2}}{d yd x} Ax + 2 \\frac{d^{2}}{d zd y} Az + 2 \\frac{d^{2}}{d yd t} φ = 0$"
      ],
      "text/plain": [
       "          2           2           2            2             2             2  \n",
       "         d           d           d            d             d             d   \n",
       "-Jy + 2⋅───(Ay) - 2⋅───(Ay) - 2⋅───(Ay) + 2⋅─────(Ax) + 2⋅─────(Az) + 2⋅─────(\n",
       "          2           2           2         dy dx         dz dy         dy dt \n",
       "        dt          dx          dz                                            \n",
       "\n",
       "      \n",
       "      \n",
       "φ) = 0\n",
       "      \n",
       "      "
      ]
     },
     "metadata": {},
     "output_type": "display_data"
    },
    {
     "data": {
      "image/png": "[encoded data removed]",
      "text/latex": [
       "$\\displaystyle - Jz + 2 \\frac{d^{2}}{d t^{2}} Az - 2 \\frac{d^{2}}{d x^{2}} Az - 2 \\frac{d^{2}}{d y^{2}} Az + 2 \\frac{d^{2}}{d zd x} Ax + 2 \\frac{d^{2}}{d zd y} Ay + 2 \\frac{d^{2}}{d zd t} φ = 0$"
      ],
      "text/plain": [
       "          2           2           2            2             2             2  \n",
       "         d           d           d            d             d             d   \n",
       "-Jz + 2⋅───(Az) - 2⋅───(Az) - 2⋅───(Az) + 2⋅─────(Ax) + 2⋅─────(Ay) + 2⋅─────(\n",
       "          2           2           2         dz dx         dz dy         dz dt \n",
       "        dt          dx          dy                                            \n",
       "\n",
       "      \n",
       "      \n",
       "φ) = 0\n",
       "      \n",
       "      "
      ]
     },
     "metadata": {},
     "output_type": "display_data"
    }
   ],
   "source": [
    "p4 = [φ(t, x, y, z), Ax(t, x, y, z), Ay(t, x, y, z), Az(t, x, y, z)]\n",
    "φAxyz = Q(p4)\n",
    "ρJxyz = Q([ρ, Jx, Jy, Jz])\n",
    "txyz = [t, x, y, z]\n",
    "\n",
    "for p in p4:\n",
    "    display(euler_equations(\n",
    "        add(\n",
    "            product(vector_q(Dq(φAxyz, txyz)), vector_q(Dq(φAxyz, txyz, reverse=True))),\n",
    "            product(φAxyz, ρJxyz)).t, p)[0].subs(simpler))"
   ]
  },
  {
   "cell_type": "markdown",
   "metadata": {},
   "source": [
    "The Maxwell source equations are derived in under 10 lines. The first 4 lines define the players: the EM potential and current density as space-time numbers, and variables needed for the Euler-Lagrange equations. We loop through the 4 potentials to apply the Euler-Lagrage equations. It is hope the gentle reader can spot both Gauss's and Ampere's law.\n",
    "\n"
   ]
  },
  {
   "cell_type": "markdown",
   "metadata": {},
   "source": [
    "A specific technical choice was made in the process. Notice the \".t\" which plucks out the first term of the space-time number expression for both the fields and the coupling terms. For the sake of logical completeness, repeat the exercise for the first spacial component, \".x\":"
   ]
  },
  {
   "cell_type": "code",
   "execution_count": 27,
   "metadata": {},
   "outputs": [
    {
     "data": {
      "image/png": "[encoded data removed]",
      "text/latex": [
       "$\\displaystyle Jx - 2 \\frac{d^{2}}{d y^{2}} Ax - 2 \\frac{d^{2}}{d z^{2}} Ax + 2 \\frac{d^{2}}{d yd x} Ay + 2 \\frac{d^{2}}{d zd x} Az = 0$"
      ],
      "text/plain": [
       "         2           2            2             2         \n",
       "        d           d            d             d          \n",
       "Jx - 2⋅───(Ax) - 2⋅───(Ax) + 2⋅─────(Ay) + 2⋅─────(Az) = 0\n",
       "         2           2         dy dx         dz dx        \n",
       "       dy          dz                                     "
      ]
     },
     "metadata": {},
     "output_type": "display_data"
    },
    {
     "data": {
      "image/png": "[encoded data removed]",
      "text/latex": [
       "$\\displaystyle ρ - 2 \\frac{d^{2}}{d y^{2}} φ - 2 \\frac{d^{2}}{d z^{2}} φ - 2 \\frac{d^{2}}{d yd t} Ay - 2 \\frac{d^{2}}{d zd t} Az = 0$"
      ],
      "text/plain": [
       "        2          2           2             2         \n",
       "       d          d           d             d          \n",
       "ρ - 2⋅───(φ) - 2⋅───(φ) - 2⋅─────(Ay) - 2⋅─────(Az) = 0\n",
       "        2          2        dy dt         dz dt        \n",
       "      dy         dz                                    "
      ]
     },
     "metadata": {},
     "output_type": "display_data"
    },
    {
     "data": {
      "image/png": "[encoded data removed]",
      "text/latex": [
       "$\\displaystyle Jz - 2 \\frac{d^{2}}{d yd t} Ax + 4 \\frac{d^{2}}{d xd t} Ay + 2 \\frac{d^{2}}{d yd x} φ = 0$"
      ],
      "text/plain": [
       "          2             2             2        \n",
       "         d             d             d         \n",
       "Jz - 2⋅─────(Ax) + 4⋅─────(Ay) + 2⋅─────(φ) = 0\n",
       "       dy dt         dx dt         dy dx       "
      ]
     },
     "metadata": {},
     "output_type": "display_data"
    },
    {
     "data": {
      "image/png": "[encoded data removed]",
      "text/latex": [
       "$\\displaystyle - Jy - 2 \\frac{d^{2}}{d zd t} Ax + 4 \\frac{d^{2}}{d xd t} Az + 2 \\frac{d^{2}}{d zd x} φ = 0$"
      ],
      "text/plain": [
       "           2             2             2        \n",
       "          d             d             d         \n",
       "-Jy - 2⋅─────(Ax) + 4⋅─────(Az) + 2⋅─────(φ) = 0\n",
       "        dz dt         dx dt         dz dx       "
      ]
     },
     "metadata": {},
     "output_type": "display_data"
    }
   ],
   "source": [
    "for p in p4:\n",
    "    display(euler_equations(\n",
    "        add(\n",
    "        product(vector_q(Dq(φAxyz, txyz, reverse=False)), \n",
    "                vector_q(Dq(φAxyz, txyz, reverse=True))),\n",
    "        product(φAxyz, ρJxyz)).x, p)[0].subs(simpler))"
   ]
  },
  {
   "cell_type": "markdown",
   "metadata": {},
   "source": [
    "This set of four equations is about phases of EM fields. It is an open question about if these expressions will every be of value to understanding Nature. The first two equations can be written in terms of the magnetic $B_x$ and electric fields $E_y, \\,E_z$ respectively. The third and forth expressions resist being reformulated using electric or magnetic fields."
   ]
  },
  {
   "cell_type": "markdown",
   "metadata": {},
   "source": [
    "## Deriving the Homogeneous Maxwell Equations\n",
    "\n",
    "The no magnetic monopoles law and Faraday's law are usually presented as vector identities. There is nothing wrong with such a commonly used approach. There are often multiple perspectives on the same identity in math and physics. While this approach might be somewhere in the literature, I was fortunate enough to stumble upon it, so will share it now.\n",
    "\n",
    "Is there another Lorentz invariant made up of only the electric and magnetic fields? I recall seeing in Jackson's \"Classical Mechanics\" that the dot product of an electric and magnetic field was invariant under a Lorentz boost.\n",
    "\n",
    "Go back to high school algebra at the start of this notebook, the sum and difference of the electric and magnetic fields. The norm squared of each should be the same because the only difference is which direction the magnetic field points in, not the size of that field. The electric fields are identical. Here is the norm squared for both:\n",
    "\n",
    "$$||(0, \\vec{B} - \\vec{E})||^2 = ((B - E)^2, \\vec{0}) = (B^2 - 2 E \\cdot B + E^2, \\vec{0}))$$\n",
    "\n",
    "$$||(0, -\\vec{B} - \\vec{E})||^2 = ((-B - E)^2, \\vec{0}) = (B^2 + 2 E \\cdot B + E^2, \\vec{0}))$$\n",
    "\n",
    "Subtract the second from the first:\n",
    "\n",
    "$$(- 4 E \\cdot B, \\vec{0}) =(0, \\vec{0})$$\n",
    "\n",
    "Zero is Lorentz invariant, but it is not trivial. Let's apply the Euler-Lagrange equations to the dot product."
   ]
  },
  {
   "cell_type": "code",
   "execution_count": 19,
   "metadata": {},
   "outputs": [
    {
     "name": "stdout",
     "output_type": "stream",
     "text": [
      "||D_EM||²\n"
     ]
    },
    {
     "data": {
      "image/png": "[encoded data removed]",
      "text/latex": [
       "$\\displaystyle \\left(Bx - Ex\\right)^{2} + \\left(By - Ey\\right)^{2} + \\left(Bz - Ez\\right)^{2}$"
      ],
      "text/plain": [
       "         2            2            2\n",
       "(Bx - Ex)  + (By - Ey)  + (Bz - Ez) "
      ]
     },
     "metadata": {},
     "output_type": "display_data"
    },
    {
     "data": {
      "image/png": "[encoded data removed]",
      "text/latex": [
       "$\\displaystyle 0$"
      ],
      "text/plain": [
       "0"
      ]
     },
     "metadata": {},
     "output_type": "display_data"
    },
    {
     "data": {
      "image/png": "[encoded data removed]",
      "text/latex": [
       "$\\displaystyle 0$"
      ],
      "text/plain": [
       "0"
      ]
     },
     "metadata": {},
     "output_type": "display_data"
    },
    {
     "data": {
      "image/png": "[encoded data removed]",
      "text/latex": [
       "$\\displaystyle 0$"
      ],
      "text/plain": [
       "0"
      ]
     },
     "metadata": {},
     "output_type": "display_data"
    },
    {
     "name": "stdout",
     "output_type": "stream",
     "text": [
      "||D_ME||²\n"
     ]
    },
    {
     "data": {
      "image/png": "[encoded data removed]",
      "text/latex": [
       "$\\displaystyle \\left(- Bx - Ex\\right)^{2} + \\left(- By - Ey\\right)^{2} + \\left(- Bz - Ez\\right)^{2}$"
      ],
      "text/plain": [
       "          2             2             2\n",
       "(-Bx - Ex)  + (-By - Ey)  + (-Bz - Ez) "
      ]
     },
     "metadata": {},
     "output_type": "display_data"
    },
    {
     "data": {
      "image/png": "[encoded data removed]",
      "text/latex": [
       "$\\displaystyle 0$"
      ],
      "text/plain": [
       "0"
      ]
     },
     "metadata": {},
     "output_type": "display_data"
    },
    {
     "data": {
      "image/png": "[encoded data removed]",
      "text/latex": [
       "$\\displaystyle 0$"
      ],
      "text/plain": [
       "0"
      ]
     },
     "metadata": {},
     "output_type": "display_data"
    },
    {
     "data": {
      "image/png": "[encoded data removed]",
      "text/latex": [
       "$\\displaystyle 0$"
      ],
      "text/plain": [
       "0"
      ]
     },
     "metadata": {},
     "output_type": "display_data"
    }
   ],
   "source": [
    "gauge_free_EM_norm = norm_squared(gauge_free_EM)\n",
    "gauge_free_ME_norm = norm_squared(gauge_free_ME)\n",
    "gauge_free_EM_norm.subs(fields).display(\"||D_EM||²\")\n",
    "gauge_free_ME_norm.subs(fields).display(\"||D_ME||²\")"
   ]
  },
  {
   "cell_type": "code",
   "execution_count": 20,
   "metadata": {},
   "outputs": [
    {
     "name": "stdout",
     "output_type": "stream",
     "text": [
      "diff of norms\n"
     ]
    },
    {
     "data": {
      "image/png": "[encoded data removed]",
      "text/latex": [
       "$\\displaystyle - 4 \\frac{d}{d t} Ax \\frac{d}{d z} Ay + 4 \\frac{d}{d t} Ax \\frac{d}{d y} Az - 4 \\frac{d}{d y} Ax \\frac{d}{d t} Az - 4 \\frac{d}{d y} Ax \\frac{d}{d z} φ + 4 \\frac{d}{d z} Ax \\frac{d}{d t} Ay + 4 \\frac{d}{d z} Ax \\frac{d}{d y} φ - 4 \\frac{d}{d t} Ay \\frac{d}{d x} Az + 4 \\frac{d}{d x} Ay \\frac{d}{d t} Az + 4 \\frac{d}{d x} Ay \\frac{d}{d z} φ - 4 \\frac{d}{d z} Ay \\frac{d}{d x} φ - 4 \\frac{d}{d x} Az \\frac{d}{d y} φ + 4 \\frac{d}{d y} Az \\frac{d}{d x} φ$"
      ],
      "text/plain": [
       "    d      d          d      d          d      d          d      d         d  \n",
       "- 4⋅──(Ax)⋅──(Ay) + 4⋅──(Ax)⋅──(Az) - 4⋅──(Ax)⋅──(Az) - 4⋅──(Ax)⋅──(φ) + 4⋅──(\n",
       "    dt     dz         dt     dy         dy     dt         dy     dz        dz \n",
       "\n",
       "    d          d      d         d      d          d      d          d      d  \n",
       "Ax)⋅──(Ay) + 4⋅──(Ax)⋅──(φ) - 4⋅──(Ay)⋅──(Az) + 4⋅──(Ay)⋅──(Az) + 4⋅──(Ay)⋅──(\n",
       "    dt         dz     dy        dt     dx         dx     dt         dx     dz \n",
       "\n",
       "       d      d         d      d         d      d    \n",
       "φ) - 4⋅──(Ay)⋅──(φ) - 4⋅──(Az)⋅──(φ) + 4⋅──(Az)⋅──(φ)\n",
       "       dz     dx        dx     dy        dy     dx   "
      ]
     },
     "metadata": {},
     "output_type": "display_data"
    },
    {
     "data": {
      "image/png": "[encoded data removed]",
      "text/latex": [
       "$\\displaystyle 0$"
      ],
      "text/plain": [
       "0"
      ]
     },
     "metadata": {},
     "output_type": "display_data"
    },
    {
     "data": {
      "image/png": "[encoded data removed]",
      "text/latex": [
       "$\\displaystyle 0$"
      ],
      "text/plain": [
       "0"
      ]
     },
     "metadata": {},
     "output_type": "display_data"
    },
    {
     "data": {
      "image/png": "[encoded data removed]",
      "text/latex": [
       "$\\displaystyle 0$"
      ],
      "text/plain": [
       "0"
      ]
     },
     "metadata": {},
     "output_type": "display_data"
    }
   ],
   "source": [
    "norm_dif = dif(gauge_free_EM_norm, gauge_free_ME_norm)\n",
    "norm_dif.subs(simpler).expand().display(\"diff of norms\")"
   ]
  },
  {
   "cell_type": "code",
   "execution_count": 21,
   "metadata": {},
   "outputs": [
    {
     "data": {
      "image/png": "[encoded data removed]",
      "text/latex": [
       "$\\displaystyle - 4 \\left(- \\frac{\\partial^{2}}{\\partial z\\partial y} \\operatorname{Ax}{\\left(t,x,y,z \\right)} + \\frac{\\partial^{2}}{\\partial z\\partial x} \\operatorname{Ay}{\\left(t,x,y,z \\right)}\\right) - 4 \\left(\\frac{\\partial^{2}}{\\partial z\\partial y} \\operatorname{Ax}{\\left(t,x,y,z \\right)} - \\frac{\\partial^{2}}{\\partial y\\partial x} \\operatorname{Az}{\\left(t,x,y,z \\right)}\\right) - 4 \\left(- \\frac{\\partial^{2}}{\\partial z\\partial x} \\operatorname{Ay}{\\left(t,x,y,z \\right)} + \\frac{\\partial^{2}}{\\partial y\\partial x} \\operatorname{Az}{\\left(t,x,y,z \\right)}\\right) = 0$"
      ],
      "text/plain": [
       "    ⎛     2                       2                 ⎞     ⎛   2               \n",
       "    ⎜    ∂                       ∂                  ⎟     ⎜  ∂                \n",
       "- 4⋅⎜- ─────(Ax(t, x, y, z)) + ─────(Ay(t, x, y, z))⎟ - 4⋅⎜─────(Ax(t, x, y, z\n",
       "    ⎝  ∂z ∂y                   ∂z ∂x                ⎠     ⎝∂z ∂y              \n",
       "\n",
       "        2                 ⎞     ⎛     2                       2               \n",
       "       ∂                  ⎟     ⎜    ∂                       ∂                \n",
       ")) - ─────(Az(t, x, y, z))⎟ - 4⋅⎜- ─────(Ay(t, x, y, z)) + ─────(Az(t, x, y, z\n",
       "     ∂y ∂x                ⎠     ⎝  ∂z ∂x                   ∂y ∂x              \n",
       "\n",
       "  ⎞    \n",
       "  ⎟    \n",
       "))⎟ = 0\n",
       "  ⎠    "
      ]
     },
     "metadata": {},
     "output_type": "display_data"
    },
    {
     "data": {
      "image/png": "[encoded data removed]",
      "text/latex": [
       "$\\displaystyle 0$"
      ],
      "text/plain": [
       "0"
      ]
     },
     "execution_count": 21,
     "metadata": {},
     "output_type": "execute_result"
    }
   ],
   "source": [
    "norm_dif_t = euler_equations(norm_dif.t, φ(t, x, y, z), [t, x, y, z])[0]\n",
    "display(norm_dif_t)\n",
    "norm_dif_t.lhs.subs(simpler)"
   ]
  },
  {
   "cell_type": "markdown",
   "metadata": {},
   "source": [
    "Here again, sympy is not \"figuring it all out.\" By grabbing the left-hand side (lhs), the substitutions lead to a zero. Starting at the first term, one should be able to spot the vector identity: $\\nabla \\cdot (\\nabla \\times A) = 0$. This is just a different path to the no magnetic monopoles law.\n",
    "\n",
    "Use the code that generated the Maxwell source equations to do the same for the homogeneous equations:"
   ]
  },
  {
   "cell_type": "code",
   "execution_count": 26,
   "metadata": {},
   "outputs": [
    {
     "data": {
      "image/png": "[encoded data removed]",
      "text/latex": [
       "$\\displaystyle - 4 \\left(- \\frac{\\partial^{2}}{\\partial z\\partial y} \\operatorname{Ax}{\\left(t,x,y,z \\right)} + \\frac{\\partial^{2}}{\\partial z\\partial x} \\operatorname{Ay}{\\left(t,x,y,z \\right)}\\right) - 4 \\left(\\frac{\\partial^{2}}{\\partial z\\partial y} \\operatorname{Ax}{\\left(t,x,y,z \\right)} - \\frac{\\partial^{2}}{\\partial y\\partial x} \\operatorname{Az}{\\left(t,x,y,z \\right)}\\right) - 4 \\left(- \\frac{\\partial^{2}}{\\partial z\\partial x} \\operatorname{Ay}{\\left(t,x,y,z \\right)} + \\frac{\\partial^{2}}{\\partial y\\partial x} \\operatorname{Az}{\\left(t,x,y,z \\right)}\\right) = 0$"
      ],
      "text/plain": [
       "    ⎛     2                       2                 ⎞     ⎛   2               \n",
       "    ⎜    ∂                       ∂                  ⎟     ⎜  ∂                \n",
       "- 4⋅⎜- ─────(Ax(t, x, y, z)) + ─────(Ay(t, x, y, z))⎟ - 4⋅⎜─────(Ax(t, x, y, z\n",
       "    ⎝  ∂z ∂y                   ∂z ∂x                ⎠     ⎝∂z ∂y              \n",
       "\n",
       "        2                 ⎞     ⎛     2                       2               \n",
       "       ∂                  ⎟     ⎜    ∂                       ∂                \n",
       ")) - ─────(Az(t, x, y, z))⎟ - 4⋅⎜- ─────(Ay(t, x, y, z)) + ─────(Az(t, x, y, z\n",
       "     ∂y ∂x                ⎠     ⎝  ∂z ∂x                   ∂y ∂x              \n",
       "\n",
       "  ⎞    \n",
       "  ⎟    \n",
       "))⎟ = 0\n",
       "  ⎠    "
      ]
     },
     "metadata": {},
     "output_type": "display_data"
    },
    {
     "name": "stdout",
     "output_type": "stream",
     "text": [
      "0\n"
     ]
    },
    {
     "data": {
      "image/png": "[encoded data removed]",
      "text/latex": [
       "$\\displaystyle - 4 \\left(- \\frac{\\partial^{2}}{\\partial z\\partial t} \\operatorname{Ay}{\\left(t,x,y,z \\right)} + \\frac{\\partial^{2}}{\\partial y\\partial t} \\operatorname{Az}{\\left(t,x,y,z \\right)}\\right) - 4 \\left(\\frac{\\partial^{2}}{\\partial z\\partial t} \\operatorname{Ay}{\\left(t,x,y,z \\right)} + \\frac{\\partial^{2}}{\\partial z\\partial y} φ{\\left(t,x,y,z \\right)}\\right) + 4 \\left(\\frac{\\partial^{2}}{\\partial y\\partial t} \\operatorname{Az}{\\left(t,x,y,z \\right)} + \\frac{\\partial^{2}}{\\partial z\\partial y} φ{\\left(t,x,y,z \\right)}\\right) = 0$"
      ],
      "text/plain": [
       "    ⎛     2                       2                 ⎞     ⎛   2               \n",
       "    ⎜    ∂                       ∂                  ⎟     ⎜  ∂                \n",
       "- 4⋅⎜- ─────(Ay(t, x, y, z)) + ─────(Az(t, x, y, z))⎟ - 4⋅⎜─────(Ay(t, x, y, z\n",
       "    ⎝  ∂z ∂t                   ∂y ∂t                ⎠     ⎝∂z ∂t              \n",
       "\n",
       "        2                ⎞     ⎛   2                       2                ⎞ \n",
       "       ∂                 ⎟     ⎜  ∂                       ∂                 ⎟ \n",
       ")) + ─────(φ(t, x, y, z))⎟ + 4⋅⎜─────(Az(t, x, y, z)) + ─────(φ(t, x, y, z))⎟ \n",
       "     ∂z ∂y               ⎠     ⎝∂y ∂t                   ∂z ∂y               ⎠ \n",
       "\n",
       "   \n",
       "   \n",
       "= 0\n",
       "   "
      ]
     },
     "metadata": {},
     "output_type": "display_data"
    },
    {
     "name": "stdout",
     "output_type": "stream",
     "text": [
      "0\n"
     ]
    },
    {
     "data": {
      "image/png": "[encoded data removed]",
      "text/latex": [
       "$\\displaystyle - 4 \\left(\\frac{\\partial^{2}}{\\partial z\\partial t} \\operatorname{Ax}{\\left(t,x,y,z \\right)} - \\frac{\\partial^{2}}{\\partial x\\partial t} \\operatorname{Az}{\\left(t,x,y,z \\right)}\\right) + 4 \\left(\\frac{\\partial^{2}}{\\partial z\\partial t} \\operatorname{Ax}{\\left(t,x,y,z \\right)} + \\frac{\\partial^{2}}{\\partial z\\partial x} φ{\\left(t,x,y,z \\right)}\\right) - 4 \\left(\\frac{\\partial^{2}}{\\partial x\\partial t} \\operatorname{Az}{\\left(t,x,y,z \\right)} + \\frac{\\partial^{2}}{\\partial z\\partial x} φ{\\left(t,x,y,z \\right)}\\right) = 0$"
      ],
      "text/plain": [
       "    ⎛   2                       2                 ⎞     ⎛   2                 \n",
       "    ⎜  ∂                       ∂                  ⎟     ⎜  ∂                  \n",
       "- 4⋅⎜─────(Ax(t, x, y, z)) - ─────(Az(t, x, y, z))⎟ + 4⋅⎜─────(Ax(t, x, y, z))\n",
       "    ⎝∂z ∂t                   ∂x ∂t                ⎠     ⎝∂z ∂t                \n",
       "\n",
       "      2                ⎞     ⎛   2                       2                ⎞   \n",
       "     ∂                 ⎟     ⎜  ∂                       ∂                 ⎟   \n",
       " + ─────(φ(t, x, y, z))⎟ - 4⋅⎜─────(Az(t, x, y, z)) + ─────(φ(t, x, y, z))⎟ = \n",
       "   ∂z ∂x               ⎠     ⎝∂x ∂t                   ∂z ∂x               ⎠   \n",
       "\n",
       " \n",
       " \n",
       "0\n",
       " "
      ]
     },
     "metadata": {},
     "output_type": "display_data"
    },
    {
     "name": "stdout",
     "output_type": "stream",
     "text": [
      "0\n"
     ]
    },
    {
     "data": {
      "image/png": "[encoded data removed]",
      "text/latex": [
       "$\\displaystyle - 4 \\left(- \\frac{\\partial^{2}}{\\partial y\\partial t} \\operatorname{Ax}{\\left(t,x,y,z \\right)} + \\frac{\\partial^{2}}{\\partial x\\partial t} \\operatorname{Ay}{\\left(t,x,y,z \\right)}\\right) - 4 \\left(\\frac{\\partial^{2}}{\\partial y\\partial t} \\operatorname{Ax}{\\left(t,x,y,z \\right)} + \\frac{\\partial^{2}}{\\partial y\\partial x} φ{\\left(t,x,y,z \\right)}\\right) + 4 \\left(\\frac{\\partial^{2}}{\\partial x\\partial t} \\operatorname{Ay}{\\left(t,x,y,z \\right)} + \\frac{\\partial^{2}}{\\partial y\\partial x} φ{\\left(t,x,y,z \\right)}\\right) = 0$"
      ],
      "text/plain": [
       "    ⎛     2                       2                 ⎞     ⎛   2               \n",
       "    ⎜    ∂                       ∂                  ⎟     ⎜  ∂                \n",
       "- 4⋅⎜- ─────(Ax(t, x, y, z)) + ─────(Ay(t, x, y, z))⎟ - 4⋅⎜─────(Ax(t, x, y, z\n",
       "    ⎝  ∂y ∂t                   ∂x ∂t                ⎠     ⎝∂y ∂t              \n",
       "\n",
       "        2                ⎞     ⎛   2                       2                ⎞ \n",
       "       ∂                 ⎟     ⎜  ∂                       ∂                 ⎟ \n",
       ")) + ─────(φ(t, x, y, z))⎟ + 4⋅⎜─────(Ay(t, x, y, z)) + ─────(φ(t, x, y, z))⎟ \n",
       "     ∂y ∂x               ⎠     ⎝∂x ∂t                   ∂y ∂x               ⎠ \n",
       "\n",
       "   \n",
       "   \n",
       "= 0\n",
       "   "
      ]
     },
     "metadata": {},
     "output_type": "display_data"
    },
    {
     "name": "stdout",
     "output_type": "stream",
     "text": [
      "0\n"
     ]
    }
   ],
   "source": [
    "for p in p4:\n",
    "    homogeneous = euler_equations(\n",
    "                    dif(norm_squared(vector_q(Dq(EM_potential, [t, x, y, z], reverse=False))),\n",
    "                        norm_squared(vector_q(Dq(EM_potential, [t, x, y, z], reverse=True)))).t, p)[0]\n",
    "    display(homogeneous)\n",
    "    print(homogeneous.lhs.subs(simpler))"
   ]
  },
  {
   "cell_type": "markdown",
   "metadata": {},
   "source": [
    "It will require considerable effort to spot Faraday's law:\n",
    "\n",
    "$$\\frac{\\partial B}{\\partial t} + \\vec{\\nabla} \\times \\vec{E} = \\vec{0}$$\n",
    "\n",
    "It is easier to see that all the terms do cancel. I like that the all the homogeneous equations are generated together.\n",
    "\n",
    "$$(\\nabla \\cdot B, \\frac{\\partial B}{\\partial t} + \\vec{\\nabla} \\times \\vec{E}) = (0,\\vec{0})$$\n"
   ]
  },
  {
   "cell_type": "markdown",
   "metadata": {},
   "source": [
    "## Takeaway\n",
    "\n",
    "Every approach to deriving the Maxwell equations I have seen uses the anti-symmetric rank-2 field strength tensor $F^{\\mu\\nu}$ which neatly puts electric and magnetic fields in their six separate places. This notebook provides an alternative.\n",
    "\n",
    "What is electromagnetism? It starts from a space-time potential, every single possible way of making something in EM happen. Make available every possible variation in those potentials by taking all possible space-time derivatives. It is the completeness of both the potential and changes in the potential that feels satisfying. Restrict the investigation to only those where the scalar field is zero. I wish I could say more about that specific step, but for now I just acknowledge the choice gets made. It is required to use both a derivative on the left of the potential and the derivative operator on the right. There is a coupling between the potential and a current density. To these terms one applies the Euler-Lagrange equations, a way of finding functions that are at extremums. That is the way to generate the Maxwell source equations, Gauss's law and Ampere's law together.\n",
    "\n",
    "The way to generate the homogeneous Maxwell equations follows the same approach. Start this time with something that must always be zero: the difference between the norm squared of the fields with the derivative on the left and the norm squared with the derivative on the right. The result of that algebra is the dot product of the electric and magnetic wave. For a free traveling EM wave, those fields are at 90 degrees to each other so the dot product is zero. It is not a well-known result, but putting the dot product of these two fields into the Euler-Lagrange equations results in the no magnetic monopoles law and Faraday's law."
   ]
  },
  {
   "cell_type": "code",
   "execution_count": null,
   "metadata": {},
   "outputs": [],
   "source": []
  }
 ],
 "metadata": {
  "kernelspec": {
   "display_name": "Python 3",
   "language": "python",
   "name": "python3"
  },
  "language_info": {
   "codemirror_mode": {
    "name": "ipython",
    "version": 3
   },
   "file_extension": ".py",
   "mimetype": "text/x-python",
   "name": "python",
   "nbconvert_exporter": "python",
   "pygments_lexer": "ipython3",
   "version": "3.8.8"
  }
 },
 "nbformat": 4,
 "nbformat_minor": 4
}
