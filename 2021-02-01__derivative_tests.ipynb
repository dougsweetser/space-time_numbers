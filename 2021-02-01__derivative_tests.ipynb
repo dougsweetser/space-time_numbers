{
 "cells": [
  {
   "cell_type": "markdown",
   "metadata": {},
   "source": [
    "# Testing the Space-time Derivative Operator"
   ]
  },
  {
   "cell_type": "markdown",
   "metadata": {},
   "source": [
    "Apply a space-time derivative operator to a space-time function:\n",
    "\n",
    "$$\\left(\\frac{\\partial}{\\partial t}, \\vec{\\nabla}\\right)(f, \\vec{F}) = \\left(\\frac{\\partial f}{\\partial t} - \\nabla \\cdot F, \\frac{\\partial \\vec{F}}{\\partial t} + \\vec{\\nabla} f + \\vec{\\nabla} \\times \\vec{F}\\right) \\;.$$\n",
    "\n",
    "There are 16 terms in all. A function will be created that does just that. The goal is to assure the created function is consistent with what happens in complex analysis.\n",
    "\n",
    "Load the libraries."
   ]
  },
  {
   "cell_type": "code",
   "execution_count": 1,
   "metadata": {},
   "outputs": [],
   "source": [
    "%%capture\n",
    "%matplotlib inline\n",
    "import numpy as np\n",
    "import sympy as sp\n",
    "import matplotlib.pyplot as plt\n",
    "import math\n",
    "import unittest\n",
    "\n",
    "# To get equations the look like, well, equations, use the following.\n",
    "from sympy.interactive import printing\n",
    "printing.init_printing(use_latex=True)\n",
    "from IPython.display import display\n",
    "\n",
    "# Tools for manipulating quaternions.\n",
    "from Qs import *\n",
    "\n",
    "from IPython.core.display import display, HTML, Math, Latex\n",
    "display(HTML(\"<style>.container { width:100% !important; }</style>\"))"
   ]
  },
  {
   "cell_type": "markdown",
   "metadata": {},
   "source": [
    "To derive the Maxwell equations, one needs to work with conjugates of the differential operator. One also needs to be able to write the differential operator on the right as well as the left, which flips the signs of the terms involved with the cross product. The function $\\rm{Dq}()$ should be able to do this."
   ]
  },
  {
   "cell_type": "code",
   "execution_count": 2,
   "metadata": {},
   "outputs": [],
   "source": [
    "def Dq(q_1: Q, vars: List[sp.Symbol], these_vars: List[sp.Symbol] = None, conj: bool = False, conj_type: int=0, reverse: bool=False) -> Q:\n",
    "    \"\"\"\n",
    "    Calculate the quaternion derivative composed of 16 terms. The conjugation applies to the differential operator. The reverse flag will flip the cross product terms.\n",
    "    \n",
    "    Args:\n",
    "        q_1         A symbolic expression that returns a space-time number expression.\n",
    "        vars        A complete list of what 4 symbols are being used.\n",
    "        these_vars  An optional (possibly shorter) list of symbols to use to take a derivative.\n",
    "        conj        If one wants to take a conjugate of the differential operator, set this option.\n",
    "        conj_type   An integer for which term is positive, 0 the default for the standard conjugate.\n",
    "                    The first, second, and third conjugates flip the other three, keeping the first, \n",
    "                    second, and third term positive\n",
    "        \n",
    "    Return:\n",
    "        Q     The space-time derivative\n",
    "    \"\"\"\n",
    "    \n",
    "    end_q_type = f\"D{q_1.q_type}\"\n",
    "    \n",
    "    # Check for errors.\n",
    "    if len(vars) != 4:\n",
    "        print(\"Oops: needs to be given 4 symbols. Try again.\")\n",
    "        return q0()\n",
    "    \n",
    "    if not q_1.is_symbolic():\n",
    "        print(\"Oops, the function needs to be symbolic.\")\n",
    "        return q0()\n",
    "        \n",
    "    if these_vars is None:\n",
    "        these_vars = vars\n",
    "        \n",
    "    # Use the_D_signs to apply different conjugates to the differential operator D.\n",
    "    D_signs = [1, 1, 1, 1]\n",
    "    \n",
    "    if conj:\n",
    "        if conj_type == 0:\n",
    "            D_signs = [1, -1, -1, -1]\n",
    "        if conj_type == 1:\n",
    "            D_signs = [-1, 1, -1, -1]\n",
    "        if conj_type == 2:\n",
    "            D_signs = [-1, -1, 1, -1]\n",
    "        if conj_type == 3:\n",
    "            D_signs = [-1, -1, -1, 1]\n",
    "    \n",
    "    the_16 = []\n",
    "    \n",
    "    for sign, var in enumerate(vars):\n",
    "        if var in these_vars:\n",
    "            the_16.append(sp.diff(D_signs[sign] * q_1.t, var))\n",
    "            the_16.append(sp.diff(D_signs[sign] * q_1.x, var))\n",
    "            the_16.append(sp.diff(D_signs[sign] * q_1.y, var))\n",
    "            the_16.append(sp.diff(D_signs[sign] * q_1.z, var))\n",
    "            \n",
    "        else:\n",
    "            for _ in range(4):\n",
    "                the_16.append(0)\n",
    "\n",
    "    flip = -1 if reverse else 1\n",
    "\n",
    "    first_term =  the_16[0] - (the_16[5] + the_16[10] + the_16[15])\n",
    "    second_term = the_16[1] + the_16[4] + flip * the_16[14] - flip * the_16[11]\n",
    "    third_term =  the_16[2] + the_16[8] + flip * the_16[13] - flip * the_16[7]\n",
    "    forth_term =  the_16[3] + the_16[12] + flip * the_16[6] - flip * the_16[9]\n",
    "    \n",
    "    return Q([first_term.simplify(), second_term.simplify(), third_term.simplify(), forth_term.simplify()], q_type=end_q_type)"
   ]
  },
  {
   "cell_type": "markdown",
   "metadata": {},
   "source": [
    "Test that the function works on a complex-valued square funciton:"
   ]
  },
  {
   "cell_type": "code",
   "execution_count": 3,
   "metadata": {},
   "outputs": [
    {
     "name": "stdout",
     "output_type": "stream",
     "text": [
      "q_tx²\n",
      "(t**2 - x**2, 2*t*x, 0, 0) \n",
      "\n",
      "\n",
      "D_tx²_dt\n",
      "(2*t, 2*x, 0, 0) \n",
      "\n",
      "D_tx²_dx\n",
      "(-2*t, -2*x, 0, 0) \n",
      "\n",
      "D_tx²_dtdx\n",
      "(0, 0, 0, 0) \n",
      "\n"
     ]
    }
   ],
   "source": [
    "t, x, y, z = sp.symbols(\"t x y z\")\n",
    "q_tx = Q([t, x, 0, 0])\n",
    "q_tx_2 = product(q_tx, q_tx)\n",
    "q_tx_2.print_state(\"q_tx²\")\n",
    "print()\n",
    "D_tx_2_dt = Dq(q_tx_2, [t, x, y, z], [t])\n",
    "D_tx_2_dt.print_state(\"D_tx²_dt\")\n",
    "D_tx_2_dx = Dq(q_tx_2, [t, x, y, z], [x])\n",
    "D_tx_2_dx.print_state(\"D_tx²_dx\")\n",
    "D_tx_2_dtdx = Dq(q_tx_2, [t, x, y, z], [t, x])\n",
    "D_tx_2_dtdx.print_state(\"D_tx²_dtdx\")\n"
   ]
  },
  {
   "cell_type": "markdown",
   "metadata": {},
   "source": [
    "Why is the derivative equal to zero? The square of a complex number is an analytic function in $z$. The space-time number derivative implements the Cauchy-Reimann equations:\n",
    "\n",
    "$$(f, F_x) = (t^2 - x^2, 2 t x)$$\n",
    "\n",
    "$$\\frac{\\partial f}{\\partial t} -\\frac{\\partial F_x}{\\partial x} = 0$$\n",
    "\n",
    "$$\\frac{\\partial F_x}{\\partial t} + \\frac{\\partial f}{\\partial x} = 0$$\n",
    "\n",
    "For this particular choice of function, the answer should be zero as it is.\n",
    "\n",
    "What space-time numbers do is introduce 2 more imaginaries and no more scalars. This process necessarily adds some kinds of complications that need to be understood. See what happens if one takes the very same function, but makes it depend on two spatial dimensions."
   ]
  },
  {
   "cell_type": "code",
   "execution_count": 4,
   "metadata": {},
   "outputs": [
    {
     "name": "stdout",
     "output_type": "stream",
     "text": [
      "q_txy²\n",
      "(t**2 - x**2 - y**2, 2*t*x, 2*t*y, 0) \n",
      "\n",
      "D_txy²_dt\n",
      "(2*t, 2*x, 2*y, 0) \n",
      "\n",
      "D_txy²_dx\n",
      "(-2*t, -2*x, 0, 0) \n",
      "\n",
      "D_txy²_dy\n",
      "(-2*t, 0, -2*y, 0) \n",
      "\n",
      "D_txy²_dtdx\n",
      "(-2*t, 0, 0, 0) \n",
      "\n"
     ]
    }
   ],
   "source": [
    "q_txy = Q([t, x, y, 0])\n",
    "q_txy_2 = product(q_txy, q_txy)\n",
    "q_txy_2.print_state(\"q_txy²\")\n",
    "D_txy_2_dt = Dq(q_txy_2, [t, x, y, z], [t])\n",
    "D_txy_2_dt.print_state(\"D_txy²_dt\")\n",
    "D_txy_2_dx = Dq(q_txy_2, [t, x, y, z], [x])\n",
    "D_txy_2_dx.print_state(\"D_txy²_dx\")\n",
    "D_txy_2_dx = Dq(q_txy_2, [t, x, y, z], [y])\n",
    "D_txy_2_dx.print_state(\"D_txy²_dy\")\n",
    "D_txy_2_dtdxdy = Dq(q_txy_2, [t, x, y, z], [t, x, y])\n",
    "D_txy_2_dtdxdy.print_state(\"D_txy²_dtdx\")"
   ]
  },
  {
   "cell_type": "markdown",
   "metadata": {},
   "source": [
    "What happens here is that the exact same scalar is subtracted twice, the $-2 t$ for the two imaginaries. The function goes from divergence-free to one with a divergence. There still is no curl terms because the differential operator points in the same direction as the function.\n",
    "\n",
    "Why the difference for these space-time number functions? We need to think in terms of events in space-time, so it must be _animations_. The function $(t, x, 0, 0)^2$ can at most be a line moving about one dimension in space. How it moves of course will depend on what values of $t$ and $x$ going into it. For the function $(t, x, y, 0)^2$, that has at most an area moving around.\n",
    "\n",
    "Recall, the derivative does not live in this base space of space-space time. The act of working with differential - subtracting two things - removes the role of the origin, putting the transformed information in a affine or tangent space. It provides information about how the base space is changing.\n",
    "\n",
    "What convinced me there was no simple algebraic fix was looking at a cubic function:"
   ]
  },
  {
   "cell_type": "code",
   "execution_count": 5,
   "metadata": {},
   "outputs": [
    {
     "name": "stdout",
     "output_type": "stream",
     "text": [
      "q_txyz³\n",
      "(-2*t*x**2 - 2*t*y**2 - 2*t*z**2 + t*(t**2 - x**2 - y**2 - z**2), 2*t**2*x + x*(t**2 - x**2 - y**2 - z**2), 2*t**2*y + y*(t**2 - x**2 - y**2 - z**2), 2*t**2*z + z*(t**2 - x**2 - y**2 - z**2)) \n",
      "\n",
      "D_txyz³_dt\n",
      "(3*t**2 - 3*x**2 - 3*y**2 - 3*z**2, 6*t*x, 6*t*y, 6*t*z) \n",
      "\n",
      "D_txyz³_dx\n",
      "(-3*t**2 + 3*x**2 + y**2 + z**2, -6*t*x, 2*x*z, -2*x*y) \n",
      "\n",
      "D_txyz³_dy\n",
      "(-3*t**2 + x**2 + 3*y**2 + z**2, 2*y*z, -6*t*y, 2*x*y) \n",
      "\n",
      "D_txyz³_dz\n",
      "(-3*t**2 + x**2 + y**2 + 3*z**2, -2*y*z, -2*x*z, -6*t*z) \n",
      "\n",
      "D_txyx³_dtdxdydz\n",
      "(-6*t**2 + 2*x**2 + 2*y**2 + 2*z**2, 0, 0, 0) \n",
      "\n"
     ]
    }
   ],
   "source": [
    "q_txyz = Q([t, x, y, z])\n",
    "q_txyz_3 = product(product(q_txyz, q_txyz), q_txyz)\n",
    "q_txyz_3.print_state(\"q_txyz³\")\n",
    "D_txyz_3_dt = Dq(q_txyz_3, [t, x, y, z], [t])\n",
    "D_txyz_3_dt.print_state(\"D_txyz³_dt\")\n",
    "D_txyz_3_dx = Dq(q_txyz_3, [t, x, y, z], [x])\n",
    "D_txyz_3_dx.print_state(\"D_txyz³_dx\")\n",
    "D_txyz_3_dy = Dq(q_txyz_3, [t, x, y, z], [y])\n",
    "D_txyz_3_dy.print_state(\"D_txyz³_dy\")\n",
    "D_txyz_3_dz = Dq(q_txyz_3, [t, x, y, z], [z])\n",
    "D_txyz_3_dz.print_state(\"D_txyz³_dz\")\n",
    "D_txyz_3_dtdxdydz = Dq(q_txyz_3, [t, x, y, z])\n",
    "D_txyz_3_dtdxdydz.print_state(\"D_txyx³_dtdxdydz\")"
   ]
  },
  {
   "cell_type": "markdown",
   "metadata": {},
   "source": [
    "Now there are mixed terms, various products of $x$, $y$, and $z$. Cubic functions remain analytic for _complex_ values:"
   ]
  },
  {
   "cell_type": "code",
   "execution_count": 6,
   "metadata": {},
   "outputs": [
    {
     "name": "stdout",
     "output_type": "stream",
     "text": [
      "q_tx³\n"
     ]
    },
    {
     "data": {
      "image/png": "[encoded data removed]",
      "text/latex": [
       "$\\displaystyle - 2 t x^{2} + t \\left(t^{2} - x^{2}\\right)$"
      ],
      "text/plain": [
       "       2     ⎛ 2    2⎞\n",
       "- 2⋅t⋅x  + t⋅⎝t  - x ⎠"
      ]
     },
     "metadata": {},
     "output_type": "display_data"
    },
    {
     "data": {
      "image/png": "[encoded data removed]",
      "text/latex": [
       "$\\displaystyle 2 t^{2} x + x \\left(t^{2} - x^{2}\\right)$"
      ],
      "text/plain": [
       "   2       ⎛ 2    2⎞\n",
       "2⋅t ⋅x + x⋅⎝t  - x ⎠"
      ]
     },
     "metadata": {},
     "output_type": "display_data"
    },
    {
     "data": {
      "image/png": "[encoded data removed]",
      "text/latex": [
       "$\\displaystyle 0$"
      ],
      "text/plain": [
       "0"
      ]
     },
     "metadata": {},
     "output_type": "display_data"
    },
    {
     "data": {
      "image/png": "[encoded data removed]",
      "text/latex": [
       "$\\displaystyle 0$"
      ],
      "text/plain": [
       "0"
      ]
     },
     "metadata": {},
     "output_type": "display_data"
    },
    {
     "name": "stdout",
     "output_type": "stream",
     "text": [
      "D_txyz³_dt\n"
     ]
    },
    {
     "data": {
      "image/png": "[encoded data removed]",
      "text/latex": [
       "$\\displaystyle 3 t^{2} - 3 x^{2}$"
      ],
      "text/plain": [
       "   2      2\n",
       "3⋅t  - 3⋅x "
      ]
     },
     "metadata": {},
     "output_type": "display_data"
    },
    {
     "data": {
      "image/png": "[encoded data removed]",
      "text/latex": [
       "$\\displaystyle 6 t x$"
      ],
      "text/plain": [
       "6⋅t⋅x"
      ]
     },
     "metadata": {},
     "output_type": "display_data"
    },
    {
     "data": {
      "image/png": "[encoded data removed]",
      "text/latex": [
       "$\\displaystyle 0$"
      ],
      "text/plain": [
       "0"
      ]
     },
     "metadata": {},
     "output_type": "display_data"
    },
    {
     "data": {
      "image/png": "[encoded data removed]",
      "text/latex": [
       "$\\displaystyle 0$"
      ],
      "text/plain": [
       "0"
      ]
     },
     "metadata": {},
     "output_type": "display_data"
    },
    {
     "name": "stdout",
     "output_type": "stream",
     "text": [
      "D_txyz³_dx\n"
     ]
    },
    {
     "data": {
      "image/png": "[encoded data removed]",
      "text/latex": [
       "$\\displaystyle - 3 t^{2} + 3 x^{2}$"
      ],
      "text/plain": [
       "     2      2\n",
       "- 3⋅t  + 3⋅x "
      ]
     },
     "metadata": {},
     "output_type": "display_data"
    },
    {
     "data": {
      "image/png": "[encoded data removed]",
      "text/latex": [
       "$\\displaystyle - 6 t x$"
      ],
      "text/plain": [
       "-6⋅t⋅x"
      ]
     },
     "metadata": {},
     "output_type": "display_data"
    },
    {
     "data": {
      "image/png": "[encoded data removed]",
      "text/latex": [
       "$\\displaystyle 0$"
      ],
      "text/plain": [
       "0"
      ]
     },
     "metadata": {},
     "output_type": "display_data"
    },
    {
     "data": {
      "image/png": "[encoded data removed]",
      "text/latex": [
       "$\\displaystyle 0$"
      ],
      "text/plain": [
       "0"
      ]
     },
     "metadata": {},
     "output_type": "display_data"
    },
    {
     "name": "stdout",
     "output_type": "stream",
     "text": [
      "D_txyz³_dy\n",
      "(0, 0, 0, 0) \n",
      "\n",
      "D_tx³_dz\n",
      "(0, 0, 0, 0) \n",
      "\n",
      "D_tx³_dtdx\n",
      "(0, 0, 0, 0) \n",
      "\n"
     ]
    }
   ],
   "source": [
    "q_tx = Q([t, x, 0, 0])\n",
    "q_tx_3 = product(product(q_tx, q_tx), q_tx)\n",
    "q_tx_3.display_q(\"q_tx³\")\n",
    "D_tx_3_dt = Dq(q_tx_3, [t, x, y, z], [t])\n",
    "D_tx_3_dt.display_q(\"D_txyz³_dt\")\n",
    "D_tx_3_dx = Dq(q_tx_3, [t, x, y, z], [x])\n",
    "D_tx_3_dx.display_q(\"D_txyz³_dx\")\n",
    "D_tx_3_dy = Dq(q_tx_3, [t, x, y, z], [y])\n",
    "D_tx_3_dy.print_state(\"D_txyz³_dy\")\n",
    "D_tx_3_dz = Dq(q_tx_3, [t, x, y, z], [z])\n",
    "D_tx_3_dz.print_state(\"D_tx³_dz\")\n",
    "D_tx_3_dtdx = Dq(q_tx_3, [t, x, y, z], [t, x])\n",
    "D_tx_3_dtdx.print_state(\"D_tx³_dtdx\")"
   ]
  },
  {
   "cell_type": "markdown",
   "metadata": {},
   "source": [
    "This remains a consistent theme: everything done in complex analysis is exactly mirrored with complex-valued space-time numbers. When more imaginaries are used, then the divergence of what are complex-valued analytic functions becomes non-zero. When the divergence is zero, one often says it is conservative, as in no energy is used for the pattern seen. Under that interpretation, a move from a complex analytic function to a full space-time number function involves the input or production of energy."
   ]
  },
  {
   "cell_type": "markdown",
   "metadata": {},
   "source": [
    "# Extend to a Space-time Number Series\n",
    "\n",
    "Make sure there is a function that can take many derivatives."
   ]
  },
  {
   "cell_type": "code",
   "execution_count": 7,
   "metadata": {},
   "outputs": [],
   "source": [
    "def Dqs(q_1: Qs, vars: List[sp.Symbol], these_vars: List[sp.Symbol] = None, conj: bool = False, conj_type: int=0, reverse: bool=False) -> Qs:\n",
    "    \"\"\"\n",
    "    Calculate the quaternion derivative composed of 16 terms. The conjugation applies to the differential operator. The reverse flag will flip the cross product terms.\n",
    "    \n",
    "    Args:\n",
    "        q_1         Symbolic expressions that returns a space-time number expression in a space-time number series.\n",
    "        vars        A complete list of what 4 symbols are being used.\n",
    "        these_vars  An optional (possibly shorter) list of symbols to use to take a derivative.\n",
    "        conj        If one wants to take a conjugate of the differential operator, set this option.\n",
    "        conj_type   An integer for which term is positive, 0 the default for the standard conjugate.\n",
    "                    The first, second, and third conjugates flip the other three, keeping the first, \n",
    "                    second, and third term positive\n",
    "        \n",
    "    Return:\n",
    "        Q     The space-time derivative\n",
    "    \"\"\"\n",
    "    \n",
    "    results = [Dq(q, vars, these_vars, conj, conj_type, reverse) for q in q_1.qs]\n",
    "    \n",
    "    return Qs(results, qs_type=q_1.qs_type, rows=q_1.rows, columns=q_1.columns)"
   ]
  },
  {
   "cell_type": "code",
   "execution_count": 8,
   "metadata": {},
   "outputs": [
    {
     "name": "stdout",
     "output_type": "stream",
     "text": [
      "derivatives of a quaternion series, square, cube\n",
      "n=1\n"
     ]
    },
    {
     "data": {
      "image/png": "[encoded data removed]",
      "text/latex": [
       "$\\displaystyle 0$"
      ],
      "text/plain": [
       "0"
      ]
     },
     "metadata": {},
     "output_type": "display_data"
    },
    {
     "data": {
      "image/png": "[encoded data removed]",
      "text/latex": [
       "$\\displaystyle 0$"
      ],
      "text/plain": [
       "0"
      ]
     },
     "metadata": {},
     "output_type": "display_data"
    },
    {
     "data": {
      "image/png": "[encoded data removed]",
      "text/latex": [
       "$\\displaystyle 0$"
      ],
      "text/plain": [
       "0"
      ]
     },
     "metadata": {},
     "output_type": "display_data"
    },
    {
     "data": {
      "image/png": "[encoded data removed]",
      "text/latex": [
       "$\\displaystyle 0$"
      ],
      "text/plain": [
       "0"
      ]
     },
     "metadata": {},
     "output_type": "display_data"
    },
    {
     "name": "stdout",
     "output_type": "stream",
     "text": [
      "\n",
      "n=2\n"
     ]
    },
    {
     "data": {
      "image/png": "[encoded data removed]",
      "text/latex": [
       "$\\displaystyle - 6 t^{2} + 2 x^{2} + 2 y^{2} + 2 z^{2}$"
      ],
      "text/plain": [
       "     2      2      2      2\n",
       "- 6⋅t  + 2⋅x  + 2⋅y  + 2⋅z "
      ]
     },
     "metadata": {},
     "output_type": "display_data"
    },
    {
     "data": {
      "image/png": "[encoded data removed]",
      "text/latex": [
       "$\\displaystyle 0$"
      ],
      "text/plain": [
       "0"
      ]
     },
     "metadata": {},
     "output_type": "display_data"
    },
    {
     "data": {
      "image/png": "[encoded data removed]",
      "text/latex": [
       "$\\displaystyle 0$"
      ],
      "text/plain": [
       "0"
      ]
     },
     "metadata": {},
     "output_type": "display_data"
    },
    {
     "data": {
      "image/png": "[encoded data removed]",
      "text/latex": [
       "$\\displaystyle 0$"
      ],
      "text/plain": [
       "0"
      ]
     },
     "metadata": {},
     "output_type": "display_data"
    },
    {
     "name": "stdout",
     "output_type": "stream",
     "text": [
      "\n"
     ]
    }
   ],
   "source": [
    "square_cube = Qs([q_tx_2, q_txyz_3])\n",
    "Dqs(square_cube, [t, x, y, z]).display_q(\"derivatives of a quaternion series, square, cube\")"
   ]
  },
  {
   "cell_type": "markdown",
   "metadata": {},
   "source": [
    "## Working with EM Potential Functions\n",
    "\n",
    "In EM, one needs to work with potential functions. This section shows how to do that. We have a very specific goal. The Lorentz invariant quantity:\n",
    "\n",
    "$$B^2 - E^2$$\n",
    "\n",
    "is put in the Euler-Lagrange equations, and the result is both Gauss's law and Ampere's law. In a standard derivation one does a contraction of two rank-2 anti-symmetric tensors:\n",
    "\n",
    "$$F^{\\mu \\nu} F_{\\mu \\nu} = B^2 - E^2$$\n",
    "\n",
    "The field strength tensor $F^{\\mu \\nu}$ is a complicated structure, with each of the 6 EM fields sitting in their own isolated room. If one were to show the first equation to anyone with high school algebra, they would think that should be the result of a simple product:\n",
    "\n",
    "$$B^2 - E^2 =?= (B + E)(B - E)$$\n",
    "\n",
    "With the space-time number approach, both the $E$ and $B$ fields necessarily have 4 terms, but the first one happens to be zero for both. As has been my pattern in this library, if I brake a universal convention to make something a \"space-time number\" in terms of its algebraic qualities, I will add a \\_q. Thus I work with $E\\_q$ and $B\\_q$.  The goal here is to get to:\n",
    "\n",
    "$$(0, B - E)(-B -E) = (B^2 - E^2, 2 E \\times B)$$\n",
    "\n",
    "The first thing to do is define functions for sympy to use and define the EM potential"
   ]
  },
  {
   "cell_type": "code",
   "execution_count": 9,
   "metadata": {},
   "outputs": [
    {
     "data": {
      "image/png": "[encoded data removed]",
      "text/latex": [
       "$\\displaystyle \\frac{\\partial}{\\partial t} φ{\\left(t,x,y,z \\right)}$"
      ],
      "text/plain": [
       "∂                \n",
       "──(φ(t, x, y, z))\n",
       "∂t               "
      ]
     },
     "execution_count": 9,
     "metadata": {},
     "output_type": "execute_result"
    }
   ],
   "source": [
    "φ, Ax, Ay, Az = sp.Function(\"φ\"), sp.Function(\"Ax\"), sp.Function(\"Ay\"), sp.Function(\"Az\")\n",
    "\n",
    "φ(t, x, y, z).diff(t)"
   ]
  },
  {
   "cell_type": "code",
   "execution_count": 10,
   "metadata": {},
   "outputs": [
    {
     "name": "stdout",
     "output_type": "stream",
     "text": [
      "EM potential\n",
      "(φ, Ax, Ay, Az) \n",
      "\n"
     ]
    }
   ],
   "source": [
    "EM_potential = Q([φ(t, x, y, z), Ax(t, x, y, z), Ay(t, x, y, z), Az(t, x, y, z)])\n",
    "simpler = {φ(t, x, y, z): \"φ\", Ax(t, x, y, z): \"Ax\", Ay(t, x, y, z): \"Ay\", Az(t, x, y, z): \"Az\"}\n",
    "EM_potential.subs(simpler).print_state(\"EM potential\")"
   ]
  },
  {
   "cell_type": "markdown",
   "metadata": {},
   "source": [
    "Take the space-time number derivative of the EM potential."
   ]
  },
  {
   "cell_type": "code",
   "execution_count": 11,
   "metadata": {},
   "outputs": [
    {
     "name": "stdout",
     "output_type": "stream",
     "text": [
      "D EM_potential\n"
     ]
    },
    {
     "data": {
      "image/png": "[encoded data removed]",
      "text/latex": [
       "$\\displaystyle - \\frac{\\partial}{\\partial x} \\operatorname{Ax}{\\left(t,x,y,z \\right)} - \\frac{\\partial}{\\partial y} \\operatorname{Ay}{\\left(t,x,y,z \\right)} - \\frac{\\partial}{\\partial z} \\operatorname{Az}{\\left(t,x,y,z \\right)} + \\frac{\\partial}{\\partial t} φ{\\left(t,x,y,z \\right)}$"
      ],
      "text/plain": [
       "  ∂                    ∂                    ∂                    ∂            \n",
       "- ──(Ax(t, x, y, z)) - ──(Ay(t, x, y, z)) - ──(Az(t, x, y, z)) + ──(φ(t, x, y,\n",
       "  ∂x                   ∂y                   ∂z                   ∂t           \n",
       "\n",
       "    \n",
       " z))\n",
       "    "
      ]
     },
     "metadata": {},
     "output_type": "display_data"
    },
    {
     "data": {
      "image/png": "[encoded data removed]",
      "text/latex": [
       "$\\displaystyle \\frac{\\partial}{\\partial t} \\operatorname{Ax}{\\left(t,x,y,z \\right)} + \\frac{\\partial}{\\partial z} \\operatorname{Ay}{\\left(t,x,y,z \\right)} - \\frac{\\partial}{\\partial y} \\operatorname{Az}{\\left(t,x,y,z \\right)} + \\frac{\\partial}{\\partial x} φ{\\left(t,x,y,z \\right)}$"
      ],
      "text/plain": [
       "∂                    ∂                    ∂                    ∂              \n",
       "──(Ax(t, x, y, z)) + ──(Ay(t, x, y, z)) - ──(Az(t, x, y, z)) + ──(φ(t, x, y, z\n",
       "∂t                   ∂z                   ∂y                   ∂x             \n",
       "\n",
       "  \n",
       "))\n",
       "  "
      ]
     },
     "metadata": {},
     "output_type": "display_data"
    },
    {
     "data": {
      "image/png": "[encoded data removed]",
      "text/latex": [
       "$\\displaystyle \\frac{\\partial}{\\partial z} \\operatorname{Ax}{\\left(t,x,y,z \\right)} + \\frac{\\partial}{\\partial t} \\operatorname{Ay}{\\left(t,x,y,z \\right)} - \\frac{\\partial}{\\partial x} \\operatorname{Az}{\\left(t,x,y,z \\right)} + \\frac{\\partial}{\\partial y} φ{\\left(t,x,y,z \\right)}$"
      ],
      "text/plain": [
       "∂                    ∂                    ∂                    ∂              \n",
       "──(Ax(t, x, y, z)) + ──(Ay(t, x, y, z)) - ──(Az(t, x, y, z)) + ──(φ(t, x, y, z\n",
       "∂z                   ∂t                   ∂x                   ∂y             \n",
       "\n",
       "  \n",
       "))\n",
       "  "
      ]
     },
     "metadata": {},
     "output_type": "display_data"
    },
    {
     "data": {
      "image/png": "[encoded data removed]",
      "text/latex": [
       "$\\displaystyle - \\frac{\\partial}{\\partial y} \\operatorname{Ax}{\\left(t,x,y,z \\right)} + \\frac{\\partial}{\\partial x} \\operatorname{Ay}{\\left(t,x,y,z \\right)} + \\frac{\\partial}{\\partial t} \\operatorname{Az}{\\left(t,x,y,z \\right)} + \\frac{\\partial}{\\partial z} φ{\\left(t,x,y,z \\right)}$"
      ],
      "text/plain": [
       "  ∂                    ∂                    ∂                    ∂            \n",
       "- ──(Ax(t, x, y, z)) + ──(Ay(t, x, y, z)) + ──(Az(t, x, y, z)) + ──(φ(t, x, y,\n",
       "  ∂y                   ∂x                   ∂t                   ∂z           \n",
       "\n",
       "    \n",
       " z))\n",
       "    "
      ]
     },
     "metadata": {},
     "output_type": "display_data"
    }
   ],
   "source": [
    "D_EM_potential = Dq(EM_potential, [t, x, y, z])\n",
    "D_EM_potential.display_q(\"D EM_potential\")"
   ]
  },
  {
   "cell_type": "markdown",
   "metadata": {},
   "source": [
    "While this answer is correct, it has too many marks to be understood with ease. Create a list of substitutions that can do all the basic EM fields."
   ]
  },
  {
   "cell_type": "code",
   "execution_count": 12,
   "metadata": {},
   "outputs": [
    {
     "name": "stdout",
     "output_type": "stream",
     "text": [
      "D EM_potential fields\n"
     ]
    },
    {
     "data": {
      "image/png": "[encoded data removed]",
      "text/latex": [
       "$\\displaystyle - \\frac{\\partial}{\\partial x} \\operatorname{Ax}{\\left(t,x,y,z \\right)} - \\frac{\\partial}{\\partial y} \\operatorname{Ay}{\\left(t,x,y,z \\right)} - \\frac{\\partial}{\\partial z} \\operatorname{Az}{\\left(t,x,y,z \\right)} + \\frac{\\partial}{\\partial t} φ{\\left(t,x,y,z \\right)}$"
      ],
      "text/plain": [
       "  ∂                    ∂                    ∂                    ∂            \n",
       "- ──(Ax(t, x, y, z)) - ──(Ay(t, x, y, z)) - ──(Az(t, x, y, z)) + ──(φ(t, x, y,\n",
       "  ∂x                   ∂y                   ∂z                   ∂t           \n",
       "\n",
       "    \n",
       " z))\n",
       "    "
      ]
     },
     "metadata": {},
     "output_type": "display_data"
    },
    {
     "data": {
      "image/png": "[encoded data removed]",
      "text/latex": [
       "$\\displaystyle Bx - Ex$"
      ],
      "text/plain": [
       "Bx - Ex"
      ]
     },
     "metadata": {},
     "output_type": "display_data"
    },
    {
     "data": {
      "image/png": "[encoded data removed]",
      "text/latex": [
       "$\\displaystyle By - Ey$"
      ],
      "text/plain": [
       "By - Ey"
      ]
     },
     "metadata": {},
     "output_type": "display_data"
    },
    {
     "data": {
      "image/png": "[encoded data removed]",
      "text/latex": [
       "$\\displaystyle Bz - Ez$"
      ],
      "text/plain": [
       "Bz - Ez"
      ]
     },
     "metadata": {},
     "output_type": "display_data"
    }
   ],
   "source": [
    "fields = {-Ax(𝑡,𝑥,𝑦,𝑧).diff(t)-φ(𝑡,𝑥,𝑦,𝑧).diff(x): \"Ex\", -Ay(𝑡,𝑥,𝑦,𝑧).diff(t)-φ(𝑡,𝑥,𝑦,𝑧).diff(y): \"Ey\", -Az(𝑡,𝑥,𝑦,𝑧).diff(t)-φ(𝑡,𝑥,𝑦,𝑧).diff(z): \"Ez\",\n",
    "         Ay(𝑡,𝑥,𝑦,𝑧).diff(z)-Az(𝑡,𝑥,𝑦,𝑧).diff(y): \"Bx\", Ax(𝑡,𝑥,𝑦,𝑧).diff(z)-Az(𝑡,𝑥,𝑦,𝑧).diff(x): \"By\", Ay(𝑡,𝑥,𝑦,𝑧).diff(x)-Ax(𝑡,𝑥,𝑦,𝑧).diff(y): \"Bz\"}\n",
    "D_EM_potential.subs(fields).display_q(\"D EM_potential fields\")\n"
   ]
  },
  {
   "cell_type": "markdown",
   "metadata": {},
   "source": [
    "The first term is a gauge field. For EM, that must be set to zero. I suspect this might be used for particles that are not photons. Such a link has not been created. Here we see the difference between the magnetic and electric fields Make the fields gauge-free."
   ]
  },
  {
   "cell_type": "code",
   "execution_count": 13,
   "metadata": {},
   "outputs": [
    {
     "name": "stdout",
     "output_type": "stream",
     "text": [
      "gauge-free\n"
     ]
    },
    {
     "data": {
      "image/png": "[encoded data removed]",
      "text/latex": [
       "$\\displaystyle 0$"
      ],
      "text/plain": [
       "0"
      ]
     },
     "metadata": {},
     "output_type": "display_data"
    },
    {
     "data": {
      "image/png": "[encoded data removed]",
      "text/latex": [
       "$\\displaystyle Bx - Ex$"
      ],
      "text/plain": [
       "Bx - Ex"
      ]
     },
     "metadata": {},
     "output_type": "display_data"
    },
    {
     "data": {
      "image/png": "[encoded data removed]",
      "text/latex": [
       "$\\displaystyle By - Ey$"
      ],
      "text/plain": [
       "By - Ey"
      ]
     },
     "metadata": {},
     "output_type": "display_data"
    },
    {
     "data": {
      "image/png": "[encoded data removed]",
      "text/latex": [
       "$\\displaystyle Bz - Ez$"
      ],
      "text/plain": [
       "Bz - Ez"
      ]
     },
     "metadata": {},
     "output_type": "display_data"
    }
   ],
   "source": [
    "gauge_free_EM = vector_q(D_EM_potential)\n",
    "gauge_free_EM.subs(fields).display_q(\"gauge-free\")"
   ]
  },
  {
   "cell_type": "markdown",
   "metadata": {},
   "source": [
    "Take the derivative of the potential again, this time reversing the order of the differential and the potential. This will flip only the signs of the curl or $B\\_q$ field."
   ]
  },
  {
   "cell_type": "code",
   "execution_count": 14,
   "metadata": {},
   "outputs": [
    {
     "name": "stdout",
     "output_type": "stream",
     "text": [
      "gauge-free reverse D\n"
     ]
    },
    {
     "data": {
      "image/png": "[encoded data removed]",
      "text/latex": [
       "$\\displaystyle 0$"
      ],
      "text/plain": [
       "0"
      ]
     },
     "metadata": {},
     "output_type": "display_data"
    },
    {
     "data": {
      "image/png": "[encoded data removed]",
      "text/latex": [
       "$\\displaystyle - Bx - Ex$"
      ],
      "text/plain": [
       "-Bx - Ex"
      ]
     },
     "metadata": {},
     "output_type": "display_data"
    },
    {
     "data": {
      "image/png": "[encoded data removed]",
      "text/latex": [
       "$\\displaystyle - By - Ey$"
      ],
      "text/plain": [
       "-By - Ey"
      ]
     },
     "metadata": {},
     "output_type": "display_data"
    },
    {
     "data": {
      "image/png": "[encoded data removed]",
      "text/latex": [
       "$\\displaystyle - Bz - Ez$"
      ],
      "text/plain": [
       "-Bz - Ez"
      ]
     },
     "metadata": {},
     "output_type": "display_data"
    }
   ],
   "source": [
    "gauge_free_ME = vector_q(Dq(EM_potential, [t, x, y, z], reverse=True))\n",
    "gauge_free_ME.subs(fields).display_q(\"gauge-free reverse D\")"
   ]
  },
  {
   "cell_type": "code",
   "execution_count": 21,
   "metadata": {},
   "outputs": [
    {
     "name": "stdout",
     "output_type": "stream",
     "text": [
      "EM invariant, Poynting\n"
     ]
    },
    {
     "data": {
      "image/png": "[encoded data removed]",
      "text/latex": [
       "$\\displaystyle Bx^{2} + By^{2} + Bz^{2} - Ex^{2} - Ey^{2} - Ez^{2}$"
      ],
      "text/plain": [
       "  2     2     2     2     2     2\n",
       "Bx  + By  + Bz  - Ex  - Ey  - Ez "
      ]
     },
     "metadata": {},
     "output_type": "display_data"
    },
    {
     "data": {
      "image/png": "[encoded data removed]",
      "text/latex": [
       "$\\displaystyle - 2 By Ez + 2 Bz Ey$"
      ],
      "text/plain": [
       "-2⋅By⋅Ez + 2⋅Bz⋅Ey"
      ]
     },
     "metadata": {},
     "output_type": "display_data"
    },
    {
     "data": {
      "image/png": "[encoded data removed]",
      "text/latex": [
       "$\\displaystyle 2 Bx Ez - 2 Bz Ex$"
      ],
      "text/plain": [
       "2⋅Bx⋅Ez - 2⋅Bz⋅Ex"
      ]
     },
     "metadata": {},
     "output_type": "display_data"
    },
    {
     "data": {
      "image/png": "[encoded data removed]",
      "text/latex": [
       "$\\displaystyle - 2 Bx Ey + 2 By Ex$"
      ],
      "text/plain": [
       "-2⋅Bx⋅Ey + 2⋅By⋅Ex"
      ]
     },
     "metadata": {},
     "output_type": "display_data"
    }
   ],
   "source": [
    "EM_invariant_Poynting = product(gauge_free_EM, gauge_free_ME)\n",
    "EM_invariant_Poynting.subs(fields).expand_q().display_q(\"EM invariant, Poynting\")"
   ]
  },
  {
   "cell_type": "code",
   "execution_count": 22,
   "metadata": {},
   "outputs": [],
   "source": [
    "from sympy.calculus.euler import euler_equations"
   ]
  },
  {
   "cell_type": "code",
   "execution_count": 23,
   "metadata": {},
   "outputs": [
    {
     "name": "stdout",
     "output_type": "stream",
     "text": [
      "current_potential\n"
     ]
    },
    {
     "data": {
      "image/png": "[encoded data removed]",
      "text/latex": [
       "$\\displaystyle - Jx \\operatorname{Ax}{\\left(t,x,y,z \\right)} - Jy \\operatorname{Ay}{\\left(t,x,y,z \\right)} - Jz \\operatorname{Az}{\\left(t,x,y,z \\right)} + ρ φ{\\left(t,x,y,z \\right)}$"
      ],
      "text/plain": [
       "-Jx⋅Ax(t, x, y, z) - Jy⋅Ay(t, x, y, z) - Jz⋅Az(t, x, y, z) + ρ⋅φ(t, x, y, z)"
      ]
     },
     "metadata": {},
     "output_type": "display_data"
    },
    {
     "data": {
      "image/png": "[encoded data removed]",
      "text/latex": [
       "$\\displaystyle Jx φ{\\left(t,x,y,z \\right)} + Jy \\operatorname{Az}{\\left(t,x,y,z \\right)} - Jz \\operatorname{Ay}{\\left(t,x,y,z \\right)} + ρ \\operatorname{Ax}{\\left(t,x,y,z \\right)}$"
      ],
      "text/plain": [
       "Jx⋅φ(t, x, y, z) + Jy⋅Az(t, x, y, z) - Jz⋅Ay(t, x, y, z) + ρ⋅Ax(t, x, y, z)"
      ]
     },
     "metadata": {},
     "output_type": "display_data"
    },
    {
     "data": {
      "image/png": "[encoded data removed]",
      "text/latex": [
       "$\\displaystyle - Jx \\operatorname{Az}{\\left(t,x,y,z \\right)} + Jy φ{\\left(t,x,y,z \\right)} + Jz \\operatorname{Ax}{\\left(t,x,y,z \\right)} + ρ \\operatorname{Ay}{\\left(t,x,y,z \\right)}$"
      ],
      "text/plain": [
       "-Jx⋅Az(t, x, y, z) + Jy⋅φ(t, x, y, z) + Jz⋅Ax(t, x, y, z) + ρ⋅Ay(t, x, y, z)"
      ]
     },
     "metadata": {},
     "output_type": "display_data"
    },
    {
     "data": {
      "image/png": "[encoded data removed]",
      "text/latex": [
       "$\\displaystyle Jx \\operatorname{Ay}{\\left(t,x,y,z \\right)} - Jy \\operatorname{Ax}{\\left(t,x,y,z \\right)} + Jz φ{\\left(t,x,y,z \\right)} + ρ \\operatorname{Az}{\\left(t,x,y,z \\right)}$"
      ],
      "text/plain": [
       "Jx⋅Ay(t, x, y, z) - Jy⋅Ax(t, x, y, z) + Jz⋅φ(t, x, y, z) + ρ⋅Az(t, x, y, z)"
      ]
     },
     "metadata": {},
     "output_type": "display_data"
    }
   ],
   "source": [
    "ρ, Jx, Jy, Jz = sp.symbols(\"ρ Jx Jy Jz\")\n",
    "current_density = Q([ρ, Jx, Jy, Jz])\n",
    "current_potential = product(current_density, EM_potential)\n",
    "current_potential.display_q(\"current_potential\")"
   ]
  },
  {
   "cell_type": "code",
   "execution_count": 25,
   "metadata": {},
   "outputs": [
    {
     "data": {
      "image/png": "[encoded data removed]",
      "text/latex": [
       "$\\displaystyle ρ + 2 \\left(\\frac{\\partial^{2}}{\\partial x^{2}} φ{\\left(t,x,y,z \\right)} + \\frac{\\partial^{2}}{\\partial x\\partial t} \\operatorname{Ax}{\\left(t,x,y,z \\right)}\\right) + 2 \\left(\\frac{\\partial^{2}}{\\partial y^{2}} φ{\\left(t,x,y,z \\right)} + \\frac{\\partial^{2}}{\\partial y\\partial t} \\operatorname{Ay}{\\left(t,x,y,z \\right)}\\right) + 2 \\left(\\frac{\\partial^{2}}{\\partial z^{2}} φ{\\left(t,x,y,z \\right)} + \\frac{\\partial^{2}}{\\partial z\\partial t} \\operatorname{Az}{\\left(t,x,y,z \\right)}\\right) = 0$"
      ],
      "text/plain": [
       "      ⎛  2                     2                 ⎞     ⎛  2                   \n",
       "      ⎜ ∂                     ∂                  ⎟     ⎜ ∂                    \n",
       "ρ + 2⋅⎜───(φ(t, x, y, z)) + ─────(Ax(t, x, y, z))⎟ + 2⋅⎜───(φ(t, x, y, z)) + ─\n",
       "      ⎜  2                  ∂x ∂t                ⎟     ⎜  2                  ∂\n",
       "      ⎝∂x                                        ⎠     ⎝∂y                    \n",
       "\n",
       "  2                 ⎞     ⎛  2                     2                 ⎞    \n",
       " ∂                  ⎟     ⎜ ∂                     ∂                  ⎟    \n",
       "────(Ay(t, x, y, z))⎟ + 2⋅⎜───(φ(t, x, y, z)) + ─────(Az(t, x, y, z))⎟ = 0\n",
       "y ∂t                ⎟     ⎜  2                  ∂z ∂t                ⎟    \n",
       "                    ⎠     ⎝∂z                                        ⎠    "
      ]
     },
     "metadata": {},
     "output_type": "display_data"
    },
    {
     "data": {
      "image/png": "[encoded data removed]",
      "text/latex": [
       "$\\displaystyle - Jx + 2 \\frac{d^{2}}{d t^{2}} Ax - 2 \\frac{d^{2}}{d y^{2}} Ax - 2 \\frac{d^{2}}{d z^{2}} Ax + 2 \\frac{d^{2}}{d yd x} Ay + 2 \\frac{d^{2}}{d zd x} Az + 2 \\frac{d^{2}}{d xd t} φ = 0$"
      ],
      "text/plain": [
       "          2           2           2            2             2             2  \n",
       "         d           d           d            d             d             d   \n",
       "-Jx + 2⋅───(Ax) - 2⋅───(Ax) - 2⋅───(Ax) + 2⋅─────(Ay) + 2⋅─────(Az) + 2⋅─────(\n",
       "          2           2           2         dy dx         dz dx         dx dt \n",
       "        dt          dy          dz                                            \n",
       "\n",
       "      \n",
       "      \n",
       "φ) = 0\n",
       "      \n",
       "      "
      ]
     },
     "metadata": {},
     "output_type": "display_data"
    },
    {
     "data": {
      "image/png": "[encoded data removed]",
      "text/latex": [
       "$\\displaystyle - Jy + 2 \\frac{d^{2}}{d t^{2}} Ay - 2 \\frac{d^{2}}{d x^{2}} Ay - 2 \\frac{d^{2}}{d z^{2}} Ay + 2 \\frac{d^{2}}{d yd x} Ax + 2 \\frac{d^{2}}{d zd y} Az + 2 \\frac{d^{2}}{d yd t} φ = 0$"
      ],
      "text/plain": [
       "          2           2           2            2             2             2  \n",
       "         d           d           d            d             d             d   \n",
       "-Jy + 2⋅───(Ay) - 2⋅───(Ay) - 2⋅───(Ay) + 2⋅─────(Ax) + 2⋅─────(Az) + 2⋅─────(\n",
       "          2           2           2         dy dx         dz dy         dy dt \n",
       "        dt          dx          dz                                            \n",
       "\n",
       "      \n",
       "      \n",
       "φ) = 0\n",
       "      \n",
       "      "
      ]
     },
     "metadata": {},
     "output_type": "display_data"
    },
    {
     "data": {
      "image/png": "[encoded data removed]",
      "text/latex": [
       "$\\displaystyle - Jz + 2 \\frac{d^{2}}{d t^{2}} Az - 2 \\frac{d^{2}}{d x^{2}} Az - 2 \\frac{d^{2}}{d y^{2}} Az + 2 \\frac{d^{2}}{d zd x} Ax + 2 \\frac{d^{2}}{d zd y} Ay + 2 \\frac{d^{2}}{d zd t} φ = 0$"
      ],
      "text/plain": [
       "          2           2           2            2             2             2  \n",
       "         d           d           d            d             d             d   \n",
       "-Jz + 2⋅───(Az) - 2⋅───(Az) - 2⋅───(Az) + 2⋅─────(Ax) + 2⋅─────(Ay) + 2⋅─────(\n",
       "          2           2           2         dz dx         dz dy         dz dt \n",
       "        dt          dx          dy                                            \n",
       "\n",
       "      \n",
       "      \n",
       "φ) = 0\n",
       "      \n",
       "      "
      ]
     },
     "metadata": {},
     "output_type": "display_data"
    }
   ],
   "source": [
    "display(euler_equations(EM_invariant_Poynting.t + current_potential.t , φ(t, x, y, z), [t, x, y, z])[0])\n",
    "display(euler_equations(EM_invariant_Poynting.t + current_potential.t , Ax(t, x, y, z), [t, x, y, z])[0].subs(simpler))\n",
    "display(euler_equations(EM_invariant_Poynting.t + current_potential.t , Ay(t, x, y, z), [t, x, y, z])[0].subs(simpler))\n",
    "display(euler_equations(EM_invariant_Poynting.t + current_potential.t , Az(t, x, y, z), [t, x, y, z])[0].subs(simpler))"
   ]
  },
  {
   "cell_type": "markdown",
   "metadata": {},
   "source": [
    "This is Gauss's law and Ampere's law at the core of EM."
   ]
  },
  {
   "cell_type": "markdown",
   "metadata": {},
   "source": [
    "# The Tests"
   ]
  },
  {
   "cell_type": "code",
   "execution_count": 26,
   "metadata": {},
   "outputs": [
    {
     "name": "stderr",
     "output_type": "stream",
     "text": [
      ".."
     ]
    },
    {
     "name": "stdout",
     "output_type": "stream",
     "text": [
      "Oops, the function needs to be symbolic.\n",
      "Oops: needs to be given 4 symbols. Try again.\n",
      "Oops, the function needs to be symbolic.\n",
      "Oops: needs to be given 4 symbols. Try again.\n"
     ]
    },
    {
     "name": "stderr",
     "output_type": "stream",
     "text": [
      "\n",
      "----------------------------------------------------------------------\n",
      "Ran 2 tests in 0.120s\n",
      "\n",
      "OK\n"
     ]
    }
   ],
   "source": [
    "class TestDq(unittest.TestCase):\n",
    "    \"\"\"Test states.\"\"\"\n",
    "    \n",
    "    def test_Dq_derivative(self):\n",
    "        T, X, Y, Z = sp.symbols(\"T X Y Z\")\n",
    "        TXYZ = [T, X, Y, Z]\n",
    "            \n",
    "        self.assertTrue(equal(Dq(q1(), TXYZ), q0()))\n",
    "        self.assertTrue(equal(Dq(Q([T, X, Y, Z]), [T]), q0()))\n",
    "        \n",
    "        q_TX = Q([T, X, 0, 0])\n",
    "        q_TX_3 = product(product(q_TX, q_TX), q_TX)\n",
    "        D_q_TX_3 = Dq(q_TX, TXYZ)\n",
    "        self.assertTrue(D_q_TX_3.t == 0)\n",
    "        self.assertTrue(D_q_TX_3.x == 0)\n",
    "        self.assertTrue(D_q_TX_3.y == 0)\n",
    "        self.assertTrue(D_q_TX_3.z == 0)\n",
    "        \n",
    "        q_TXYZ = Q(TXYZ)\n",
    "        q_TXYZ_3 = product(product(q_TXYZ, q_TXYZ), q_TXYZ)\n",
    "        D_q_TXYZ_3 = Dq(q_TXYZ_3, TXYZ)\n",
    "        self.assertTrue(D_q_TXYZ_3.t == -6*T**2 + 2*X**2 + 2*Y**2 + 2*Z**2)\n",
    "        self.assertTrue(D_q_TXYZ_3.x ==  0)\n",
    "        self.assertTrue(D_q_TXYZ_3.y ==  0)\n",
    "        self.assertTrue(D_q_TXYZ_3.z ==  0)\n",
    "        \n",
    "    def test_Dqs_derivative(self):\n",
    "        T, X, Y, Z = sp.symbols(\"T X Y Z\")\n",
    "        TXYZ = [T, X, Y, Z]\n",
    "            \n",
    "        self.assertTrue(equals(Dqs(Qs([q1()]), TXYZ), q0s()))\n",
    "        self.assertTrue(equals(Dqs(Qs([Q([T, X, Y, Z])]), [T]), q0s()))\n",
    "        \n",
    "        q_TX = Q([T, X, 0, 0])\n",
    "        q_TX_3 = product(product(q_TX, q_TX), q_TX)\n",
    "        \n",
    "        q_TXYZ = Q(TXYZ)\n",
    "        q_TXYZ_3 = product(product(q_TXYZ, q_TXYZ), q_TXYZ)\n",
    "        \n",
    "        qs_TX_3_TXYZ_3 = Qs([q_TX_3, q_TXYZ_3])\n",
    "        \n",
    "        D_q_TX_3_TXYZ_3 = Dqs(qs_TX_3_TXYZ_3, TXYZ)\n",
    "        \n",
    "        self.assertTrue(D_q_TX_3_TXYZ_3.qs[0].t == 0)\n",
    "        self.assertTrue(D_q_TX_3_TXYZ_3.qs[0].x == 0)\n",
    "        self.assertTrue(D_q_TX_3_TXYZ_3.qs[0].y == 0)\n",
    "        self.assertTrue(D_q_TX_3_TXYZ_3.qs[0].z == 0)\n",
    "        \n",
    "        self.assertTrue(D_q_TX_3_TXYZ_3.qs[1].t == -6*T**2 + 2*X**2 + 2*Y**2 + 2*Z**2)\n",
    "        self.assertTrue(D_q_TX_3_TXYZ_3.qs[1].x ==  0)\n",
    "        self.assertTrue(D_q_TX_3_TXYZ_3.qs[1].y ==  0)\n",
    "        self.assertTrue(D_q_TX_3_TXYZ_3.qs[1].z ==  0)\n",
    "        \n",
    "suite = unittest.TestLoader().loadTestsFromModule(TestDq())\n",
    "unittest.TextTestRunner().run(suite);"
   ]
  },
  {
   "cell_type": "code",
   "execution_count": null,
   "metadata": {},
   "outputs": [],
   "source": []
  }
 ],
 "metadata": {
  "kernelspec": {
   "display_name": "Python 3",
   "language": "python",
   "name": "python3"
  },
  "language_info": {
   "codemirror_mode": {
    "name": "ipython",
    "version": 3
   },
   "file_extension": ".py",
   "mimetype": "text/x-python",
   "name": "python",
   "nbconvert_exporter": "python",
   "pygments_lexer": "ipython3",
   "version": "3.8.8"
  }
 },
 "nbformat": 4,
 "nbformat_minor": 4
}
