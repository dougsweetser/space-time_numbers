{
 "cells": [
  {
   "cell_type": "markdown",
   "metadata": {},
   "source": [
    "# Notebook Template"
   ]
  },
  {
   "cell_type": "markdown",
   "metadata": {},
   "source": [
    "The purpose of this notebook is to show off a few operations that may not be obvious.\n",
    "\n",
    "Load the needed libraries."
   ]
  },
  {
   "cell_type": "code",
   "execution_count": 1,
   "metadata": {},
   "outputs": [],
   "source": [
    "%%capture\n",
    "%matplotlib inline\n",
    "import numpy as np\n",
    "import sympy as sp\n",
    "import matplotlib.pyplot as plt\n",
    "import math\n",
    "import unittest\n",
    "\n",
    "# To get equations the look like, well, equations, use the following.\n",
    "from sympy.interactive import printing\n",
    "printing.init_printing(use_latex=True)\n",
    "from IPython.display import display\n",
    "\n",
    "# Tools for manipulating quaternions.\n",
    "from Qs import *\n",
    "\n",
    "from IPython.core.display import display, HTML, Math, Latex\n",
    "display(HTML(\"<style>.container { width:100% !important; }</style>\"))"
   ]
  },
  {
   "cell_type": "markdown",
   "metadata": {},
   "source": [
    "To use sympy, one has to define the symbols. \n",
    "\n",
    "There are several ways to write output from the Qs library. The print() function writes a space-time number as a tuple. The class method display_q() uses Latex for each term, one per line. The class method print_state() is more like print() except it allows one to add a label with ease. "
   ]
  },
  {
   "cell_type": "code",
   "execution_count": 12,
   "metadata": {},
   "outputs": [
    {
     "name": "stdout",
     "output_type": "stream",
     "text": [
      "(t**2 - x**2 - y**2 - z**2, 2*t*x, 2*t*y, 2*t*z) Q² \n",
      "\n",
      "squared txyz\n"
     ]
    },
    {
     "data": {
      "image/png": "[encoded data removed]",
      "text/latex": [
       "$\\displaystyle t^{2} - x^{2} - y^{2} - z^{2}$"
      ],
      "text/plain": [
       " 2    2    2    2\n",
       "t  - x  - y  - z "
      ]
     },
     "metadata": {},
     "output_type": "display_data"
    },
    {
     "data": {
      "image/png": "[encoded data removed]",
      "text/latex": [
       "$\\displaystyle 2 t x$"
      ],
      "text/plain": [
       "2⋅t⋅x"
      ]
     },
     "metadata": {},
     "output_type": "display_data"
    },
    {
     "data": {
      "image/png": "[encoded data removed]",
      "text/latex": [
       "$\\displaystyle 2 t y$"
      ],
      "text/plain": [
       "2⋅t⋅y"
      ]
     },
     "metadata": {},
     "output_type": "display_data"
    },
    {
     "data": {
      "image/png": "[encoded data removed]",
      "text/latex": [
       "$\\displaystyle 2 t z$"
      ],
      "text/plain": [
       "2⋅t⋅z"
      ]
     },
     "metadata": {},
     "output_type": "display_data"
    },
    {
     "name": "stdout",
     "output_type": "stream",
     "text": [
      "squared qs_txyz_q_abcd\n",
      "n=1: (t**2 - x**2 - y**2 - z**2, 2*t*x, 2*t*y, 2*t*z) \n",
      "n=2: (a**2 - b**2 - c**2 - d**2, 2*a*b, 2*a*c, 2*a*d) \n",
      "ket: 2/1\n",
      "\n"
     ]
    }
   ],
   "source": [
    "# Symbolic manipulation\n",
    "t, x, y, z = sp.symbols(\"t x y z\")\n",
    "a, b, c, d = sp.symbols(\"a b c d\")\n",
    "q_txyz = Q([t, x, y, z])\n",
    "q_abcd = Q([a, b, c, d])\n",
    "qs_txyz_abcd = Qs([q_txyz, q_abcd])\n",
    "print(square(q_txyz), \"\\n\")\n",
    "square(q_txyz).display_q(\"squared txyz\")\n",
    "squares(qs_txyz_abcd).print_state(\"squared qs_txyz_q_abcd\")"
   ]
  },
  {
   "cell_type": "markdown",
   "metadata": {},
   "source": [
    "The functions for the classes Q, for single space-time numbers, and Qs, for a space-time number series, were written to mirror each other, the difference being in a trailing \"s\". Here is the list of available functions in Qs.py:"
   ]
  },
  {
   "cell_type": "code",
   "execution_count": 32,
   "metadata": {},
   "outputs": [
    {
     "name": "stdout",
     "output_type": "stream",
     "text": [
      "['Hermitian_conj', 'Q', 'Qs', 'abs_of_q', 'abs_of_qs', 'abs_of_vector', 'abs_of_vectors', 'add', 'adds', 'all_permutations', 'annotations', 'conj', 'conj_q', 'conj_qs', 'conjs', 'cos', 'cosh', 'coshs', 'coss', 'cross_q', 'cross_qs', 'dagger', 'deepcopy', 'determinant', 'diagonal', 'dif', 'difs', 'display', 'divide_by', 'divide_bys', 'dot_product', 'dupe', 'equal', 'equals', 'exit', 'exp', 'exps', 'flip_sign', 'flip_signs', 'funcs', 'g_shift', 'g_shifts', 'generate_QQs', 'generate_Qs', 'get_ipython', 'identity', 'inverse', 'inverses', 'is_Hermitian', 'is_square', 'itertools', 'ln', 'lns', 'math', 'next_boost', 'next_boosts', 'next_rotation', 'next_rotation_randomized', 'next_rotation_randomizeds', 'next_rotations', 'norm_squared', 'norm_squared_of_vector', 'norm_squared_of_vectors', 'norm_squareds', 'normalize', 'normalizes', 'np', 'orthonormalize', 'pd', 'permutation', 'plt', 'printing', 'product', 'products', 'q0', 'q0s', 'q1', 'q1s', 'q_2_q', 'q_2_qs', 'q_abcd', 'q_to_qs_function', 'q_txyz', 'qi', 'qis', 'qj', 'qjs', 'qk', 'qks', 'qq_to_qs_function', 'qqq_to_qs_function', 'qrandom', 'qrandoms', 'qs_qs_to_q_function', 'qs_to_q_function', 'qs_txyz_abcd', 'quit', 'rotation', 'rotation_and_or_boost', 'rotation_and_or_boosts', 'rotation_and_rescale', 'rotation_and_rescales', 'rotation_angle', 'rotation_only', 'rotation_onlys', 'rotations', 'scalar_q', 'scalar_qs', 'sigma', 'sin', 'sinh', 'sinhs', 'sins', 'sp', 'square', 'squares', 'suite', 'tan', 'tanh', 'tanhs', 'tans', 'trace', 'transpose', 'triple_product', 'triple_products', 'trunc', 'truncs', 'unittest', 'vahlen_conj', 'valhen_conjs', 'vector_q', 'vector_qs', 'zero_out', 'zero_outs']\n"
     ]
    }
   ],
   "source": [
    "funcs = [dir for dir in dir() if not dir.startswith(('_','B','D','F','HT','I','L','M','O','T','U')) and dir not in ('a', 'b','c','d','t','x','y','z')]\n",
    "print(funcs)"
   ]
  },
  {
   "cell_type": "markdown",
   "metadata": {},
   "source": [
    "If you want to work on a linear collection of a space-time_number series, here is one way to generate it by passing a binary function with two quaternions:"
   ]
  },
  {
   "cell_type": "code",
   "execution_count": 38,
   "metadata": {},
   "outputs": [
    {
     "name": "stdout",
     "output_type": "stream",
     "text": [
      "A collection of linear space-time numbers\n",
      "n=1: (1.1, 0.2, 0.3, 0.4) \n",
      "n=2: (1.2000000000000002, 0.4, 0.6, 0.8) \n",
      "n=3: (1.3000000000000003, 0.6000000000000001, 0.8999999999999999, 1.2000000000000002) \n",
      "n=4: (1.4000000000000004, 0.8, 1.2, 1.6) \n",
      "n=5: (1.5000000000000004, 1.0, 1.5, 2.0) \n",
      "n=6: (1.6000000000000005, 1.2, 1.8, 2.4) \n",
      "n=7: (1.7000000000000006, 1.4, 2.1, 2.8) \n",
      "n=8: (1.8000000000000007, 1.5999999999999999, 2.4, 3.1999999999999997) \n",
      "n=9: (1.9000000000000008, 1.7999999999999998, 2.6999999999999997, 3.5999999999999996) \n",
      "n=10: (2.000000000000001, 1.9999999999999998, 2.9999999999999996, 3.9999999999999996) \n",
      "ket: 10/1\n",
      "\n",
      "sines() of those quaternions\n",
      "n=1: (1.023585711643786, 0.09516800661968644, 0.14275200992952963, 0.19033601323937288) \n",
      "n=2: (1.5269410575329512, 0.17463635012402853, 0.2619545251860428, 0.34927270024805707) \n",
      "n=3: (2.519431311512532, 0.24001484752733904, 0.3600222712910085, 0.4800296950546781) \n",
      "n=4: (4.3043687037525045, 0.26839857380372384, 0.40259786070558573, 0.5367971476074477) \n",
      "n=5: (7.40015300737725, 0.19311994830588874, 0.2896799224588331, 0.3862398966117775) \n",
      "n=6: (12.668078920934239, -0.13700819454845026, -0.2055122918226754, -0.2740163890969005) \n",
      "n=7: (21.51240462712361, -1.0369528179519416, -1.5554292269279124, -2.073905635903883) \n",
      "n=8: (36.18574875321096, -3.1342421485394376, -4.701363222809157, -6.268484297078875) \n",
      "n=9: (60.24185020009967, -7.642554059654469, -11.463831089481705, -15.285108119308939) \n",
      "n=10: (99.18190655851977, -16.857215244314588, -25.285822866471882, -33.714430488629176) \n",
      "ket: 10/1\n",
      "\n"
     ]
    }
   ],
   "source": [
    "linear_q = generate_QQs(add, q1(), Q([0.1, 0.2, 0.3, 0.4]))\n",
    "linear_q.print_state(\"A collection of linear space-time numbers\")\n",
    "sins(linear_q).print_state(\"sines() of those quaternions\")"
   ]
  },
  {
   "cell_type": "markdown",
   "metadata": {},
   "source": [
    "## Testing\n",
    "\n",
    "Testing is essential to maintain the integretity of this library. Particularly when refactoring code, it is vital to assure any changes do not alter expected results. Tests can be bundled into a notebook like so:"
   ]
  },
  {
   "cell_type": "code",
   "execution_count": 33,
   "metadata": {},
   "outputs": [
    {
     "name": "stderr",
     "output_type": "stream",
     "text": [
      ".\n",
      "----------------------------------------------------------------------\n",
      "Ran 1 test in 0.004s\n",
      "\n",
      "OK\n"
     ]
    }
   ],
   "source": [
    "class TestTemplate(unittest.TestCase):\n",
    "    \"\"\"Test states.\"\"\"\n",
    "    \n",
    "    q_0 = q0()\n",
    "    \n",
    "    def test_init(self):\n",
    "        self.assertTrue(equal(self.q_0, q0()))\n",
    "    \n",
    "suite = unittest.TestLoader().loadTestsFromModule(TestTemplate())\n",
    "unittest.TextTestRunner().run(suite);"
   ]
  },
  {
   "cell_type": "code",
   "execution_count": 34,
   "metadata": {},
   "outputs": [
    {
     "name": "stdout",
     "output_type": "stream",
     "text": [
      "\u001b[1m============================= test session starts ==============================\u001b[0m\n",
      "platform darwin -- Python 3.9.7, pytest-6.2.4, py-1.10.0, pluggy-0.13.1\n",
      "rootdir: /Volumes/ssd/Github/space-time_numbers, configfile: pytest.ini\n",
      "plugins: anyio-2.2.0\n",
      "collected 132 items                                                            \u001b[0m\u001b[1m\n",
      "\n",
      "test_Qs.py \u001b[32m.\u001b[0m\u001b[32m.\u001b[0m\u001b[32m.\u001b[0m\u001b[32m.\u001b[0m\u001b[32m.\u001b[0m\u001b[32m.\u001b[0m\u001b[32m.\u001b[0m\u001b[32m.\u001b[0m\u001b[32m.\u001b[0m\u001b[32m.\u001b[0m\u001b[32m.\u001b[0m\u001b[32m.\u001b[0m\u001b[32m.\u001b[0m\u001b[32m.\u001b[0m\u001b[32m.\u001b[0m\u001b[32m.\u001b[0m\u001b[32m.\u001b[0m\u001b[32m.\u001b[0m\u001b[32m.\u001b[0m\u001b[32m.\u001b[0m\u001b[32m.\u001b[0m\u001b[32m.\u001b[0m\u001b[32m.\u001b[0m\u001b[32m.\u001b[0m\u001b[32m.\u001b[0m\u001b[32m.\u001b[0m\u001b[32m.\u001b[0m\u001b[32m.\u001b[0m\u001b[32m.\u001b[0m\u001b[32m.\u001b[0m\u001b[32m.\u001b[0m\u001b[32m.\u001b[0m\u001b[32m.\u001b[0m\u001b[32m.\u001b[0m\u001b[32m.\u001b[0m\u001b[32m.\u001b[0m\u001b[32m.\u001b[0m\u001b[32m.\u001b[0m\u001b[32m.\u001b[0m\u001b[32m.\u001b[0m\u001b[32m.\u001b[0m\u001b[32m.\u001b[0m\u001b[32m.\u001b[0m\u001b[32m.\u001b[0m\u001b[32m.\u001b[0m\u001b[32m.\u001b[0m\u001b[32m.\u001b[0m\u001b[32m.\u001b[0m\u001b[32m.\u001b[0m\u001b[32m.\u001b[0m\u001b[32m.\u001b[0m\u001b[32m.\u001b[0m\u001b[32m.\u001b[0m\u001b[32m.\u001b[0m\u001b[32m.\u001b[0m\u001b[32m.\u001b[0m\u001b[32m.\u001b[0m\u001b[32m.\u001b[0m\u001b[32m.\u001b[0m\u001b[32m.\u001b[0m\u001b[32m.\u001b[0m\u001b[32m [ 46%]\n",
      "\u001b[0m\u001b[32m.\u001b[0m\u001b[32m.\u001b[0m\u001b[32m.\u001b[0m\u001b[32m.\u001b[0m\u001b[32m.\u001b[0m\u001b[32m.\u001b[0m\u001b[32m.\u001b[0m\u001b[32m.\u001b[0m\u001b[32m.\u001b[0m\u001b[32m.\u001b[0m\u001b[32m.\u001b[0m\u001b[32m.\u001b[0m\u001b[32m.\u001b[0m\u001b[32m.\u001b[0m\u001b[32m.\u001b[0m\u001b[32m.\u001b[0m\u001b[32m.\u001b[0m\u001b[32m.\u001b[0m\u001b[32m.\u001b[0m\u001b[32m.\u001b[0m\u001b[32m.\u001b[0m\u001b[32m.\u001b[0m\u001b[32m.\u001b[0m\u001b[32m.\u001b[0m\u001b[32m.\u001b[0m\u001b[32m.\u001b[0m\u001b[32m.\u001b[0m\u001b[32m.\u001b[0m\u001b[32m.\u001b[0m\u001b[32m.\u001b[0m\u001b[32m.\u001b[0m\u001b[32m.\u001b[0m\u001b[32m.\u001b[0m\u001b[32m.\u001b[0m\u001b[32m.\u001b[0m\u001b[32m.\u001b[0m\u001b[32m.\u001b[0m\u001b[32m.\u001b[0m\u001b[32m.\u001b[0m\u001b[32m.\u001b[0m\u001b[32m.\u001b[0m\u001b[32m.\u001b[0m\u001b[32m.\u001b[0m\u001b[32m.\u001b[0m\u001b[32m.\u001b[0m\u001b[32m.\u001b[0m\u001b[32m.\u001b[0m\u001b[32m.\u001b[0m\u001b[32m.\u001b[0m\u001b[32m.\u001b[0m\u001b[32m.\u001b[0m\u001b[32m.\u001b[0m\u001b[32m.\u001b[0m\u001b[32m.\u001b[0m\u001b[32m.\u001b[0m\u001b[32m.\u001b[0m\u001b[32m.\u001b[0m\u001b[32m.\u001b[0m\u001b[32m.\u001b[0m\u001b[32m.\u001b[0m\u001b[32m.\u001b[0m\u001b[32m.\u001b[0m\u001b[32m.\u001b[0m\u001b[32m.\u001b[0m\u001b[32m.\u001b[0m\u001b[32m.\u001b[0m\u001b[32m.\u001b[0m\u001b[32m.\u001b[0m\u001b[32m.\u001b[0m\u001b[32m.\u001b[0m\u001b[32m.\u001b[0m\u001b[32m  [100%]\u001b[0m\n",
      "\n",
      "\u001b[32m============================= \u001b[32m\u001b[1m132 passed\u001b[0m\u001b[32m in 2.51s\u001b[0m\u001b[32m ==============================\u001b[0m\n"
     ]
    }
   ],
   "source": [
    "# To confirm the Qs.py libary is in good shape, run:\n",
    "!pytest test_Qs.py"
   ]
  },
  {
   "cell_type": "code",
   "execution_count": null,
   "metadata": {},
   "outputs": [],
   "source": []
  }
 ],
 "metadata": {
  "kernelspec": {
   "display_name": "Python 3",
   "language": "python",
   "name": "python3"
  },
  "language_info": {
   "codemirror_mode": {
    "name": "ipython",
    "version": 3
   },
   "file_extension": ".py",
   "mimetype": "text/x-python",
   "name": "python",
   "nbconvert_exporter": "python",
   "pygments_lexer": "ipython3",
   "version": "3.8.8"
  }
 },
 "nbformat": 4,
 "nbformat_minor": 4
}
