{
 "cells": [
  {
   "cell_type": "markdown",
   "metadata": {},
   "source": [
    "# Representing the 16 Gamma Matrices with the 16 Possible Quaternion Products"
   ]
  },
  {
   "cell_type": "markdown",
   "metadata": {},
   "source": [
    "The 16 gamma matrices play a critical role in modern approaches to relativistic quantum field theory. It is doubtful many can recall the details of this collection. Pop quiz: write down a 4x4 matrix representation of $\\gamma^0$ through $\\gamma^5$, recalling there is no $\\gamma^4$. Nearly all professionals would fail the pop quiz, but would not be concerned as it is easy enough to look up.\n",
    "\n",
    "Is there an approach to the gamma matrices that use real-valued space-time number and space-time number series? The work of three people from Mexico, J. López-Bonilla, L. Rosales-Roldán, and A. Zúñiga-Segundo, in the the early 2000s, made the path clear: one can map all 16 possible quaternion triple products with two sets of 1, i, j, and k, on the outside can be mapped to the 16 gamma matrices.\n",
    "\n",
    "This Jupyter notebook takes their work and makes it concrete.\n",
    "\n",
    "Load the needed libraries."
   ]
  },
  {
   "cell_type": "code",
   "execution_count": 1,
   "metadata": {},
   "outputs": [],
   "source": [
    "%%capture\n",
    "%matplotlib inline\n",
    "import numpy as np\n",
    "import sympy as sp\n",
    "import matplotlib.pyplot as plt\n",
    "import math\n",
    "import unittest\n",
    "\n",
    "# To get equations the look like, well, equations, use the following.\n",
    "from sympy.interactive import printing\n",
    "printing.init_printing(use_latex=True)\n",
    "from IPython.display import display\n",
    "\n",
    "# Tools for manipulating quaternions.\n",
    "from Qs import *\n",
    "\n",
    "from IPython.core.display import display, HTML, Math, Latex\n",
    "display(HTML(\"<style>.container { width:100% !important; }</style>\"))"
   ]
  },
  {
   "cell_type": "markdown",
   "metadata": {},
   "source": [
    "Put all 16 gamma matrices in a dictionary."
   ]
  },
  {
   "cell_type": "code",
   "execution_count": 2,
   "metadata": {},
   "outputs": [],
   "source": [
    "i = sp.I\n",
    "γs = {\n",
    "\"I\":    sp.Matrix([[1, 0, 0, 0], [0, 1, 0, 0], [0, 0, 1, 0], [0, 0, 0, 1]]),\n",
    "\"γ0\":   sp.Matrix([[1, 0, 0, 0], [0, 1, 0, 0], [0, 0, -1, 0], [0, 0, 0, -1]]),\n",
    "\"γ1\":   sp.Matrix([[0, 0, 0, 1], [0, 0, 1, 0], [0, -1, 0, 0], [-1, 0, 0, 0]]),\n",
    "\"γ2\":   sp.Matrix([[0, 0, 0, -i], [0, 0, i, 0], [0, i, 0, 0], [-i, 0, 0, 0]]),\n",
    "\"γ3\":   sp.Matrix([[0, 0, 1, 0], [0, 0, 0, -1], [-1, 0, 0, 0], [0, 1, 0, 0]]), \n",
    "\"γ5\":   sp.Matrix([[0, 0, 1, 0], [0, 0, 0, 1], [1, 0, 0, 0], [0, 1, 0, 0]]),\n",
    "\"γ0γ5\": sp.Matrix([[0, 0, 1, 0], [0, 0, 0, 1], [-1, 0, 0, 0], [0, -1, 0, 0]]),\n",
    "\"γ1γ5\": sp.Matrix([[0, 1, 0, 0], [1, 0, 0, 0], [0, 0, 0, -1], [0, 0, -1, 0]]),\n",
    "\"γ2γ5\": sp.Matrix([[0, -i, 0, 0], [i, 0, 0, 0], [0, 0, 0, i], [0, 0, -i, 0]]),\n",
    "\"γ3γ5\": sp.Matrix([[1, 0, 0, 0], [0, -1, 0, 0], [0, 0, -1, 0], [0, 0, 0, 1]]),\n",
    "\"σ01\":  sp.Matrix([[0, 0, 0, i], [0, 0, i, 0], [0, i, 0, 0], [i, 0, 0, 0]]),\n",
    "\"σ02\":  sp.Matrix([[0, 0, 0, 1], [0, 0, -1, 0], [0, 1, 0, 0], [-1, 0, 0, 0]]),\n",
    "\"σ03\":  sp.Matrix([[0, 0, i, 0], [0, 0, 0, -i], [i, 0, 0, 0], [0, -i, 0, 0]]),\n",
    "\"σ12\":  sp.Matrix([[1, 0, 0, 0], [0, -1, 0, 0], [0, 0, 1, 0], [0, 0, 0, -1]]),\n",
    "\"σ23\":  sp.Matrix([[0, 1, 0, 0], [1, 0, 0, 0], [0, 0, 0, 1], [0, 0, 1, 0]]),\n",
    "\"σ31\":  sp.Matrix([[0, -i, 0, 0], [i, 0, 0, 0], [0, 0, 0, -i], [0, 0, i, 0]])\n",
    "}"
   ]
  },
  {
   "cell_type": "markdown",
   "metadata": {},
   "source": [
    "The matrices $\\gamma^0$, $\\gamma^1$, $\\gamma^2$, and $\\gamma^3$, can be used to create the Clifford algebra $Cl_{1, 3}(\\mathbb{R})$. All the usual discussion about these matrices is on their math properties and alternative representations.\n",
    "\n",
    "My goal is to create a map between one of many complex-valued representations of 16 gamma matrices and 16 real-valued space-time number triplet operations. There is already arbitrariness in the above dictionary because for example $\\sigma^{ij}=-\\sigma^{ji}$. I chose a convention of lower number to higher number, but could have done it the other way. The space-time triples could use positive or negative triples. I use the positive convention."
   ]
  },
  {
   "cell_type": "markdown",
   "metadata": {},
   "source": [
    "A matrix is an operator in quantum field theory. As an operator, it cannot be observed directly. After all, an operator needs to operate on something, specifically a quantum state like a ket vector. For reasons I do not understand, people do not see what happens to a simple 4-vector that gets acted on by these operators.\n",
    "\n",
    "It should be noted that a real-valued space-time number dictionary is being created that multiplies any imaginary value by _-i_."
   ]
  },
  {
   "cell_type": "code",
   "execution_count": 3,
   "metadata": {},
   "outputs": [
    {
     "name": "stdout",
     "output_type": "stream",
     "text": [
      "I\n"
     ]
    },
    {
     "data": {
      "image/png": "[encoded data removed]",
      "text/latex": [
       "$\\displaystyle \\left[\\begin{matrix}t & x & y & z\\end{matrix}\\right]$"
      ],
      "text/plain": [
       "[t  x  y  z]"
      ]
     },
     "metadata": {},
     "output_type": "display_data"
    },
    {
     "name": "stdout",
     "output_type": "stream",
     "text": [
      "γ0\n"
     ]
    },
    {
     "data": {
      "image/png": "[encoded data removed]",
      "text/latex": [
       "$\\displaystyle \\left[\\begin{matrix}t & x & - y & - z\\end{matrix}\\right]$"
      ],
      "text/plain": [
       "[t  x  -y  -z]"
      ]
     },
     "metadata": {},
     "output_type": "display_data"
    },
    {
     "name": "stdout",
     "output_type": "stream",
     "text": [
      "γ1\n"
     ]
    },
    {
     "data": {
      "image/png": "[encoded data removed]",
      "text/latex": [
       "$\\displaystyle \\left[\\begin{matrix}- z & - y & x & t\\end{matrix}\\right]$"
      ],
      "text/plain": [
       "[-z  -y  x  t]"
      ]
     },
     "metadata": {},
     "output_type": "display_data"
    },
    {
     "name": "stdout",
     "output_type": "stream",
     "text": [
      "γ2\n"
     ]
    },
    {
     "data": {
      "image/png": "[encoded data removed]",
      "text/latex": [
       "$\\displaystyle \\left[\\begin{matrix}- i z & i y & i x & - i t\\end{matrix}\\right]$"
      ],
      "text/plain": [
       "[-ⅈ⋅z  ⅈ⋅y  ⅈ⋅x  -ⅈ⋅t]"
      ]
     },
     "metadata": {},
     "output_type": "display_data"
    },
    {
     "name": "stdout",
     "output_type": "stream",
     "text": [
      "γ3\n"
     ]
    },
    {
     "data": {
      "image/png": "[encoded data removed]",
      "text/latex": [
       "$\\displaystyle \\left[\\begin{matrix}- y & z & t & - x\\end{matrix}\\right]$"
      ],
      "text/plain": [
       "[-y  z  t  -x]"
      ]
     },
     "metadata": {},
     "output_type": "display_data"
    },
    {
     "name": "stdout",
     "output_type": "stream",
     "text": [
      "γ5\n"
     ]
    },
    {
     "data": {
      "image/png": "[encoded data removed]",
      "text/latex": [
       "$\\displaystyle \\left[\\begin{matrix}y & z & t & x\\end{matrix}\\right]$"
      ],
      "text/plain": [
       "[y  z  t  x]"
      ]
     },
     "metadata": {},
     "output_type": "display_data"
    },
    {
     "name": "stdout",
     "output_type": "stream",
     "text": [
      "γ0γ5\n"
     ]
    },
    {
     "data": {
      "image/png": "[encoded data removed]",
      "text/latex": [
       "$\\displaystyle \\left[\\begin{matrix}- y & - z & t & x\\end{matrix}\\right]$"
      ],
      "text/plain": [
       "[-y  -z  t  x]"
      ]
     },
     "metadata": {},
     "output_type": "display_data"
    },
    {
     "name": "stdout",
     "output_type": "stream",
     "text": [
      "γ1γ5\n"
     ]
    },
    {
     "data": {
      "image/png": "[encoded data removed]",
      "text/latex": [
       "$\\displaystyle \\left[\\begin{matrix}x & t & - z & - y\\end{matrix}\\right]$"
      ],
      "text/plain": [
       "[x  t  -z  -y]"
      ]
     },
     "metadata": {},
     "output_type": "display_data"
    },
    {
     "name": "stdout",
     "output_type": "stream",
     "text": [
      "γ2γ5\n"
     ]
    },
    {
     "data": {
      "image/png": "[encoded data removed]",
      "text/latex": [
       "$\\displaystyle \\left[\\begin{matrix}i x & - i t & - i z & i y\\end{matrix}\\right]$"
      ],
      "text/plain": [
       "[ⅈ⋅x  -ⅈ⋅t  -ⅈ⋅z  ⅈ⋅y]"
      ]
     },
     "metadata": {},
     "output_type": "display_data"
    },
    {
     "name": "stdout",
     "output_type": "stream",
     "text": [
      "γ3γ5\n"
     ]
    },
    {
     "data": {
      "image/png": "[encoded data removed]",
      "text/latex": [
       "$\\displaystyle \\left[\\begin{matrix}t & - x & - y & z\\end{matrix}\\right]$"
      ],
      "text/plain": [
       "[t  -x  -y  z]"
      ]
     },
     "metadata": {},
     "output_type": "display_data"
    },
    {
     "name": "stdout",
     "output_type": "stream",
     "text": [
      "σ01\n"
     ]
    },
    {
     "data": {
      "image/png": "[encoded data removed]",
      "text/latex": [
       "$\\displaystyle \\left[\\begin{matrix}i z & i y & i x & i t\\end{matrix}\\right]$"
      ],
      "text/plain": [
       "[ⅈ⋅z  ⅈ⋅y  ⅈ⋅x  ⅈ⋅t]"
      ]
     },
     "metadata": {},
     "output_type": "display_data"
    },
    {
     "name": "stdout",
     "output_type": "stream",
     "text": [
      "σ02\n"
     ]
    },
    {
     "data": {
      "image/png": "[encoded data removed]",
      "text/latex": [
       "$\\displaystyle \\left[\\begin{matrix}- z & y & - x & t\\end{matrix}\\right]$"
      ],
      "text/plain": [
       "[-z  y  -x  t]"
      ]
     },
     "metadata": {},
     "output_type": "display_data"
    },
    {
     "name": "stdout",
     "output_type": "stream",
     "text": [
      "σ03\n"
     ]
    },
    {
     "data": {
      "image/png": "[encoded data removed]",
      "text/latex": [
       "$\\displaystyle \\left[\\begin{matrix}i y & - i z & i t & - i x\\end{matrix}\\right]$"
      ],
      "text/plain": [
       "[ⅈ⋅y  -ⅈ⋅z  ⅈ⋅t  -ⅈ⋅x]"
      ]
     },
     "metadata": {},
     "output_type": "display_data"
    },
    {
     "name": "stdout",
     "output_type": "stream",
     "text": [
      "σ12\n"
     ]
    },
    {
     "data": {
      "image/png": "[encoded data removed]",
      "text/latex": [
       "$\\displaystyle \\left[\\begin{matrix}t & - x & y & - z\\end{matrix}\\right]$"
      ],
      "text/plain": [
       "[t  -x  y  -z]"
      ]
     },
     "metadata": {},
     "output_type": "display_data"
    },
    {
     "name": "stdout",
     "output_type": "stream",
     "text": [
      "σ23\n"
     ]
    },
    {
     "data": {
      "image/png": "[encoded data removed]",
      "text/latex": [
       "$\\displaystyle \\left[\\begin{matrix}x & t & z & y\\end{matrix}\\right]$"
      ],
      "text/plain": [
       "[x  t  z  y]"
      ]
     },
     "metadata": {},
     "output_type": "display_data"
    },
    {
     "name": "stdout",
     "output_type": "stream",
     "text": [
      "σ31\n"
     ]
    },
    {
     "data": {
      "image/png": "[encoded data removed]",
      "text/latex": [
       "$\\displaystyle \\left[\\begin{matrix}i x & - i t & i z & - i y\\end{matrix}\\right]$"
      ],
      "text/plain": [
       "[ⅈ⋅x  -ⅈ⋅t  ⅈ⋅z  -ⅈ⋅y]"
      ]
     },
     "metadata": {},
     "output_type": "display_data"
    }
   ],
   "source": [
    "# Symbolic manipulation\n",
    "t, x, y, z = sp.symbols(\"t x y z\")\n",
    "txyz = sp.Matrix([t, x, y, z])\n",
    "gamma_txyz = {}\n",
    "\n",
    "for name, matrix in γs.items():\n",
    "    txyz_matrix = sp.Transpose(txyz) * matrix\n",
    "    \n",
    "    no_i = []\n",
    "    for index in range(0, 4):\n",
    "        part = txyz_matrix[index]\n",
    "        if part.subs({t:1, x:1, y:1, z:1}).is_imaginary:\n",
    "            part *= -sp.I\n",
    "        no_i.append(part)\n",
    "    gamma_txyz[name] = Q(no_i)\n",
    "    print(f\"{name}\")\n",
    "    display(txyz_matrix)"
   ]
  },
  {
   "cell_type": "markdown",
   "metadata": {},
   "source": [
    "What is going on here? I call it the aggressive shuffle of information. Notice how each variable occurs 4 times in each of the 4 positions. In three quarters of the cases, half the time with positive signs, half with negative signs. Gamma matrices are used in calculations of relativistic quantum mechanics, the results from atom smashers like the LHC. This is a  subject that can calculate all possible ways particles can interact, including both particles going forward in time as well as antiparticles going backward in time. The gamma matrices appear to provide a means for a complete survey of possibilities.\n",
    "\n",
    "Can all possible space-time triples do a similar task, up to factors of i?"
   ]
  },
  {
   "cell_type": "code",
   "execution_count": 4,
   "metadata": {},
   "outputs": [
    {
     "name": "stdout",
     "output_type": "stream",
     "text": [
      "1 q 1\n",
      "(1.0*t, 1.0*x, 1.0*y, 1.0*z) 1xQx1\n",
      "match for: I\n",
      "1 q i\n",
      "(-1.0*x, 1.0*t, 1.0*z, -1.0*y) 1xQxi\n",
      "1 q j\n",
      "(-1.0*y, -1.0*z, 1.0*t, 1.0*x) 1xQxj\n",
      "match for: γ0γ5\n",
      "1 q k\n",
      "(-1.0*z, 1.0*y, -1.0*x, 1.0*t) 1xQxk\n",
      "match for: σ02\n",
      "i q 1\n",
      "(-1.0*x, 1.0*t, -1.0*z, 1.0*y) ixQx1\n",
      "i q i\n",
      "(-1.0*t, -1.0*x, 1.0*y, 1.0*z) ixQxi\n",
      "i q j\n",
      "(1.0*z, -1.0*y, -1.0*x, 1.0*t) ixQxj\n",
      "i q k\n",
      "(-1.0*y, -1.0*z, -1.0*t, -1.0*x) ixQxk\n",
      "j q 1\n",
      "(-1.0*y, 1.0*z, 1.0*t, -1.0*x) jxQx1\n",
      "match for: γ3\n",
      "j q i\n",
      "(-1.0*z, -1.0*y, -1.0*x, -1.0*t) jxQxi\n",
      "j q j\n",
      "(-1.0*t, 1.0*x, -1.0*y, 1.0*z) jxQxj\n",
      "j q k\n",
      "(1.0*x, 1.0*t, -1.0*z, -1.0*y) jxQxk\n",
      "match for: γ1γ5\n",
      "k q 1\n",
      "(-1.0*z, -1.0*y, 1.0*x, 1.0*t) kxQx1\n",
      "match for: γ1\n",
      "k q i\n",
      "(1.0*y, -1.0*z, 1.0*t, -1.0*x) kxQxi\n",
      "match for: σ03\n",
      "k q j\n",
      "(-1.0*x, -1.0*t, -1.0*z, -1.0*y) kxQxj\n",
      "k q k\n",
      "(-t, x, y, -z) kxQxk\n",
      "Number that are the same as matrix approach: 7\n"
     ]
    }
   ],
   "source": [
    "q_txyz = Q([t, x, y, z])\n",
    "q4 = {\"1\": q1(), \"i\": qi(), \"j\": qj(), \"k\": qk()}\n",
    "\n",
    "same_count = 0\n",
    "\n",
    "for pre_label, pre_q in q4.items():\n",
    "    for post_label, post_q in q4.items():\n",
    "        qtq = product(product(pre_q, q_txyz), post_q)\n",
    "        print(f\"{pre_label} q {post_label}\\n{qtq}\")\n",
    "        \n",
    "        for gamma, matrix_q in gamma_txyz.items():\n",
    "            if equal(matrix_q, qtq):\n",
    "                same_count += 1\n",
    "                print(f\"match for: {gamma}\")\n",
    "            \n",
    "print(f\"Number that are the same as matrix approach: {same_count}\")"
   ]
  },
  {
   "cell_type": "markdown",
   "metadata": {},
   "source": [
    "This does have the each 4 variables in each of the four positions. There are 7 matches, a little under 50%. If one were picking signs without any thought, that is what we would expect. Now make adjustments to gammas to match the space-time number triplets."
   ]
  },
  {
   "cell_type": "code",
   "execution_count": 5,
   "metadata": {},
   "outputs": [
    {
     "name": "stdout",
     "output_type": "stream",
     "text": [
      "I\n"
     ]
    },
    {
     "data": {
      "image/png": "[encoded data removed]",
      "text/latex": [
       "$\\displaystyle \\left[\\begin{matrix}t & x & y & z\\end{matrix}\\right]$"
      ],
      "text/plain": [
       "[t  x  y  z]"
      ]
     },
     "metadata": {},
     "output_type": "display_data"
    },
    {
     "name": "stdout",
     "output_type": "stream",
     "text": [
      "-γ0\n"
     ]
    },
    {
     "data": {
      "image/png": "[encoded data removed]",
      "text/latex": [
       "$\\displaystyle \\left[\\begin{matrix}- t & - x & y & z\\end{matrix}\\right]$"
      ],
      "text/plain": [
       "[-t  -x  y  z]"
      ]
     },
     "metadata": {},
     "output_type": "display_data"
    },
    {
     "name": "stdout",
     "output_type": "stream",
     "text": [
      "γ1\n"
     ]
    },
    {
     "data": {
      "image/png": "[encoded data removed]",
      "text/latex": [
       "$\\displaystyle \\left[\\begin{matrix}- z & - y & x & t\\end{matrix}\\right]$"
      ],
      "text/plain": [
       "[-z  -y  x  t]"
      ]
     },
     "metadata": {},
     "output_type": "display_data"
    },
    {
     "name": "stdout",
     "output_type": "stream",
     "text": [
      "γ2_i\n"
     ]
    },
    {
     "data": {
      "image/png": "[encoded data removed]",
      "text/latex": [
       "$\\displaystyle \\left[\\begin{matrix}z & - y & - x & t\\end{matrix}\\right]$"
      ],
      "text/plain": [
       "[z  -y  -x  t]"
      ]
     },
     "metadata": {},
     "output_type": "display_data"
    },
    {
     "name": "stdout",
     "output_type": "stream",
     "text": [
      "γ3\n"
     ]
    },
    {
     "data": {
      "image/png": "[encoded data removed]",
      "text/latex": [
       "$\\displaystyle \\left[\\begin{matrix}- y & z & t & - x\\end{matrix}\\right]$"
      ],
      "text/plain": [
       "[-y  z  t  -x]"
      ]
     },
     "metadata": {},
     "output_type": "display_data"
    },
    {
     "name": "stdout",
     "output_type": "stream",
     "text": [
      "-γ5\n"
     ]
    },
    {
     "data": {
      "image/png": "[encoded data removed]",
      "text/latex": [
       "$\\displaystyle \\left[\\begin{matrix}- y & - z & - t & - x\\end{matrix}\\right]$"
      ],
      "text/plain": [
       "[-y  -z  -t  -x]"
      ]
     },
     "metadata": {},
     "output_type": "display_data"
    },
    {
     "name": "stdout",
     "output_type": "stream",
     "text": [
      "γ0γ5\n"
     ]
    },
    {
     "data": {
      "image/png": "[encoded data removed]",
      "text/latex": [
       "$\\displaystyle \\left[\\begin{matrix}- y & - z & t & x\\end{matrix}\\right]$"
      ],
      "text/plain": [
       "[-y  -z  t  x]"
      ]
     },
     "metadata": {},
     "output_type": "display_data"
    },
    {
     "name": "stdout",
     "output_type": "stream",
     "text": [
      "γ1γ5\n"
     ]
    },
    {
     "data": {
      "image/png": "[encoded data removed]",
      "text/latex": [
       "$\\displaystyle \\left[\\begin{matrix}x & t & - z & - y\\end{matrix}\\right]$"
      ],
      "text/plain": [
       "[x  t  -z  -y]"
      ]
     },
     "metadata": {},
     "output_type": "display_data"
    },
    {
     "name": "stdout",
     "output_type": "stream",
     "text": [
      "γ2γ5_i\n"
     ]
    },
    {
     "data": {
      "image/png": "[encoded data removed]",
      "text/latex": [
       "$\\displaystyle \\left[\\begin{matrix}- x & t & z & - y\\end{matrix}\\right]$"
      ],
      "text/plain": [
       "[-x  t  z  -y]"
      ]
     },
     "metadata": {},
     "output_type": "display_data"
    },
    {
     "name": "stdout",
     "output_type": "stream",
     "text": [
      "-γ3γ5\n"
     ]
    },
    {
     "data": {
      "image/png": "[encoded data removed]",
      "text/latex": [
       "$\\displaystyle \\left[\\begin{matrix}- t & x & y & - z\\end{matrix}\\right]$"
      ],
      "text/plain": [
       "[-t  x  y  -z]"
      ]
     },
     "metadata": {},
     "output_type": "display_data"
    },
    {
     "name": "stdout",
     "output_type": "stream",
     "text": [
      "σ01_i\n"
     ]
    },
    {
     "data": {
      "image/png": "[encoded data removed]",
      "text/latex": [
       "$\\displaystyle \\left[\\begin{matrix}- z & - y & - x & - t\\end{matrix}\\right]$"
      ],
      "text/plain": [
       "[-z  -y  -x  -t]"
      ]
     },
     "metadata": {},
     "output_type": "display_data"
    },
    {
     "name": "stdout",
     "output_type": "stream",
     "text": [
      "σ02\n"
     ]
    },
    {
     "data": {
      "image/png": "[encoded data removed]",
      "text/latex": [
       "$\\displaystyle \\left[\\begin{matrix}- z & y & - x & t\\end{matrix}\\right]$"
      ],
      "text/plain": [
       "[-z  y  -x  t]"
      ]
     },
     "metadata": {},
     "output_type": "display_data"
    },
    {
     "name": "stdout",
     "output_type": "stream",
     "text": [
      "σ30_i\n"
     ]
    },
    {
     "data": {
      "image/png": "[encoded data removed]",
      "text/latex": [
       "$\\displaystyle \\left[\\begin{matrix}y & - z & t & - x\\end{matrix}\\right]$"
      ],
      "text/plain": [
       "[y  -z  t  -x]"
      ]
     },
     "metadata": {},
     "output_type": "display_data"
    },
    {
     "name": "stdout",
     "output_type": "stream",
     "text": [
      "σ21\n"
     ]
    },
    {
     "data": {
      "image/png": "[encoded data removed]",
      "text/latex": [
       "$\\displaystyle \\left[\\begin{matrix}- t & x & - y & z\\end{matrix}\\right]$"
      ],
      "text/plain": [
       "[-t  x  -y  z]"
      ]
     },
     "metadata": {},
     "output_type": "display_data"
    },
    {
     "name": "stdout",
     "output_type": "stream",
     "text": [
      "σ32\n"
     ]
    },
    {
     "data": {
      "image/png": "[encoded data removed]",
      "text/latex": [
       "$\\displaystyle \\left[\\begin{matrix}- x & - t & - z & - y\\end{matrix}\\right]$"
      ],
      "text/plain": [
       "[-x  -t  -z  -y]"
      ]
     },
     "metadata": {},
     "output_type": "display_data"
    },
    {
     "name": "stdout",
     "output_type": "stream",
     "text": [
      "σ31\n"
     ]
    },
    {
     "data": {
      "image/png": "[encoded data removed]",
      "text/latex": [
       "$\\displaystyle \\left[\\begin{matrix}- x & t & - z & y\\end{matrix}\\right]$"
      ],
      "text/plain": [
       "[-x  t  -z  y]"
      ]
     },
     "metadata": {},
     "output_type": "display_data"
    },
    {
     "name": "stdout",
     "output_type": "stream",
     "text": [
      "1 q 1\n",
      "(1.0*t, 1.0*x, 1.0*y, 1.0*z) 1xQx1\n",
      "match for: I\n",
      "1 q i\n",
      "(-1.0*x, 1.0*t, 1.0*z, -1.0*y) 1xQxi\n",
      "match for: γ2γ5_i\n",
      "1 q j\n",
      "(-1.0*y, -1.0*z, 1.0*t, 1.0*x) 1xQxj\n",
      "match for: γ0γ5\n",
      "1 q k\n",
      "(-1.0*z, 1.0*y, -1.0*x, 1.0*t) 1xQxk\n",
      "match for: σ02\n",
      "i q 1\n",
      "(-1.0*x, 1.0*t, -1.0*z, 1.0*y) ixQx1\n",
      "match for: σ31\n",
      "i q i\n",
      "(-1.0*t, -1.0*x, 1.0*y, 1.0*z) ixQxi\n",
      "match for: -γ0\n",
      "i q j\n",
      "(1.0*z, -1.0*y, -1.0*x, 1.0*t) ixQxj\n",
      "match for: γ2_i\n",
      "i q k\n",
      "(-1.0*y, -1.0*z, -1.0*t, -1.0*x) ixQxk\n",
      "match for: -γ5\n",
      "j q 1\n",
      "(-1.0*y, 1.0*z, 1.0*t, -1.0*x) jxQx1\n",
      "match for: γ3\n",
      "j q i\n",
      "(-1.0*z, -1.0*y, -1.0*x, -1.0*t) jxQxi\n",
      "match for: σ01_i\n",
      "j q j\n",
      "(-1.0*t, 1.0*x, -1.0*y, 1.0*z) jxQxj\n",
      "match for: σ21\n",
      "j q k\n",
      "(1.0*x, 1.0*t, -1.0*z, -1.0*y) jxQxk\n",
      "match for: γ1γ5\n",
      "k q 1\n",
      "(-1.0*z, -1.0*y, 1.0*x, 1.0*t) kxQx1\n",
      "match for: γ1\n",
      "k q i\n",
      "(1.0*y, -1.0*z, 1.0*t, -1.0*x) kxQxi\n",
      "match for: σ30_i\n",
      "k q j\n",
      "(-1.0*x, -1.0*t, -1.0*z, -1.0*y) kxQxj\n",
      "match for: σ32\n",
      "k q k\n",
      "(-t, x, y, -z) kxQxk\n",
      "match for: -γ3γ5\n",
      "Number that are the same as matrix approach: 16\n"
     ]
    }
   ],
   "source": [
    "the_16 = {\n",
    "\"I\":    sp.Matrix([[1, 0, 0, 0], [0, 1, 0, 0], [0, 0, 1, 0], [0, 0, 0, 1]]),\n",
    "\"-γ0\":   sp.Matrix([[-1, 0, 0, 0], [0, -1, 0, 0], [0, 0, 1, 0], [0, 0, 0, 1]]),\n",
    "\"γ1\":   sp.Matrix([[0, 0, 0, 1], [0, 0, 1, 0], [0, -1, 0, 0], [-1, 0, 0, 0]]),\n",
    "\"γ2_i\":   sp.Matrix([[0, 0, 0, -i], [0, 0, i, 0], [0, i, 0, 0], [-i, 0, 0, 0]]) * i,\n",
    "\"γ3\":   sp.Matrix([[0, 0, 1, 0], [0, 0, 0, -1], [-1, 0, 0, 0], [0, 1, 0, 0]]), \n",
    "\"-γ5\":   sp.Matrix([[0, 0, -1, 0], [0, 0, 0, -1], [-1, 0, 0, 0], [0, -1, 0, 0]]),\n",
    "\"γ0γ5\": sp.Matrix([[0, 0, 1, 0], [0, 0, 0, 1], [-1, 0, 0, 0], [0, -1, 0, 0]]),\n",
    "\"γ1γ5\": sp.Matrix([[0, 1, 0, 0], [1, 0, 0, 0], [0, 0, 0, -1], [0, 0, -1, 0]]),\n",
    "\"γ2γ5_i\": sp.Matrix([[0, -i, 0, 0], [i, 0, 0, 0], [0, 0, 0, i], [0, 0, -i, 0]]) * i,\n",
    "\"-γ3γ5\": sp.Matrix([[-1, 0, 0, 0], [0, 1, 0, 0], [0, 0, 1, 0], [0, 0, 0, -1]]),\n",
    "\"σ01_i\":  sp.Matrix([[0, 0, 0, i], [0, 0, i, 0], [0, i, 0, 0], [i, 0, 0, 0]]) * i,\n",
    "\"σ02\":  sp.Matrix([[0, 0, 0, 1], [0, 0, -1, 0], [0, 1, 0, 0], [-1, 0, 0, 0]]),\n",
    "\"σ30_i\":  sp.Matrix([[0, 0, -i, 0], [0, 0, 0, i], [-i, 0, 0, 0], [0, i, 0, 0]]) * i,\n",
    "\"σ21\":  sp.Matrix([[-1, 0, 0, 0], [0, 1, 0, 0], [0, 0, -1, 0], [0, 0, 0, 1]]),\n",
    "\"σ32\":  sp.Matrix([[0, -1, 0, 0], [-1, 0, 0, 0], [0, 0, 0, -1], [0, 0, -1, 0]]),\n",
    "\"σ31\":  sp.Matrix([[0, -i, 0, 0], [i, 0, 0, 0], [0, 0, 0, -i], [0, 0, i, 0]]) * i\n",
    "}\n",
    "\n",
    "gamma_txyz = {}\n",
    "for name, matrix in the_16.items():\n",
    "    txyz_matrix = sp.Transpose(txyz) * matrix\n",
    "    \n",
    "    gamma_txyz[name] = Q([txyz_matrix[0], txyz_matrix[1], txyz_matrix[2], txyz_matrix[3]])\n",
    "    print(f\"{name}\")\n",
    "    display(txyz_matrix)\n",
    "\n",
    "same_count = 0\n",
    "\n",
    "for pre_label, pre_q in q4.items():\n",
    "    for post_label, post_q in q4.items():\n",
    "        qtq = product(product(pre_q, q_txyz), post_q)\n",
    "        print(f\"{pre_label} q {post_label}\\n{qtq}\")\n",
    "        \n",
    "        for gamma, matrix_q in gamma_txyz.items():\n",
    "            if equal(matrix_q, qtq):\n",
    "                same_count += 1\n",
    "                print(f\"match for: {gamma}\")\n",
    "            \n",
    "print(f\"Number that are the same as matrix approach: {same_count}\")"
   ]
  },
  {
   "cell_type": "markdown",
   "metadata": {},
   "source": [
    "A function can be created to make any one of these, call it gamma(). It is a operator, so needs to be given a space-time number to act upon. Each can be referenced with either  All 16 as a space-time number series, call it gammas()."
   ]
  },
  {
   "cell_type": "code",
   "execution_count": 6,
   "metadata": {},
   "outputs": [],
   "source": [
    "def gamma(q_1: Q, kind: str=\"I\", verbose: bool=False, rescale_scalar: float=1.0, rescale_vectors: float=1.0) -> Q:\n",
    "    \"\"\"A way to generate the effect of a gamma matrix acting on a space-time number q_1\n",
    "       using a space-time number triplet product. Each can be called using either a\n",
    "       pair of bases, like say '11', 'ii', or 'ik', or one that uses gammas and sigmas.\n",
    "       the verbose option will list these choices.\n",
    "       \n",
    "       Args:\n",
    "           q_1: Q  A quaternion to be acted upon\n",
    "           kind: str   A string used to pick out one of the 16. Using space-time numbers,\n",
    "                       examples would include '11', 'ii', or 'ij'.\n",
    "                       There are probably many differing convensions for gamma matrices.\n",
    "           verbose: bool  Will list the ways to create each of the 16 gamma matrices\n",
    "           rescale_scalar: float   can rescale the scalar, possibly relevant for special relativity and gravity\n",
    "           rescale_vectors: float   can rescale the 3-vectors, possibly relevant for special relativity and gravity\n",
    "           \n",
    "        Returns:\n",
    "           Q    a quaternion acted on by the chosen gamma matrice.\n",
    "    \"\"\"\n",
    "    \n",
    "    rescaled_1 = q1(rescale_scalar)\n",
    "    rescaled_i = qi(rescale_vectors)\n",
    "    rescaled_j = qj(rescale_vectors)\n",
    "    rescaled_k = qk(rescale_vectors)\n",
    "    \n",
    "    synonyms = {}\n",
    "    synonyms[\"11\"] = (\"11\", \"I\")\n",
    "    synonyms[\"1i\"] = (\"1i\", \"γ2γ5\", \"γ2γ5_i\", \"g2g5\", \"g2g5_i\")\n",
    "    synonyms[\"1j\"] = (\"1j\", \"γ0γ5\", \"g0g5\")\n",
    "    synonyms[\"1k\"] = (\"1k\", \"σ02\", \"s02\", \"-σ20\", \"-s20\")\n",
    "    \n",
    "    synonyms[\"i1\"] = (\"i1\", \"σ31\", \"s31\", \"-σ13\", \"-s13\")\n",
    "    synonyms[\"ii\"] = (\"ii\", \"-γ0\", \"-g0\")\n",
    "    synonyms[\"ij\"] = (\"ij\", \"γ2_i\", \"γ2\", \"g2_i\", \"g2\")\n",
    "    synonyms[\"ik\"] = (\"ik\", \"-γ5\", \"-g5\")\n",
    "    \n",
    "    synonyms[\"j1\"] = (\"j1\", \"γ3\", \"g3\")\n",
    "    synonyms[\"ji\"] = (\"ji\", \"σ01_i\", \"s01_i\", \"σ01\", \"s01\", \"-σ10_i\", \"-s10_i\", \"-σ10\", \"-s10\")\n",
    "    synonyms[\"jj\"] = (\"jj\", \"σ21\", \"s21\", \"-σ12\", \"-s12\")\n",
    "    synonyms[\"jk\"] = (\"jk\", \"γ1γ5\", \"g1g5\")\n",
    "    \n",
    "    synonyms[\"k1\"] = (\"k1\", \"γ1\", \"g1\")\n",
    "    synonyms[\"ki\"] = (\"ki\", \"σ30_i\", \"s30_i\", \"σ30\", \"s30\", \"-σ03_i\", \"-s03_i\", \"-σ03\", \"-s30\")\n",
    "    synonyms[\"kj\"] = (\"kj\", \"σ32\", \"s32\", \"-σ23\", \"-s23\")\n",
    "    synonyms[\"kk\"] = (\"kk\", \"γ3γ5\", \"g3g5\")\n",
    "    \n",
    "    if verbose:\n",
    "        for synonym in synonyms.values():\n",
    "            print(synonym)\n",
    "        \n",
    "    if kind in (synonyms[\"11\"]):\n",
    "        result = q_1\n",
    "        \n",
    "    elif kind in (synonyms[\"1i\"]):\n",
    "        result = product(product(rescaled_1, q_1), rescaled_i)\n",
    "    \n",
    "    elif kind in (synonyms[\"1j\"]):\n",
    "        result = product(product(rescaled_1, q_1), rescaled_j)\n",
    "    \n",
    "    elif kind in (synonyms[\"1k\"]):\n",
    "        result = product(product(rescaled_1, q_1), rescaled_k)\n",
    "    \n",
    "    elif kind in (synonyms[\"i1\"]):\n",
    "        result = product(product(rescaled_i, q_1), rescaled_1)\n",
    "    \n",
    "    elif kind in (synonyms[\"ii\"]):\n",
    "        result = product(product(rescaled_i, q_1), rescaled_i)\n",
    "    \n",
    "    elif kind in (synonyms[\"ij\"]):\n",
    "        result = product(product(rescaled_i, q_1), rescaled_j)\n",
    "    \n",
    "    elif kind in (synonyms[\"ik\"]):\n",
    "        result = product(product(rescaled_i, q_1), rescaled_k)\n",
    "    \n",
    "    elif kind in (synonyms[\"j1\"]):\n",
    "        result = product(product(rescaled_j, q_1), rescaled_1)\n",
    "    \n",
    "    elif kind in (synonyms[\"ji\"]):\n",
    "        result = product(product(rescaled_j, q_1), rescaled_i)\n",
    "    \n",
    "    elif kind in (synonyms[\"jj\"]):\n",
    "        result = product(product(rescaled_j, q_1), rescaled_j)\n",
    "    \n",
    "    elif kind in (synonyms[\"jk\"]):\n",
    "        result = product(product(rescaled_j, q_1), rescaled_k)\n",
    "    \n",
    "    elif kind in (synonyms[\"k1\"]):\n",
    "        result = product(product(rescaled_k, q_1), rescaled_1)\n",
    "    \n",
    "    elif kind in (synonyms[\"ki\"]):\n",
    "        result = product(product(rescaled_k, q_1), rescaled_i)\n",
    "    \n",
    "    elif kind in (synonyms[\"kj\"]):\n",
    "        result = product(product(rescaled_k, q_1), rescaled_j)\n",
    "    \n",
    "    elif kind in (synonyms[\"kk\"]):\n",
    "        result = product(product(rescaled_k, q_1), rescaled_k)\n",
    "        \n",
    "    elif kind in (\"γ0\", \"g0\"):\n",
    "        result = flip_sign(product(product(rescaled_i, q_1), rescaled_i))\n",
    "        \n",
    "    elif kind in (\"γ5\", \"g5\"):\n",
    "        result = flip_sign(product(product(rescaled_i, q_1), rescaled_k))\n",
    "        \n",
    "    return result\n",
    "        \n",
    "        "
   ]
  },
  {
   "cell_type": "code",
   "execution_count": 7,
   "metadata": {},
   "outputs": [],
   "source": [
    "def gammas(q_1: Qs, kind: str=\"I\", verbose: bool=False, rescale_scalar: float=1.0, rescale_vectors: float=1.0) -> Qs:\n",
    "    f\"\"\"{gamma.__doc__}\"\"\".replace(\"Q\", \"Qs\")\n",
    "    return Qs([gamma(q, kind, verbose, rescale_scalar, rescale_vectors) for q in q_1.qs], qs_type=q_1.qs_type, rows=q_1.rows,\n",
    "              columns=q_1.columns)"
   ]
  },
  {
   "cell_type": "code",
   "execution_count": 8,
   "metadata": {},
   "outputs": [
    {
     "name": "stdout",
     "output_type": "stream",
     "text": [
      "(-1.0*x, 1.0*t, 1.0*z, -1.0*y) 1xQxi\n"
     ]
    }
   ],
   "source": [
    "print(gamma(q_txyz, \"1i\"))"
   ]
  },
  {
   "cell_type": "code",
   "execution_count": 9,
   "metadata": {},
   "outputs": [],
   "source": [
    "def test__gamma():    \n",
    "\n",
    "    q_txyz = Q([t, x, y, z])\n",
    "    q_11 = q_txyz\n",
    "    q_1i = Q([-x, t, z, -y])\n",
    "    q_1j = Q([-y, -z, t, x])\n",
    "    q_1k = Q([-z, y, -x, t])\n",
    "    q_i1 = Q([-x, t, -z, y])\n",
    "    q_ii = Q([-t, -x, y, z])\n",
    "    q_ij = Q([z, -y, -x, t])\n",
    "    q_ik = Q([-y, -z, -t, -x])\n",
    "    q_j1 = Q([-y, z, t, -x])\n",
    "    q_ji = Q([-z, -y, -x, -t])\n",
    "    q_jj = Q([-t, x, -y, z])\n",
    "    q_jk = Q([x, t, -z, -y])\n",
    "    q_k1 = Q([-z, -y, x, t])\n",
    "    q_ki = Q([y, -z, t, -x])\n",
    "    q_kj = Q([-x, -t, -z, -y])\n",
    "    q_kk = Q([-t, x, y, -z])\n",
    " \n",
    "    assert equal(gamma(q_txyz, \"11\"), q_11)\n",
    "    assert equal(gamma(q_txyz, \"1i\"), q_1i)\n",
    "    assert equal(gamma(q_txyz, \"1j\"), q_1j)\n",
    "    assert equal(gamma(q_txyz, \"1k\"), q_1k)\n",
    "    assert equal(gamma(q_txyz, \"i1\"), q_i1)\n",
    "    assert equal(gamma(q_txyz, \"ii\"), q_ii)\n",
    "    assert equal(gamma(q_txyz, \"ij\"), q_ij)\n",
    "    assert equal(gamma(q_txyz, \"ik\"), q_ik)\n",
    "    assert equal(gamma(q_txyz, \"j1\"), q_j1)\n",
    "    assert equal(gamma(q_txyz, \"ji\"), q_ji)\n",
    "    assert equal(gamma(q_txyz, \"jj\"), q_jj)\n",
    "    assert equal(gamma(q_txyz, \"jk\"), q_jk)\n",
    "    assert equal(gamma(q_txyz, \"k1\"), q_k1)\n",
    "    assert equal(gamma(q_txyz, \"ki\"), q_ki)\n",
    "    assert equal(gamma(q_txyz, \"kj\"), q_kj)\n",
    "    assert equal(gamma(q_txyz, \"kk\"), q_kk)\n",
    "\n",
    "test__gamma()"
   ]
  },
  {
   "cell_type": "code",
   "execution_count": 10,
   "metadata": {},
   "outputs": [],
   "source": [
    "def test__gammas():    \n",
    "\n",
    "    qs_txyz = Qs([Q([t, x, y, z])])\n",
    "    qs_11 = qs_txyz\n",
    "    qs_1i = Qs([Q([-x, t, z, -y])])\n",
    "    qs_1j = Qs([Q([-y, -z, t, x])])\n",
    "    qs_1k = Qs([Q([-z, y, -x, t])])\n",
    "    qs_i1 = Qs([Q([-x, t, -z, y])])\n",
    "    qs_ii = Qs([Q([-t, -x, y, z])])\n",
    "    qs_ij = Qs([Q([z, -y, -x, t])])\n",
    "    qs_ik = Qs([Q([-y, -z, -t, -x])])\n",
    "    qs_j1 = Qs([Q([-y, z, t, -x])])\n",
    "    qs_ji = Qs([Q([-z, -y, -x, -t])])\n",
    "    qs_jj = Qs([Q([-t, x, -y, z])])\n",
    "    qs_jk = Qs([Q([x, t, -z, -y])])\n",
    "    qs_k1 = Qs([Q([-z, -y, x, t])])\n",
    "    qs_ki = Qs([Q([y, -z, t, -x])])\n",
    "    qs_kj = Qs([Q([-x, -t, -z, -y])])\n",
    "    qs_kk = Qs([Q([-t, x, y, -z])])\n",
    " \n",
    "    assert equals(gammas(qs_txyz, \"11\"), qs_11)\n",
    "    assert equals(gammas(qs_txyz, \"1i\"), qs_1i)\n",
    "    assert equals(gammas(qs_txyz, \"1j\"), qs_1j)\n",
    "    assert equals(gammas(qs_txyz, \"1k\"), qs_1k)\n",
    "    assert equals(gammas(qs_txyz, \"i1\"), qs_i1)\n",
    "    assert equals(gammas(qs_txyz, \"ii\"), qs_ii)\n",
    "    assert equals(gammas(qs_txyz, \"ij\"), qs_ij)\n",
    "    assert equals(gammas(qs_txyz, \"ik\"), qs_ik)\n",
    "    assert equals(gammas(qs_txyz, \"j1\"), qs_j1)\n",
    "    assert equals(gammas(qs_txyz, \"ji\"), qs_ji)\n",
    "    assert equals(gammas(qs_txyz, \"jj\"), qs_jj)\n",
    "    assert equals(gammas(qs_txyz, \"jk\"), qs_jk)\n",
    "    assert equals(gammas(qs_txyz, \"k1\"), qs_k1)\n",
    "    assert equals(gammas(qs_txyz, \"ki\"), qs_ki)\n",
    "    assert equals(gammas(qs_txyz, \"kj\"), qs_kj)\n",
    "    assert equals(gammas(qs_txyz, \"kk\"), qs_kk)\n",
    "\n",
    "test__gammas()"
   ]
  },
  {
   "cell_type": "code",
   "execution_count": 11,
   "metadata": {},
   "outputs": [],
   "source": [
    "def generate_gammas(q_1, rescale_scalar: float=1.0, rescale_vectors: float=1.0) -> Qs:\n",
    "    \"\"\"Create 16 gammas matrices in a space-time number series.\"\"\"\n",
    "    \n",
    "    return Qs([gamma(q_1, kind=\"11\", rescale_scalar=rescale_scalar, rescale_vectors=rescale_vectors),\n",
    "               gamma(q_1, kind=\"1i\", rescale_scalar=rescale_scalar, rescale_vectors=rescale_vectors),\n",
    "               gamma(q_1, kind=\"1j\", rescale_scalar=rescale_scalar, rescale_vectors=rescale_vectors),\n",
    "               gamma(q_1, kind=\"1k\", rescale_scalar=rescale_scalar, rescale_vectors=rescale_vectors),\n",
    "               gamma(q_1, kind=\"i1\", rescale_scalar=rescale_scalar, rescale_vectors=rescale_vectors),\n",
    "               gamma(q_1, kind=\"ii\", rescale_scalar=rescale_scalar, rescale_vectors=rescale_vectors),\n",
    "               gamma(q_1, kind=\"ij\", rescale_scalar=rescale_scalar, rescale_vectors=rescale_vectors),\n",
    "               gamma(q_1, kind=\"ik\", rescale_scalar=rescale_scalar, rescale_vectors=rescale_vectors),\n",
    "               gamma(q_1, kind=\"j1\", rescale_scalar=rescale_scalar, rescale_vectors=rescale_vectors),\n",
    "               gamma(q_1, kind=\"ji\", rescale_scalar=rescale_scalar, rescale_vectors=rescale_vectors),\n",
    "               gamma(q_1, kind=\"jj\", rescale_scalar=rescale_scalar, rescale_vectors=rescale_vectors),\n",
    "               gamma(q_1, kind=\"jk\", rescale_scalar=rescale_scalar, rescale_vectors=rescale_vectors),\n",
    "               gamma(q_1, kind=\"k1\", rescale_scalar=rescale_scalar, rescale_vectors=rescale_vectors),\n",
    "               gamma(q_1, kind=\"ki\", rescale_scalar=rescale_scalar, rescale_vectors=rescale_vectors),\n",
    "               gamma(q_1, kind=\"kj\", rescale_scalar=rescale_scalar, rescale_vectors=rescale_vectors),\n",
    "               gamma(q_1, kind=\"kk\", rescale_scalar=rescale_scalar, rescale_vectors=rescale_vectors)\n",
    "              ])"
   ]
  },
  {
   "cell_type": "code",
   "execution_count": 12,
   "metadata": {},
   "outputs": [
    {
     "name": "stdout",
     "output_type": "stream",
     "text": [
      "gen\n",
      "n=1: (t, x, y, z) \n",
      "n=2: (-1.0*x, 1.0*t, 1.0*z, -1.0*y) \n",
      "n=3: (-1.0*y, -1.0*z, 1.0*t, 1.0*x) \n",
      "n=4: (-1.0*z, 1.0*y, -1.0*x, 1.0*t) \n",
      "n=5: (-1.0*x, 1.0*t, -1.0*z, 1.0*y) \n",
      "n=6: (-1.0*t, -1.0*x, 1.0*y, 1.0*z) \n",
      "n=7: (1.0*z, -1.0*y, -1.0*x, 1.0*t) \n",
      "n=8: (-1.0*y, -1.0*z, -1.0*t, -1.0*x) \n",
      "n=9: (-1.0*y, 1.0*z, 1.0*t, -1.0*x) \n",
      "n=10: (-1.0*z, -1.0*y, -1.0*x, -1.0*t) \n",
      "n=11: (-1.0*t, 1.0*x, -1.0*y, 1.0*z) \n",
      "n=12: (1.0*x, 1.0*t, -1.0*z, -1.0*y) \n",
      "n=13: (-1.0*z, -1.0*y, 1.0*x, 1.0*t) \n",
      "n=14: (1.0*y, -1.0*z, 1.0*t, -1.0*x) \n",
      "n=15: (-1.0*x, -1.0*t, -1.0*z, -1.0*y) \n",
      "n=16: (-1.0*t, 1.0*x, 1.0*y, -1.0*z) \n",
      "ket: 16/1\n",
      "\n"
     ]
    }
   ],
   "source": [
    "generate_gammas(q_txyz).print_state(\"gen\")"
   ]
  },
  {
   "cell_type": "markdown",
   "metadata": {},
   "source": [
    "## Properties of gamma matrices"
   ]
  },
  {
   "cell_type": "markdown",
   "metadata": {},
   "source": [
    "Gamma matrices are used in a number of ways. One is chirality. For a Dirac field $\\psi$, the left and right fields are defined like so:\n",
    "\n",
    "$\\phi_\\rm{left} = \\frac{1}{2}(1 - \\gamma^5) \\phi$\n",
    "\n",
    "$\\phi_\\rm{right} = \\frac{1}{2}(1 + \\gamma^5) \\phi$\n",
    "\n",
    "Create a chirality function."
   ]
  },
  {
   "cell_type": "code",
   "execution_count": 13,
   "metadata": {},
   "outputs": [],
   "source": [
    "def chirality(q_1: Q, kind: str=\"left\"):\n",
    "    \"\"\"\n",
    "    Create a left or right space-time number.\n",
    "    \n",
    "    Args:\n",
    "        q_1: Q    A space-time number to act on\n",
    "        kine: str  kind of chirality, either left or right\n",
    "    \"\"\"\n",
    "    \n",
    "    result = q0()\n",
    "    \n",
    "    if kind == \"left\":\n",
    "        result = product(dif(q_1, gamma(q_1, kind=\"g5\")), q1(1/2))\n",
    "    elif kind == \"right\":\n",
    "        result = product(add(q_1, gamma(q_1, kind=\"g5\")), q1(1/2))\n",
    "        \n",
    "    return result\n",
    "\n",
    "def chiralitys(q_1: Qs, kind: str=\"left\") -> Qs:\n",
    "    f\"\"\"{chirality.__doc__}\"\"\".replace(\"Q\", \"Qs\")\n",
    "    return Qs([chirality(q, kind) for q in q_1.qs], qs_type=q_1.qs_type, rows=q_1.rows,\n",
    "              columns=q_1.columns)"
   ]
  },
  {
   "cell_type": "code",
   "execution_count": 14,
   "metadata": {},
   "outputs": [
    {
     "name": "stdout",
     "output_type": "stream",
     "text": [
      "txyz left\n",
      "(0.5*t - 0.5*y, 0.5*x - 0.5*z, -0.5*t + 0.5*y, -0.5*x + 0.5*z) \n",
      "\n",
      "txyz right\n",
      "(0.5*t + 0.5*y, 0.5*x + 0.5*z, 0.5*t + 0.5*y, 0.5*x + 0.5*z) \n",
      "\n"
     ]
    }
   ],
   "source": [
    "chirality(q_txyz, kind=\"left\").print_state(\"txyz left\")\n",
    "chirality(q_txyz, kind=\"right\").print_state(\"txyz right\")"
   ]
  },
  {
   "cell_type": "markdown",
   "metadata": {},
   "source": [
    "If these two are added together, one gets back the starting value."
   ]
  },
  {
   "cell_type": "markdown",
   "metadata": {},
   "source": [
    "Another property of $\\gamma^5$ is that its square is the identity. Confirm this works for this triple product space-time function."
   ]
  },
  {
   "cell_type": "code",
   "execution_count": 15,
   "metadata": {},
   "outputs": [
    {
     "name": "stdout",
     "output_type": "stream",
     "text": [
      "g5 g5 txyz\n",
      "(1.0*t, 1.0*x, 1.0*y, 1.0*z) \n",
      "\n"
     ]
    }
   ],
   "source": [
    "gamma(gamma(q_txyz, kind = \"g5\"), kind =\"g5\").print_state(\"g5 g5 txyz\")"
   ]
  },
  {
   "cell_type": "markdown",
   "metadata": {},
   "source": [
    "There is also a well known anti-commuter relation between these gammas:\n",
    "\n",
    "$\\{\\gamma^5, \\gamma^\\mu\\} = \\gamma^5 \\gamma^\\mu + \\gamma^\\mu \\gamma^5 = 0$\n",
    "\n",
    "Test this works for space-time number triple products."
   ]
  },
  {
   "cell_type": "code",
   "execution_count": 16,
   "metadata": {},
   "outputs": [
    {
     "name": "stdout",
     "output_type": "stream",
     "text": [
      "g0\n",
      "g5 g0 + g0 g5\n",
      "(0, 0, 0, 0) \n",
      "\n",
      "g1\n",
      "g5 g1 + g1 g5\n",
      "(0, 0, 0, 0) \n",
      "\n",
      "g2\n",
      "g5 g2 + g2 g5\n",
      "(0, 0, 0, 0) \n",
      "\n",
      "g3\n",
      "g5 g3 + g3 g5\n",
      "(0, 0, 0, 0) \n",
      "\n"
     ]
    }
   ],
   "source": [
    "gs = (\"g0\", \"g1\", \"g2\", \"g3\")\n",
    "\n",
    "for g in gs:\n",
    "    print(g)\n",
    "    anticommutator = add(gamma(gamma(q_txyz, kind=\"g5\"), kind=g), gamma(gamma(q_txyz, kind=g), kind=\"g5\"))\n",
    "    anticommutator.print_state(f\"g5 {g} + {g} g5\")"
   ]
  },
  {
   "cell_type": "markdown",
   "metadata": {},
   "source": [
    "What about the commutator of these gamma matrices? According to [Wikipedia](https://www.wikiwand.com/en/Gamma_matrices):\n",
    "\n",
    "\n",
    "  The elements $\\sigma^{\\mu \\nu} = \\gamma^\\mu \\gamma^\\nu - \\gamma^\\nu \\gamma^\\mu$ form a representation of the Lie algebra of the Lorentz group. This is a spin representation. When these matrices, and linear combinations of them, are exponentiated, they are bispinor representations of the Lorentz group, e.g., the S(Λ) of above are of this form. The 6 dimensional space the $\\sigma^{\\mu \\nu}$ span is the representation space of a tensor representation of the Lorentz group.\n",
    "    \n",
    "I feel confident similar steps can be repeated without the tensor representation. See what this looks like:"
   ]
  },
  {
   "cell_type": "code",
   "execution_count": 17,
   "metadata": {},
   "outputs": [
    {
     "name": "stdout",
     "output_type": "stream",
     "text": [
      "g0 g1 - g1 g0\n",
      "(2.0*z, 2.0*y, 2.0*x, 2.0*t) \n",
      "\n",
      "g0 g2 - g2 g0\n",
      "(-2.0*z, 2.0*y, -2.0*x, 2.0*t) \n",
      "\n",
      "g0 g3 - g3 g0\n",
      "(2.0*y, -2.0*z, 2.0*t, -2.0*x) \n",
      "\n",
      "g1 g0 - g0 g1\n",
      "(-2.0*z, -2.0*y, -2.0*x, -2.0*t) \n",
      "\n",
      "g1 g2 - g2 g1\n",
      "(2.0*t, -2.0*x, 2.0*y, -2.0*z) \n",
      "\n",
      "g1 g3 - g3 g1\n",
      "(-2.0*x, 2.0*t, -2.0*z, 2.0*y) \n",
      "\n",
      "g2 g0 - g0 g2\n",
      "(2.0*z, -2.0*y, 2.0*x, -2.0*t) \n",
      "\n",
      "g2 g1 - g1 g2\n",
      "(-2.0*t, 2.0*x, -2.0*y, 2.0*z) \n",
      "\n",
      "g2 g3 - g3 g2\n",
      "(2.0*x, 2.0*t, 2.0*z, 2.0*y) \n",
      "\n",
      "g3 g0 - g0 g3\n",
      "(-2.0*y, 2.0*z, -2.0*t, 2.0*x) \n",
      "\n",
      "g3 g1 - g1 g3\n",
      "(2.0*x, -2.0*t, 2.0*z, -2.0*y) \n",
      "\n",
      "g3 g2 - g2 g3\n",
      "(-2.0*x, -2.0*t, -2.0*z, -2.0*y) \n",
      "\n"
     ]
    }
   ],
   "source": [
    "for g1 in gs:\n",
    "    for g2 in gs:\n",
    "        if g1 == g2:\n",
    "            continue\n",
    "        \n",
    "        commutator = dif(gamma(gamma(q_txyz, kind=g1), kind=g2), gamma(gamma(q_txyz, kind=g2), kind=g1))\n",
    "        commutator.print_state(f\"{g1} {g2} - {g2} {g1}\")"
   ]
  },
  {
   "cell_type": "markdown",
   "metadata": {},
   "source": [
    "There are 12 of these, but there is also a redundancy, where switching the order flips a sign. "
   ]
  },
  {
   "cell_type": "markdown",
   "metadata": {},
   "source": [
    "Do I really understand a spin representation of a Lie algebra of the Lie group? In detail, no, I would fail any pop quiz on the topic. My mastery of the topic will always be suspect and not important. What is vital is that a real-valued space-time number bridge has been built to the kinds of algebra tools demanded in "
   ]
  },
  {
   "cell_type": "code",
   "execution_count": 18,
   "metadata": {},
   "outputs": [
    {
     "name": "stdout",
     "output_type": "stream",
     "text": [
      "g0 g1 - g1 g0\n",
      "(-2.0*y, 2.0*z, 2.0*t, -2.0*x) \n",
      "\n",
      "g0 g2 - g2 g0\n",
      "(-2.0*y, -2.0*z, 2.0*t, 2.0*x) \n",
      "\n",
      "g0 g3 - g3 g0\n",
      "(2.0*z, 2.0*y, -2.0*x, -2.0*t) \n",
      "\n",
      "g1 g0 - g0 g1\n",
      "(2.0*y, -2.0*z, -2.0*t, 2.0*x) \n",
      "\n",
      "g1 g2 - g2 g1\n",
      "(2.0*x, 2.0*t, -2.0*z, -2.0*y) \n",
      "\n",
      "g1 g3 - g3 g1\n",
      "(-2.0*t, -2.0*x, 2.0*y, 2.0*z) \n",
      "\n",
      "g2 g0 - g0 g2\n",
      "(0, 0, 0, 0) \n",
      "\n",
      "g2 g1 - g1 g2\n",
      "(0, 0, 0, 0) \n",
      "\n",
      "g2 g3 - g3 g2\n",
      "(0, 0, 0, 0) \n",
      "\n",
      "g3 g0 - g0 g3\n",
      "(-2.0*z, -2.0*y, 2.0*x, 2.0*t) \n",
      "\n",
      "g3 g1 - g1 g3\n",
      "(2.0*t, 2.0*x, -2.0*y, -2.0*z) \n",
      "\n",
      "g3 g2 - g2 g3\n",
      "(2.0*t, -2.0*x, -2.0*y, 2.0*z) \n",
      "\n"
     ]
    }
   ],
   "source": [
    "for g1 in gs:\n",
    "    for g2 in gs:\n",
    "        if g1 == g2:\n",
    "            continue\n",
    "        \n",
    "        commutator = dif(product(gamma(gamma(q_txyz, kind=g1), kind=g2), qi()), gamma(product(gamma(q_txyz, kind=g2), qi()), kind=g1))\n",
    "        commutator.print_state(f\"{g1} {g2} - {g2} {g1}\")"
   ]
  },
  {
   "cell_type": "code",
   "execution_count": 19,
   "metadata": {},
   "outputs": [
    {
     "name": "stdout",
     "output_type": "stream",
     "text": [
      "g0 g1 - g1 g0\n",
      "(-2.0*z, -2.0*y, -2.0*x, -2.0*t) \n",
      "\n",
      "g0 g2 - g2 g0\n",
      "(0, 0, 0, 0) \n",
      "\n",
      "g0 g3 - g3 g0\n",
      "(-2.0*y, 2.0*z, -2.0*t, 2.0*x) \n",
      "\n",
      "g1 g0 - g0 g1\n",
      "(2.0*z, 2.0*y, 2.0*x, 2.0*t) \n",
      "\n",
      "g1 g2 - g2 g1\n",
      "(0, 0, 0, 0) \n",
      "\n",
      "g1 g3 - g3 g1\n",
      "(2.0*x, -2.0*t, 2.0*z, -2.0*y) \n",
      "\n",
      "g2 g0 - g0 g2\n",
      "(0, 0, 0, 0) \n",
      "\n",
      "g2 g1 - g1 g2\n",
      "(0, 0, 0, 0) \n",
      "\n",
      "g2 g3 - g3 g2\n",
      "(0, 0, 0, 0) \n",
      "\n",
      "g3 g0 - g0 g3\n",
      "(2.0*y, -2.0*z, 2.0*t, -2.0*x) \n",
      "\n",
      "g3 g1 - g1 g3\n",
      "(-2.0*x, 2.0*t, -2.0*z, 2.0*y) \n",
      "\n",
      "g3 g2 - g2 g3\n",
      "(0, 0, 0, 0) \n",
      "\n"
     ]
    }
   ],
   "source": [
    "for g1 in gs:\n",
    "    for g2 in gs:\n",
    "        if g1 == g2:\n",
    "            continue\n",
    "        \n",
    "        commutator = dif(product(gamma(product(gamma(q_txyz, kind=g1), qi()), kind=g2), qi()), product(gamma(product(gamma(q_txyz, kind=g2), qi()), kind=g1), qi()))\n",
    "        commutator.print_state(f\"{g1} {g2} - {g2} {g1}\")"
   ]
  },
  {
   "cell_type": "code",
   "execution_count": 20,
   "metadata": {},
   "outputs": [
    {
     "name": "stdout",
     "output_type": "stream",
     "text": [
      "g0 g1 - g1 g0\n",
      "(0, 0, 0, 0) \n",
      "\n",
      "g0 g2 - g2 g0\n",
      "(0, 0, 0, 0) \n",
      "\n",
      "g0 g3 - g3 g0\n",
      "(0, 0, 0, 0) \n",
      "\n",
      "g1 g0 - g0 g1\n",
      "(2.0*t, -2.0*x, 2.0*y, -2.0*z) \n",
      "\n",
      "g1 g2 - g2 g1\n",
      "(0, 0, 0, 0) \n",
      "\n",
      "g1 g3 - g3 g1\n",
      "(0, 0, 0, 0) \n",
      "\n",
      "g2 g0 - g0 g2\n",
      "(0, 0, 0, 0) \n",
      "\n",
      "g2 g1 - g1 g2\n",
      "(2.0*z, 2.0*y, 2.0*x, 2.0*t) \n",
      "\n",
      "g2 g3 - g3 g2\n",
      "(2.0*y, -2.0*z, 2.0*t, -2.0*x) \n",
      "\n",
      "g3 g0 - g0 g3\n",
      "(-2.0*x, -2.0*t, -2.0*z, -2.0*y) \n",
      "\n",
      "g3 g1 - g1 g3\n",
      "(0, 0, 0, 0) \n",
      "\n",
      "g3 g2 - g2 g3\n",
      "(0, 0, 0, 0) \n",
      "\n"
     ]
    }
   ],
   "source": [
    "for g1 in gs:\n",
    "    for g2 in gs:\n",
    "        if g1 == g2:\n",
    "            continue\n",
    "        \n",
    "        commutator = dif(product(gamma(product(gamma(q_txyz, kind=g1), qj()), kind=g2), qi()), product(gamma(product(gamma(q_txyz, kind=g2), qi()), kind=g1), qj()))\n",
    "        commutator.print_state(f\"{g1} {g2} - {g2} {g1}\")"
   ]
  },
  {
   "cell_type": "code",
   "execution_count": 21,
   "metadata": {},
   "outputs": [
    {
     "name": "stdout",
     "output_type": "stream",
     "text": [
      "g0 g1 - g1 g0\n",
      "(-2.0*t, 2.0*x, -2.0*y, 2.0*z) \n",
      "\n",
      "g0 g2 - g2 g0\n",
      "(0, 0, 0, 0) \n",
      "\n",
      "g0 g3 - g3 g0\n",
      "(2.0*x, 2.0*t, 2.0*z, 2.0*y) \n",
      "\n",
      "g1 g0 - g0 g1\n",
      "(2.0*t, -2.0*x, 2.0*y, -2.0*z) \n",
      "\n",
      "g1 g2 - g2 g1\n",
      "(0, 0, 0, 0) \n",
      "\n",
      "g1 g3 - g3 g1\n",
      "(-2.0*y, -2.0*z, -2.0*t, -2.0*x) \n",
      "\n",
      "g2 g0 - g0 g2\n",
      "(0, 0, 0, 0) \n",
      "\n",
      "g2 g1 - g1 g2\n",
      "(0, 0, 0, 0) \n",
      "\n",
      "g2 g3 - g3 g2\n",
      "(0, 0, 0, 0) \n",
      "\n",
      "g3 g0 - g0 g3\n",
      "(-2.0*x, -2.0*t, -2.0*z, -2.0*y) \n",
      "\n",
      "g3 g1 - g1 g3\n",
      "(2.0*y, 2.0*z, 2.0*t, 2.0*x) \n",
      "\n",
      "g3 g2 - g2 g3\n",
      "(0, 0, 0, 0) \n",
      "\n"
     ]
    }
   ],
   "source": [
    "for g1 in gs:\n",
    "    for g2 in gs:\n",
    "        if g1 == g2:\n",
    "            continue\n",
    "        \n",
    "        commutator = dif(product(gamma(product(gamma(q_txyz, kind=g1), qi()), kind=g2), qj()), product(gamma(product(gamma(q_txyz, kind=g2), qi()), kind=g1), qj()))\n",
    "        commutator.print_state(f\"{g1} {g2} - {g2} {g1}\")"
   ]
  },
  {
   "cell_type": "code",
   "execution_count": 22,
   "metadata": {},
   "outputs": [
    {
     "name": "stdout",
     "output_type": "stream",
     "text": [
      "g0 g1 - g1 g0\n",
      "(-2.0*t, 2.0*x, -2.0*y, 2.0*z) \n",
      "\n",
      "g0 g2 - g2 g0\n",
      "(0, 0, 0, 0) \n",
      "\n",
      "g0 g3 - g3 g0\n",
      "(2.0*x, 2.0*t, 2.0*z, 2.0*y) \n",
      "\n",
      "g1 g0 - g0 g1\n",
      "(0, 0, 0, 0) \n",
      "\n",
      "g1 g2 - g2 g1\n",
      "(-2.0*z, -2.0*y, -2.0*x, -2.0*t) \n",
      "\n",
      "g1 g3 - g3 g1\n",
      "(0, 0, 0, 0) \n",
      "\n",
      "g2 g0 - g0 g2\n",
      "(0, 0, 0, 0) \n",
      "\n",
      "g2 g1 - g1 g2\n",
      "(0, 0, 0, 0) \n",
      "\n",
      "g2 g3 - g3 g2\n",
      "(0, 0, 0, 0) \n",
      "\n",
      "g3 g0 - g0 g3\n",
      "(0, 0, 0, 0) \n",
      "\n",
      "g3 g1 - g1 g3\n",
      "(0, 0, 0, 0) \n",
      "\n",
      "g3 g2 - g2 g3\n",
      "(-2.0*y, 2.0*z, -2.0*t, 2.0*x) \n",
      "\n"
     ]
    }
   ],
   "source": [
    "for g1 in gs:\n",
    "    for g2 in gs:\n",
    "        if g1 == g2:\n",
    "            continue\n",
    "        \n",
    "        commutator = dif(product(gamma(product(gamma(q_txyz, kind=g1), qi()), kind=g2), qj()), product(gamma(product(gamma(q_txyz, kind=g2), qj()), kind=g1), qi()))\n",
    "        commutator.print_state(f\"{g1} {g2} - {g2} {g1}\")"
   ]
  },
  {
   "cell_type": "code",
   "execution_count": 23,
   "metadata": {},
   "outputs": [
    {
     "name": "stdout",
     "output_type": "stream",
     "text": [
      "g0 g1 - g1 g0\n",
      "(-2.0*z, -2.0*y, -2.0*x, -2.0*t) \n",
      "\n",
      "g0 g2 - g2 g0\n",
      "(0, 0, 0, 0) \n",
      "\n",
      "g0 g3 - g3 g0\n",
      "(-2.0*y, 2.0*z, -2.0*t, 2.0*x) \n",
      "\n",
      "g1 g0 - g0 g1\n",
      "(2.0*z, 2.0*y, 2.0*x, 2.0*t) \n",
      "\n",
      "g1 g2 - g2 g1\n",
      "(0, 0, 0, 0) \n",
      "\n",
      "g1 g3 - g3 g1\n",
      "(2.0*x, -2.0*t, 2.0*z, -2.0*y) \n",
      "\n",
      "g2 g0 - g0 g2\n",
      "(0, 0, 0, 0) \n",
      "\n",
      "g2 g1 - g1 g2\n",
      "(0, 0, 0, 0) \n",
      "\n",
      "g2 g3 - g3 g2\n",
      "(0, 0, 0, 0) \n",
      "\n",
      "g3 g0 - g0 g3\n",
      "(2.0*y, -2.0*z, 2.0*t, -2.0*x) \n",
      "\n",
      "g3 g1 - g1 g3\n",
      "(-2.0*x, 2.0*t, -2.0*z, 2.0*y) \n",
      "\n",
      "g3 g2 - g2 g3\n",
      "(0, 0, 0, 0) \n",
      "\n"
     ]
    }
   ],
   "source": [
    "for g1 in gs:\n",
    "    for g2 in gs:\n",
    "        if g1 == g2:\n",
    "            continue\n",
    "        \n",
    "        commutator = dif(product(gamma(product(gamma(q_txyz, kind=g1), qi()), kind=g2), qi()), product(gamma(product(gamma(q_txyz, kind=g2), qi()), kind=g1), qi()))\n",
    "        commutator.print_state(f\"{g1} {g2} - {g2} {g1}\")"
   ]
  },
  {
   "cell_type": "code",
   "execution_count": 24,
   "metadata": {},
   "outputs": [
    {
     "name": "stdout",
     "output_type": "stream",
     "text": [
      "('11', 'I')\n",
      "('1i', 'γ2γ5', 'γ2γ5_i', 'g2g5', 'g2g5_i')\n",
      "('1j', 'γ0γ5', 'g0g5')\n",
      "('1k', 'σ02', 's02', '-σ20', '-s20')\n",
      "('i1', 'σ31', 's31', '-σ13', '-s13')\n",
      "('ii', '-γ0', '-g0')\n",
      "('ij', 'γ2_i', 'γ2', 'g2_i', 'g2')\n",
      "('ik', '-γ5', '-g5')\n",
      "('j1', 'γ3', 'g3')\n",
      "('ji', 'σ01_i', 's01_i', 'σ01', 's01', '-σ10_i', '-s10_i', '-σ10', '-s10')\n",
      "('jj', 'σ21', 's21', '-σ12', '-s12')\n",
      "('jk', 'γ1γ5', 'g1g5')\n",
      "('k1', 'γ1', 'g1')\n",
      "('ki', 'σ30_i', 's30_i', 'σ30', 's30', '-σ03_i', '-s03_i', '-σ03', '-s30')\n",
      "('kj', 'σ32', 's32', '-σ23', '-s23')\n",
      "('kk', 'γ3γ5', 'g3g5')\n",
      "3 gammas\n",
      "(1.0*z, -1.0*y, -1.0*x, 1.0*t) \n",
      "\n"
     ]
    }
   ],
   "source": [
    "gamma(gamma(gamma(q_txyz, kind=\"1i\"), kind=\"ij\"), kind=\"1i\", verbose=True).print_state(\"3 gammas\")"
   ]
  },
  {
   "cell_type": "code",
   "execution_count": 25,
   "metadata": {},
   "outputs": [
    {
     "name": "stdout",
     "output_type": "stream",
     "text": [
      "M1\n",
      "(0.0, 0.5, 0.5, 0.0) \n",
      "\n",
      "M2\n",
      "(0.0, 0.0, 0.5, 0.5) \n",
      "\n",
      "M3\n",
      "(0.0, 0.5, 0.0, 0.5) \n",
      "\n",
      "N1\n",
      "(0.0, 0.5, -0.5, 0.0) \n",
      "\n",
      "N2\n",
      "(0.0, 0.0, 0.5, -0.5) \n",
      "\n",
      "N3\n",
      "(0.0, -0.5, 0.0, 0.5) \n",
      "\n"
     ]
    }
   ],
   "source": [
    "M1 = product(add(qi(), qj()), q1(1/2))\n",
    "M2 = product(add(qj(), qk()), q1(1/2))\n",
    "M3 = product(add(qk(), qi()), q1(1/2))\n",
    "\n",
    "N1 = product(dif(qi(), qj()), q1(1/2))\n",
    "N2 = product(dif(qj(), qk()), q1(1/2))\n",
    "N3 = product(dif(qk(), qi()), q1(1/2))\n",
    "\n",
    "M1.print_state(\"M1\")\n",
    "M2.print_state(\"M2\")\n",
    "M3.print_state(\"M3\")\n",
    "\n",
    "N1.print_state(\"N1\")\n",
    "N2.print_state(\"N2\")\n",
    "N3.print_state(\"N3\")"
   ]
  },
  {
   "cell_type": "code",
   "execution_count": 26,
   "metadata": {},
   "outputs": [],
   "source": [
    "def commutator(q_1, q_2):\n",
    "    \n",
    "    return dif(product(q_1, q_2), product(q_2, q_1))"
   ]
  },
  {
   "cell_type": "code",
   "execution_count": 27,
   "metadata": {},
   "outputs": [
    {
     "name": "stdout",
     "output_type": "stream",
     "text": [
      "[M1, M2]\n",
      "(0.0, 0.5, -0.5, 0.5) \n",
      "\n"
     ]
    }
   ],
   "source": [
    "commutator(M1, M2).print_state(\"[M1, M2]\")"
   ]
  },
  {
   "cell_type": "code",
   "execution_count": 28,
   "metadata": {},
   "outputs": [
    {
     "name": "stdout",
     "output_type": "stream",
     "text": [
      "m1\n",
      "(0.5, 0.5, 0.0, 0.0) \n",
      "\n",
      "m2\n",
      "(0.5, 0.0, 0.5, 0.0) \n",
      "\n",
      "m3\n",
      "(0.5, 0.0, 0.0, 0.5) \n",
      "\n",
      "n1\n",
      "(-0.5, 0.5, 0.0, 0.0) \n",
      "\n",
      "n2\n",
      "(-0.5, 0.0, 0.5, 0.0) \n",
      "\n",
      "n3\n",
      "(-0.5, 0.0, 0.0, 0.5) \n",
      "\n"
     ]
    }
   ],
   "source": [
    "m1 = product(add(qi(), q1()), q1(1/2))\n",
    "m2 = product(add(qj(), q1()), q1(1/2))\n",
    "m3 = product(add(qk(), q1()), q1(1/2))\n",
    "\n",
    "n1 = product(dif(qi(), q1()), q1(1/2))\n",
    "n2 = product(dif(qj(), q1()), q1(1/2))\n",
    "n3 = product(dif(qk(), q1()), q1(1/2))\n",
    "\n",
    "m1.print_state(\"m1\")\n",
    "m2.print_state(\"m2\")\n",
    "m3.print_state(\"m3\")\n",
    "\n",
    "n1.print_state(\"n1\")\n",
    "n2.print_state(\"n2\")\n",
    "n3.print_state(\"n3\")"
   ]
  },
  {
   "cell_type": "code",
   "execution_count": 29,
   "metadata": {},
   "outputs": [
    {
     "name": "stdout",
     "output_type": "stream",
     "text": [
      "[m1, m2]\n",
      "(0.0, 0.0, 0.0, 0.5) \n",
      "\n",
      "[m2, m3]\n",
      "(0.0, 0.5, 0.0, 0.0) \n",
      "\n",
      "[m3, m1]\n",
      "(0.0, 0.0, 0.5, 0.0) \n",
      "\n"
     ]
    }
   ],
   "source": [
    "commutator(m1, m2).print_state(\"[m1, m2]\")\n",
    "commutator(m2, m3).print_state(\"[m2, m3]\")\n",
    "commutator(m3, m1).print_state(\"[m3, m1]\")"
   ]
  },
  {
   "cell_type": "code",
   "execution_count": 30,
   "metadata": {},
   "outputs": [
    {
     "name": "stdout",
     "output_type": "stream",
     "text": [
      "[m1, n2]\n",
      "(0.0, 0.0, 0.0, 0.5) \n",
      "\n",
      "[m2, n3]\n",
      "(0.0, 0.5, 0.0, 0.0) \n",
      "\n",
      "[m3, n1]\n",
      "(0.0, 0.0, 0.5, 0.0) \n",
      "\n"
     ]
    }
   ],
   "source": [
    "commutator(m1, n2).print_state(\"[m1, n2]\")\n",
    "commutator(m2, n3).print_state(\"[m2, n3]\")\n",
    "commutator(m3, n1).print_state(\"[m3, n1]\")"
   ]
  },
  {
   "cell_type": "code",
   "execution_count": 31,
   "metadata": {},
   "outputs": [
    {
     "name": "stdout",
     "output_type": "stream",
     "text": [
      "[ij, inj]\n",
      "(0.0, 0.0, 0.0, -1.0) \n",
      "\n",
      "ji\n",
      "(0.0, 0.0, 0.0, -1.0) \n",
      "\n"
     ]
    }
   ],
   "source": [
    "ij = product(add(qi(), qj()), q1(1/2))\n",
    "inj = product(dif(qi(), qj()), q1(1/2))\n",
    "\n",
    "commutator(ij, inj).print_state(\"[ij, inj]\")\n",
    "product(qj(), qi()).print_state(\"ji\")"
   ]
  },
  {
   "cell_type": "code",
   "execution_count": 32,
   "metadata": {},
   "outputs": [
    {
     "name": "stdout",
     "output_type": "stream",
     "text": [
      "[jk, jnk]\n",
      "(0.0, -1.0, 0.0, 0.0) \n",
      "\n",
      "kj\n",
      "(0.0, -1.0, 0.0, 0.0) \n",
      "\n",
      "[ki, kni]\n",
      "(0.0, 0.0, -1.0, 0.0) \n",
      "\n",
      "ik\n",
      "(0.0, 0.0, -1.0, 0.0) \n",
      "\n"
     ]
    }
   ],
   "source": [
    "jk = product(add(qj(), qk()), q1(1/2))\n",
    "jnk = product(dif(qj(), qk()), q1(1/2))\n",
    "\n",
    "commutator(jk, jnk).print_state(\"[jk, jnk]\")\n",
    "product(qk(), qj()).print_state(\"kj\")\n",
    "\n",
    "ki = product(add(qk(), qi()), q1(1/2))\n",
    "kni = product(dif(qk(), qi()), q1(1/2))\n",
    "\n",
    "commutator(ki, kni).print_state(\"[ki, kni]\")\n",
    "product(qi(), qk()).print_state(\"ik\")"
   ]
  },
  {
   "cell_type": "code",
   "execution_count": 33,
   "metadata": {},
   "outputs": [
    {
     "name": "stdout",
     "output_type": "stream",
     "text": [
      "[ij, jk]\n",
      "(0.0, 0.5, -0.5, 0.5) \n",
      "\n",
      "[ij, jnk]\n",
      "(0.0, -0.5, 0.5, 0.5) \n",
      "\n"
     ]
    }
   ],
   "source": [
    "commutator(ij, jk).print_state(\"[ij, jk]\")\n",
    "commutator(ij, jnk).print_state(\"[ij, jnk]\")"
   ]
  },
  {
   "cell_type": "code",
   "execution_count": 36,
   "metadata": {},
   "outputs": [
    {
     "name": "stdout",
     "output_type": "stream",
     "text": [
      "I\n"
     ]
    },
    {
     "data": {
      "image/png": "[encoded data removed]",
      "text/latex": [
       "$\\displaystyle \\left[\\begin{matrix}1 & 0 & 0 & 0\\\\0 & 1 & 0 & 0\\\\0 & 0 & 1 & 0\\\\0 & 0 & 0 & 1\\end{matrix}\\right]$"
      ],
      "text/plain": [
       "⎡1  0  0  0⎤\n",
       "⎢          ⎥\n",
       "⎢0  1  0  0⎥\n",
       "⎢          ⎥\n",
       "⎢0  0  1  0⎥\n",
       "⎢          ⎥\n",
       "⎣0  0  0  1⎦"
      ]
     },
     "metadata": {},
     "output_type": "display_data"
    },
    {
     "name": "stdout",
     "output_type": "stream",
     "text": [
      "-γ0\n"
     ]
    },
    {
     "data": {
      "image/png": "[encoded data removed]",
      "text/latex": [
       "$\\displaystyle \\left[\\begin{matrix}-1 & 0 & 0 & 0\\\\0 & -1 & 0 & 0\\\\0 & 0 & 1 & 0\\\\0 & 0 & 0 & 1\\end{matrix}\\right]$"
      ],
      "text/plain": [
       "⎡-1  0   0  0⎤\n",
       "⎢            ⎥\n",
       "⎢0   -1  0  0⎥\n",
       "⎢            ⎥\n",
       "⎢0   0   1  0⎥\n",
       "⎢            ⎥\n",
       "⎣0   0   0  1⎦"
      ]
     },
     "metadata": {},
     "output_type": "display_data"
    },
    {
     "name": "stdout",
     "output_type": "stream",
     "text": [
      "γ1\n"
     ]
    },
    {
     "data": {
      "image/png": "[encoded data removed]",
      "text/latex": [
       "$\\displaystyle \\left[\\begin{matrix}0 & 0 & 0 & 1\\\\0 & 0 & 1 & 0\\\\0 & -1 & 0 & 0\\\\-1 & 0 & 0 & 0\\end{matrix}\\right]$"
      ],
      "text/plain": [
       "⎡0   0   0  1⎤\n",
       "⎢            ⎥\n",
       "⎢0   0   1  0⎥\n",
       "⎢            ⎥\n",
       "⎢0   -1  0  0⎥\n",
       "⎢            ⎥\n",
       "⎣-1  0   0  0⎦"
      ]
     },
     "metadata": {},
     "output_type": "display_data"
    },
    {
     "name": "stdout",
     "output_type": "stream",
     "text": [
      "γ2_i\n"
     ]
    },
    {
     "data": {
      "image/png": "[encoded data removed]",
      "text/latex": [
       "$\\displaystyle \\left[\\begin{matrix}0 & 0 & 0 & 1\\\\0 & 0 & -1 & 0\\\\0 & -1 & 0 & 0\\\\1 & 0 & 0 & 0\\end{matrix}\\right]$"
      ],
      "text/plain": [
       "⎡0  0   0   1⎤\n",
       "⎢            ⎥\n",
       "⎢0  0   -1  0⎥\n",
       "⎢            ⎥\n",
       "⎢0  -1  0   0⎥\n",
       "⎢            ⎥\n",
       "⎣1  0   0   0⎦"
      ]
     },
     "metadata": {},
     "output_type": "display_data"
    },
    {
     "name": "stdout",
     "output_type": "stream",
     "text": [
      "γ3\n"
     ]
    },
    {
     "data": {
      "image/png": "[encoded data removed]",
      "text/latex": [
       "$\\displaystyle \\left[\\begin{matrix}0 & 0 & 1 & 0\\\\0 & 0 & 0 & -1\\\\-1 & 0 & 0 & 0\\\\0 & 1 & 0 & 0\\end{matrix}\\right]$"
      ],
      "text/plain": [
       "⎡0   0  1  0 ⎤\n",
       "⎢            ⎥\n",
       "⎢0   0  0  -1⎥\n",
       "⎢            ⎥\n",
       "⎢-1  0  0  0 ⎥\n",
       "⎢            ⎥\n",
       "⎣0   1  0  0 ⎦"
      ]
     },
     "metadata": {},
     "output_type": "display_data"
    },
    {
     "name": "stdout",
     "output_type": "stream",
     "text": [
      "-γ5\n"
     ]
    },
    {
     "data": {
      "image/png": "[encoded data removed]",
      "text/latex": [
       "$\\displaystyle \\left[\\begin{matrix}0 & 0 & -1 & 0\\\\0 & 0 & 0 & -1\\\\-1 & 0 & 0 & 0\\\\0 & -1 & 0 & 0\\end{matrix}\\right]$"
      ],
      "text/plain": [
       "⎡0   0   -1  0 ⎤\n",
       "⎢              ⎥\n",
       "⎢0   0   0   -1⎥\n",
       "⎢              ⎥\n",
       "⎢-1  0   0   0 ⎥\n",
       "⎢              ⎥\n",
       "⎣0   -1  0   0 ⎦"
      ]
     },
     "metadata": {},
     "output_type": "display_data"
    },
    {
     "name": "stdout",
     "output_type": "stream",
     "text": [
      "γ0γ5\n"
     ]
    },
    {
     "data": {
      "image/png": "[encoded data removed]",
      "text/latex": [
       "$\\displaystyle \\left[\\begin{matrix}0 & 0 & 1 & 0\\\\0 & 0 & 0 & 1\\\\-1 & 0 & 0 & 0\\\\0 & -1 & 0 & 0\\end{matrix}\\right]$"
      ],
      "text/plain": [
       "⎡0   0   1  0⎤\n",
       "⎢            ⎥\n",
       "⎢0   0   0  1⎥\n",
       "⎢            ⎥\n",
       "⎢-1  0   0  0⎥\n",
       "⎢            ⎥\n",
       "⎣0   -1  0  0⎦"
      ]
     },
     "metadata": {},
     "output_type": "display_data"
    },
    {
     "name": "stdout",
     "output_type": "stream",
     "text": [
      "γ1γ5\n"
     ]
    },
    {
     "data": {
      "image/png": "[encoded data removed]",
      "text/latex": [
       "$\\displaystyle \\left[\\begin{matrix}0 & 1 & 0 & 0\\\\1 & 0 & 0 & 0\\\\0 & 0 & 0 & -1\\\\0 & 0 & -1 & 0\\end{matrix}\\right]$"
      ],
      "text/plain": [
       "⎡0  1  0   0 ⎤\n",
       "⎢            ⎥\n",
       "⎢1  0  0   0 ⎥\n",
       "⎢            ⎥\n",
       "⎢0  0  0   -1⎥\n",
       "⎢            ⎥\n",
       "⎣0  0  -1  0 ⎦"
      ]
     },
     "metadata": {},
     "output_type": "display_data"
    },
    {
     "name": "stdout",
     "output_type": "stream",
     "text": [
      "γ2γ5_i\n"
     ]
    },
    {
     "data": {
      "image/png": "[encoded data removed]",
      "text/latex": [
       "$\\displaystyle \\left[\\begin{matrix}0 & 1 & 0 & 0\\\\-1 & 0 & 0 & 0\\\\0 & 0 & 0 & -1\\\\0 & 0 & 1 & 0\\end{matrix}\\right]$"
      ],
      "text/plain": [
       "⎡0   1  0  0 ⎤\n",
       "⎢            ⎥\n",
       "⎢-1  0  0  0 ⎥\n",
       "⎢            ⎥\n",
       "⎢0   0  0  -1⎥\n",
       "⎢            ⎥\n",
       "⎣0   0  1  0 ⎦"
      ]
     },
     "metadata": {},
     "output_type": "display_data"
    },
    {
     "name": "stdout",
     "output_type": "stream",
     "text": [
      "-γ3γ5\n"
     ]
    },
    {
     "data": {
      "image/png": "[encoded data removed]",
      "text/latex": [
       "$\\displaystyle \\left[\\begin{matrix}-1 & 0 & 0 & 0\\\\0 & 1 & 0 & 0\\\\0 & 0 & 1 & 0\\\\0 & 0 & 0 & -1\\end{matrix}\\right]$"
      ],
      "text/plain": [
       "⎡-1  0  0  0 ⎤\n",
       "⎢            ⎥\n",
       "⎢0   1  0  0 ⎥\n",
       "⎢            ⎥\n",
       "⎢0   0  1  0 ⎥\n",
       "⎢            ⎥\n",
       "⎣0   0  0  -1⎦"
      ]
     },
     "metadata": {},
     "output_type": "display_data"
    },
    {
     "name": "stdout",
     "output_type": "stream",
     "text": [
      "σ01_i\n"
     ]
    },
    {
     "data": {
      "image/png": "[encoded data removed]",
      "text/latex": [
       "$\\displaystyle \\left[\\begin{matrix}0 & 0 & 0 & -1\\\\0 & 0 & -1 & 0\\\\0 & -1 & 0 & 0\\\\-1 & 0 & 0 & 0\\end{matrix}\\right]$"
      ],
      "text/plain": [
       "⎡0   0   0   -1⎤\n",
       "⎢              ⎥\n",
       "⎢0   0   -1  0 ⎥\n",
       "⎢              ⎥\n",
       "⎢0   -1  0   0 ⎥\n",
       "⎢              ⎥\n",
       "⎣-1  0   0   0 ⎦"
      ]
     },
     "metadata": {},
     "output_type": "display_data"
    },
    {
     "name": "stdout",
     "output_type": "stream",
     "text": [
      "σ02\n"
     ]
    },
    {
     "data": {
      "image/png": "[encoded data removed]",
      "text/latex": [
       "$\\displaystyle \\left[\\begin{matrix}0 & 0 & 0 & 1\\\\0 & 0 & -1 & 0\\\\0 & 1 & 0 & 0\\\\-1 & 0 & 0 & 0\\end{matrix}\\right]$"
      ],
      "text/plain": [
       "⎡0   0  0   1⎤\n",
       "⎢            ⎥\n",
       "⎢0   0  -1  0⎥\n",
       "⎢            ⎥\n",
       "⎢0   1  0   0⎥\n",
       "⎢            ⎥\n",
       "⎣-1  0  0   0⎦"
      ]
     },
     "metadata": {},
     "output_type": "display_data"
    },
    {
     "name": "stdout",
     "output_type": "stream",
     "text": [
      "σ30_i\n"
     ]
    },
    {
     "data": {
      "image/png": "[encoded data removed]",
      "text/latex": [
       "$\\displaystyle \\left[\\begin{matrix}0 & 0 & 1 & 0\\\\0 & 0 & 0 & -1\\\\1 & 0 & 0 & 0\\\\0 & -1 & 0 & 0\\end{matrix}\\right]$"
      ],
      "text/plain": [
       "⎡0  0   1  0 ⎤\n",
       "⎢            ⎥\n",
       "⎢0  0   0  -1⎥\n",
       "⎢            ⎥\n",
       "⎢1  0   0  0 ⎥\n",
       "⎢            ⎥\n",
       "⎣0  -1  0  0 ⎦"
      ]
     },
     "metadata": {},
     "output_type": "display_data"
    },
    {
     "name": "stdout",
     "output_type": "stream",
     "text": [
      "σ21\n"
     ]
    },
    {
     "data": {
      "image/png": "[encoded data removed]",
      "text/latex": [
       "$\\displaystyle \\left[\\begin{matrix}-1 & 0 & 0 & 0\\\\0 & 1 & 0 & 0\\\\0 & 0 & -1 & 0\\\\0 & 0 & 0 & 1\\end{matrix}\\right]$"
      ],
      "text/plain": [
       "⎡-1  0  0   0⎤\n",
       "⎢            ⎥\n",
       "⎢0   1  0   0⎥\n",
       "⎢            ⎥\n",
       "⎢0   0  -1  0⎥\n",
       "⎢            ⎥\n",
       "⎣0   0  0   1⎦"
      ]
     },
     "metadata": {},
     "output_type": "display_data"
    },
    {
     "name": "stdout",
     "output_type": "stream",
     "text": [
      "σ32\n"
     ]
    },
    {
     "data": {
      "image/png": "[encoded data removed]",
      "text/latex": [
       "$\\displaystyle \\left[\\begin{matrix}0 & -1 & 0 & 0\\\\-1 & 0 & 0 & 0\\\\0 & 0 & 0 & -1\\\\0 & 0 & -1 & 0\\end{matrix}\\right]$"
      ],
      "text/plain": [
       "⎡0   -1  0   0 ⎤\n",
       "⎢              ⎥\n",
       "⎢-1  0   0   0 ⎥\n",
       "⎢              ⎥\n",
       "⎢0   0   0   -1⎥\n",
       "⎢              ⎥\n",
       "⎣0   0   -1  0 ⎦"
      ]
     },
     "metadata": {},
     "output_type": "display_data"
    },
    {
     "name": "stdout",
     "output_type": "stream",
     "text": [
      "σ31\n"
     ]
    },
    {
     "data": {
      "image/png": "[encoded data removed]",
      "text/latex": [
       "$\\displaystyle \\left[\\begin{matrix}0 & 1 & 0 & 0\\\\-1 & 0 & 0 & 0\\\\0 & 0 & 0 & 1\\\\0 & 0 & -1 & 0\\end{matrix}\\right]$"
      ],
      "text/plain": [
       "⎡0   1  0   0⎤\n",
       "⎢            ⎥\n",
       "⎢-1  0  0   0⎥\n",
       "⎢            ⎥\n",
       "⎢0   0  0   1⎥\n",
       "⎢            ⎥\n",
       "⎣0   0  -1  0⎦"
      ]
     },
     "metadata": {},
     "output_type": "display_data"
    }
   ],
   "source": [
    "imatrix = sp.Matrix([[0, -1, 0, 0], [1, 0, 0, 0], [0, 0, 0, -1], [0, 0, 1, 0]])\n",
    "\n",
    "for label, matrix in the_16.items():\n",
    "    print(label)\n",
    "    display(matrix)\n",
    "    # print(f\"i {label}\")\n",
    "    # display(imatrix * matrix)"
   ]
  },
  {
   "cell_type": "code",
   "execution_count": null,
   "metadata": {},
   "outputs": [],
   "source": []
  }
 ],
 "metadata": {
  "kernelspec": {
   "display_name": "Python 3",
   "language": "python",
   "name": "python3"
  },
  "language_info": {
   "codemirror_mode": {
    "name": "ipython",
    "version": 3
   },
   "file_extension": ".py",
   "mimetype": "text/x-python",
   "name": "python",
   "nbconvert_exporter": "python",
   "pygments_lexer": "ipython3",
   "version": "3.8.8"
  }
 },
 "nbformat": 4,
 "nbformat_minor": 4
}
