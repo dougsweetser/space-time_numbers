{
 "cells": [
  {
   "cell_type": "markdown",
   "metadata": {},
   "source": [
    "# Representing the 16 Gamma Matrices with the 16 Possible Quaternion Products"
   ]
  },
  {
   "cell_type": "markdown",
   "metadata": {},
   "source": [
    "The 16 gamma matrices play a critical role in modern approaches to relativistic quantum field theory. It is doubtful many can recall the details of this collection. Pop quiz: write down a 4x4 matrix representation of $\\gamma^0$ through $\\gamma^5$, recalling there is no $\\gamma^4$. Nearly all professionals would fail the pop quiz, but would not be concerned as it is easy enough to look up.\n",
    "\n",
    "Is there an approach to the gamma matrices that use real-valued space-time number and space-time number series? The work of three people from Mexico, J. López-Bonilla, L. Rosales-Roldán, and A. Zúñiga-Segundo, in the the early 2000s, made the path clear: one can map all 16 possible quaternion triple products with two sets of 1, i, j, and k, on the outside can be mapped to the 16 gamma matrices.\n",
    "\n",
    "This Jupyter notebook takes their work and makes it concrete.\n",
    "\n",
    "Load the needed libraries."
   ]
  },
  {
   "cell_type": "code",
   "execution_count": 1,
   "metadata": {},
   "outputs": [],
   "source": [
    "%%capture\n",
    "%matplotlib inline\n",
    "import numpy as np\n",
    "import sympy as sp\n",
    "import matplotlib.pyplot as plt\n",
    "import math\n",
    "import unittest\n",
    "\n",
    "# To get equations the look like, well, equations, use the following.\n",
    "from sympy.interactive import printing\n",
    "printing.init_printing(use_latex=True)\n",
    "from IPython.display import display\n",
    "\n",
    "# Tools for manipulating quaternions.\n",
    "from Qs import *\n",
    "\n",
    "from IPython.core.display import display, HTML, Math, Latex\n",
    "display(HTML(\"<style>.container { width:100% !important; }</style>\"))"
   ]
  },
  {
   "cell_type": "markdown",
   "metadata": {},
   "source": [
    "Put all 16 gamma matrices in a dictionary."
   ]
  },
  {
   "cell_type": "code",
   "execution_count": 2,
   "metadata": {},
   "outputs": [],
   "source": [
    "i = sp.I\n",
    "γs = {\n",
    "\"I\":    sp.Matrix([[1, 0, 0, 0], [0, 1, 0, 0], [0, 0, 1, 0], [0, 0, 0, 1]]),\n",
    "\"γ0\":   sp.Matrix([[1, 0, 0, 0], [0, 1, 0, 0], [0, 0, -1, 0], [0, 0, 0, -1]]),\n",
    "\"γ1\":   sp.Matrix([[0, 0, 0, 1], [0, 0, 1, 0], [0, -1, 0, 0], [-1, 0, 0, 0]]),\n",
    "\"γ2\":   sp.Matrix([[0, 0, 0, -i], [0, 0, i, 0], [0, i, 0, 0], [-i, 0, 0, 0]]),\n",
    "\"γ3\":   sp.Matrix([[0, 0, 1, 0], [0, 0, 0, -1], [-1, 0, 0, 0], [0, 1, 0, 0]]), \n",
    "\"γ5\":   sp.Matrix([[0, 0, 1, 0], [0, 0, 0, 1], [1, 0, 0, 0], [0, 1, 0, 0]]),\n",
    "\"γ0γ5\": sp.Matrix([[0, 0, 1, 0], [0, 0, 0, 1], [-1, 0, 0, 0], [0, -1, 0, 0]]),\n",
    "\"γ1γ5\": sp.Matrix([[0, 1, 0, 0], [1, 0, 0, 0], [0, 0, 0, -1], [0, 0, -1, 0]]),\n",
    "\"γ2γ5\": sp.Matrix([[0, -i, 0, 0], [i, 0, 0, 0], [0, 0, 0, i], [0, 0, -i, 0]]),\n",
    "\"γ3γ5\": sp.Matrix([[1, 0, 0, 0], [0, -1, 0, 0], [0, 0, -1, 0], [0, 0, 0, 1]]),\n",
    "\"σ01\":  sp.Matrix([[0, 0, 0, i], [0, 0, i, 0], [0, i, 0, 0], [i, 0, 0, 0]]),\n",
    "\"σ02\":  sp.Matrix([[0, 0, 0, 1], [0, 0, -1, 0], [0, 1, 0, 0], [-1, 0, 0, 0]]),\n",
    "\"σ03\":  sp.Matrix([[0, 0, i, 0], [0, 0, 0, -i], [i, 0, 0, 0], [0, -i, 0, 0]]),\n",
    "\"σ12\":  sp.Matrix([[1, 0, 0, 0], [0, -1, 0, 0], [0, 0, 1, 0], [0, 0, 0, -1]]),\n",
    "\"σ23\":  sp.Matrix([[0, 1, 0, 0], [1, 0, 0, 0], [0, 0, 0, 1], [0, 0, 1, 0]]),\n",
    "\"σ31\":  sp.Matrix([[0, -i, 0, 0], [i, 0, 0, 0], [0, 0, 0, -i], [0, 0, i, 0]])\n",
    "}"
   ]
  },
  {
   "cell_type": "markdown",
   "metadata": {},
   "source": [
    "The matrices $\\gamma^0$, $\\gamma^1$, $\\gamma^2$, and $\\gamma^3$, can be used to create the Clifford algebra $Cl_{1, 3}(\\mathbb{R})$. All the usual discussion about these matrices is on their math properties and alternative representations.\n",
    "\n",
    "My goal is to create a map between one of many complex-valued representations of 16 gamma matrices and 16 real-valued space-time number triplet operations. There is already arbitrariness in the above dictionary because for example $\\sigma^{ij}=-\\sigma^{ji}$. I chose a convention of lower number to higher number, but could have done it the other way. The space-time triples could use positive or negative triples. I use the positive convention."
   ]
  },
  {
   "cell_type": "markdown",
   "metadata": {},
   "source": [
    "A matrix is an operator in quantum field theory. As an operator, it cannot be observed directly. After all, an operator needs to operate on something, specifically a quantum state like a ket vector. For reasons I do not understand, people do not see what happens to a simple 4-vector that gets acted on by these operators.\n",
    "\n",
    "It should be noted that a real-valued space-time number dictionary is being created that multiplies any imaginary value by _-i_."
   ]
  },
  {
   "cell_type": "code",
   "execution_count": 3,
   "metadata": {},
   "outputs": [
    {
     "name": "stdout",
     "output_type": "stream",
     "text": [
      "I\n"
     ]
    },
    {
     "data": {
      "image/png": "[encoded data removed]",
      "text/latex": [
       "$\\displaystyle \\left[\\begin{matrix}t & x & y & z\\end{matrix}\\right]$"
      ],
      "text/plain": [
       "[t  x  y  z]"
      ]
     },
     "metadata": {},
     "output_type": "display_data"
    },
    {
     "name": "stdout",
     "output_type": "stream",
     "text": [
      "γ0\n"
     ]
    },
    {
     "data": {
      "image/png": "[encoded data removed]",
      "text/latex": [
       "$\\displaystyle \\left[\\begin{matrix}t & x & - y & - z\\end{matrix}\\right]$"
      ],
      "text/plain": [
       "[t  x  -y  -z]"
      ]
     },
     "metadata": {},
     "output_type": "display_data"
    },
    {
     "name": "stdout",
     "output_type": "stream",
     "text": [
      "γ1\n"
     ]
    },
    {
     "data": {
      "image/png": "[encoded data removed]",
      "text/latex": [
       "$\\displaystyle \\left[\\begin{matrix}- z & - y & x & t\\end{matrix}\\right]$"
      ],
      "text/plain": [
       "[-z  -y  x  t]"
      ]
     },
     "metadata": {},
     "output_type": "display_data"
    },
    {
     "name": "stdout",
     "output_type": "stream",
     "text": [
      "γ2\n"
     ]
    },
    {
     "data": {
      "image/png": "[encoded data removed]",
      "text/latex": [
       "$\\displaystyle \\left[\\begin{matrix}- i z & i y & i x & - i t\\end{matrix}\\right]$"
      ],
      "text/plain": [
       "[-ⅈ⋅z  ⅈ⋅y  ⅈ⋅x  -ⅈ⋅t]"
      ]
     },
     "metadata": {},
     "output_type": "display_data"
    },
    {
     "name": "stdout",
     "output_type": "stream",
     "text": [
      "γ3\n"
     ]
    },
    {
     "data": {
      "image/png": "[encoded data removed]",
      "text/latex": [
       "$\\displaystyle \\left[\\begin{matrix}- y & z & t & - x\\end{matrix}\\right]$"
      ],
      "text/plain": [
       "[-y  z  t  -x]"
      ]
     },
     "metadata": {},
     "output_type": "display_data"
    },
    {
     "name": "stdout",
     "output_type": "stream",
     "text": [
      "γ5\n"
     ]
    },
    {
     "data": {
      "image/png": "[encoded data removed]",
      "text/latex": [
       "$\\displaystyle \\left[\\begin{matrix}y & z & t & x\\end{matrix}\\right]$"
      ],
      "text/plain": [
       "[y  z  t  x]"
      ]
     },
     "metadata": {},
     "output_type": "display_data"
    },
    {
     "name": "stdout",
     "output_type": "stream",
     "text": [
      "γ0γ5\n"
     ]
    },
    {
     "data": {
      "image/png": "[encoded data removed]",
      "text/latex": [
       "$\\displaystyle \\left[\\begin{matrix}- y & - z & t & x\\end{matrix}\\right]$"
      ],
      "text/plain": [
       "[-y  -z  t  x]"
      ]
     },
     "metadata": {},
     "output_type": "display_data"
    },
    {
     "name": "stdout",
     "output_type": "stream",
     "text": [
      "γ1γ5\n"
     ]
    },
    {
     "data": {
      "image/png": "[encoded data removed]",
      "text/latex": [
       "$\\displaystyle \\left[\\begin{matrix}x & t & - z & - y\\end{matrix}\\right]$"
      ],
      "text/plain": [
       "[x  t  -z  -y]"
      ]
     },
     "metadata": {},
     "output_type": "display_data"
    },
    {
     "name": "stdout",
     "output_type": "stream",
     "text": [
      "γ2γ5\n"
     ]
    },
    {
     "data": {
      "image/png": "[encoded data removed]",
      "text/latex": [
       "$\\displaystyle \\left[\\begin{matrix}i x & - i t & - i z & i y\\end{matrix}\\right]$"
      ],
      "text/plain": [
       "[ⅈ⋅x  -ⅈ⋅t  -ⅈ⋅z  ⅈ⋅y]"
      ]
     },
     "metadata": {},
     "output_type": "display_data"
    },
    {
     "name": "stdout",
     "output_type": "stream",
     "text": [
      "γ3γ5\n"
     ]
    },
    {
     "data": {
      "image/png": "[encoded data removed]",
      "text/latex": [
       "$\\displaystyle \\left[\\begin{matrix}t & - x & - y & z\\end{matrix}\\right]$"
      ],
      "text/plain": [
       "[t  -x  -y  z]"
      ]
     },
     "metadata": {},
     "output_type": "display_data"
    },
    {
     "name": "stdout",
     "output_type": "stream",
     "text": [
      "σ01\n"
     ]
    },
    {
     "data": {
      "image/png": "[encoded data removed]",
      "text/latex": [
       "$\\displaystyle \\left[\\begin{matrix}i z & i y & i x & i t\\end{matrix}\\right]$"
      ],
      "text/plain": [
       "[ⅈ⋅z  ⅈ⋅y  ⅈ⋅x  ⅈ⋅t]"
      ]
     },
     "metadata": {},
     "output_type": "display_data"
    },
    {
     "name": "stdout",
     "output_type": "stream",
     "text": [
      "σ02\n"
     ]
    },
    {
     "data": {
      "image/png": "[encoded data removed]",
      "text/latex": [
       "$\\displaystyle \\left[\\begin{matrix}- z & y & - x & t\\end{matrix}\\right]$"
      ],
      "text/plain": [
       "[-z  y  -x  t]"
      ]
     },
     "metadata": {},
     "output_type": "display_data"
    },
    {
     "name": "stdout",
     "output_type": "stream",
     "text": [
      "σ03\n"
     ]
    },
    {
     "data": {
      "image/png": "[encoded data removed]",
      "text/latex": [
       "$\\displaystyle \\left[\\begin{matrix}i y & - i z & i t & - i x\\end{matrix}\\right]$"
      ],
      "text/plain": [
       "[ⅈ⋅y  -ⅈ⋅z  ⅈ⋅t  -ⅈ⋅x]"
      ]
     },
     "metadata": {},
     "output_type": "display_data"
    },
    {
     "name": "stdout",
     "output_type": "stream",
     "text": [
      "σ12\n"
     ]
    },
    {
     "data": {
      "image/png": "[encoded data removed]",
      "text/latex": [
       "$\\displaystyle \\left[\\begin{matrix}t & - x & y & - z\\end{matrix}\\right]$"
      ],
      "text/plain": [
       "[t  -x  y  -z]"
      ]
     },
     "metadata": {},
     "output_type": "display_data"
    },
    {
     "name": "stdout",
     "output_type": "stream",
     "text": [
      "σ23\n"
     ]
    },
    {
     "data": {
      "image/png": "[encoded data removed]",
      "text/latex": [
       "$\\displaystyle \\left[\\begin{matrix}x & t & z & y\\end{matrix}\\right]$"
      ],
      "text/plain": [
       "[x  t  z  y]"
      ]
     },
     "metadata": {},
     "output_type": "display_data"
    },
    {
     "name": "stdout",
     "output_type": "stream",
     "text": [
      "σ31\n"
     ]
    },
    {
     "data": {
      "image/png": "[encoded data removed]",
      "text/latex": [
       "$\\displaystyle \\left[\\begin{matrix}i x & - i t & i z & - i y\\end{matrix}\\right]$"
      ],
      "text/plain": [
       "[ⅈ⋅x  -ⅈ⋅t  ⅈ⋅z  -ⅈ⋅y]"
      ]
     },
     "metadata": {},
     "output_type": "display_data"
    }
   ],
   "source": [
    "# Symbolic manipulation\n",
    "t, x, y, z = sp.symbols(\"t x y z\")\n",
    "txyz = sp.Matrix([t, x, y, z])\n",
    "gamma_txyz = {}\n",
    "\n",
    "for name, matrix in γs.items():\n",
    "    txyz_matrix = sp.Transpose(txyz) * matrix\n",
    "    \n",
    "    no_i = []\n",
    "    for index in range(0, 4):\n",
    "        part = txyz_matrix[index]\n",
    "        if part.subs({t:1, x:1, y:1, z:1}).is_imaginary:\n",
    "            part *= -sp.I\n",
    "        no_i.append(part)\n",
    "    gamma_txyz[name] = Q(no_i)\n",
    "    print(f\"{name}\")\n",
    "    display(txyz_matrix)"
   ]
  },
  {
   "cell_type": "markdown",
   "metadata": {},
   "source": [
    "What is going on here? I call it the aggressive shuffle of information. Notice how each variable occurs 4 times in each of the 4 positions. In three quarters of the cases, half the time with positive signs, half with negative signs. Gamma matrices are used in calculations of relativistic quantum mechanics, the results from atom smashers like the LHC. This is a  subject that can calculate all possible ways particles can interact, including both particles going forward in time as well as antiparticles going backward in time. The gamma matrices appear to provide a means for a complete survey of possibilities.\n",
    "\n",
    "Can all possible space-time triples do a similar task, up to factors of i?"
   ]
  },
  {
   "cell_type": "code",
   "execution_count": 4,
   "metadata": {},
   "outputs": [
    {
     "name": "stdout",
     "output_type": "stream",
     "text": [
      "1 q 1\n",
      "(1.0*t, 1.0*x, 1.0*y, 1.0*z) 1xQx1\n",
      "match for: I\n",
      "1 q i\n",
      "(-1.0*x, 1.0*t, 1.0*z, -1.0*y) 1xQxi\n",
      "1 q j\n",
      "(-1.0*y, -1.0*z, 1.0*t, 1.0*x) 1xQxj\n",
      "match for: γ0γ5\n",
      "1 q k\n",
      "(-1.0*z, 1.0*y, -1.0*x, 1.0*t) 1xQxk\n",
      "match for: σ02\n",
      "i q 1\n",
      "(-1.0*x, 1.0*t, -1.0*z, 1.0*y) ixQx1\n",
      "i q i\n",
      "(-1.0*t, -1.0*x, 1.0*y, 1.0*z) ixQxi\n",
      "i q j\n",
      "(1.0*z, -1.0*y, -1.0*x, 1.0*t) ixQxj\n",
      "i q k\n",
      "(-1.0*y, -1.0*z, -1.0*t, -1.0*x) ixQxk\n",
      "j q 1\n",
      "(-1.0*y, 1.0*z, 1.0*t, -1.0*x) jxQx1\n",
      "match for: γ3\n",
      "j q i\n",
      "(-1.0*z, -1.0*y, -1.0*x, -1.0*t) jxQxi\n",
      "j q j\n",
      "(-1.0*t, 1.0*x, -1.0*y, 1.0*z) jxQxj\n",
      "j q k\n",
      "(1.0*x, 1.0*t, -1.0*z, -1.0*y) jxQxk\n",
      "match for: γ1γ5\n",
      "k q 1\n",
      "(-1.0*z, -1.0*y, 1.0*x, 1.0*t) kxQx1\n",
      "match for: γ1\n",
      "k q i\n",
      "(1.0*y, -1.0*z, 1.0*t, -1.0*x) kxQxi\n",
      "match for: σ03\n",
      "k q j\n",
      "(-1.0*x, -1.0*t, -1.0*z, -1.0*y) kxQxj\n",
      "k q k\n",
      "(-t, x, y, -z) kxQxk\n",
      "Number that are the same as matrix approach: 7\n"
     ]
    }
   ],
   "source": [
    "q_txyz = Q([t, x, y, z])\n",
    "q4 = {\"1\": q1(), \"i\": qi(), \"j\": qj(), \"k\": qk()}\n",
    "\n",
    "same_count = 0\n",
    "\n",
    "for pre_label, pre_q in q4.items():\n",
    "    for post_label, post_q in q4.items():\n",
    "        qtq = product(product(pre_q, q_txyz), post_q)\n",
    "        print(f\"{pre_label} q {post_label}\\n{qtq}\")\n",
    "        \n",
    "        for gamma, matrix_q in gamma_txyz.items():\n",
    "            if equal(matrix_q, qtq):\n",
    "                same_count += 1\n",
    "                print(f\"match for: {gamma}\")\n",
    "            \n",
    "print(f\"Number that are the same as matrix approach: {same_count}\")"
   ]
  },
  {
   "cell_type": "markdown",
   "metadata": {},
   "source": [
    "This does have the each 4 variables in each of the four positions. There are 7 matches, a little under 50%. If one were picking signs without any thought, that is what we would expect. Now make adjustments to gammas to match the space-time number triplets."
   ]
  },
  {
   "cell_type": "code",
   "execution_count": 5,
   "metadata": {},
   "outputs": [
    {
     "name": "stdout",
     "output_type": "stream",
     "text": [
      "I\n"
     ]
    },
    {
     "data": {
      "image/png": "[encoded data removed]",
      "text/latex": [
       "$\\displaystyle \\left[\\begin{matrix}t & x & y & z\\end{matrix}\\right]$"
      ],
      "text/plain": [
       "[t  x  y  z]"
      ]
     },
     "metadata": {},
     "output_type": "display_data"
    },
    {
     "name": "stdout",
     "output_type": "stream",
     "text": [
      "-γ0\n"
     ]
    },
    {
     "data": {
      "image/png": "[encoded data removed]",
      "text/latex": [
       "$\\displaystyle \\left[\\begin{matrix}- t & - x & y & z\\end{matrix}\\right]$"
      ],
      "text/plain": [
       "[-t  -x  y  z]"
      ]
     },
     "metadata": {},
     "output_type": "display_data"
    },
    {
     "name": "stdout",
     "output_type": "stream",
     "text": [
      "γ1\n"
     ]
    },
    {
     "data": {
      "image/png": "[encoded data removed]",
      "text/latex": [
       "$\\displaystyle \\left[\\begin{matrix}- z & - y & x & t\\end{matrix}\\right]$"
      ],
      "text/plain": [
       "[-z  -y  x  t]"
      ]
     },
     "metadata": {},
     "output_type": "display_data"
    },
    {
     "name": "stdout",
     "output_type": "stream",
     "text": [
      "γ2_i\n"
     ]
    },
    {
     "data": {
      "image/png": "[encoded data removed]",
      "text/latex": [
       "$\\displaystyle \\left[\\begin{matrix}z & - y & - x & t\\end{matrix}\\right]$"
      ],
      "text/plain": [
       "[z  -y  -x  t]"
      ]
     },
     "metadata": {},
     "output_type": "display_data"
    },
    {
     "name": "stdout",
     "output_type": "stream",
     "text": [
      "γ3\n"
     ]
    },
    {
     "data": {
      "image/png": "[encoded data removed]",
      "text/latex": [
       "$\\displaystyle \\left[\\begin{matrix}- y & z & t & - x\\end{matrix}\\right]$"
      ],
      "text/plain": [
       "[-y  z  t  -x]"
      ]
     },
     "metadata": {},
     "output_type": "display_data"
    },
    {
     "name": "stdout",
     "output_type": "stream",
     "text": [
      "-γ5\n"
     ]
    },
    {
     "data": {
      "image/png": "[encoded data removed]",
      "text/latex": [
       "$\\displaystyle \\left[\\begin{matrix}- y & - z & - t & - x\\end{matrix}\\right]$"
      ],
      "text/plain": [
       "[-y  -z  -t  -x]"
      ]
     },
     "metadata": {},
     "output_type": "display_data"
    },
    {
     "name": "stdout",
     "output_type": "stream",
     "text": [
      "γ0γ5\n"
     ]
    },
    {
     "data": {
      "image/png": "[encoded data removed]",
      "text/latex": [
       "$\\displaystyle \\left[\\begin{matrix}- y & - z & t & x\\end{matrix}\\right]$"
      ],
      "text/plain": [
       "[-y  -z  t  x]"
      ]
     },
     "metadata": {},
     "output_type": "display_data"
    },
    {
     "name": "stdout",
     "output_type": "stream",
     "text": [
      "γ1γ5\n"
     ]
    },
    {
     "data": {
      "image/png": "[encoded data removed]",
      "text/latex": [
       "$\\displaystyle \\left[\\begin{matrix}x & t & - z & - y\\end{matrix}\\right]$"
      ],
      "text/plain": [
       "[x  t  -z  -y]"
      ]
     },
     "metadata": {},
     "output_type": "display_data"
    },
    {
     "name": "stdout",
     "output_type": "stream",
     "text": [
      "γ2γ5_i\n"
     ]
    },
    {
     "data": {
      "image/png": "[encoded data removed]",
      "text/latex": [
       "$\\displaystyle \\left[\\begin{matrix}- x & t & z & - y\\end{matrix}\\right]$"
      ],
      "text/plain": [
       "[-x  t  z  -y]"
      ]
     },
     "metadata": {},
     "output_type": "display_data"
    },
    {
     "name": "stdout",
     "output_type": "stream",
     "text": [
      "-γ3γ5\n"
     ]
    },
    {
     "data": {
      "image/png": "[encoded data removed]",
      "text/latex": [
       "$\\displaystyle \\left[\\begin{matrix}- t & x & y & - z\\end{matrix}\\right]$"
      ],
      "text/plain": [
       "[-t  x  y  -z]"
      ]
     },
     "metadata": {},
     "output_type": "display_data"
    },
    {
     "name": "stdout",
     "output_type": "stream",
     "text": [
      "σ01_i\n"
     ]
    },
    {
     "data": {
      "image/png": "[encoded data removed]",
      "text/latex": [
       "$\\displaystyle \\left[\\begin{matrix}- z & - y & - x & - t\\end{matrix}\\right]$"
      ],
      "text/plain": [
       "[-z  -y  -x  -t]"
      ]
     },
     "metadata": {},
     "output_type": "display_data"
    },
    {
     "name": "stdout",
     "output_type": "stream",
     "text": [
      "σ02\n"
     ]
    },
    {
     "data": {
      "image/png": "[encoded data removed]",
      "text/latex": [
       "$\\displaystyle \\left[\\begin{matrix}- z & y & - x & t\\end{matrix}\\right]$"
      ],
      "text/plain": [
       "[-z  y  -x  t]"
      ]
     },
     "metadata": {},
     "output_type": "display_data"
    },
    {
     "name": "stdout",
     "output_type": "stream",
     "text": [
      "σ30_i\n"
     ]
    },
    {
     "data": {
      "image/png": "[encoded data removed]",
      "text/latex": [
       "$\\displaystyle \\left[\\begin{matrix}y & - z & t & - x\\end{matrix}\\right]$"
      ],
      "text/plain": [
       "[y  -z  t  -x]"
      ]
     },
     "metadata": {},
     "output_type": "display_data"
    },
    {
     "name": "stdout",
     "output_type": "stream",
     "text": [
      "σ21\n"
     ]
    },
    {
     "data": {
      "image/png": "[encoded data removed]",
      "text/latex": [
       "$\\displaystyle \\left[\\begin{matrix}- t & x & - y & z\\end{matrix}\\right]$"
      ],
      "text/plain": [
       "[-t  x  -y  z]"
      ]
     },
     "metadata": {},
     "output_type": "display_data"
    },
    {
     "name": "stdout",
     "output_type": "stream",
     "text": [
      "σ32\n"
     ]
    },
    {
     "data": {
      "image/png": "[encoded data removed]",
      "text/latex": [
       "$\\displaystyle \\left[\\begin{matrix}- x & - t & - z & - y\\end{matrix}\\right]$"
      ],
      "text/plain": [
       "[-x  -t  -z  -y]"
      ]
     },
     "metadata": {},
     "output_type": "display_data"
    },
    {
     "name": "stdout",
     "output_type": "stream",
     "text": [
      "σ31\n"
     ]
    },
    {
     "data": {
      "image/png": "[encoded data removed]",
      "text/latex": [
       "$\\displaystyle \\left[\\begin{matrix}- x & t & - z & y\\end{matrix}\\right]$"
      ],
      "text/plain": [
       "[-x  t  -z  y]"
      ]
     },
     "metadata": {},
     "output_type": "display_data"
    },
    {
     "name": "stdout",
     "output_type": "stream",
     "text": [
      "1 q 1\n",
      "(1.0*t, 1.0*x, 1.0*y, 1.0*z) 1xQx1\n",
      "match for: I\n",
      "1 q i\n",
      "(-1.0*x, 1.0*t, 1.0*z, -1.0*y) 1xQxi\n",
      "match for: γ2γ5_i\n",
      "1 q j\n",
      "(-1.0*y, -1.0*z, 1.0*t, 1.0*x) 1xQxj\n",
      "match for: γ0γ5\n",
      "1 q k\n",
      "(-1.0*z, 1.0*y, -1.0*x, 1.0*t) 1xQxk\n",
      "match for: σ02\n",
      "i q 1\n",
      "(-1.0*x, 1.0*t, -1.0*z, 1.0*y) ixQx1\n",
      "match for: σ31\n",
      "i q i\n",
      "(-1.0*t, -1.0*x, 1.0*y, 1.0*z) ixQxi\n",
      "match for: -γ0\n",
      "i q j\n",
      "(1.0*z, -1.0*y, -1.0*x, 1.0*t) ixQxj\n",
      "match for: γ2_i\n",
      "i q k\n",
      "(-1.0*y, -1.0*z, -1.0*t, -1.0*x) ixQxk\n",
      "match for: -γ5\n",
      "j q 1\n",
      "(-1.0*y, 1.0*z, 1.0*t, -1.0*x) jxQx1\n",
      "match for: γ3\n",
      "j q i\n",
      "(-1.0*z, -1.0*y, -1.0*x, -1.0*t) jxQxi\n",
      "match for: σ01_i\n",
      "j q j\n",
      "(-1.0*t, 1.0*x, -1.0*y, 1.0*z) jxQxj\n",
      "match for: σ21\n",
      "j q k\n",
      "(1.0*x, 1.0*t, -1.0*z, -1.0*y) jxQxk\n",
      "match for: γ1γ5\n",
      "k q 1\n",
      "(-1.0*z, -1.0*y, 1.0*x, 1.0*t) kxQx1\n",
      "match for: γ1\n",
      "k q i\n",
      "(1.0*y, -1.0*z, 1.0*t, -1.0*x) kxQxi\n",
      "match for: σ30_i\n",
      "k q j\n",
      "(-1.0*x, -1.0*t, -1.0*z, -1.0*y) kxQxj\n",
      "match for: σ32\n",
      "k q k\n",
      "(-t, x, y, -z) kxQxk\n",
      "match for: -γ3γ5\n",
      "Number that are the same as matrix approach: 16\n"
     ]
    }
   ],
   "source": [
    "the_16 = {\n",
    "\"I\":    sp.Matrix([[1, 0, 0, 0], [0, 1, 0, 0], [0, 0, 1, 0], [0, 0, 0, 1]]),\n",
    "\"-γ0\":   sp.Matrix([[-1, 0, 0, 0], [0, -1, 0, 0], [0, 0, 1, 0], [0, 0, 0, 1]]),\n",
    "\"γ1\":   sp.Matrix([[0, 0, 0, 1], [0, 0, 1, 0], [0, -1, 0, 0], [-1, 0, 0, 0]]),\n",
    "\"γ2_i\":   sp.Matrix([[0, 0, 0, -i], [0, 0, i, 0], [0, i, 0, 0], [-i, 0, 0, 0]]) * i,\n",
    "\"γ3\":   sp.Matrix([[0, 0, 1, 0], [0, 0, 0, -1], [-1, 0, 0, 0], [0, 1, 0, 0]]), \n",
    "\"-γ5\":   sp.Matrix([[0, 0, -1, 0], [0, 0, 0, -1], [-1, 0, 0, 0], [0, -1, 0, 0]]),\n",
    "\"γ0γ5\": sp.Matrix([[0, 0, 1, 0], [0, 0, 0, 1], [-1, 0, 0, 0], [0, -1, 0, 0]]),\n",
    "\"γ1γ5\": sp.Matrix([[0, 1, 0, 0], [1, 0, 0, 0], [0, 0, 0, -1], [0, 0, -1, 0]]),\n",
    "\"γ2γ5_i\": sp.Matrix([[0, -i, 0, 0], [i, 0, 0, 0], [0, 0, 0, i], [0, 0, -i, 0]]) * i,\n",
    "\"-γ3γ5\": sp.Matrix([[-1, 0, 0, 0], [0, 1, 0, 0], [0, 0, 1, 0], [0, 0, 0, -1]]),\n",
    "\"σ01_i\":  sp.Matrix([[0, 0, 0, i], [0, 0, i, 0], [0, i, 0, 0], [i, 0, 0, 0]]) * i,\n",
    "\"σ02\":  sp.Matrix([[0, 0, 0, 1], [0, 0, -1, 0], [0, 1, 0, 0], [-1, 0, 0, 0]]),\n",
    "\"σ30_i\":  sp.Matrix([[0, 0, -i, 0], [0, 0, 0, i], [-i, 0, 0, 0], [0, i, 0, 0]]) * i,\n",
    "\"σ21\":  sp.Matrix([[-1, 0, 0, 0], [0, 1, 0, 0], [0, 0, -1, 0], [0, 0, 0, 1]]),\n",
    "\"σ32\":  sp.Matrix([[0, -1, 0, 0], [-1, 0, 0, 0], [0, 0, 0, -1], [0, 0, -1, 0]]),\n",
    "\"σ31\":  sp.Matrix([[0, -i, 0, 0], [i, 0, 0, 0], [0, 0, 0, -i], [0, 0, i, 0]]) * i\n",
    "}\n",
    "\n",
    "gamma_txyz = {}\n",
    "for name, matrix in the_16.items():\n",
    "    txyz_matrix = sp.Transpose(txyz) * matrix\n",
    "    \n",
    "    gamma_txyz[name] = Q([txyz_matrix[0], txyz_matrix[1], txyz_matrix[2], txyz_matrix[3]])\n",
    "    print(f\"{name}\")\n",
    "    display(txyz_matrix)\n",
    "\n",
    "same_count = 0\n",
    "\n",
    "for pre_label, pre_q in q4.items():\n",
    "    for post_label, post_q in q4.items():\n",
    "        qtq = product(product(pre_q, q_txyz), post_q)\n",
    "        print(f\"{pre_label} q {post_label}\\n{qtq}\")\n",
    "        \n",
    "        for gamma, matrix_q in gamma_txyz.items():\n",
    "            if equal(matrix_q, qtq):\n",
    "                same_count += 1\n",
    "                print(f\"match for: {gamma}\")\n",
    "            \n",
    "print(f\"Number that are the same as matrix approach: {same_count}\")"
   ]
  },
  {
   "cell_type": "markdown",
   "metadata": {},
   "source": [
    "A function can be created to make any one of these, call it gamma(). It is a operator, so needs to be given a space-time number to act upon. Each can be referenced with either  All 16 as a space-time number series, call it gammas()."
   ]
  },
  {
   "cell_type": "code",
   "execution_count": 6,
   "metadata": {},
   "outputs": [],
   "source": [
    "def gamma(q_1: Q, kind: str=\"I\", verbose: bool=False, rescale_scalar: float=1.0, rescale_vectors: float=1.0) -> Q:\n",
    "    \"\"\"A way to generate the effect of a gamma matrix acting on a space-time number q_1\n",
    "       using a space-time number triplet product. Each can be called using either a\n",
    "       pair of bases, like say '11', 'ii', or 'ik', or one that uses gammas and sigmas.\n",
    "       the verbose option will list these choices.\n",
    "       \n",
    "       Args:\n",
    "           q_1: Q  A quaternion to be acted upon\n",
    "           kind: str   A string used to pick out one of the 16. Using space-time numbers,\n",
    "                       examples would include '11', 'ii', or 'ij'.\n",
    "                       There are probably many differing convensions for gamma matrices.\n",
    "           verbose: bool  Will list the ways to create each of the 16 gamma matrices\n",
    "           rescale_scalar: float   can rescale the scalar, possibly relevant for special relativity and gravity\n",
    "           rescale_vectors: float   can rescale the 3-vectors, possibly relevant for special relativity and gravity\n",
    "           \n",
    "        Returns:\n",
    "           Q    a quaternion acted on by the chosen gamma matrice.\n",
    "    \"\"\"\n",
    "    \n",
    "    rescaled_1 = q1(rescale_scalar)\n",
    "    rescaled_i = qi(rescale_vectors)\n",
    "    rescaled_j = qj(rescale_vectors)\n",
    "    rescaled_k = qk(rescale_vectors)\n",
    "    \n",
    "    synonyms = {}\n",
    "    synonyms[\"11\"] = (\"11\", \"I\")\n",
    "    synonyms[\"1i\"] = (\"1i\", \"γ2γ5\", \"γ2γ5_i\", \"g2g5\", \"g2g5_i\")\n",
    "    synonyms[\"1j\"] = (\"1j\", \"γ0γ5\", \"g0g5\")\n",
    "    synonyms[\"1k\"] = (\"1k\", \"σ02\", \"s02\", \"-σ20\", \"-s20\")\n",
    "    \n",
    "    synonyms[\"i1\"] = (\"i1\", \"σ31\", \"s31\", \"-σ13\", \"-s13\")\n",
    "    synonyms[\"ii\"] = (\"ii\", \"-γ0\", \"-g0\")\n",
    "    synonyms[\"ij\"] = (\"ij\", \"γ2_i\", \"γ2\", \"g2_i\", \"g2\")\n",
    "    synonyms[\"ik\"] = (\"ik\", \"-γ5\", \"-g5\")\n",
    "    \n",
    "    synonyms[\"j1\"] = (\"j1\", \"γ3\", \"g3\")\n",
    "    synonyms[\"ji\"] = (\"ji\", \"σ01_i\", \"s01_i\", \"σ01\", \"s01\", \"-σ10_i\", \"-s10_i\", \"-σ10\", \"-s10\")\n",
    "    synonyms[\"jj\"] = (\"jj\", \"σ21\", \"s21\", \"-σ12\", \"-s12\")\n",
    "    synonyms[\"jk\"] = (\"jk\", \"γ1γ5\", \"g1g5\")\n",
    "    \n",
    "    synonyms[\"k1\"] = (\"k1\", \"γ1\", \"g1\")\n",
    "    synonyms[\"ki\"] = (\"ki\", \"σ30_i\", \"s30_i\", \"σ30\", \"s30\", \"-σ03_i\", \"-s03_i\", \"-σ03\", \"-s30\")\n",
    "    synonyms[\"kj\"] = (\"kj\", \"σ32\", \"s32\", \"-σ23\", \"-s23\")\n",
    "    synonyms[\"kk\"] = (\"kk\", \"γ3γ5\", \"g3g5\")\n",
    "    \n",
    "    if verbose:\n",
    "        for synonym in synonyms.values():\n",
    "            print(synonym)\n",
    "        \n",
    "    if kind in (synonyms[\"11\"]):\n",
    "        result = q_1\n",
    "        \n",
    "    elif kind in (synonyms[\"1i\"]):\n",
    "        result = product(product(rescaled_1, q_1), rescaled_i)\n",
    "    \n",
    "    elif kind in (synonyms[\"1j\"]):\n",
    "        result = product(product(rescaled_1, q_1), rescaled_j)\n",
    "    \n",
    "    elif kind in (synonyms[\"1k\"]):\n",
    "        result = product(product(rescaled_1, q_1), rescaled_k)\n",
    "    \n",
    "    elif kind in (synonyms[\"i1\"]):\n",
    "        result = product(product(rescaled_i, q_1), rescaled_1)\n",
    "    \n",
    "    elif kind in (synonyms[\"ii\"]):\n",
    "        result = product(product(rescaled_i, q_1), rescaled_i)\n",
    "    \n",
    "    elif kind in (synonyms[\"ij\"]):\n",
    "        result = product(product(rescaled_i, q_1), rescaled_j)\n",
    "    \n",
    "    elif kind in (synonyms[\"ik\"]):\n",
    "        result = product(product(rescaled_i, q_1), rescaled_k)\n",
    "    \n",
    "    elif kind in (synonyms[\"j1\"]):\n",
    "        result = product(product(rescaled_j, q_1), rescaled_1)\n",
    "    \n",
    "    elif kind in (synonyms[\"ji\"]):\n",
    "        result = product(product(rescaled_j, q_1), rescaled_i)\n",
    "    \n",
    "    elif kind in (synonyms[\"jj\"]):\n",
    "        result = product(product(rescaled_j, q_1), rescaled_j)\n",
    "    \n",
    "    elif kind in (synonyms[\"jk\"]):\n",
    "        result = product(product(rescaled_j, q_1), rescaled_k)\n",
    "    \n",
    "    elif kind in (synonyms[\"k1\"]):\n",
    "        result = product(product(rescaled_k, q_1), rescaled_1)\n",
    "    \n",
    "    elif kind in (synonyms[\"ki\"]):\n",
    "        result = product(product(rescaled_k, q_1), rescaled_i)\n",
    "    \n",
    "    elif kind in (synonyms[\"kj\"]):\n",
    "        result = product(product(rescaled_k, q_1), rescaled_j)\n",
    "    \n",
    "    elif kind in (synonyms[\"kk\"]):\n",
    "        result = product(product(rescaled_k, q_1), rescaled_k)\n",
    "        \n",
    "    elif kind in (\"γ0\", \"g0\"):\n",
    "        result = flip_sign(product(product(rescaled_i, q_1), rescaled_i))\n",
    "        \n",
    "    elif kind in (\"γ5\", \"g5\"):\n",
    "        result = flip_sign(product(product(rescaled_i, q_1), rescaled_k))\n",
    "        \n",
    "    return result\n",
    "        \n",
    "        "
   ]
  },
  {
   "cell_type": "code",
   "execution_count": 7,
   "metadata": {},
   "outputs": [],
   "source": [
    "def gammas(q_1: Qs, kind: str=\"I\", verbose: bool=False, rescale_scalar: float=1.0, rescale_vectors: float=1.0) -> Qs:\n",
    "    f\"\"\"{gamma.__doc__}\"\"\".replace(\"Q\", \"Qs\")\n",
    "    return Qs([gamma(q, kind, verbose, rescale_scalar, rescale_vectors) for q in q_1.qs], qs_type=q_1.qs_type, rows=q_1.rows,\n",
    "              columns=q_1.columns)"
   ]
  },
  {
   "cell_type": "code",
   "execution_count": 8,
   "metadata": {},
   "outputs": [
    {
     "name": "stdout",
     "output_type": "stream",
     "text": [
      "(-1.0*x, 1.0*t, 1.0*z, -1.0*y) 1xQxi\n"
     ]
    }
   ],
   "source": [
    "print(gamma(q_txyz, \"1i\"))"
   ]
  },
  {
   "cell_type": "code",
   "execution_count": 9,
   "metadata": {},
   "outputs": [],
   "source": [
    "def test__gamma():    \n",
    "\n",
    "    q_txyz = Q([t, x, y, z])\n",
    "    q_11 = q_txyz\n",
    "    q_1i = Q([-x, t, z, -y])\n",
    "    q_1j = Q([-y, -z, t, x])\n",
    "    q_1k = Q([-z, y, -x, t])\n",
    "    q_i1 = Q([-x, t, -z, y])\n",
    "    q_ii = Q([-t, -x, y, z])\n",
    "    q_ij = Q([z, -y, -x, t])\n",
    "    q_ik = Q([-y, -z, -t, -x])\n",
    "    q_j1 = Q([-y, z, t, -x])\n",
    "    q_ji = Q([-z, -y, -x, -t])\n",
    "    q_jj = Q([-t, x, -y, z])\n",
    "    q_jk = Q([x, t, -z, -y])\n",
    "    q_k1 = Q([-z, -y, x, t])\n",
    "    q_ki = Q([y, -z, t, -x])\n",
    "    q_kj = Q([-x, -t, -z, -y])\n",
    "    q_kk = Q([-t, x, y, -z])\n",
    " \n",
    "    assert equal(gamma(q_txyz, \"11\"), q_11)\n",
    "    assert equal(gamma(q_txyz, \"1i\"), q_1i)\n",
    "    assert equal(gamma(q_txyz, \"1j\"), q_1j)\n",
    "    assert equal(gamma(q_txyz, \"1k\"), q_1k)\n",
    "    assert equal(gamma(q_txyz, \"i1\"), q_i1)\n",
    "    assert equal(gamma(q_txyz, \"ii\"), q_ii)\n",
    "    assert equal(gamma(q_txyz, \"ij\"), q_ij)\n",
    "    assert equal(gamma(q_txyz, \"ik\"), q_ik)\n",
    "    assert equal(gamma(q_txyz, \"j1\"), q_j1)\n",
    "    assert equal(gamma(q_txyz, \"ji\"), q_ji)\n",
    "    assert equal(gamma(q_txyz, \"jj\"), q_jj)\n",
    "    assert equal(gamma(q_txyz, \"jk\"), q_jk)\n",
    "    assert equal(gamma(q_txyz, \"k1\"), q_k1)\n",
    "    assert equal(gamma(q_txyz, \"ki\"), q_ki)\n",
    "    assert equal(gamma(q_txyz, \"kj\"), q_kj)\n",
    "    assert equal(gamma(q_txyz, \"kk\"), q_kk)\n",
    "\n",
    "test__gamma()"
   ]
  },
  {
   "cell_type": "code",
   "execution_count": 10,
   "metadata": {},
   "outputs": [],
   "source": [
    "def test__gammas():    \n",
    "\n",
    "    qs_txyz = Qs([Q([t, x, y, z])])\n",
    "    qs_11 = qs_txyz\n",
    "    qs_1i = Qs([Q([-x, t, z, -y])])\n",
    "    qs_1j = Qs([Q([-y, -z, t, x])])\n",
    "    qs_1k = Qs([Q([-z, y, -x, t])])\n",
    "    qs_i1 = Qs([Q([-x, t, -z, y])])\n",
    "    qs_ii = Qs([Q([-t, -x, y, z])])\n",
    "    qs_ij = Qs([Q([z, -y, -x, t])])\n",
    "    qs_ik = Qs([Q([-y, -z, -t, -x])])\n",
    "    qs_j1 = Qs([Q([-y, z, t, -x])])\n",
    "    qs_ji = Qs([Q([-z, -y, -x, -t])])\n",
    "    qs_jj = Qs([Q([-t, x, -y, z])])\n",
    "    qs_jk = Qs([Q([x, t, -z, -y])])\n",
    "    qs_k1 = Qs([Q([-z, -y, x, t])])\n",
    "    qs_ki = Qs([Q([y, -z, t, -x])])\n",
    "    qs_kj = Qs([Q([-x, -t, -z, -y])])\n",
    "    qs_kk = Qs([Q([-t, x, y, -z])])\n",
    " \n",
    "    assert equals(gammas(qs_txyz, \"11\"), qs_11)\n",
    "    assert equals(gammas(qs_txyz, \"1i\"), qs_1i)\n",
    "    assert equals(gammas(qs_txyz, \"1j\"), qs_1j)\n",
    "    assert equals(gammas(qs_txyz, \"1k\"), qs_1k)\n",
    "    assert equals(gammas(qs_txyz, \"i1\"), qs_i1)\n",
    "    assert equals(gammas(qs_txyz, \"ii\"), qs_ii)\n",
    "    assert equals(gammas(qs_txyz, \"ij\"), qs_ij)\n",
    "    assert equals(gammas(qs_txyz, \"ik\"), qs_ik)\n",
    "    assert equals(gammas(qs_txyz, \"j1\"), qs_j1)\n",
    "    assert equals(gammas(qs_txyz, \"ji\"), qs_ji)\n",
    "    assert equals(gammas(qs_txyz, \"jj\"), qs_jj)\n",
    "    assert equals(gammas(qs_txyz, \"jk\"), qs_jk)\n",
    "    assert equals(gammas(qs_txyz, \"k1\"), qs_k1)\n",
    "    assert equals(gammas(qs_txyz, \"ki\"), qs_ki)\n",
    "    assert equals(gammas(qs_txyz, \"kj\"), qs_kj)\n",
    "    assert equals(gammas(qs_txyz, \"kk\"), qs_kk)\n",
    "\n",
    "test__gammas()"
   ]
  },
  {
   "cell_type": "code",
   "execution_count": 11,
   "metadata": {},
   "outputs": [],
   "source": [
    "def generate_gammas(q_1, rescale_scalar: float=1.0, rescale_vectors: float=1.0) -> Qs:\n",
    "    \"\"\"Create 16 gammas matrices in a space-time number series.\"\"\"\n",
    "    \n",
    "    return Qs([gamma(q_1, kind=\"11\", rescale_scalar=rescale_scalar, rescale_vectors=rescale_vectors),\n",
    "               gamma(q_1, kind=\"1i\", rescale_scalar=rescale_scalar, rescale_vectors=rescale_vectors),\n",
    "               gamma(q_1, kind=\"1j\", rescale_scalar=rescale_scalar, rescale_vectors=rescale_vectors),\n",
    "               gamma(q_1, kind=\"1k\", rescale_scalar=rescale_scalar, rescale_vectors=rescale_vectors),\n",
    "               gamma(q_1, kind=\"i1\", rescale_scalar=rescale_scalar, rescale_vectors=rescale_vectors),\n",
    "               gamma(q_1, kind=\"ii\", rescale_scalar=rescale_scalar, rescale_vectors=rescale_vectors),\n",
    "               gamma(q_1, kind=\"ij\", rescale_scalar=rescale_scalar, rescale_vectors=rescale_vectors),\n",
    "               gamma(q_1, kind=\"ik\", rescale_scalar=rescale_scalar, rescale_vectors=rescale_vectors),\n",
    "               gamma(q_1, kind=\"j1\", rescale_scalar=rescale_scalar, rescale_vectors=rescale_vectors),\n",
    "               gamma(q_1, kind=\"ji\", rescale_scalar=rescale_scalar, rescale_vectors=rescale_vectors),\n",
    "               gamma(q_1, kind=\"jj\", rescale_scalar=rescale_scalar, rescale_vectors=rescale_vectors),\n",
    "               gamma(q_1, kind=\"jk\", rescale_scalar=rescale_scalar, rescale_vectors=rescale_vectors),\n",
    "               gamma(q_1, kind=\"k1\", rescale_scalar=rescale_scalar, rescale_vectors=rescale_vectors),\n",
    "               gamma(q_1, kind=\"ki\", rescale_scalar=rescale_scalar, rescale_vectors=rescale_vectors),\n",
    "               gamma(q_1, kind=\"kj\", rescale_scalar=rescale_scalar, rescale_vectors=rescale_vectors),\n",
    "               gamma(q_1, kind=\"kk\", rescale_scalar=rescale_scalar, rescale_vectors=rescale_vectors)\n",
    "              ])"
   ]
  },
  {
   "cell_type": "code",
   "execution_count": 12,
   "metadata": {},
   "outputs": [
    {
     "name": "stdout",
     "output_type": "stream",
     "text": [
      "gen\n",
      "n=1: (t, x, y, z) \n",
      "n=2: (-1.0*x, 1.0*t, 1.0*z, -1.0*y) \n",
      "n=3: (-1.0*y, -1.0*z, 1.0*t, 1.0*x) \n",
      "n=4: (-1.0*z, 1.0*y, -1.0*x, 1.0*t) \n",
      "n=5: (-1.0*x, 1.0*t, -1.0*z, 1.0*y) \n",
      "n=6: (-1.0*t, -1.0*x, 1.0*y, 1.0*z) \n",
      "n=7: (1.0*z, -1.0*y, -1.0*x, 1.0*t) \n",
      "n=8: (-1.0*y, -1.0*z, -1.0*t, -1.0*x) \n",
      "n=9: (-1.0*y, 1.0*z, 1.0*t, -1.0*x) \n",
      "n=10: (-1.0*z, -1.0*y, -1.0*x, -1.0*t) \n",
      "n=11: (-1.0*t, 1.0*x, -1.0*y, 1.0*z) \n",
      "n=12: (1.0*x, 1.0*t, -1.0*z, -1.0*y) \n",
      "n=13: (-1.0*z, -1.0*y, 1.0*x, 1.0*t) \n",
      "n=14: (1.0*y, -1.0*z, 1.0*t, -1.0*x) \n",
      "n=15: (-1.0*x, -1.0*t, -1.0*z, -1.0*y) \n",
      "n=16: (-1.0*t, 1.0*x, 1.0*y, -1.0*z) \n",
      "ket: 16/1\n",
      "\n"
     ]
    }
   ],
   "source": [
    "generate_gammas(q_txyz).print_state(\"gen\")"
   ]
  },
  {
   "cell_type": "markdown",
   "metadata": {},
   "source": [
    "## Properties of gamma matrices"
   ]
  },
  {
   "cell_type": "markdown",
   "metadata": {},
   "source": [
    "Gamma matrices are used in a number of ways. One is chirality. For a Dirac field $\\psi$, the left and right fields are defined like so:\n",
    "\n",
    "$\\phi_\\rm{left} = \\frac{1}{2}(1 - \\gamma^5) \\phi$\n",
    "\n",
    "$\\phi_\\rm{right} = \\frac{1}{2}(1 + \\gamma^5) \\phi$\n",
    "\n",
    "Create a chirality function."
   ]
  },
  {
   "cell_type": "code",
   "execution_count": 13,
   "metadata": {},
   "outputs": [],
   "source": [
    "def chirality(q_1: Q, kind: str=\"left\"):\n",
    "    \"\"\"\n",
    "    Create a left or right space-time number.\n",
    "    \n",
    "    Args:\n",
    "        q_1: Q    A space-time number to act on\n",
    "        kine: str  kind of chirality, either left or right\n",
    "    \"\"\"\n",
    "    \n",
    "    result = q0()\n",
    "    \n",
    "    if kind == \"left\":\n",
    "        result = product(dif(q_1, gamma(q_1, kind=\"g5\")), q1(1/2))\n",
    "    elif kind == \"right\":\n",
    "        result = product(add(q_1, gamma(q_1, kind=\"g5\")), q1(1/2))\n",
    "        \n",
    "    return result\n",
    "\n",
    "def chiralitys(q_1: Qs, kind: str=\"left\") -> Qs:\n",
    "    f\"\"\"{chirality.__doc__}\"\"\".replace(\"Q\", \"Qs\")\n",
    "    return Qs([chirality(q, kind) for q in q_1.qs], qs_type=q_1.qs_type, rows=q_1.rows,\n",
    "              columns=q_1.columns)"
   ]
  },
  {
   "cell_type": "code",
   "execution_count": 14,
   "metadata": {},
   "outputs": [
    {
     "name": "stdout",
     "output_type": "stream",
     "text": [
      "txyz left\n",
      "(0.5*t - 0.5*y, 0.5*x - 0.5*z, -0.5*t + 0.5*y, -0.5*x + 0.5*z) \n",
      "\n",
      "txyz right\n",
      "(0.5*t + 0.5*y, 0.5*x + 0.5*z, 0.5*t + 0.5*y, 0.5*x + 0.5*z) \n",
      "\n"
     ]
    }
   ],
   "source": [
    "chirality(q_txyz, kind=\"left\").print_state(\"txyz left\")\n",
    "chirality(q_txyz, kind=\"right\").print_state(\"txyz right\")"
   ]
  },
  {
   "cell_type": "markdown",
   "metadata": {},
   "source": [
    "If these two are added together, one gets back the starting value."
   ]
  },
  {
   "cell_type": "markdown",
   "metadata": {},
   "source": [
    "Another property of $\\gamma^5$ is that its square is the identity. Confirm this works for this triple product space-time function."
   ]
  },
  {
   "cell_type": "code",
   "execution_count": 15,
   "metadata": {},
   "outputs": [
    {
     "name": "stdout",
     "output_type": "stream",
     "text": [
      "g5 g5 txyz\n",
      "(1.0*t, 1.0*x, 1.0*y, 1.0*z) \n",
      "\n"
     ]
    }
   ],
   "source": [
    "gamma(gamma(q_txyz, kind = \"g5\"), kind =\"g5\").print_state(\"g5 g5 txyz\")"
   ]
  },
  {
   "cell_type": "markdown",
   "metadata": {},
   "source": [
    "There is also a well known anti-commuter relation between these gammas:\n",
    "\n",
    "$\\{\\gamma^5, \\gamma^\\mu\\} = \\gamma^5 \\gamma^\\mu + \\gamma^\\mu \\gamma^5 = 0$\n",
    "\n",
    "Test this works for space-time number triple products."
   ]
  },
  {
   "cell_type": "code",
   "execution_count": 16,
   "metadata": {},
   "outputs": [
    {
     "name": "stdout",
     "output_type": "stream",
     "text": [
      "g0\n",
      "g5 g0 + g0 g5\n",
      "(0, 0, 0, 0) \n",
      "\n",
      "g1\n",
      "g5 g1 + g1 g5\n",
      "(0, 0, 0, 0) \n",
      "\n",
      "g2\n",
      "g5 g2 + g2 g5\n",
      "(0, 0, 0, 0) \n",
      "\n",
      "g3\n",
      "g5 g3 + g3 g5\n",
      "(0, 0, 0, 0) \n",
      "\n"
     ]
    }
   ],
   "source": [
    "gs = (\"g0\", \"g1\", \"g2\", \"g3\")\n",
    "\n",
    "for g in gs:\n",
    "    print(g)\n",
    "    anticommutator = add(gamma(gamma(q_txyz, kind=\"g5\"), kind=g), gamma(gamma(q_txyz, kind=g), kind=\"g5\"))\n",
    "    anticommutator.print_state(f\"g5 {g} + {g} g5\")"
   ]
  },
  {
   "cell_type": "markdown",
   "metadata": {},
   "source": [
    "What about the commutator of these gamma matrices? According to [Wikipedia](https://www.wikiwand.com/en/Gamma_matrices):\n",
    "\n",
    "\n",
    "  The elements $\\sigma^{\\mu \\nu} = \\gamma^\\mu \\gamma^\\nu - \\gamma^\\nu \\gamma^\\mu$ form a representation of the Lie algebra of the Lorentz group. This is a spin representation. When these matrices, and linear combinations of them, are exponentiated, they are bispinor representations of the Lorentz group, e.g., the S(Λ) of above are of this form. The 6 dimensional space the $\\sigma^{\\mu \\nu}$ span is the representation space of a tensor representation of the Lorentz group.\n",
    "    \n",
    "I feel confident similar steps can be repeated without the tensor representation. See what this looks like:"
   ]
  },
  {
   "cell_type": "code",
   "execution_count": 17,
   "metadata": {},
   "outputs": [
    {
     "name": "stdout",
     "output_type": "stream",
     "text": [
      "g0 g1 - g1 g0\n",
      "(2.0*z, 2.0*y, 2.0*x, 2.0*t) \n",
      "\n",
      "g0 g2 - g2 g0\n",
      "(-2.0*z, 2.0*y, -2.0*x, 2.0*t) \n",
      "\n",
      "g0 g3 - g3 g0\n",
      "(2.0*y, -2.0*z, 2.0*t, -2.0*x) \n",
      "\n",
      "g1 g0 - g0 g1\n",
      "(-2.0*z, -2.0*y, -2.0*x, -2.0*t) \n",
      "\n",
      "g1 g2 - g2 g1\n",
      "(2.0*t, -2.0*x, 2.0*y, -2.0*z) \n",
      "\n",
      "g1 g3 - g3 g1\n",
      "(-2.0*x, 2.0*t, -2.0*z, 2.0*y) \n",
      "\n",
      "g2 g0 - g0 g2\n",
      "(2.0*z, -2.0*y, 2.0*x, -2.0*t) \n",
      "\n",
      "g2 g1 - g1 g2\n",
      "(-2.0*t, 2.0*x, -2.0*y, 2.0*z) \n",
      "\n",
      "g2 g3 - g3 g2\n",
      "(2.0*x, 2.0*t, 2.0*z, 2.0*y) \n",
      "\n",
      "g3 g0 - g0 g3\n",
      "(-2.0*y, 2.0*z, -2.0*t, 2.0*x) \n",
      "\n",
      "g3 g1 - g1 g3\n",
      "(2.0*x, -2.0*t, 2.0*z, -2.0*y) \n",
      "\n",
      "g3 g2 - g2 g3\n",
      "(-2.0*x, -2.0*t, -2.0*z, -2.0*y) \n",
      "\n"
     ]
    }
   ],
   "source": [
    "for g1 in gs:\n",
    "    for g2 in gs:\n",
    "        if g1 == g2:\n",
    "            continue\n",
    "        \n",
    "        commutator = dif(gamma(gamma(q_txyz, kind=g1), kind=g2), gamma(gamma(q_txyz, kind=g2), kind=g1))\n",
    "        commutator.print_state(f\"{g1} {g2} - {g2} {g1}\")"
   ]
  },
  {
   "cell_type": "markdown",
   "metadata": {},
   "source": [
    "There are 12 of these, but there is also a redundancy, where switching the order flips a sign. No obvious link exists between these and rotations and boosts."
   ]
  },
  {
   "cell_type": "markdown",
   "metadata": {},
   "source": [
    "It requires some precise algebra to create the link between gamma matrices and the Lorentz group. Quote [wikipedia](https://www.wikiwand.com/en/Representation_theory_of_the_Lorentz_group):"
   ]
  },
  {
   "cell_type": "markdown",
   "metadata": {},
   "source": [
    "![](images/Lorentz_J_K_matrices.png)"
   ]
  },
  {
   "cell_type": "markdown",
   "metadata": {},
   "source": [
    "The game here is to create all of these matrices without any factors of _i_."
   ]
  },
  {
   "cell_type": "code",
   "execution_count": 18,
   "metadata": {},
   "outputs": [
    {
     "data": {
      "image/png": "[encoded data removed]",
      "text/latex": [
       "$\\displaystyle \\left[\\begin{matrix}0 & 0 & 0 & 0\\\\0 & 0 & 0 & 0\\\\0 & 0 & 0 & -1\\\\0 & 0 & 1 & 0\\end{matrix}\\right]$"
      ],
      "text/plain": [
       "⎡0  0  0  0 ⎤\n",
       "⎢           ⎥\n",
       "⎢0  0  0  0 ⎥\n",
       "⎢           ⎥\n",
       "⎢0  0  0  -1⎥\n",
       "⎢           ⎥\n",
       "⎣0  0  1  0 ⎦"
      ]
     },
     "metadata": {},
     "output_type": "display_data"
    },
    {
     "data": {
      "image/png": "[encoded data removed]",
      "text/latex": [
       "$\\displaystyle \\left[\\begin{matrix}0 & 0 & 0 & 0\\\\0 & 0 & 0 & 1\\\\0 & 0 & 0 & 0\\\\0 & -1 & 0 & 0\\end{matrix}\\right]$"
      ],
      "text/plain": [
       "⎡0  0   0  0⎤\n",
       "⎢           ⎥\n",
       "⎢0  0   0  1⎥\n",
       "⎢           ⎥\n",
       "⎢0  0   0  0⎥\n",
       "⎢           ⎥\n",
       "⎣0  -1  0  0⎦"
      ]
     },
     "metadata": {},
     "output_type": "display_data"
    },
    {
     "data": {
      "image/png": "[encoded data removed]",
      "text/latex": [
       "$\\displaystyle \\left[\\begin{matrix}0 & 0 & 0 & 0\\\\0 & 0 & -1 & 0\\\\0 & 1 & 0 & 0\\\\0 & 0 & 0 & 0\\end{matrix}\\right]$"
      ],
      "text/plain": [
       "⎡0  0  0   0⎤\n",
       "⎢           ⎥\n",
       "⎢0  0  -1  0⎥\n",
       "⎢           ⎥\n",
       "⎢0  1  0   0⎥\n",
       "⎢           ⎥\n",
       "⎣0  0  0   0⎦"
      ]
     },
     "metadata": {},
     "output_type": "display_data"
    }
   ],
   "source": [
    "J1 = (the_16[\"γ2γ5_i\"] - the_16[\"σ31\"])/2\n",
    "J2 = (the_16[\"γ0γ5\"] - the_16[\"γ3\"])/2\n",
    "J3 = (the_16[\"σ02\"] - the_16[\"γ1\"])/2\n",
    "display(J1)\n",
    "display(J2)\n",
    "display(J3)"
   ]
  },
  {
   "cell_type": "code",
   "execution_count": 19,
   "metadata": {},
   "outputs": [
    {
     "data": {
      "image/png": "[encoded data removed]",
      "text/latex": [
       "$\\displaystyle \\left[\\begin{matrix}0 & 1 & 0 & 0\\\\1 & 0 & 0 & 0\\\\0 & 0 & 0 & 0\\\\0 & 0 & 0 & 0\\end{matrix}\\right]$"
      ],
      "text/plain": [
       "⎡0  1  0  0⎤\n",
       "⎢          ⎥\n",
       "⎢1  0  0  0⎥\n",
       "⎢          ⎥\n",
       "⎢0  0  0  0⎥\n",
       "⎢          ⎥\n",
       "⎣0  0  0  0⎦"
      ]
     },
     "metadata": {},
     "output_type": "display_data"
    },
    {
     "data": {
      "image/png": "[encoded data removed]",
      "text/latex": [
       "$\\displaystyle \\left[\\begin{matrix}0 & 0 & 1 & 0\\\\0 & 0 & 0 & 0\\\\1 & 0 & 0 & 0\\\\0 & 0 & 0 & 0\\end{matrix}\\right]$"
      ],
      "text/plain": [
       "⎡0  0  1  0⎤\n",
       "⎢          ⎥\n",
       "⎢0  0  0  0⎥\n",
       "⎢          ⎥\n",
       "⎢1  0  0  0⎥\n",
       "⎢          ⎥\n",
       "⎣0  0  0  0⎦"
      ]
     },
     "metadata": {},
     "output_type": "display_data"
    },
    {
     "data": {
      "image/png": "[encoded data removed]",
      "text/latex": [
       "$\\displaystyle \\left[\\begin{matrix}0 & 0 & 0 & 1\\\\0 & 0 & 0 & 0\\\\0 & 0 & 0 & 0\\\\1 & 0 & 0 & 0\\end{matrix}\\right]$"
      ],
      "text/plain": [
       "⎡0  0  0  1⎤\n",
       "⎢          ⎥\n",
       "⎢0  0  0  0⎥\n",
       "⎢          ⎥\n",
       "⎢0  0  0  0⎥\n",
       "⎢          ⎥\n",
       "⎣1  0  0  0⎦"
      ]
     },
     "metadata": {},
     "output_type": "display_data"
    }
   ],
   "source": [
    "K1 = (the_16[\"γ1γ5\"] - the_16[\"σ32\"])/2\n",
    "K2 = (the_16[\"σ30_i\"] - the_16[\"-γ5\"])/2\n",
    "K3 = (the_16[\"γ2_i\"] - the_16[\"σ01_i\"])/2\n",
    "display(K1)\n",
    "display(K2)\n",
    "display(K3)"
   ]
  },
  {
   "cell_type": "markdown",
   "metadata": {},
   "source": [
    "Define a commutator function:"
   ]
  },
  {
   "cell_type": "code",
   "execution_count": 20,
   "metadata": {},
   "outputs": [],
   "source": [
    "def commutator_m(m_1, m_2):\n",
    "    return (m_1 * m_2 - m_2 * m_1)\n",
    "\n",
    "def commutator(q_1: Q, q_2: Q) -> Q:\n",
    "    \"\"\"Calculate the communtator of two quaternions\n",
    "    \n",
    "       [q_1, q_2] = (q_1 q_2 - q_2 q_1) / normalize\n",
    "       \n",
    "       Args:\n",
    "         q_1: Q   first space-time number\n",
    "         q_2: Q   second space-time number\n",
    "         normalize: float   divide by the normalize number\n",
    "         \n",
    "       Returns:\n",
    "          Q   the conjugate\n",
    "       \"\"\"\n",
    "    return dif(product(q_1, q_2), product(q_2, q_1))\n",
    "\n",
    "def commutators(q_1: Qs, q_2: Qs, normalize: float=2.0) -> Qs:\n",
    "    f\"\"\"{commutator.__doc__}\"\"\".replace(\"Q\", \"Qs\")\n",
    "    return Qs([commutator(q_11, q_22, normalize) for q_11, q_22 in zip(q_1.qs, q_2.qz)], qs_type=q_1.qs_type, rows=q_1.rows,\n",
    "              columns=q_1.columns)"
   ]
  },
  {
   "cell_type": "code",
   "execution_count": 21,
   "metadata": {},
   "outputs": [
    {
     "data": {
      "image/png": "[encoded data removed]",
      "text/latex": [
       "$\\displaystyle \\left[\\begin{matrix}0 & 0 & 0 & 0\\\\0 & 0 & -1 & 0\\\\0 & 1 & 0 & 0\\\\0 & 0 & 0 & 0\\end{matrix}\\right]$"
      ],
      "text/plain": [
       "⎡0  0  0   0⎤\n",
       "⎢           ⎥\n",
       "⎢0  0  -1  0⎥\n",
       "⎢           ⎥\n",
       "⎢0  1  0   0⎥\n",
       "⎢           ⎥\n",
       "⎣0  0  0   0⎦"
      ]
     },
     "metadata": {},
     "output_type": "display_data"
    },
    {
     "data": {
      "image/png": "[encoded data removed]",
      "text/latex": [
       "$\\displaystyle \\left[\\begin{matrix}0 & 0 & 0 & 1\\\\0 & 0 & 0 & 0\\\\0 & 0 & 0 & 0\\\\1 & 0 & 0 & 0\\end{matrix}\\right]$"
      ],
      "text/plain": [
       "⎡0  0  0  1⎤\n",
       "⎢          ⎥\n",
       "⎢0  0  0  0⎥\n",
       "⎢          ⎥\n",
       "⎢0  0  0  0⎥\n",
       "⎢          ⎥\n",
       "⎣1  0  0  0⎦"
      ]
     },
     "metadata": {},
     "output_type": "display_data"
    },
    {
     "data": {
      "image/png": "[encoded data removed]",
      "text/latex": [
       "$\\displaystyle \\left[\\begin{matrix}0 & 0 & 0 & 0\\\\0 & 0 & 1 & 0\\\\0 & -1 & 0 & 0\\\\0 & 0 & 0 & 0\\end{matrix}\\right]$"
      ],
      "text/plain": [
       "⎡0  0   0  0⎤\n",
       "⎢           ⎥\n",
       "⎢0  0   1  0⎥\n",
       "⎢           ⎥\n",
       "⎢0  -1  0  0⎥\n",
       "⎢           ⎥\n",
       "⎣0  0   0  0⎦"
      ]
     },
     "metadata": {},
     "output_type": "display_data"
    }
   ],
   "source": [
    "display(commutator_m(J1, J2))\n",
    "display(commutator_m(J1, K2))\n",
    "display(commutator_m(K1, K2))"
   ]
  },
  {
   "cell_type": "markdown",
   "metadata": {},
   "source": [
    "This is as it should be. The J's have 2 different signs, K's are all positive. The 2 J's go to the third J, \\[J, K\\] to K, and 2 K's to a -J."
   ]
  },
  {
   "cell_type": "markdown",
   "metadata": {},
   "source": [
    "Use the space-time number function gamma() using the definitions worked out above for J1, J2, and J3."
   ]
  },
  {
   "cell_type": "code",
   "execution_count": 22,
   "metadata": {},
   "outputs": [
    {
     "name": "stdout",
     "output_type": "stream",
     "text": [
      "J1_q\n",
      "(0, 0, 1.0*z, -1.0*y) \n",
      "\n",
      "J2_q\n",
      "(0, -1.0*z, 0, 1.0*x) \n",
      "\n",
      "J3_q\n",
      "(0, 1.0*y, -1.0*x, 0) \n",
      "\n"
     ]
    }
   ],
   "source": [
    "J1_q = product(dif(gamma(q_txyz, kind=\"g2g5\"), gamma(q_txyz, kind=\"s31\")), q1(1/2))\n",
    "J2_q = product(dif(gamma(q_txyz, kind=\"g0g5\"), gamma(q_txyz, kind=\"g3\")), q1(1/2))\n",
    "J3_q = product(dif(gamma(q_txyz, kind=\"s02\"), gamma(q_txyz, kind=\"g1\")), q1(1/2))\n",
    "\n",
    "J1_q.print_state(\"J1_q\")\n",
    "J2_q.print_state(\"J2_q\")\n",
    "J3_q.print_state(\"J3_q\")"
   ]
  },
  {
   "cell_type": "markdown",
   "metadata": {},
   "source": [
    "Nice, these operations keep two spatial terms whose signs are opposite. Because these only involve space and have flipped signs, it looks like the J's should be involved with rotations in space. They are even make sense with their roles, meaning the first one is for rotations around the x axis, so there is z in the y position and y in the z. Similar patterns hold for J2 and J3.\n",
    "\n",
    "There is another hidden pattern here. For J1, what is the pattern between $\\gamma^2 \\gamma^5$ and $\\sigma^{31}$? Translate these to their space-time number triple products: $1 q i$ and $i q 1$! That is now an obvious pattern. What that implies is that for J2, $\\gamma^0 \\gamma^5$ and $\\gamma^{3}$ should be $1 q j$ and $j q 1$ which turns out to be true. Nice.\n",
    "\n",
    "Let's see if the K's look like they will do boosts for x, y, and z."
   ]
  },
  {
   "cell_type": "code",
   "execution_count": 23,
   "metadata": {},
   "outputs": [
    {
     "name": "stdout",
     "output_type": "stream",
     "text": [
      "K1\n",
      "(1.0*x, 1.0*t, 0, 0) \n",
      "\n",
      "K2\n",
      "(1.0*y, 0, 1.0*t, 0) \n",
      "\n",
      "K3\n",
      "(1.0*z, 0, 0, 1.0*t) \n",
      "\n"
     ]
    }
   ],
   "source": [
    "K1_q = product(dif(gamma(q_txyz, kind=\"g1g5\"), gamma(q_txyz, kind=\"s32\")), q1(1/2))\n",
    "K2_q = product(dif(gamma(q_txyz, kind=\"s30\"), gamma(q_txyz, kind=\"-g5\")), q1(1/2))\n",
    "K3_q = product(dif(gamma(q_txyz, kind=\"g2\"), gamma(q_txyz, kind=\"s01\")), q1(1/2))\n",
    "\n",
    "K1_q.print_state(\"K1\")\n",
    "K2_q.print_state(\"K2\")\n",
    "K3_q.print_state(\"K3\")"
   ]
  },
  {
   "cell_type": "markdown",
   "metadata": {},
   "source": [
    "Nice. These look perfect to do a boost along x, y, and z respectively. We can hope for a simple pattern when the gammas and sigmas get translated into space-time number triple products. For K1, it is $\\gamma^1\\gamma^5$ minus $\\sigma^{32}$. The triple products are $j q k$ and $k q j$. Wow. While I would never be able to remember the pattern with gamma matrices. For quaternion products it is both spatial imaginaries is opposite order.\n",
    "\n",
    "Test the commutator relationships."
   ]
  },
  {
   "cell_type": "code",
   "execution_count": 24,
   "metadata": {},
   "outputs": [
    {
     "name": "stdout",
     "output_type": "stream",
     "text": [
      "J3_q?\n",
      "(0, 2.0*x*z, 2.0*y*z, 2.0*z**2) \n",
      "\n",
      "K3_q?\n",
      "(0, 2.0*t*y, 0, 0) \n",
      "\n",
      "J3_q?\n",
      "(0, 0, 0, 2.0*t**2) \n",
      "\n"
     ]
    }
   ],
   "source": [
    "commutator(J1_q, J2_q).print_state(\"J3_q?\")\n",
    "commutator(J1_q, K2_q).print_state(\"K3_q?\")\n",
    "commutator(K1_q, K2_q).print_state(\"J3_q?\")"
   ]
  },
  {
   "cell_type": "markdown",
   "metadata": {},
   "source": [
    "These look mangled. Why? Recall these space-time number operations use triple products.  Where two triple products meet, well, things will get messy.\n",
    "\n",
    "What is needed is some sort of triple-product commutator. I went looking to construct a function that could do the trick, somehow dodging the bullet of the terms \"in the middle\" which to my eye might always trip things up. Instead of multiplying, what about the two ways to compose functions, $f(g(q))$ versus $g(f(q))$? The most direct approach did not work with these triple products. The Js and Ks are the difference of two triple products. I looked into a variation of the first one, which did the compose function the first way for the first term and the opposite way for the negative second term. Create the function and test it out."
   ]
  },
  {
   "cell_type": "code",
   "execution_count": 25,
   "metadata": {},
   "outputs": [],
   "source": [
    "def pair_of_triple_product_composite(q_1, pair_1, pair_2) -> Q:\n",
    "    \"\"\"Takes in two pairs of gamma transformations and \n",
    "       does compositions of the triple product on q_1 in both orders.\n",
    "       \n",
    "       For example, \n",
    "       J1 = γ2γ5 - σ31\n",
    "       J2 = γ0γ5 - γ3\n",
    "       \n",
    "       pair_1 = [γ2γ5, σ31]\n",
    "       pair_2 = [γ0γ5, γ3]\n",
    "       \n",
    "       ptpc(q_1, pair_1, pair_2) = γ0γ5(γ2γ5(q_1)) - σ31(γ3(q_1))\n",
    "       \n",
    "       Args:\n",
    "         q_1: Q  space-time number to act on.\n",
    "         pair_1: array of 2 strings used for gamma functions\n",
    "         pair_2: array of 2 strings used for gamma functions\n",
    "         \n",
    "       Returns:\n",
    "         Q transformed by this function\n",
    "    \"\"\"\n",
    "    \n",
    "    return product(dif(gamma(gamma(q_1, kind=pair_1[0]),kind=pair_2[0]), gamma(gamma(q_1, kind=pair_2[1]), kind=pair_1[1])), q1(1/2))"
   ]
  },
  {
   "cell_type": "code",
   "execution_count": 26,
   "metadata": {},
   "outputs": [
    {
     "name": "stdout",
     "output_type": "stream",
     "text": [
      "J1_J2_composite\n",
      "(0, 1.0*y, -1.0*x, 0) \n",
      "\n",
      "J2_J3_composite\n",
      "(0, 0, 1.0*z, -1.0*y) \n",
      "\n",
      "J3_J1_composite\n",
      "(0, -1.0*z, 0, 1.0*x) \n",
      "\n"
     ]
    }
   ],
   "source": [
    "J1_J2_ptpc = pair_of_triple_product_composite(q_txyz, [\"1i\", \"i1\"], [\"1j\", \"j1\"])\n",
    "J1_J2_ptpc.print_state(\"J1_J2_composite\")\n",
    "J2_J3_ptpc = pair_of_triple_product_composite(q_txyz, [\"1j\", \"j1\"], [\"1k\", \"k1\"])\n",
    "J2_J3_ptpc.print_state(\"J2_J3_composite\")\n",
    "J3_J1_ptpc = pair_of_triple_product_composite(q_txyz, [\"1k\", \"k1\"], [\"1i\", \"i1\"])\n",
    "J3_J1_ptpc.print_state(\"J3_J1_composite\")"
   ]
  },
  {
   "cell_type": "markdown",
   "metadata": {},
   "source": [
    "Confirm that this function returns zero if given the same gamma pairs."
   ]
  },
  {
   "cell_type": "code",
   "execution_count": 27,
   "metadata": {},
   "outputs": [
    {
     "name": "stdout",
     "output_type": "stream",
     "text": [
      "J1_J1_composite\n",
      "(0, 0, 0, 0) \n",
      "\n"
     ]
    }
   ],
   "source": [
    "J1_J1_ptpc = pair_of_triple_product_composite(q_txyz, [\"1i\", \"i1\"], [\"1i\", \"i1\"])\n",
    "J1_J1_ptpc.print_state(\"J1_J1_composite\")"
   ]
  },
  {
   "cell_type": "markdown",
   "metadata": {},
   "source": [
    "Repeat this exercise for J and K which should make another K."
   ]
  },
  {
   "cell_type": "code",
   "execution_count": 28,
   "metadata": {},
   "outputs": [
    {
     "name": "stdout",
     "output_type": "stream",
     "text": [
      "J1_K2_composite\n",
      "(0, 1.0*y, -1.0*x, 0) \n",
      "\n",
      "J2_K3_composite\n",
      "(0, 0, 1.0*z, -1.0*y) \n",
      "\n",
      "J3_K1_composite\n",
      "(0, -1.0*z, 0, 1.0*x) \n",
      "\n"
     ]
    }
   ],
   "source": [
    "J1_K2_ptpc = pair_of_triple_product_composite(q_txyz, [\"1i\", \"i1\"], [\"ki\", \"ik\"])\n",
    "J1_K2_ptpc.print_state(\"J1_K2_composite\")\n",
    "J2_K3_ptpc = pair_of_triple_product_composite(q_txyz, [\"1j\", \"j1\"], [\"ij\", \"ji\"])\n",
    "J2_K3_ptpc.print_state(\"J2_K3_composite\")\n",
    "J3_K1_ptpc = pair_of_triple_product_composite(q_txyz, [\"1k\", \"k1\"], [\"jk\", \"kj\"])\n",
    "J3_K1_ptpc.print_state(\"J3_K1_composite\")"
   ]
  },
  {
   "cell_type": "markdown",
   "metadata": {},
   "source": [
    "This does not follow the same pattern because the composite creates a new J, not a new K. This may be alright if the composite of two K's generates a new K. Test it out."
   ]
  },
  {
   "cell_type": "code",
   "execution_count": 29,
   "metadata": {},
   "outputs": [
    {
     "name": "stdout",
     "output_type": "stream",
     "text": [
      "K1_K2_composite\n",
      "(-1.0*z, 0, 0, -1.0*t) \n",
      "\n",
      "K2_K3_composite\n",
      "(-1.0*x, -1.0*t, 0, 0) \n",
      "\n",
      "K3_K1_composite\n",
      "(-1.0*y, 0, -1.0*t, 0) \n",
      "\n"
     ]
    }
   ],
   "source": [
    "K1_K2_ptpc = pair_of_triple_product_composite(q_txyz, [\"jk\", \"kj\"], [\"ki\", \"ik\"])\n",
    "K1_K2_ptpc.print_state(\"K1_K2_composite\")\n",
    "K2_K3_ptpc = pair_of_triple_product_composite(q_txyz, [\"ki\", \"ik\"], [\"ij\", \"ji\"])\n",
    "K2_K3_ptpc.print_state(\"K2_K3_composite\")\n",
    "K3_K1_ptpc = pair_of_triple_product_composite(q_txyz, [\"ij\", \"ji\"], [\"jk\", \"kj\"])\n",
    "K3_K1_ptpc.print_state(\"K3_K1_composite\")"
   ]
  },
  {
   "cell_type": "code",
   "execution_count": 30,
   "metadata": {},
   "outputs": [],
   "source": [
    "def anticommutator(q_1: Q, q_2: Q) -> Q:\n",
    "    \"\"\"Calculate the communtator of two quaternions\n",
    "    \n",
    "       {q_1, q_2} = (q_1 q_2 + q_2 q_1) / normalize\n",
    "       \n",
    "       Args:\n",
    "         q_1: Q   first space-time number\n",
    "         q_2: Q   second space-time number\n",
    "         normalize: float   divide by the normalize number\n",
    "         \n",
    "       Returns:\n",
    "          Q   the conjugate\n",
    "       \"\"\"\n",
    "    return add(product(q_1, q_2), product(q_2, q_1))\n",
    "\n",
    "def andicommutators(q_1: Qs, q_2: Qs, normalize: float=2.0) -> Qs:\n",
    "    f\"\"\"{commutator.__doc__}\"\"\".replace(\"Q\", \"Qs\")\n",
    "    return Qs([anticommutator(q_11, q_22) for q_11, q_22 in zip(q_1.qs, q_2.qz)], qs_type=q_1.qs_type, rows=q_1.rows,\n",
    "              columns=q_1.columns)"
   ]
  },
  {
   "cell_type": "code",
   "execution_count": 31,
   "metadata": {},
   "outputs": [
    {
     "name": "stdout",
     "output_type": "stream",
     "text": [
      "J3_q?\n",
      "(2.0*x*y, 0, 0, 0) \n",
      "\n",
      "K3_q?\n",
      "(-2.0*t*z, 0, 2.0*y*z, -2.0*y**2) \n",
      "\n",
      "J3_q?\n",
      "(2.0*x*y, 2.0*t*y, 2.0*t*x, 0) \n",
      "\n"
     ]
    }
   ],
   "source": [
    "anticommutator(J1_q, J2_q).print_state(\"J3_q?\")\n",
    "anticommutator(J1_q, K2_q).print_state(\"K3_q?\")\n",
    "anticommutator(K1_q, K2_q).print_state(\"J3_q?\")"
   ]
  },
  {
   "cell_type": "code",
   "execution_count": 32,
   "metadata": {},
   "outputs": [
    {
     "name": "stdout",
     "output_type": "stream",
     "text": [
      "J1_J2\n",
      "(-1.0*z, 0, 0, 1.0*t) \n",
      "\n",
      "J2_J1\n",
      "(1.0*z, 0, 0, -1.0*t) \n",
      "\n"
     ]
    }
   ],
   "source": [
    "J1_J2 = product(dif(gamma(gamma(q_txyz, kind=\"g2g5\"),kind=\"g0g5\"), gamma(gamma(q_txyz, kind=\"s31\"), kind=\"g3\")), q1(1/2))\n",
    "J1_J2.print_state(\"J1_J2\")\n",
    "J2_J1 = product(dif(gamma(gamma(q_txyz, kind=\"g0g5\"),kind=\"g2g5\"), gamma(gamma(q_txyz, kind=\"g3\"), kind=\"s31\")), q1(1/2))\n",
    "J2_J1.print_state(\"J2_J1\")"
   ]
  },
  {
   "cell_type": "code",
   "execution_count": 33,
   "metadata": {},
   "outputs": [
    {
     "name": "stdout",
     "output_type": "stream",
     "text": [
      "J1_J2_v2\n",
      "(0, 1.0*y, -1.0*x, 0) \n",
      "\n",
      "J2_J1_v2\n",
      "(0, -1.0*y, 1.0*x, 0) \n",
      "\n",
      "[J1, J2]\n",
      "(0, 1.0*y, -1.0*x, 0) \n",
      "\n"
     ]
    }
   ],
   "source": [
    "J1_J2_v2 = product(dif(gamma(gamma(q_txyz, kind=\"g2g5\"),kind=\"g0g5\"), gamma(gamma(q_txyz, kind=\"g3\"), kind=\"s31\")), q1(1/2))\n",
    "J1_J2_v2.print_state(\"J1_J2_v2\")\n",
    "J2_J1_v2 = product(dif(gamma(gamma(q_txyz, kind=\"g0g5\"),kind=\"g2g5\"), gamma(gamma(q_txyz, kind=\"s31\"), kind=\"g3\")), q1(1/2))\n",
    "J2_J1_v2.print_state(\"J2_J1_v2\")\n",
    "J1_J2_com = product(dif(J1_J2_v2, J2_J1_v2), q1(1/2))\n",
    "J1_J2_com.print_state(\"[J1, J2]\")"
   ]
  },
  {
   "cell_type": "code",
   "execution_count": 34,
   "metadata": {},
   "outputs": [
    {
     "data": {
      "image/png": "[encoded data removed]",
      "text/latex": [
       "$\\displaystyle \\left[ \\left(1.0 y^{2} + 1.0 z^{2}\\right)^{0.5}, \\  0, \\  \\frac{1.0 z \\operatorname{atan_{2}}{\\left(\\left(1.0 y^{2} + 1.0 z^{2}\\right)^{0.5},0 \\right)}}{\\left(1.0 y^{2} + 1.0 z^{2}\\right)^{0.5}}, \\  - \\frac{1.0 y \\operatorname{atan_{2}}{\\left(\\left(1.0 y^{2} + 1.0 z^{2}\\right)^{0.5},0 \\right)}}{\\left(1.0 y^{2} + 1.0 z^{2}\\right)^{0.5}}\\right]$"
      ],
      "text/plain": [
       "⎡                 0.5                            -0.5      ⎛                 0\n",
       "⎢⎛     2        2⎞              ⎛     2        2⎞          ⎜⎛     2        2⎞ \n",
       "⎣⎝1.0⋅y  + 1.0⋅z ⎠   , 0, 1.0⋅z⋅⎝1.0⋅y  + 1.0⋅z ⎠    ⋅atan2⎝⎝1.0⋅y  + 1.0⋅z ⎠ \n",
       "\n",
       ".5   ⎞                          -0.5      ⎛                 0.5   ⎞⎤\n",
       "     ⎟         ⎛     2        2⎞          ⎜⎛     2        2⎞      ⎟⎥\n",
       "  , 0⎠, -1.0⋅y⋅⎝1.0⋅y  + 1.0⋅z ⎠    ⋅atan2⎝⎝1.0⋅y  + 1.0⋅z ⎠   , 0⎠⎦"
      ]
     },
     "execution_count": 34,
     "metadata": {},
     "output_type": "execute_result"
    }
   ],
   "source": [
    "J1_q.txyz_2_representation(representation=\"polar\")"
   ]
  },
  {
   "cell_type": "code",
   "execution_count": 35,
   "metadata": {},
   "outputs": [
    {
     "data": {
      "image/png": "[encoded data removed]",
      "text/latex": [
       "$\\displaystyle \\left[ 0, \\  0, \\  0, \\  0\\right]$"
      ],
      "text/plain": [
       "[0, 0, 0, 0]"
      ]
     },
     "execution_count": 35,
     "metadata": {},
     "output_type": "execute_result"
    }
   ],
   "source": [
    "J1_q.representation_2_txyz(representation=\"polar\")"
   ]
  },
  {
   "cell_type": "code",
   "execution_count": 36,
   "metadata": {},
   "outputs": [
    {
     "data": {
      "image/png": "[encoded data removed]",
      "text/latex": [
       "$\\displaystyle \\cos{\\left(\\left(1.0 y^{2} + 1.0 z^{2}\\right)^{0.5} \\right)}$"
      ],
      "text/plain": [
       "   ⎛                 0.5⎞\n",
       "   ⎜⎛     2        2⎞   ⎟\n",
       "cos⎝⎝1.0⋅y  + 1.0⋅z ⎠   ⎠"
      ]
     },
     "metadata": {},
     "output_type": "display_data"
    },
    {
     "data": {
      "image/png": "[encoded data removed]",
      "text/latex": [
       "$\\displaystyle 0$"
      ],
      "text/plain": [
       "0"
      ]
     },
     "metadata": {},
     "output_type": "display_data"
    },
    {
     "data": {
      "image/png": "[encoded data removed]",
      "text/latex": [
       "$\\displaystyle \\frac{1.0 z \\sin{\\left(\\left(1.0 y^{2} + 1.0 z^{2}\\right)^{0.5} \\right)}}{\\left(1.0 y^{2} + 1.0 z^{2}\\right)^{0.5}}$"
      ],
      "text/plain": [
       "                       -0.5    ⎛                 0.5⎞\n",
       "      ⎛     2        2⎞        ⎜⎛     2        2⎞   ⎟\n",
       "1.0⋅z⋅⎝1.0⋅y  + 1.0⋅z ⎠    ⋅sin⎝⎝1.0⋅y  + 1.0⋅z ⎠   ⎠"
      ]
     },
     "metadata": {},
     "output_type": "display_data"
    },
    {
     "data": {
      "image/png": "[encoded data removed]",
      "text/latex": [
       "$\\displaystyle - \\frac{1.0 y \\sin{\\left(\\left(1.0 y^{2} + 1.0 z^{2}\\right)^{0.5} \\right)}}{\\left(1.0 y^{2} + 1.0 z^{2}\\right)^{0.5}}$"
      ],
      "text/plain": [
       "                        -0.5    ⎛                 0.5⎞\n",
       "       ⎛     2        2⎞        ⎜⎛     2        2⎞   ⎟\n",
       "-1.0⋅y⋅⎝1.0⋅y  + 1.0⋅z ⎠    ⋅sin⎝⎝1.0⋅y  + 1.0⋅z ⎠   ⎠"
      ]
     },
     "metadata": {},
     "output_type": "display_data"
    }
   ],
   "source": [
    "exp(J1_q).display()"
   ]
  },
  {
   "cell_type": "code",
   "execution_count": 37,
   "metadata": {},
   "outputs": [
    {
     "data": {
      "image/png": "[encoded data removed]",
      "text/latex": [
       "$\\displaystyle e^{1.0 x} \\cos{\\left(1.0 \\left(t^{2}\\right)^{0.5} \\right)}$"
      ],
      "text/plain": [
       "          ⎛        0.5⎞\n",
       " 1.0⋅x    ⎜    ⎛ 2⎞   ⎟\n",
       "ℯ     ⋅cos⎝1.0⋅⎝t ⎠   ⎠"
      ]
     },
     "metadata": {},
     "output_type": "display_data"
    },
    {
     "data": {
      "image/png": "[encoded data removed]",
      "text/latex": [
       "$\\displaystyle \\frac{1.0 t e^{1.0 x} \\sin{\\left(1.0 \\left(t^{2}\\right)^{0.5} \\right)}}{\\left(t^{2}\\right)^{0.5}}$"
      ],
      "text/plain": [
       "          -0.5           ⎛        0.5⎞\n",
       "      ⎛ 2⎞      1.0⋅x    ⎜    ⎛ 2⎞   ⎟\n",
       "1.0⋅t⋅⎝t ⎠    ⋅ℯ     ⋅sin⎝1.0⋅⎝t ⎠   ⎠"
      ]
     },
     "metadata": {},
     "output_type": "display_data"
    },
    {
     "data": {
      "image/png": "[encoded data removed]",
      "text/latex": [
       "$\\displaystyle 0$"
      ],
      "text/plain": [
       "0"
      ]
     },
     "metadata": {},
     "output_type": "display_data"
    },
    {
     "data": {
      "image/png": "[encoded data removed]",
      "text/latex": [
       "$\\displaystyle 0$"
      ],
      "text/plain": [
       "0"
      ]
     },
     "metadata": {},
     "output_type": "display_data"
    }
   ],
   "source": [
    "exp(K1_q).display()"
   ]
  },
  {
   "cell_type": "code",
   "execution_count": 38,
   "metadata": {},
   "outputs": [],
   "source": [
    "def pair_of_triple_product_composite_2(q_1, pair_1, pair_2) -> Q:\n",
    "    \"\"\"Takes in two pairs of gamma transformations and \n",
    "       does compositions of the triple product on q_1 in both orders.\n",
    "       \n",
    "       For example, \n",
    "       J1 = γ2γ5 - σ31\n",
    "       J2 = γ0γ5 - γ3\n",
    "       \n",
    "       pair_1 = [γ2γ5, σ31]\n",
    "       pair_2 = [γ0γ5, γ3]\n",
    "       \n",
    "       ptpc(q_1, pair_1, pair_2) = γ0γ5(γ2γ5(q_1)) - σ31(γ3(q_1))\n",
    "       \n",
    "       Args:\n",
    "         q_1: Q  space-time number to act on.\n",
    "         pair_1: array of 2 strings used for gamma functions\n",
    "         pair_2: array of 2 strings used for gamma functions\n",
    "         \n",
    "       Returns:\n",
    "         Q transformed by this function\n",
    "    \"\"\"\n",
    "    \n",
    "    return product(dif(gamma(gamma(q_1, kind=pair_2[0]),kind=pair_1[0]), gamma(gamma(q_1, kind=pair_1[1]), kind=pair_2[1])), q1(1/2))\n",
    "\n",
    "def pair_of_triple_product_composite_3(q_1, pair_1, pair_2) -> Q:\n",
    "    \"\"\"Takes in two pairs of gamma transformations and \n",
    "       does compositions of the triple product on q_1 in both orders.\n",
    "       \n",
    "       For example, \n",
    "       J1 = γ2γ5 - σ31\n",
    "       J2 = γ0γ5 - γ3\n",
    "       \n",
    "       pair_1 = [γ2γ5, σ31]\n",
    "       pair_2 = [γ0γ5, γ3]\n",
    "       \n",
    "       ptpc(q_1, pair_1, pair_2) = γ0γ5(γ2γ5(q_1)) - σ31(γ3(q_1))\n",
    "       \n",
    "       Args:\n",
    "         q_1: Q  space-time number to act on.\n",
    "         pair_1: array of 2 strings used for gamma functions\n",
    "         pair_2: array of 2 strings used for gamma functions\n",
    "         \n",
    "       Returns:\n",
    "         Q transformed by this function\n",
    "    \"\"\"\n",
    "    \n",
    "    return product(dif(gamma(gamma(q_1, kind=pair_1[1]),kind=pair_2[1]), gamma(gamma(q_1, kind=pair_2[0]), kind=pair_1[0])), q1(1/2))"
   ]
  },
  {
   "cell_type": "code",
   "execution_count": 39,
   "metadata": {},
   "outputs": [
    {
     "name": "stdout",
     "output_type": "stream",
     "text": [
      "J1_K2_composite_2\n",
      "(0, 1.0*y, -1.0*x, 0) \n",
      "\n",
      "J1_K2_composite_3\n",
      "(0, -1.0*y, 1.0*x, 0) \n",
      "\n"
     ]
    }
   ],
   "source": [
    "J1_K2_ptpc_2 = pair_of_triple_product_composite_2(q_txyz, [\"1i\", \"i1\"], [\"ki\", \"ik\"])\n",
    "J1_K2_ptpc_2.print_state(\"J1_K2_composite_2\")\n",
    "J1_K2_ptpc_3 = pair_of_triple_product_composite_3(q_txyz, [\"1i\", \"i1\"], [\"ki\", \"ik\"])\n",
    "J1_K2_ptpc_3.print_state(\"J1_K2_composite_3\")"
   ]
  },
  {
   "cell_type": "code",
   "execution_count": 40,
   "metadata": {},
   "outputs": [
    {
     "name": "stdout",
     "output_type": "stream",
     "text": [
      "J1_K2_composite_2\n",
      "(0, 1.0*y, -1.0*x, 0) \n",
      "\n",
      "J1_K2_composite_3\n",
      "(0, -1.0*y, 1.0*x, 0) \n",
      "\n"
     ]
    }
   ],
   "source": [
    "J1_K2_ptpc_2 = pair_of_triple_product_composite_2(q_txyz, [\"ki\", \"ik\"], [\"1i\", \"i1\"])\n",
    "J1_K2_ptpc_2.print_state(\"J1_K2_composite_2\")\n",
    "J1_K2_ptpc_3 = pair_of_triple_product_composite_3(q_txyz, [\"ki\", \"ik\"], [\"1i\", \"i1\"])\n",
    "J1_K2_ptpc_3.print_state(\"J1_K2_composite_3\")"
   ]
  },
  {
   "cell_type": "code",
   "execution_count": null,
   "metadata": {},
   "outputs": [],
   "source": []
  }
 ],
 "metadata": {
  "kernelspec": {
   "display_name": "Python 3",
   "language": "python",
   "name": "python3"
  },
  "language_info": {
   "codemirror_mode": {
    "name": "ipython",
    "version": 3
   },
   "file_extension": ".py",
   "mimetype": "text/x-python",
   "name": "python",
   "nbconvert_exporter": "python",
   "pygments_lexer": "ipython3",
   "version": "3.8.8"
  }
 },
 "nbformat": 4,
 "nbformat_minor": 4
}
