{
 "cells": [
  {
   "cell_type": "markdown",
   "metadata": {},
   "source": [
    "# Analyzing A Scalar Field"
   ]
  },
  {
   "cell_type": "markdown",
   "metadata": {},
   "source": [
    "The Maxwell equations were derived in another Jupyter notebook [pdf](http://dougsweetser.github.io/Q/EM/2022-02-06__Maxwell_derivation.pdf) or [ipynb](http://dougsweetser.github.io/Q/EM/2022-02-06__Maxwell_derivation.ipynb) using real-valued space-time number operators and potentials. Once one gets to the Lorentz invariant difference of fields, $B^2 - E^2$, the rest is the work of the Euler-Lagrange equations. Because photons are massless, that requires a step where a scalar field is set to zero.\n",
    "\n",
    "This notebook started as an exact copy of the Maxwell derivation. Here a variation is done: imagine the system under study is electrically neutral. Now put the scalar field through the same algebraic machinery that produced the Maxwell equations. Then have fun interpreting the result.\n",
    "\n",
    "Load the needed libraries. Note that Qs.py is a library for manipulating space-time numbers and space-time number series written by the author."
   ]
  },
  {
   "cell_type": "code",
   "execution_count": 1,
   "metadata": {},
   "outputs": [],
   "source": [
    "%%capture\n",
    "%matplotlib inline\n",
    "import numpy as np\n",
    "import sympy as sp\n",
    "import matplotlib.pyplot as plt\n",
    "import math\n",
    "import unittest\n",
    "\n",
    "# To get equations the look like, well, equations, use the following.\n",
    "from sympy.interactive import printing\n",
    "printing.init_printing(use_latex=True)\n",
    "from IPython.display import display\n",
    "\n",
    "# Tools for manipulating quaternions.\n",
    "from Qs import *\n",
    "\n",
    "from IPython.core.display import display, HTML, Math, Latex\n",
    "display(HTML(\"<style>.container { width:100% !important; }</style>\"))"
   ]
  },
  {
   "cell_type": "markdown",
   "metadata": {},
   "source": [
    "The first thing to do is define variables and functions for sympy to use and define the potential."
   ]
  },
  {
   "cell_type": "code",
   "execution_count": 2,
   "metadata": {},
   "outputs": [
    {
     "data": {
      "image/png": "[encoded data removed]",
      "text/latex": [
       "$\\displaystyle \\frac{\\partial}{\\partial t} φ{\\left(t,x,y,z \\right)}$"
      ],
      "text/plain": [
       "∂                \n",
       "──(φ(t, x, y, z))\n",
       "∂t               "
      ]
     },
     "execution_count": 2,
     "metadata": {},
     "output_type": "execute_result"
    }
   ],
   "source": [
    "t, x, y, z = sp.symbols(\"t x y z\")\n",
    "φ, Ax, Ay, Az = sp.Function(\"φ\"), sp.Function(\"Ax\"), sp.Function(\"Ay\"), sp.Function(\"Az\")\n",
    "φ(t, x, y, z).diff(t)"
   ]
  },
  {
   "cell_type": "code",
   "execution_count": 3,
   "metadata": {},
   "outputs": [
    {
     "name": "stdout",
     "output_type": "stream",
     "text": [
      "space-time potential\n",
      "(φ, Ax, Ay, Az) \n",
      "\n"
     ]
    }
   ],
   "source": [
    "space_time_potential = Q([φ(t, x, y, z), Ax(t, x, y, z), Ay(t, x, y, z), Az(t, x, y, z)])\n",
    "simpler = {φ(t, x, y, z): \"φ\", Ax(t, x, y, z): \"Ax\", Ay(t, x, y, z): \"Ay\", Az(t, x, y, z): \"Az\"}\n",
    "space_time_potential.subs(simpler).print_state(\"space-time potential\")"
   ]
  },
  {
   "cell_type": "markdown",
   "metadata": {},
   "source": [
    "Take the space-time number derivative of the space-time potential."
   ]
  },
  {
   "cell_type": "code",
   "execution_count": 4,
   "metadata": {},
   "outputs": [
    {
     "name": "stdout",
     "output_type": "stream",
     "text": [
      "D space-time_potential\n"
     ]
    },
    {
     "data": {
      "image/png": "[encoded data removed]",
      "text/latex": [
       "$\\displaystyle - \\frac{\\partial}{\\partial x} \\operatorname{Ax}{\\left(t,x,y,z \\right)} - \\frac{\\partial}{\\partial y} \\operatorname{Ay}{\\left(t,x,y,z \\right)} - \\frac{\\partial}{\\partial z} \\operatorname{Az}{\\left(t,x,y,z \\right)} + \\frac{\\partial}{\\partial t} φ{\\left(t,x,y,z \\right)}$"
      ],
      "text/plain": [
       "  ∂                    ∂                    ∂                    ∂            \n",
       "- ──(Ax(t, x, y, z)) - ──(Ay(t, x, y, z)) - ──(Az(t, x, y, z)) + ──(φ(t, x, y,\n",
       "  ∂x                   ∂y                   ∂z                   ∂t           \n",
       "\n",
       "    \n",
       " z))\n",
       "    "
      ]
     },
     "metadata": {},
     "output_type": "display_data"
    },
    {
     "data": {
      "image/png": "[encoded data removed]",
      "text/latex": [
       "$\\displaystyle \\frac{\\partial}{\\partial t} \\operatorname{Ax}{\\left(t,x,y,z \\right)} - \\frac{\\partial}{\\partial z} \\operatorname{Ay}{\\left(t,x,y,z \\right)} + \\frac{\\partial}{\\partial y} \\operatorname{Az}{\\left(t,x,y,z \\right)} + \\frac{\\partial}{\\partial x} φ{\\left(t,x,y,z \\right)}$"
      ],
      "text/plain": [
       "∂                    ∂                    ∂                    ∂              \n",
       "──(Ax(t, x, y, z)) - ──(Ay(t, x, y, z)) + ──(Az(t, x, y, z)) + ──(φ(t, x, y, z\n",
       "∂t                   ∂z                   ∂y                   ∂x             \n",
       "\n",
       "  \n",
       "))\n",
       "  "
      ]
     },
     "metadata": {},
     "output_type": "display_data"
    },
    {
     "data": {
      "image/png": "[encoded data removed]",
      "text/latex": [
       "$\\displaystyle \\frac{\\partial}{\\partial z} \\operatorname{Ax}{\\left(t,x,y,z \\right)} + \\frac{\\partial}{\\partial t} \\operatorname{Ay}{\\left(t,x,y,z \\right)} - \\frac{\\partial}{\\partial x} \\operatorname{Az}{\\left(t,x,y,z \\right)} + \\frac{\\partial}{\\partial y} φ{\\left(t,x,y,z \\right)}$"
      ],
      "text/plain": [
       "∂                    ∂                    ∂                    ∂              \n",
       "──(Ax(t, x, y, z)) + ──(Ay(t, x, y, z)) - ──(Az(t, x, y, z)) + ──(φ(t, x, y, z\n",
       "∂z                   ∂t                   ∂x                   ∂y             \n",
       "\n",
       "  \n",
       "))\n",
       "  "
      ]
     },
     "metadata": {},
     "output_type": "display_data"
    },
    {
     "data": {
      "image/png": "[encoded data removed]",
      "text/latex": [
       "$\\displaystyle - \\frac{\\partial}{\\partial y} \\operatorname{Ax}{\\left(t,x,y,z \\right)} + \\frac{\\partial}{\\partial x} \\operatorname{Ay}{\\left(t,x,y,z \\right)} + \\frac{\\partial}{\\partial t} \\operatorname{Az}{\\left(t,x,y,z \\right)} + \\frac{\\partial}{\\partial z} φ{\\left(t,x,y,z \\right)}$"
      ],
      "text/plain": [
       "  ∂                    ∂                    ∂                    ∂            \n",
       "- ──(Ax(t, x, y, z)) + ──(Ay(t, x, y, z)) + ──(Az(t, x, y, z)) + ──(φ(t, x, y,\n",
       "  ∂y                   ∂x                   ∂t                   ∂z           \n",
       "\n",
       "    \n",
       " z))\n",
       "    "
      ]
     },
     "metadata": {},
     "output_type": "display_data"
    }
   ],
   "source": [
    "D_space_time_potential = Dq(space_time_potential, [t, x, y, z])\n",
    "D_space_time_potential.display(\"D space-time_potential\")"
   ]
  },
  {
   "cell_type": "markdown",
   "metadata": {},
   "source": [
    "While this answer is correct, it has too many marks to be understood with ease. Create a list of substitutions that can do all the basic EM fields."
   ]
  },
  {
   "cell_type": "code",
   "execution_count": 5,
   "metadata": {},
   "outputs": [
    {
     "name": "stdout",
     "output_type": "stream",
     "text": [
      "D space_time_potential fields\n"
     ]
    },
    {
     "data": {
      "image/png": "[encoded data removed]",
      "text/latex": [
       "$\\displaystyle g$"
      ],
      "text/plain": [
       "g"
      ]
     },
     "metadata": {},
     "output_type": "display_data"
    },
    {
     "data": {
      "image/png": "[encoded data removed]",
      "text/latex": [
       "$\\displaystyle Bx - Ex$"
      ],
      "text/plain": [
       "Bx - Ex"
      ]
     },
     "metadata": {},
     "output_type": "display_data"
    },
    {
     "data": {
      "image/png": "[encoded data removed]",
      "text/latex": [
       "$\\displaystyle By - Ey$"
      ],
      "text/plain": [
       "By - Ey"
      ]
     },
     "metadata": {},
     "output_type": "display_data"
    },
    {
     "data": {
      "image/png": "[encoded data removed]",
      "text/latex": [
       "$\\displaystyle Bz - Ez$"
      ],
      "text/plain": [
       "Bz - Ez"
      ]
     },
     "metadata": {},
     "output_type": "display_data"
    }
   ],
   "source": [
    "fields = {-Ax(𝑡,𝑥,𝑦,𝑧).diff(x)-Ay(𝑡,𝑥,𝑦,𝑧).diff(y)-Az(𝑡,𝑥,𝑦,𝑧).diff(z)+φ(𝑡,𝑥,𝑦,𝑧).diff(t): \"g\",-Ax(𝑡,𝑥,𝑦,𝑧).diff(t)-φ(𝑡,𝑥,𝑦,𝑧).diff(x): \"Ex\", -Ay(𝑡,𝑥,𝑦,𝑧).diff(t)-φ(𝑡,𝑥,𝑦,𝑧).diff(y): \"Ey\", -Az(𝑡,𝑥,𝑦,𝑧).diff(t)-φ(𝑡,𝑥,𝑦,𝑧).diff(z): \"Ez\",\n",
    "         Az(𝑡,𝑥,𝑦,𝑧).diff(y)-Ay(𝑡,𝑥,𝑦,𝑧).diff(z): \"Bx\", Ax(𝑡,𝑥,𝑦,𝑧).diff(z)-Az(𝑡,𝑥,𝑦,𝑧).diff(x): \"By\", Ay(𝑡,𝑥,𝑦,𝑧).diff(x)-Ax(𝑡,𝑥,𝑦,𝑧).diff(y): \"Bz\", \n",
    "          φ(t, x, y, z): \"φ\", Ax(t, x, y, z): \"Ax\", Ay(t, x, y, z): \"Ay\", Az(t, x, y, z): \"Az\"}\n",
    "D_space_time_potential.subs(fields).display(\"D space_time_potential fields\")"
   ]
  },
  {
   "cell_type": "markdown",
   "metadata": {},
   "source": [
    "The first term is a gauge field. It is invariant under a Lorentz transformation. For massless photons, the gauge field _G_ must be set to zero. In this notebook, we are going to study this field presuming the field is not about photons. Instead, presume the system under study is electrically neutral, so the electric and magnetic fields are zero for all inertial and non-inertial observers."
   ]
  },
  {
   "cell_type": "code",
   "execution_count": 6,
   "metadata": {},
   "outputs": [
    {
     "name": "stdout",
     "output_type": "stream",
     "text": [
      "electrically neutral field\n"
     ]
    },
    {
     "data": {
      "image/png": "[encoded data removed]",
      "text/latex": [
       "$\\displaystyle g$"
      ],
      "text/plain": [
       "g"
      ]
     },
     "metadata": {},
     "output_type": "display_data"
    },
    {
     "data": {
      "image/png": "[encoded data removed]",
      "text/latex": [
       "$\\displaystyle 0$"
      ],
      "text/plain": [
       "0"
      ]
     },
     "metadata": {},
     "output_type": "display_data"
    },
    {
     "data": {
      "image/png": "[encoded data removed]",
      "text/latex": [
       "$\\displaystyle 0$"
      ],
      "text/plain": [
       "0"
      ]
     },
     "metadata": {},
     "output_type": "display_data"
    },
    {
     "data": {
      "image/png": "[encoded data removed]",
      "text/latex": [
       "$\\displaystyle 0$"
      ],
      "text/plain": [
       "0"
      ]
     },
     "metadata": {},
     "output_type": "display_data"
    }
   ],
   "source": [
    "neutral_field = scalar_q(D_space_time_potential)\n",
    "neutral_field.subs(fields).display(\"electrically neutral field\")"
   ]
  },
  {
   "cell_type": "markdown",
   "metadata": {},
   "source": [
    "Why is the gauge field _G_ invariant under a Lorentz transformation? Because it is the product of two space-time number expressions and only generates a scalar term.\n",
    "\n",
    "Square this field just like the electric and magnetic fields got squared."
   ]
  },
  {
   "cell_type": "code",
   "execution_count": 7,
   "metadata": {},
   "outputs": [
    {
     "name": "stdout",
     "output_type": "stream",
     "text": [
      "electrically neutral scalar field squared\n"
     ]
    },
    {
     "data": {
      "image/png": "[encoded data removed]",
      "text/latex": [
       "$\\displaystyle g^{2}$"
      ],
      "text/plain": [
       " 2\n",
       "g "
      ]
     },
     "metadata": {},
     "output_type": "display_data"
    },
    {
     "data": {
      "image/png": "[encoded data removed]",
      "text/latex": [
       "$\\displaystyle 0$"
      ],
      "text/plain": [
       "0"
      ]
     },
     "metadata": {},
     "output_type": "display_data"
    },
    {
     "data": {
      "image/png": "[encoded data removed]",
      "text/latex": [
       "$\\displaystyle 0$"
      ],
      "text/plain": [
       "0"
      ]
     },
     "metadata": {},
     "output_type": "display_data"
    },
    {
     "data": {
      "image/png": "[encoded data removed]",
      "text/latex": [
       "$\\displaystyle 0$"
      ],
      "text/plain": [
       "0"
      ]
     },
     "metadata": {},
     "output_type": "display_data"
    }
   ],
   "source": [
    "neutral_field_squared = square(neutral_field)\n",
    "neutral_field_squared.subs(fields).display(\"electrically neutral scalar field squared\")"
   ]
  },
  {
   "cell_type": "markdown",
   "metadata": {},
   "source": [
    "Couple the potential to a mass current density as was done while deriving the Maxwell equations. The first term of the product of the potential with the current density is Lorentz invariant."
   ]
  },
  {
   "cell_type": "code",
   "execution_count": 8,
   "metadata": {},
   "outputs": [
    {
     "name": "stdout",
     "output_type": "stream",
     "text": [
      "current/potential coupling\n"
     ]
    },
    {
     "data": {
      "image/png": "[encoded data removed]",
      "text/latex": [
       "$\\displaystyle - Jx \\operatorname{Ax}{\\left(t,x,y,z \\right)} - Jy \\operatorname{Ay}{\\left(t,x,y,z \\right)} - Jz \\operatorname{Az}{\\left(t,x,y,z \\right)} + ρ φ{\\left(t,x,y,z \\right)}$"
      ],
      "text/plain": [
       "-Jx⋅Ax(t, x, y, z) - Jy⋅Ay(t, x, y, z) - Jz⋅Az(t, x, y, z) + ρ⋅φ(t, x, y, z)"
      ]
     },
     "metadata": {},
     "output_type": "display_data"
    },
    {
     "data": {
      "image/png": "[encoded data removed]",
      "text/latex": [
       "$\\displaystyle 0$"
      ],
      "text/plain": [
       "0"
      ]
     },
     "metadata": {},
     "output_type": "display_data"
    },
    {
     "data": {
      "image/png": "[encoded data removed]",
      "text/latex": [
       "$\\displaystyle 0$"
      ],
      "text/plain": [
       "0"
      ]
     },
     "metadata": {},
     "output_type": "display_data"
    },
    {
     "data": {
      "image/png": "[encoded data removed]",
      "text/latex": [
       "$\\displaystyle 0$"
      ],
      "text/plain": [
       "0"
      ]
     },
     "metadata": {},
     "output_type": "display_data"
    }
   ],
   "source": [
    "ρ, Jx, Jy, Jz = sp.symbols(\"ρ Jx Jy Jz\")\n",
    "current_density = Q([ρ, Jx, Jy, Jz])\n",
    "current_potential = scalar_q(product(current_density, space_time_potential))\n",
    "current_potential.display(\"current/potential coupling\")"
   ]
  },
  {
   "cell_type": "markdown",
   "metadata": {},
   "source": [
    "Apply the Euler-Lagrange equations to the first terms of the squared field and the current/potential coupling."
   ]
  },
  {
   "cell_type": "code",
   "execution_count": 9,
   "metadata": {},
   "outputs": [],
   "source": [
    "from sympy.calculus.euler import euler_equations"
   ]
  },
  {
   "cell_type": "code",
   "execution_count": 10,
   "metadata": {},
   "outputs": [
    {
     "data": {
      "image/png": "[encoded data removed]",
      "text/latex": [
       "$\\displaystyle ρ - 2 \\frac{d^{2}}{d t^{2}} φ + 2 \\frac{d^{2}}{d xd t} Ax + 2 \\frac{d^{2}}{d yd t} Ay + 2 \\frac{d^{2}}{d zd t} Az = 0$"
      ],
      "text/plain": [
       "        2           2             2             2         \n",
       "       d           d             d             d          \n",
       "ρ - 2⋅───(φ) + 2⋅─────(Ax) + 2⋅─────(Ay) + 2⋅─────(Az) = 0\n",
       "        2        dx dt         dy dt         dz dt        \n",
       "      dt                                                  "
      ]
     },
     "metadata": {},
     "output_type": "display_data"
    },
    {
     "data": {
      "image/png": "[encoded data removed]",
      "text/latex": [
       "$\\displaystyle - Jx - 2 \\frac{d^{2}}{d x^{2}} Ax - 2 \\frac{d^{2}}{d yd x} Ay - 2 \\frac{d^{2}}{d zd x} Az + 2 \\frac{d^{2}}{d xd t} φ = 0$"
      ],
      "text/plain": [
       "          2            2             2             2        \n",
       "         d            d             d             d         \n",
       "-Jx - 2⋅───(Ax) - 2⋅─────(Ay) - 2⋅─────(Az) + 2⋅─────(φ) = 0\n",
       "          2         dy dx         dz dx         dx dt       \n",
       "        dx                                                  "
      ]
     },
     "metadata": {},
     "output_type": "display_data"
    },
    {
     "data": {
      "image/png": "[encoded data removed]",
      "text/latex": [
       "$\\displaystyle - Jy - 2 \\frac{d^{2}}{d y^{2}} Ay - 2 \\frac{d^{2}}{d yd x} Ax - 2 \\frac{d^{2}}{d zd y} Az + 2 \\frac{d^{2}}{d yd t} φ = 0$"
      ],
      "text/plain": [
       "          2            2             2             2        \n",
       "         d            d             d             d         \n",
       "-Jy - 2⋅───(Ay) - 2⋅─────(Ax) - 2⋅─────(Az) + 2⋅─────(φ) = 0\n",
       "          2         dy dx         dz dy         dy dt       \n",
       "        dy                                                  "
      ]
     },
     "metadata": {},
     "output_type": "display_data"
    },
    {
     "data": {
      "image/png": "[encoded data removed]",
      "text/latex": [
       "$\\displaystyle - Jz - 2 \\frac{d^{2}}{d z^{2}} Az - 2 \\frac{d^{2}}{d zd x} Ax - 2 \\frac{d^{2}}{d zd y} Ay + 2 \\frac{d^{2}}{d zd t} φ = 0$"
      ],
      "text/plain": [
       "          2            2             2             2        \n",
       "         d            d             d             d         \n",
       "-Jz - 2⋅───(Az) - 2⋅─────(Ax) - 2⋅─────(Ay) + 2⋅─────(φ) = 0\n",
       "          2         dz dx         dz dy         dz dt       \n",
       "        dz                                                  "
      ]
     },
     "metadata": {},
     "output_type": "display_data"
    }
   ],
   "source": [
    "display(euler_equations(neutral_field_squared.t + current_potential.t , φ(t, x, y, z), [t, x, y, z])[0].subs(simpler))\n",
    "display(euler_equations(neutral_field_squared.t + current_potential.t , Ax(t, x, y, z), [t, x, y, z])[0].subs(simpler))\n",
    "display(euler_equations(neutral_field_squared.t + current_potential.t , Ay(t, x, y, z), [t, x, y, z])[0].subs(simpler))\n",
    "display(euler_equations(neutral_field_squared.t + current_potential.t , Az(t, x, y, z), [t, x, y, z])[0].subs(simpler))"
   ]
  },
  {
   "cell_type": "markdown",
   "metadata": {},
   "source": [
    "A nice thing about working with a scalar field is that the math is simple and direct. \n",
    "\n",
    "$$(\\rho, J) = 2 \\left(\\frac{\\partial^2 \\phi}{\\partial t^2} - \\frac{\\partial}{\\partial t}(\\nabla \\cdot A), \\vec{\\nabla}\\frac{\\partial \\phi}{\\partial t} - \\vec{\\nabla} (\\nabla \\cdot A)\\right)= 2 \\left(\\frac{\\partial G}{\\partial t}, \\vec{\\nabla} G\\right)$$\n",
    "\n",
    "There may be some who would argue that the **factor of 2** means. Since there are potential involved here, I don't know that it matters."
   ]
  },
  {
   "cell_type": "markdown",
   "metadata": {},
   "source": [
    "It would appear like there is a direct route between this expression and Newton's law of gravity:\n",
    "\n",
    "$$\\rho = \\nabla^2 \\phi$$\n",
    "\n",
    "Choose a potential function that solves a homogeneous wave equation:\n",
    "\n",
    "$$0 = \\frac{\\partial^2 \\phi}{\\partial t^2} - \\nabla^2 \\phi$$\n",
    "\n",
    "The derived equation is more complicated that Newton's expression. Imagine that there was no divergence ($\\nabla \\cdot a = 0$) and that the system was static, along with the earlier assumptions that the system is electrically neutral. In that case, the derived equation is simply:\n",
    "\n",
    "$$(\\rho, \\vec{0}) = \\left(\\frac{\\partial^2 \\phi}{\\partial t^2}, \\vec{0}\\right)$$\n",
    "\n",
    "For this particular situation, the equations are the same. The scalar field equations are more general and consistent with special relativity unlike Newton's law. This looks like progress to me..."
   ]
  },
  {
   "cell_type": "markdown",
   "metadata": {},
   "source": [
    "## Solutions\n",
    "\n",
    "See if we can find solutions to the above differential equations."
   ]
  },
  {
   "cell_type": "code",
   "execution_count": 11,
   "metadata": {},
   "outputs": [
    {
     "data": {
      "image/png": "[encoded data removed]",
      "text/latex": [
       "$\\displaystyle 2 \\frac{\\partial^{2}}{\\partial t^{2}} φ{\\left(t,x,y,z \\right)} - 2 \\frac{\\partial^{2}}{\\partial x\\partial t} \\operatorname{Ax}{\\left(t,x,y,z \\right)} - 2 \\frac{\\partial^{2}}{\\partial y\\partial t} \\operatorname{Ay}{\\left(t,x,y,z \\right)} - 2 \\frac{\\partial^{2}}{\\partial z\\partial t} \\operatorname{Az}{\\left(t,x,y,z \\right)} = ρ$"
      ],
      "text/plain": [
       "    2                       2                         2                       \n",
       "   ∂                       ∂                         ∂                        \n",
       "2⋅───(φ(t, x, y, z)) - 2⋅─────(Ax(t, x, y, z)) - 2⋅─────(Ay(t, x, y, z)) - 2⋅─\n",
       "    2                    ∂x ∂t                     ∂y ∂t                     ∂\n",
       "  ∂t                                                                          \n",
       "\n",
       "  2                     \n",
       " ∂                      \n",
       "────(Az(t, x, y, z)) = ρ\n",
       "z ∂t                    \n",
       "                        "
      ]
     },
     "metadata": {},
     "output_type": "display_data"
    }
   ],
   "source": [
    "rho_eq = sp.Eq(2 * φ(t, x, y, z).diff(t, t) - 2 * Ax(t, x, y, z).diff(x, t) - 2 * Ay(t, x, y, z).diff(y, t) - 2 *Az(t, x, y, z).diff(z, t), ρ)\n",
    "display(rho_eq)"
   ]
  },
  {
   "cell_type": "code",
   "execution_count": 12,
   "metadata": {},
   "outputs": [
    {
     "data": {
      "image/png": "[encoded data removed]",
      "text/latex": [
       "$\\displaystyle 2 \\frac{d^{2}}{d t^{2}} φ{\\left(t \\right)} = ρ$"
      ],
      "text/plain": [
       "    2          \n",
       "   d           \n",
       "2⋅───(φ(t)) = ρ\n",
       "    2          \n",
       "  dt           "
      ]
     },
     "metadata": {},
     "output_type": "display_data"
    }
   ],
   "source": [
    "rho_no_div_eq = sp.Eq(2 * φ(t).diff(t, t), ρ)\n",
    "display(rho_no_div_eq)"
   ]
  },
  {
   "cell_type": "code",
   "execution_count": 13,
   "metadata": {},
   "outputs": [
    {
     "ename": "TypeError",
     "evalue": "'property' object is not iterable",
     "output_type": "error",
     "traceback": [
      "\u001b[0;31m---------------------------------------------------------------------------\u001b[0m",
      "\u001b[0;31mTypeError\u001b[0m                                 Traceback (most recent call last)",
      "\u001b[0;32m<ipython-input-13-fe8c4b01ea85>\u001b[0m in \u001b[0;36m<module>\u001b[0;34m\u001b[0m\n\u001b[0;32m----> 1\u001b[0;31m \u001b[0msp\u001b[0m\u001b[0;34m.\u001b[0m\u001b[0mdsolve\u001b[0m\u001b[0;34m(\u001b[0m\u001b[0mrho_no_div_eq\u001b[0m\u001b[0;34m,\u001b[0m \u001b[0mφ\u001b[0m\u001b[0;34m)\u001b[0m\u001b[0;34m\u001b[0m\u001b[0;34m\u001b[0m\u001b[0m\n\u001b[0m",
      "\u001b[0;32m~/anaconda3/lib/python3.8/site-packages/sympy/solvers/ode/ode.py\u001b[0m in \u001b[0;36mdsolve\u001b[0;34m(eq, func, hint, simplify, ics, xi, eta, x0, n, **kwargs)\u001b[0m\n\u001b[1;32m    627\u001b[0m \u001b[0;34m\u001b[0m\u001b[0m\n\u001b[1;32m    628\u001b[0m         \u001b[0;31m# See the docstring of _desolve for more details.\u001b[0m\u001b[0;34m\u001b[0m\u001b[0;34m\u001b[0m\u001b[0;34m\u001b[0m\u001b[0m\n\u001b[0;32m--> 629\u001b[0;31m         hints = _desolve(eq, func=func,\n\u001b[0m\u001b[1;32m    630\u001b[0m             \u001b[0mhint\u001b[0m\u001b[0;34m=\u001b[0m\u001b[0mhint\u001b[0m\u001b[0;34m,\u001b[0m \u001b[0msimplify\u001b[0m\u001b[0;34m=\u001b[0m\u001b[0;32mTrue\u001b[0m\u001b[0;34m,\u001b[0m \u001b[0mxi\u001b[0m\u001b[0;34m=\u001b[0m\u001b[0mxi\u001b[0m\u001b[0;34m,\u001b[0m \u001b[0meta\u001b[0m\u001b[0;34m=\u001b[0m\u001b[0meta\u001b[0m\u001b[0;34m,\u001b[0m \u001b[0mtype\u001b[0m\u001b[0;34m=\u001b[0m\u001b[0;34m'ode'\u001b[0m\u001b[0;34m,\u001b[0m \u001b[0mics\u001b[0m\u001b[0;34m=\u001b[0m\u001b[0mics\u001b[0m\u001b[0;34m,\u001b[0m\u001b[0;34m\u001b[0m\u001b[0;34m\u001b[0m\u001b[0m\n\u001b[1;32m    631\u001b[0m             x0=x0, n=n, **kwargs)\n",
      "\u001b[0;32m~/anaconda3/lib/python3.8/site-packages/sympy/solvers/deutils.py\u001b[0m in \u001b[0;36m_desolve\u001b[0;34m(eq, func, hint, ics, simplify, prep, **kwargs)\u001b[0m\n\u001b[1;32m    178\u001b[0m     \u001b[0;31m# preprocess the equation and find func if not given\u001b[0m\u001b[0;34m\u001b[0m\u001b[0;34m\u001b[0m\u001b[0;34m\u001b[0m\u001b[0m\n\u001b[1;32m    179\u001b[0m     \u001b[0;32mif\u001b[0m \u001b[0mprep\u001b[0m \u001b[0;32mor\u001b[0m \u001b[0mfunc\u001b[0m \u001b[0;32mis\u001b[0m \u001b[0;32mNone\u001b[0m\u001b[0;34m:\u001b[0m\u001b[0;34m\u001b[0m\u001b[0;34m\u001b[0m\u001b[0m\n\u001b[0;32m--> 180\u001b[0;31m         \u001b[0meq\u001b[0m\u001b[0;34m,\u001b[0m \u001b[0mfunc\u001b[0m \u001b[0;34m=\u001b[0m \u001b[0m_preprocess\u001b[0m\u001b[0;34m(\u001b[0m\u001b[0meq\u001b[0m\u001b[0;34m,\u001b[0m \u001b[0mfunc\u001b[0m\u001b[0;34m)\u001b[0m\u001b[0;34m\u001b[0m\u001b[0;34m\u001b[0m\u001b[0m\n\u001b[0m\u001b[1;32m    181\u001b[0m         \u001b[0mprep\u001b[0m \u001b[0;34m=\u001b[0m \u001b[0;32mFalse\u001b[0m\u001b[0;34m\u001b[0m\u001b[0;34m\u001b[0m\u001b[0m\n\u001b[1;32m    182\u001b[0m \u001b[0;34m\u001b[0m\u001b[0m\n",
      "\u001b[0;32m~/anaconda3/lib/python3.8/site-packages/sympy/solvers/deutils.py\u001b[0m in \u001b[0;36m_preprocess\u001b[0;34m(expr, func, hint)\u001b[0m\n\u001b[1;32m     83\u001b[0m                 'automatically detected for %s.' % expr)\n\u001b[1;32m     84\u001b[0m         \u001b[0mfunc\u001b[0m \u001b[0;34m=\u001b[0m \u001b[0mfuncs\u001b[0m\u001b[0;34m.\u001b[0m\u001b[0mpop\u001b[0m\u001b[0;34m(\u001b[0m\u001b[0;34m)\u001b[0m\u001b[0;34m\u001b[0m\u001b[0;34m\u001b[0m\u001b[0m\n\u001b[0;32m---> 85\u001b[0;31m     \u001b[0mfvars\u001b[0m \u001b[0;34m=\u001b[0m \u001b[0mset\u001b[0m\u001b[0;34m(\u001b[0m\u001b[0mfunc\u001b[0m\u001b[0;34m.\u001b[0m\u001b[0margs\u001b[0m\u001b[0;34m)\u001b[0m\u001b[0;34m\u001b[0m\u001b[0;34m\u001b[0m\u001b[0m\n\u001b[0m\u001b[1;32m     86\u001b[0m     \u001b[0;32mif\u001b[0m \u001b[0mhint\u001b[0m \u001b[0;32mis\u001b[0m \u001b[0;32mNone\u001b[0m\u001b[0;34m:\u001b[0m\u001b[0;34m\u001b[0m\u001b[0;34m\u001b[0m\u001b[0m\n\u001b[1;32m     87\u001b[0m         \u001b[0;32mreturn\u001b[0m \u001b[0mexpr\u001b[0m\u001b[0;34m,\u001b[0m \u001b[0mfunc\u001b[0m\u001b[0;34m\u001b[0m\u001b[0;34m\u001b[0m\u001b[0m\n",
      "\u001b[0;31mTypeError\u001b[0m: 'property' object is not iterable"
     ]
    }
   ],
   "source": [
    "sp.dsolve(rho_no_div_eq, φ)"
   ]
  },
  {
   "cell_type": "code",
   "execution_count": null,
   "metadata": {},
   "outputs": [],
   "source": [
    "f = sp.Function(\"f\")(t)\n",
    "r = sp.Symbol(\"r\")"
   ]
  },
  {
   "cell_type": "code",
   "execution_count": null,
   "metadata": {},
   "outputs": [],
   "source": [
    "f_dif_eq = sp.Eq(f.diff(t, t), r/2)\n",
    "display(f_dif_eq)"
   ]
  },
  {
   "cell_type": "code",
   "execution_count": null,
   "metadata": {},
   "outputs": [],
   "source": [
    "sp.dsolve(f_dif_eq, f)"
   ]
  },
  {
   "cell_type": "code",
   "execution_count": null,
   "metadata": {},
   "outputs": [],
   "source": [
    "ax = sp.Function(\"ax\")(t, x)\n",
    "ay = sp.Function(\"ay\")(t, y)\n",
    "az = sp.Function(\"az\")(t, z)"
   ]
  },
  {
   "cell_type": "code",
   "execution_count": null,
   "metadata": {},
   "outputs": [],
   "source": [
    "f_axyz_dif_eq = sp.Eq(f.diff(t, t) - ax.diff(t, x) - ay.diff(t, y) - az.diff(t, z), r/2)\n",
    "display(f_axyz_dif_eq)"
   ]
  },
  {
   "cell_type": "code",
   "execution_count": null,
   "metadata": {},
   "outputs": [],
   "source": [
    "## too difficult to solve\n",
    "##sp.dsolve(f_axyz_dif_eq, f)"
   ]
  },
  {
   "cell_type": "code",
   "execution_count": null,
   "metadata": {},
   "outputs": [],
   "source": [
    "f_ax_dif_eq = sp.Eq(f.diff(t, t) - ax.diff(t, x), r/2)\n",
    "display(f_ax_dif_eq)\n",
    "sp.dsolve(f_ax_dif_eq, f)"
   ]
  },
  {
   "cell_type": "code",
   "execution_count": null,
   "metadata": {},
   "outputs": [],
   "source": [
    "phixyz = sp.Function(\"phixyz\")\n",
    "Gauss_dif_eq = sp.Eq(-phixyz(x).diff(x, x) - phixyz(y).diff(y, y) - phixyz(z).diff(z, z), r)\n",
    "display(Gauss_dif_eq)\n",
    "sp.dsolve(Gauss_dif_eq, phixyz)"
   ]
  },
  {
   "cell_type": "code",
   "execution_count": null,
   "metadata": {},
   "outputs": [],
   "source": []
  }
 ],
 "metadata": {
  "kernelspec": {
   "display_name": "Python 3",
   "language": "python",
   "name": "python3"
  },
  "language_info": {
   "codemirror_mode": {
    "name": "ipython",
    "version": 3
   },
   "file_extension": ".py",
   "mimetype": "text/x-python",
   "name": "python",
   "nbconvert_exporter": "python",
   "pygments_lexer": "ipython3",
   "version": "3.8.8"
  }
 },
 "nbformat": 4,
 "nbformat_minor": 4
}
