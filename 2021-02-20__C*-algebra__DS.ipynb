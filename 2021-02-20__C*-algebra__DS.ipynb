{
 "cells": [
  {
   "cell_type": "markdown",
   "metadata": {},
   "source": [
    "# Similarities Between Space-time Number Series and C*-Algebras"
   ]
  },
  {
   "cell_type": "markdown",
   "metadata": {},
   "source": [
    "The purpose of this notebook is to show that a space-time number (aka quaternion) series similar to a C* algebra. I feel it necessary to add \"similar\" because to fully characterize the space-time number manifold, one conjugate is not enough. First noticed by Gauss, not only is there the standard conjugate, but the first and second conjugates, defined on the manifold $\\mathbb{R}^4$ like so:\n",
    "\n",
    "$$(t, x, y, z)^* = (t, -x, -y, -z)$$\n",
    "\n",
    "$$(t, x, y, z)^{*1} \\equiv (i q i)^* = (-t, x, -y, -z)$$\n",
    "\n",
    "$$(t, x, y, z)^{*1} \\equiv (j q j)^* = (-t, -x, y, -z)$$\n",
    "\n",
    "There is a third conjugate, but combining these three with a minus sign can also generate the third conjugate. This notebook should demonstrate that all three conjugates have the expected properties."
   ]
  },
  {
   "cell_type": "code",
   "execution_count": 1,
   "metadata": {},
   "outputs": [],
   "source": [
    "%%capture\n",
    "%matplotlib inline\n",
    "import numpy as np\n",
    "import sympy as sp\n",
    "import matplotlib.pyplot as plt\n",
    "import math\n",
    "import unittest\n",
    "\n",
    "# To get equations the look like, well, equations, use the following.\n",
    "from sympy.interactive import printing\n",
    "printing.init_printing(use_latex=True)\n",
    "from IPython.display import display\n",
    "\n",
    "# Tools for manipulating quaternions.\n",
    "from Qs import *\n",
    "\n",
    "from IPython.core.display import display, HTML, Math, Latex\n",
    "display(HTML(\"<style>.container { width:100% !important; }</style>\"))"
   ]
  },
  {
   "cell_type": "markdown",
   "metadata": {},
   "source": [
    "Let's keep things relatively simple and work with just two states."
   ]
  },
  {
   "cell_type": "code",
   "execution_count": 2,
   "metadata": {},
   "outputs": [
    {
     "name": "stdout",
     "output_type": "stream",
     "text": [
      "series txyz abcd\n",
      "n=1: (t, x, y, z) \n",
      "n=2: (a, b, c, d) \n",
      "ket: 2/1\n",
      "\n"
     ]
    }
   ],
   "source": [
    "# Symbolic manipulation\n",
    "t, x, y, z = sp.symbols(\"t x y z\")\n",
    "a, b, c, d = sp.symbols(\"a b c d\")\n",
    "q_txyz = Q([t, x, y, z])\n",
    "q_abcd = Q([a, b, c, d])\n",
    "qs_txyz_abcd = Qs([q_txyz, q_abcd])\n",
    "qs_txyz_abcd.print_state(\"series txyz abcd\")"
   ]
  },
  {
   "cell_type": "markdown",
   "metadata": {},
   "source": [
    "There are four properties one must show according to the [wiki page on the topic](https://www.wikiwand.com/en/C*-algebra)."
   ]
  },
  {
   "cell_type": "markdown",
   "metadata": {},
   "source": [
    "![involution](images/involution.png)"
   ]
  },
  {
   "cell_type": "markdown",
   "metadata": {},
   "source": [
    "I choose to try and make the notation more explicit. A space-time number series can be a \"ket\", where the number of columns is 1, or a bra, where the number of rows is equal to 1, a scalar (rows=columns=1), or an operator. I prefer a notation that makes a space-time number series _look different_ from a space-time number. I thus change the style (but not the content) of this to:\n",
    "\n",
    "$|x^{**}>=|x^*>^*=|x>$\n",
    "\n",
    "The names of functions that work on series have an \"s\" appended to them."
   ]
  },
  {
   "cell_type": "code",
   "execution_count": 3,
   "metadata": {},
   "outputs": [
    {
     "name": "stdout",
     "output_type": "stream",
     "text": [
      "qs_txyz_abcd*0 *0\n",
      "n=1: (t, x, y, z) \n",
      "n=2: (a, b, c, d) \n",
      "ket: 2/1\n",
      "\n",
      "qs_txyz_abcd*1 *1\n",
      "n=1: (t, x, y, z) \n",
      "n=2: (a, b, c, d) \n",
      "ket: 2/1\n",
      "\n",
      "qs_txyz_abcd*2 *2\n",
      "n=1: (t, x, y, z) \n",
      "n=2: (a, b, c, d) \n",
      "ket: 2/1\n",
      "\n"
     ]
    }
   ],
   "source": [
    "for i in range(3):\n",
    "    conjs(conjs(qs_txyz_abcd, conj_type=i), conj_type=i).print_state(f\"qs_txyz_abcd*{i} *{i}\")"
   ]
  },
  {
   "cell_type": "markdown",
   "metadata": {},
   "source": [
    "Complex numbers only need to demonstrate the first case, but space-time numbers require these other two. Fortunately the work is identical."
   ]
  },
  {
   "cell_type": "markdown",
   "metadata": {},
   "source": [
    "The next case is about addition and multiplication:"
   ]
  },
  {
   "cell_type": "markdown",
   "metadata": {},
   "source": [
    "![add and multiply conjugates](images/add_and_multiply_conjugates.png)"
   ]
  },
  {
   "cell_type": "markdown",
   "metadata": {},
   "source": [
    "$|x + y>^* = |x>^* + |y>^*$\n",
    "\n",
    "$<x|y>^* = <y^* | x>$"
   ]
  },
  {
   "cell_type": "code",
   "execution_count": 4,
   "metadata": {},
   "outputs": [
    {
     "name": "stdout",
     "output_type": "stream",
     "text": [
      "|x + y>*0 = |x*0> + |y*0>?: True\n",
      "|x + y>*1 = |x*1> + |y*1>?: True\n",
      "|x + y>*2 = |x*2> + |y*2>?: True\n"
     ]
    }
   ],
   "source": [
    "s, u, v, w = sp.symbols(\"s u v w\")\n",
    "m, n, o, p = sp.symbols(\"m n o p\")\n",
    "q_suvw = Q([s, u, v, w])\n",
    "q_mnop = Q([m, n, o, p])\n",
    "qs_y = Qs([q_suvw, q_mnop])\n",
    "\n",
    "# Loop through the three conjugates\n",
    "for i in range(3):\n",
    "    adds_conjs = conjs(adds(qs_txyz_abcd, qs_y), conj_type=i)\n",
    "    conjs_adds = adds(conjs(qs_txyz_abcd, conj_type=i), conjs(qs_y, conj_type=i))\n",
    "    print(f\"|x + y>*{i} = |x*{i}> + |y*{i}>?: {equals(adds_conjs, conjs_adds)}\")"
   ]
  },
  {
   "cell_type": "code",
   "execution_count": 5,
   "metadata": {},
   "outputs": [
    {
     "name": "stdout",
     "output_type": "stream",
     "text": [
      "<x|y>*0 = <y*0|x*0>?: True\n",
      "<x|y>*1 = <y*1|x*1>?: True\n",
      "<x|y>*2 = <y*2|x*2>?: True\n"
     ]
    }
   ],
   "source": [
    "for i in range(3):\n",
    "    products_conjs = conjs(products(qs_txyz_abcd.bra(), qs_y), conj_type=i)\n",
    "    conjs_products = products(conjs(qs_y.bra(), conj_type=i), conjs(qs_txyz_abcd, conj_type=i))\n",
    "    print(f\"<x|y>*{i} = <y*{i}|x*{i}>?: {equals(adds_conjs, conjs_adds)}\")"
   ]
  },
  {
   "cell_type": "markdown",
   "metadata": {},
   "source": [
    "Adding is always simple. Too often people presume because space-time numbers don't commute, many properties are lost. Conjugates sprinkle in negative signs in a reasonable way.\n",
    "\n",
    "Here is the third property:"
   ]
  },
  {
   "cell_type": "markdown",
   "metadata": {},
   "source": [
    "![complex numbers in A](images/complex_numbers_in_A.png)"
   ]
  },
  {
   "cell_type": "markdown",
   "metadata": {},
   "source": [
    "I needed to ask about [this issue on math.stackexchange.com](https://math.stackexchange.com/questions/4387586/c-algebra-and-multiplying-by-complex-numbers/4387610#4387610). The $\\lambda$ in **C** is specifically not in A.\n",
    "\n",
    "Humans can be this flexible. My goal in **mathematical physics** it to figure out the one collection of math tools used by the Universe to make the Universe do its thing, the majority of which is being lazy, the only way to last 13.6 billion years.\n",
    "\n",
    "The way my library is written, there are space-time numbers of the form $(t, x, 0, 0)$ but not a class of complex numbers. One cannot multiply a space-time number series by a space-time number. Instead, one can form a scalar space-time number series - the number of rows equals the number of columns equals one. A scalar series can multiply by any space-time number series. I can show:\n",
    "\n",
    "$$ |\\lambda x)>^* = |x^* \\lambda^*>$$"
   ]
  },
  {
   "cell_type": "code",
   "execution_count": 6,
   "metadata": {},
   "outputs": [
    {
     "name": "stdout",
     "output_type": "stream",
     "text": [
      "Is |λx>*0 = |x*0 λ*0> ?: True\n",
      "Is |λx>*1 = |x*1 λ*1> ?: True\n",
      "Is |λx>*2 = |x*2 λ*2> ?: True\n"
     ]
    }
   ],
   "source": [
    "qs_scalar = Qs([q_suvw])\n",
    "\n",
    "for i in range(3):\n",
    "    products_conjs = conjs(products(qs_scalar.bra(), qs_txyz_abcd), conj_type=i)\n",
    "    conjs_products = products(conjs(qs_scalar.bra(), conj_type=i), conjs(qs_txyz_abcd, conj_type=i))\n",
    "    print(f\"Is |λx>*{i} = |x*{i} λ*{i}> ?: {equals(adds_conjs, conjs_adds)}\")"
   ]
  },
  {
   "cell_type": "markdown",
   "metadata": {},
   "source": [
    "The physical reason to not work with complex numbers $(a, b)$ but prefer numbers of the form $(a, b, 0, 0)$ is that other observers may well record the same event as $(a', b', c', d')$. A scalar_q() space-time number is (a, 0, 0, 0) and a scalar_q() space-time number series is $<(a, b, c, d)>)$. I hope that appending the \\_q() to the function will clearly denote my usage is different because the space-time number structure is maintained."
   ]
  },
  {
   "cell_type": "markdown",
   "metadata": {},
   "source": [
    "So far, no properties have been different. Now it is time to work with norms."
   ]
  },
  {
   "cell_type": "markdown",
   "metadata": {},
   "source": [
    "![norms](images/norms.png)"
   ]
  },
  {
   "cell_type": "markdown",
   "metadata": {},
   "source": [
    "$<<x^*|x>^*|<x^*|x>> = <x^*|x><x^{**}|x^*>$\n",
    "\n",
    "Each side has 4 $x$'s. If one applies the rules to simplify conjugates, there are two on each side."
   ]
  },
  {
   "cell_type": "markdown",
   "metadata": {},
   "source": [
    "The squared norm, $<x^*|x>$, will return a positive scalar space-time number, $(a, 0, 0, 0)\\;a \\ge 0$. It is expected to work for the conjugate, but the first and second conjugates are worth calculating."
   ]
  },
  {
   "cell_type": "code",
   "execution_count": 7,
   "metadata": {},
   "outputs": [
    {
     "name": "stdout",
     "output_type": "stream",
     "text": [
      "<<x^*0|x>*0|<x|x>> = <x|x><x*0|x*0>? True\n",
      "<<x^*1|x>*1|<x|x>> = <x|x><x*1|x*1>? False\n",
      "<<x^*2|x>*2|<x|x>> = <x|x><x*2|x*2>? False\n",
      "<<𝑥∗2 *|𝑥>∗|<𝑥∗2 *|𝑥>>\n",
      "n=1\n"
     ]
    },
    {
     "data": {
      "image/png": "[encoded data removed]",
      "text/latex": [
       "$\\displaystyle a^{4} + 2 a^{2} b^{2} + 2 a^{2} c^{2} + 2 a^{2} d^{2} + 2 a^{2} t^{2} - 2 a^{2} x^{2} + 2 a^{2} y^{2} - 2 a^{2} z^{2} + 8 a b t x - 8 a b y z + 8 a d t z + 8 a d x y + b^{4} + 2 b^{2} c^{2} + 2 b^{2} d^{2} - 2 b^{2} t^{2} + 2 b^{2} x^{2} - 2 b^{2} y^{2} + 2 b^{2} z^{2} + 8 b c t z + 8 b c x y + c^{4} + 2 c^{2} d^{2} + 2 c^{2} t^{2} - 2 c^{2} x^{2} + 2 c^{2} y^{2} - 2 c^{2} z^{2} - 8 c d t x + 8 c d y z + d^{4} - 2 d^{2} t^{2} + 2 d^{2} x^{2} - 2 d^{2} y^{2} + 2 d^{2} z^{2} + t^{4} + 2 t^{2} x^{2} + 2 t^{2} y^{2} + 2 t^{2} z^{2} + x^{4} + 2 x^{2} y^{2} + 2 x^{2} z^{2} + y^{4} + 2 y^{2} z^{2} + z^{4}$"
      ],
      "text/plain": [
       " 4      2  2      2  2      2  2      2  2      2  2      2  2      2  2      \n",
       "a  + 2⋅a ⋅b  + 2⋅a ⋅c  + 2⋅a ⋅d  + 2⋅a ⋅t  - 2⋅a ⋅x  + 2⋅a ⋅y  - 2⋅a ⋅z  + 8⋅a\n",
       "\n",
       "                                              4      2  2      2  2      2  2 \n",
       "⋅b⋅t⋅x - 8⋅a⋅b⋅y⋅z + 8⋅a⋅d⋅t⋅z + 8⋅a⋅d⋅x⋅y + b  + 2⋅b ⋅c  + 2⋅b ⋅d  - 2⋅b ⋅t  \n",
       "\n",
       "     2  2      2  2      2  2                            4      2  2      2  2\n",
       "+ 2⋅b ⋅x  - 2⋅b ⋅y  + 2⋅b ⋅z  + 8⋅b⋅c⋅t⋅z + 8⋅b⋅c⋅x⋅y + c  + 2⋅c ⋅d  + 2⋅c ⋅t \n",
       "\n",
       "      2  2      2  2      2  2                            4      2  2      2  \n",
       " - 2⋅c ⋅x  + 2⋅c ⋅y  - 2⋅c ⋅z  - 8⋅c⋅d⋅t⋅x + 8⋅c⋅d⋅y⋅z + d  - 2⋅d ⋅t  + 2⋅d ⋅x\n",
       "\n",
       "2      2  2      2  2    4      2  2      2  2      2  2    4      2  2      2\n",
       "  - 2⋅d ⋅y  + 2⋅d ⋅z  + t  + 2⋅t ⋅x  + 2⋅t ⋅y  + 2⋅t ⋅z  + x  + 2⋅x ⋅y  + 2⋅x \n",
       "\n",
       "  2    4      2  2    4\n",
       "⋅z  + y  + 2⋅y ⋅z  + z "
      ]
     },
     "metadata": {},
     "output_type": "display_data"
    },
    {
     "data": {
      "image/png": "[encoded data removed]",
      "text/latex": [
       "$\\displaystyle 0$"
      ],
      "text/plain": [
       "0"
      ]
     },
     "metadata": {},
     "output_type": "display_data"
    },
    {
     "data": {
      "image/png": "[encoded data removed]",
      "text/latex": [
       "$\\displaystyle 0$"
      ],
      "text/plain": [
       "0"
      ]
     },
     "metadata": {},
     "output_type": "display_data"
    },
    {
     "data": {
      "image/png": "[encoded data removed]",
      "text/latex": [
       "$\\displaystyle 0$"
      ],
      "text/plain": [
       "0"
      ]
     },
     "metadata": {},
     "output_type": "display_data"
    },
    {
     "name": "stdout",
     "output_type": "stream",
     "text": [
      "\n",
      "<𝑥∗2 *|𝑥><𝑥*|𝑥∗2>\n",
      "n=1\n"
     ]
    },
    {
     "data": {
      "image/png": "[encoded data removed]",
      "text/latex": [
       "$\\displaystyle a^{4} + 2 a^{2} b^{2} + 2 a^{2} c^{2} + 2 a^{2} d^{2} + 2 a^{2} t^{2} + 2 a^{2} x^{2} + 2 a^{2} y^{2} + 2 a^{2} z^{2} + b^{4} + 2 b^{2} c^{2} + 2 b^{2} d^{2} + 2 b^{2} t^{2} + 2 b^{2} x^{2} + 2 b^{2} y^{2} + 2 b^{2} z^{2} + c^{4} + 2 c^{2} d^{2} + 2 c^{2} t^{2} + 2 c^{2} x^{2} + 2 c^{2} y^{2} + 2 c^{2} z^{2} + d^{4} + 2 d^{2} t^{2} + 2 d^{2} x^{2} + 2 d^{2} y^{2} + 2 d^{2} z^{2} + t^{4} + 2 t^{2} x^{2} + 2 t^{2} y^{2} + 2 t^{2} z^{2} + x^{4} + 2 x^{2} y^{2} + 2 x^{2} z^{2} + y^{4} + 2 y^{2} z^{2} + z^{4}$"
      ],
      "text/plain": [
       " 4      2  2      2  2      2  2      2  2      2  2      2  2      2  2    4 \n",
       "a  + 2⋅a ⋅b  + 2⋅a ⋅c  + 2⋅a ⋅d  + 2⋅a ⋅t  + 2⋅a ⋅x  + 2⋅a ⋅y  + 2⋅a ⋅z  + b  \n",
       "\n",
       "     2  2      2  2      2  2      2  2      2  2      2  2    4      2  2    \n",
       "+ 2⋅b ⋅c  + 2⋅b ⋅d  + 2⋅b ⋅t  + 2⋅b ⋅x  + 2⋅b ⋅y  + 2⋅b ⋅z  + c  + 2⋅c ⋅d  + 2\n",
       "\n",
       "  2  2      2  2      2  2      2  2    4      2  2      2  2      2  2      2\n",
       "⋅c ⋅t  + 2⋅c ⋅x  + 2⋅c ⋅y  + 2⋅c ⋅z  + d  + 2⋅d ⋅t  + 2⋅d ⋅x  + 2⋅d ⋅y  + 2⋅d \n",
       "\n",
       "  2    4      2  2      2  2      2  2    4      2  2      2  2    4      2  2\n",
       "⋅z  + t  + 2⋅t ⋅x  + 2⋅t ⋅y  + 2⋅t ⋅z  + x  + 2⋅x ⋅y  + 2⋅x ⋅z  + y  + 2⋅y ⋅z \n",
       "\n",
       "    4\n",
       " + z "
      ]
     },
     "metadata": {},
     "output_type": "display_data"
    },
    {
     "data": {
      "image/png": "[encoded data removed]",
      "text/latex": [
       "$\\displaystyle 0$"
      ],
      "text/plain": [
       "0"
      ]
     },
     "metadata": {},
     "output_type": "display_data"
    },
    {
     "data": {
      "image/png": "[encoded data removed]",
      "text/latex": [
       "$\\displaystyle 0$"
      ],
      "text/plain": [
       "0"
      ]
     },
     "metadata": {},
     "output_type": "display_data"
    },
    {
     "data": {
      "image/png": "[encoded data removed]",
      "text/latex": [
       "$\\displaystyle 0$"
      ],
      "text/plain": [
       "0"
      ]
     },
     "metadata": {},
     "output_type": "display_data"
    },
    {
     "name": "stdout",
     "output_type": "stream",
     "text": [
      "\n"
     ]
    }
   ],
   "source": [
    "for i in range(3):\n",
    "\n",
    "    qs_txyz_abcd_bra_c = Qs([conj(q_txyz, conj_type=i), conj(q_abcd, conj_type=i)], qs_type=\"bra\")\n",
    "    xcx = products(qs_txyz_abcd_bra_c, qs_txyz_abcd)\n",
    "\n",
    "    norm_product = norm_squareds(xcx)\n",
    "    product_norm = products(norm_squareds(qs_txyz_abcd), norm_squareds(conjs(qs_txyz_abcd, conj_type=i)))\n",
    "\n",
    "    print(f\"<<x^*{i}|x>*{i}|<x|x>> = <x|x><x*{i}|x*{i}>? {equals(norm_product, product_norm)}\") \n",
    "    \n",
    "    if i == 2:\n",
    "        norm_product.expand().simplify().display(\"<<𝑥∗2 *|𝑥>∗|<𝑥∗2 *|𝑥>>\")\n",
    "        product_norm.expand().simplify().display(\"<𝑥∗2 *|𝑥><𝑥*|𝑥∗2>\")"
   ]
  },
  {
   "cell_type": "markdown",
   "metadata": {},
   "source": [
    "The first and second conjugates do not treat space isotrophically. In the calculation, one is working with the standard conjugate and a first or second conjugate. The spatial parts will get mixed up differently as a result. Every term in the second expression can be found in the first, but the reverse is not true. The second expression only has terms with a positive sign while the first one has ten terms that are negative.\n",
    "\n",
    "Space-time number series are a normed algebra."
   ]
  },
  {
   "cell_type": "markdown",
   "metadata": {},
   "source": [
    "## Will the differences matter?\n",
    "\n",
    "Or better yet, will the differences be of any interest? I know of one application that I have never built out fully. In chapter 3, \"Theory of Angular Momentum\" of \"Modern Quantum Mechanics\" by J. J. Sakurai, he shows how to use a pair of infinitesimal rotations to understand rotations. To second order in epsilon, he showed:\n",
    "\n",
    "$$R_x(\\varepsilon) R_y(\\varepsilon) - R_y(\\varepsilon) R_x(\\varepsilon) = R_z(\\varepsilon^2) - 1$$\n",
    "\n",
    "Certainly others have done the same calculation. My observation was that this result would be the same if one takes the conjugate of the infinitesimals:\n",
    "\n",
    "$$R_x(\\varepsilon)^* R_y(\\varepsilon)^* - R_y(\\varepsilon)^* R_x(\\varepsilon)^* = R_z(\\varepsilon^2) - 1$$\n",
    "\n",
    "If one uses the first and second conjugates, there would be an $i^2$ introduced where the two R's form a product.\n",
    "\n",
    "$$R_x(\\varepsilon)^{*1} R_y(\\varepsilon)^{*1} - R_y(\\varepsilon)^{*1} R_x(\\varepsilon)^{*1} = -(R_z(\\varepsilon^2) - 1)$$\n",
    "\n",
    "It is my speculation that one could construct structures with both $2 \\pi$ and $4 \\pi$ symmetry depending on which conjugates get used. Flexibility would be a good thing since both are seen in Nature. It is easy enough to visualize both symmetries with a bottle of beer. Spin around on a bar stool with the bottle. It takes $2 \\pi$ rotations to get back to the starting position. Now take the bottle and twist it in the hand. One rotation is not enough. Do another rotation, and the bottle is back to the starting place in a $4 \\pi$ rotation. The difference is that the should creates a constraint in space. When space has to be treated non-isotropically, there is a chance that the $4 \\pi$ rotations are required. The first and second conjugates are like that."
   ]
  }
 ],
 "metadata": {
  "kernelspec": {
   "display_name": "Python 3",
   "language": "python",
   "name": "python3"
  },
  "language_info": {
   "codemirror_mode": {
    "name": "ipython",
    "version": 3
   },
   "file_extension": ".py",
   "mimetype": "text/x-python",
   "name": "python",
   "nbconvert_exporter": "python",
   "pygments_lexer": "ipython3",
   "version": "3.8.8"
  }
 },
 "nbformat": 4,
 "nbformat_minor": 4
}
