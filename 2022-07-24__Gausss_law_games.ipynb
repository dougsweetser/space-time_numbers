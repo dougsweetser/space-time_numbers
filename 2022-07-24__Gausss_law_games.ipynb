{
 "cells": [
  {
   "cell_type": "markdown",
   "id": "4bc11e69-8f52-4cb5-98df-1018291abc79",
   "metadata": {},
   "source": [
    "# Testing Integrating Gauss's Law"
   ]
  },
  {
   "cell_type": "code",
   "execution_count": 1,
   "id": "9a335737-73ae-4676-8fb0-cc4533dd1437",
   "metadata": {},
   "outputs": [],
   "source": [
    "import sympy as sp"
   ]
  },
  {
   "cell_type": "code",
   "execution_count": 12,
   "id": "82aa1cdb-d52d-447e-8096-bcb36a1b08e3",
   "metadata": {},
   "outputs": [],
   "source": [
    "ρ = sp.Function(\"ρ\")\n",
    "x, y, z, xp, yp, zp, a = sp.symbols(\"x y z xp yp zp a\", real=True)"
   ]
  },
  {
   "cell_type": "code",
   "execution_count": 13,
   "id": "ef5326ac-b9f4-407a-b78f-26967f73ff74",
   "metadata": {},
   "outputs": [
    {
     "data": {
      "text/latex": [
       "$\\displaystyle \\int \\frac{ρ{\\left(xp \\right)}}{\\sqrt{a^{2} + \\left(x - xp\\right)^{2}}}\\, dxp$"
      ],
      "text/plain": [
       "Integral(ρ(xp)/sqrt(a**2 + (x - xp)**2), xp)"
      ]
     },
     "metadata": {},
     "output_type": "display_data"
    },
    {
     "data": {
      "text/latex": [
       "$\\displaystyle \\int \\frac{ρ{\\left(xp \\right)}}{\\sqrt{a^{2} + x^{2} - 2 x xp + xp^{2}}}\\, dxp$"
      ],
      "text/plain": [
       "Integral(ρ(xp)/sqrt(a**2 + x**2 - 2*x*xp + xp**2), xp)"
      ]
     },
     "metadata": {},
     "output_type": "display_data"
    }
   ],
   "source": [
    "expr = sp.Integral(ρ(xp)/sp.sqrt((x-xp)**2 + a**2), xp)\n",
    "display(expr)\n",
    "display(expr.doit())"
   ]
  },
  {
   "cell_type": "code",
   "execution_count": 14,
   "id": "710922e4-ac66-4c44-be17-dc6f4bda3cbb",
   "metadata": {},
   "outputs": [
    {
     "data": {
      "text/latex": [
       "$\\displaystyle \\frac{2 \\left(- \\delta\\left(x - xp\\right) + \\frac{\\operatorname{sign}{\\left(x - xp \\right)}}{x - xp}\\right)}{\\left(x - xp\\right)^{2}}$"
      ],
      "text/plain": [
       "2*(-DiracDelta(x - xp) + sign(x - xp)/(x - xp))/(x - xp)**2"
      ]
     },
     "execution_count": 14,
     "metadata": {},
     "output_type": "execute_result"
    }
   ],
   "source": [
    "dexp = 1 /sp.sqrt((x - xp)**2)\n",
    "sp.diff(dexp, x, 2)"
   ]
  },
  {
   "cell_type": "code",
   "execution_count": 15,
   "id": "7f712b99-05b9-4653-a416-50ad8d1f9666",
   "metadata": {},
   "outputs": [
    {
     "data": {
      "text/latex": [
       "$\\displaystyle \\frac{2 \\left(- \\delta\\left(x - xp\\right) + \\frac{\\operatorname{sign}{\\left(x - xp \\right)}}{x - xp}\\right)}{\\left(x - xp\\right)^{2}}$"
      ],
      "text/plain": [
       "2*(-DiracDelta(x - xp) + sign(x - xp)/(x - xp))/(x - xp)**2"
      ]
     },
     "execution_count": 15,
     "metadata": {},
     "output_type": "execute_result"
    }
   ],
   "source": [
    "dexp2 = 1 /sp.Abs(x - xp)\n",
    "sp.diff(dexp2, x, 2)"
   ]
  },
  {
   "cell_type": "code",
   "execution_count": 28,
   "id": "d53c62fc-b0c1-4c7b-83d2-86d98a8a50ea",
   "metadata": {},
   "outputs": [
    {
     "data": {
      "text/latex": [
       "$\\displaystyle \\frac{\\frac{d^{2}}{d x^{2}} ρ{\\left(x \\right)}}{\\left|{x - xp}\\right|} - \\frac{2 \\left(\\delta\\left(x - xp\\right) - \\frac{\\operatorname{sign}{\\left(x - xp \\right)}}{x - xp}\\right) ρ{\\left(x \\right)}}{\\left(x - xp\\right)^{2}} - \\frac{2 \\operatorname{sign}{\\left(x - xp \\right)} \\frac{d}{d x} ρ{\\left(x \\right)}}{\\left(x - xp\\right)^{2}}$"
      ],
      "text/plain": [
       "Derivative(ρ(x), (x, 2))/Abs(x - xp) - 2*(DiracDelta(x - xp) - sign(x - xp)/(x - xp))*ρ(x)/(x - xp)**2 - 2*sign(x - xp)*Derivative(ρ(x), x)/(x - xp)**2"
      ]
     },
     "execution_count": 28,
     "metadata": {},
     "output_type": "execute_result"
    }
   ],
   "source": [
    "dexp3 = ρ(x) /sp.Abs(x - xp)\n",
    "sp.diff(dexp3, x, 2)"
   ]
  },
  {
   "cell_type": "code",
   "execution_count": 30,
   "id": "928ffea2-031b-4484-bec1-8ec3c5103544",
   "metadata": {},
   "outputs": [
    {
     "data": {
      "text/latex": [
       "$\\displaystyle - \\frac{2 \\rho \\left(\\delta\\left(x - xp\\right) - \\frac{\\operatorname{sign}{\\left(x - xp \\right)}}{x - xp}\\right)}{\\left(x - xp\\right)^{2}}$"
      ],
      "text/plain": [
       "-2*rho*(DiracDelta(x - xp) - sign(x - xp)/(x - xp))/(x - xp)**2"
      ]
     },
     "execution_count": 30,
     "metadata": {},
     "output_type": "execute_result"
    }
   ],
   "source": [
    "rho = sp.symbols(\"rho\")\n",
    "dexp4 =  rho/sp.Abs(x - xp)\n",
    "sp.diff(dexp4, x, 2)"
   ]
  },
  {
   "cell_type": "code",
   "execution_count": 19,
   "id": "aaa0d227-5aef-48b7-a718-04e6ed01eb83",
   "metadata": {},
   "outputs": [
    {
     "data": {
      "text/latex": [
       "$\\displaystyle 0$"
      ],
      "text/plain": [
       "0"
      ]
     },
     "execution_count": 19,
     "metadata": {},
     "output_type": "execute_result"
    }
   ],
   "source": [
    "laplacian(dexp3)"
   ]
  },
  {
   "cell_type": "code",
   "execution_count": null,
   "id": "a954c6a0-4abc-490d-925a-4f594174b3dd",
   "metadata": {},
   "outputs": [],
   "source": []
  }
 ],
 "metadata": {
  "kernelspec": {
   "display_name": "Python 3",
   "language": "python",
   "name": "python3"
  },
  "language_info": {
   "codemirror_mode": {
    "name": "ipython",
    "version": 3
   },
   "file_extension": ".py",
   "mimetype": "text/x-python",
   "name": "python",
   "nbconvert_exporter": "python",
   "pygments_lexer": "ipython3",
   "version": "3.8.8"
  }
 },
 "nbformat": 4,
 "nbformat_minor": 5
}
